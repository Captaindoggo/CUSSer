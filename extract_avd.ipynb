{
 "cells": [
  {
   "cell_type": "code",
   "execution_count": 2,
   "metadata": {},
   "outputs": [],
   "source": [
    "#Import Dependencies\n",
    "\n",
    "import audeer\n",
    "import audonnx\n",
    "import numpy as np\n",
    "import pandas as pd\n",
    "import audiofile\n",
    "\n",
    "cache_root = audeer.mkdir('cache')\n",
    "model_root = audeer.mkdir('model')"
   ]
  },
  {
   "cell_type": "code",
   "execution_count": null,
   "metadata": {},
   "outputs": [],
   "source": [
    "#Download model if necessary\n",
    "url = 'https://zenodo.org/record/6221127/files/w2v2-L-robust-12.6bc4a7fd-1.1.0.zip'\n",
    "\n",
    "archive_path = audeer.download_url(url, cache_root, verbose=True)\n",
    "audeer.extract_archive(archive_path, model_root)"
   ]
  },
  {
   "cell_type": "code",
   "execution_count": 3,
   "metadata": {},
   "outputs": [
    {
     "data": {
      "text/plain": [
       "{'hidden_states': array([[-0.00715537,  0.00622466, -0.00822073, ...,  0.00659769,\n",
       "          0.00971537,  0.00293756]], dtype=float32),\n",
       " 'logits': array([[0.67691374, 0.6504316 , 0.4971407 ]], dtype=float32)}"
      ]
     },
     "execution_count": 3,
     "metadata": {},
     "output_type": "execute_result"
    }
   ],
   "source": [
    "#Load model and test with random sample\n",
    "model = audonnx.load(model_root)\n",
    "sampling_rate = 16000\n",
    "signal = np.random.normal(size=sampling_rate).astype(np.float32)\n",
    "model(signal, sampling_rate)"
   ]
  },
  {
   "cell_type": "code",
   "execution_count": 4,
   "metadata": {},
   "outputs": [],
   "source": [
    "#Function definitions to use the model to extract arousal valence dominance from an audiofile\n",
    "\n",
    "def predict_avd(path):\n",
    "    signal, sampling_rate = audiofile.read(\n",
    "                path,\n",
    "                always_2d=True,\n",
    "            )\n",
    "    ret = model(signal, sampling_rate)\n",
    "    return ret[\"logits\"][0]\n",
    "\n",
    "def extract_avd(input_file,output_file):\n",
    "    df = pd.read_csv(input_file)\n",
    "    #df = df.sample(n=3) # test on small subset\n",
    "    data = {\"ActorID\":[],\"emotion\":[],\"path\":[],\"arousal\":[],\"valence\":[],\"dominance\":[]}\n",
    "    for index, row in df.iterrows():\n",
    "        ret = predict_avd(row[\"path\"])\n",
    "        data[\"arousal\"].append(ret[0])\n",
    "        data[\"valence\"].append(ret[1])\n",
    "        data[\"dominance\"].append(ret[2])\n",
    "        data[\"path\"].append(row['path'])\n",
    "        data[\"emotion\"].append(row['emotion'])\n",
    "        data[\"ActorID\"].append(row['ActorID'])\n",
    "    resdf = pd.DataFrame.from_dict(data)\n",
    "    resdf.to_csv(output_file,index=False)\n"
   ]
  },
  {
   "cell_type": "code",
   "execution_count": null,
   "metadata": {},
   "outputs": [],
   "source": [
    "extract_avd(\"data/crema_df.csv\",\"data/crema_avd.csv\")"
   ]
  }
 ],
 "metadata": {
  "kernelspec": {
   "display_name": "cusser",
   "language": "python",
   "name": "python3"
  },
  "language_info": {
   "codemirror_mode": {
    "name": "ipython",
    "version": 3
   },
   "file_extension": ".py",
   "mimetype": "text/x-python",
   "name": "python",
   "nbconvert_exporter": "python",
   "pygments_lexer": "ipython3",
   "version": "3.12.3"
  }
 },
 "nbformat": 4,
 "nbformat_minor": 2
}
