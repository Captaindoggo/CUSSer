{
 "cells": [
  {
   "cell_type": "code",
   "execution_count": 1,
   "id": "0f59cc7b",
   "metadata": {
    "execution": {
     "iopub.execute_input": "2024-06-17T21:34:23.386135Z",
     "iopub.status.busy": "2024-06-17T21:34:23.385711Z",
     "iopub.status.idle": "2024-06-17T21:34:23.399595Z",
     "shell.execute_reply": "2024-06-17T21:34:23.398508Z"
    },
    "papermill": {
     "duration": 0.024222,
     "end_time": "2024-06-17T21:34:23.402306",
     "exception": false,
     "start_time": "2024-06-17T21:34:23.378084",
     "status": "completed"
    },
    "tags": []
   },
   "outputs": [],
   "source": [
    "import os\n",
    "os.chdir('/kaggle/working')"
   ]
  },
  {
   "cell_type": "code",
   "execution_count": 2,
   "id": "caa61615",
   "metadata": {
    "execution": {
     "iopub.execute_input": "2024-06-17T21:34:23.415117Z",
     "iopub.status.busy": "2024-06-17T21:34:23.414691Z",
     "iopub.status.idle": "2024-06-17T21:34:42.520154Z",
     "shell.execute_reply": "2024-06-17T21:34:42.518751Z"
    },
    "papermill": {
     "duration": 19.115136,
     "end_time": "2024-06-17T21:34:42.523079",
     "exception": false,
     "start_time": "2024-06-17T21:34:23.407943",
     "status": "completed"
    },
    "tags": []
   },
   "outputs": [
    {
     "name": "stdout",
     "output_type": "stream",
     "text": [
      "Collecting audeer\r\n",
      "  Downloading audeer-2.0.0-py3-none-any.whl.metadata (4.1 kB)\r\n",
      "Collecting audonnx\r\n",
      "  Downloading audonnx-0.7.0-py3-none-any.whl.metadata (4.2 kB)\r\n",
      "Collecting audiofile\r\n",
      "  Downloading audiofile-1.4.0-py3-none-any.whl.metadata (4.9 kB)\r\n",
      "Requirement already satisfied: tqdm in /opt/conda/lib/python3.10/site-packages (from audeer) (4.66.4)\r\n",
      "Collecting audobject>=0.7.2 (from audonnx)\r\n",
      "  Downloading audobject-0.7.11-py3-none-any.whl.metadata (2.6 kB)\r\n",
      "Requirement already satisfied: onnx in /opt/conda/lib/python3.10/site-packages (from audonnx) (1.16.1)\r\n",
      "Collecting onnxruntime>=1.8.0 (from audonnx)\r\n",
      "  Downloading onnxruntime-1.18.0-cp310-cp310-manylinux_2_27_x86_64.manylinux_2_28_x86_64.whl.metadata (4.3 kB)\r\n",
      "Collecting audmath>=1.3.0 (from audiofile)\r\n",
      "  Downloading audmath-1.4.0-py3-none-any.whl.metadata (3.7 kB)\r\n",
      "Requirement already satisfied: numpy in /opt/conda/lib/python3.10/site-packages (from audiofile) (1.26.4)\r\n",
      "Requirement already satisfied: soundfile>=0.12.1 in /opt/conda/lib/python3.10/site-packages (from audiofile) (0.12.1)\r\n",
      "Requirement already satisfied: importlib-metadata>=4.8.0 in /opt/conda/lib/python3.10/site-packages (from audobject>=0.7.2->audonnx) (6.11.0)\r\n",
      "Collecting oyaml (from audobject>=0.7.2->audonnx)\r\n",
      "  Downloading oyaml-1.0-py2.py3-none-any.whl.metadata (1.2 kB)\r\n",
      "Requirement already satisfied: packaging in /opt/conda/lib/python3.10/site-packages (from audobject>=0.7.2->audonnx) (21.3)\r\n",
      "Collecting coloredlogs (from onnxruntime>=1.8.0->audonnx)\r\n",
      "  Downloading coloredlogs-15.0.1-py2.py3-none-any.whl.metadata (12 kB)\r\n",
      "Requirement already satisfied: flatbuffers in /opt/conda/lib/python3.10/site-packages (from onnxruntime>=1.8.0->audonnx) (23.5.26)\r\n",
      "Requirement already satisfied: protobuf in /opt/conda/lib/python3.10/site-packages (from onnxruntime>=1.8.0->audonnx) (3.20.3)\r\n",
      "Requirement already satisfied: sympy in /opt/conda/lib/python3.10/site-packages (from onnxruntime>=1.8.0->audonnx) (1.12.1)\r\n",
      "Requirement already satisfied: cffi>=1.0 in /opt/conda/lib/python3.10/site-packages (from soundfile>=0.12.1->audiofile) (1.16.0)\r\n",
      "Requirement already satisfied: pycparser in /opt/conda/lib/python3.10/site-packages (from cffi>=1.0->soundfile>=0.12.1->audiofile) (2.21)\r\n",
      "Requirement already satisfied: zipp>=0.5 in /opt/conda/lib/python3.10/site-packages (from importlib-metadata>=4.8.0->audobject>=0.7.2->audonnx) (3.17.0)\r\n",
      "Collecting humanfriendly>=9.1 (from coloredlogs->onnxruntime>=1.8.0->audonnx)\r\n",
      "  Downloading humanfriendly-10.0-py2.py3-none-any.whl.metadata (9.2 kB)\r\n",
      "Requirement already satisfied: pyyaml in /opt/conda/lib/python3.10/site-packages (from oyaml->audobject>=0.7.2->audonnx) (6.0.1)\r\n",
      "Requirement already satisfied: pyparsing!=3.0.5,>=2.0.2 in /opt/conda/lib/python3.10/site-packages (from packaging->audobject>=0.7.2->audonnx) (3.1.1)\r\n",
      "Requirement already satisfied: mpmath<1.4.0,>=1.1.0 in /opt/conda/lib/python3.10/site-packages (from sympy->onnxruntime>=1.8.0->audonnx) (1.3.0)\r\n",
      "Downloading audeer-2.0.0-py3-none-any.whl (39 kB)\r\n",
      "Downloading audonnx-0.7.0-py3-none-any.whl (297 kB)\r\n",
      "\u001b[2K   \u001b[90m━━━━━━━━━━━━━━━━━━━━━━━━━━━━━━━━━━━━━━━━\u001b[0m \u001b[32m297.4/297.4 kB\u001b[0m \u001b[31m12.4 MB/s\u001b[0m eta \u001b[36m0:00:00\u001b[0m\r\n",
      "\u001b[?25hDownloading audiofile-1.4.0-py3-none-any.whl (1.1 MB)\r\n",
      "\u001b[2K   \u001b[90m━━━━━━━━━━━━━━━━━━━━━━━━━━━━━━━━━━━━━━━━\u001b[0m \u001b[32m1.1/1.1 MB\u001b[0m \u001b[31m32.9 MB/s\u001b[0m eta \u001b[36m0:00:00\u001b[0m\r\n",
      "\u001b[?25hDownloading audmath-1.4.0-py3-none-any.whl (23 kB)\r\n",
      "Downloading audobject-0.7.11-py3-none-any.whl (43 kB)\r\n",
      "\u001b[2K   \u001b[90m━━━━━━━━━━━━━━━━━━━━━━━━━━━━━━━━━━━━━━━━\u001b[0m \u001b[32m44.0/44.0 kB\u001b[0m \u001b[31m2.1 MB/s\u001b[0m eta \u001b[36m0:00:00\u001b[0m\r\n",
      "\u001b[?25hDownloading onnxruntime-1.18.0-cp310-cp310-manylinux_2_27_x86_64.manylinux_2_28_x86_64.whl (6.8 MB)\r\n",
      "\u001b[2K   \u001b[90m━━━━━━━━━━━━━━━━━━━━━━━━━━━━━━━━━━━━━━━━\u001b[0m \u001b[32m6.8/6.8 MB\u001b[0m \u001b[31m69.3 MB/s\u001b[0m eta \u001b[36m0:00:00\u001b[0m\r\n",
      "\u001b[?25hDownloading coloredlogs-15.0.1-py2.py3-none-any.whl (46 kB)\r\n",
      "\u001b[2K   \u001b[90m━━━━━━━━━━━━━━━━━━━━━━━━━━━━━━━━━━━━━━━━\u001b[0m \u001b[32m46.0/46.0 kB\u001b[0m \u001b[31m2.5 MB/s\u001b[0m eta \u001b[36m0:00:00\u001b[0m\r\n",
      "\u001b[?25hDownloading oyaml-1.0-py2.py3-none-any.whl (3.0 kB)\r\n",
      "Downloading humanfriendly-10.0-py2.py3-none-any.whl (86 kB)\r\n",
      "\u001b[2K   \u001b[90m━━━━━━━━━━━━━━━━━━━━━━━━━━━━━━━━━━━━━━━━\u001b[0m \u001b[32m86.8/86.8 kB\u001b[0m \u001b[31m4.2 MB/s\u001b[0m eta \u001b[36m0:00:00\u001b[0m\r\n",
      "\u001b[?25hInstalling collected packages: oyaml, humanfriendly, audmath, audeer, coloredlogs, audobject, onnxruntime, audiofile, audonnx\r\n",
      "Successfully installed audeer-2.0.0 audiofile-1.4.0 audmath-1.4.0 audobject-0.7.11 audonnx-0.7.0 coloredlogs-15.0.1 humanfriendly-10.0 onnxruntime-1.18.0 oyaml-1.0\r\n"
     ]
    }
   ],
   "source": [
    "!pip install audeer audonnx audiofile"
   ]
  },
  {
   "cell_type": "code",
   "execution_count": 3,
   "id": "f49f78c4",
   "metadata": {
    "execution": {
     "iopub.execute_input": "2024-06-17T21:34:42.543256Z",
     "iopub.status.busy": "2024-06-17T21:34:42.542795Z",
     "iopub.status.idle": "2024-06-17T21:34:43.859676Z",
     "shell.execute_reply": "2024-06-17T21:34:43.858401Z"
    },
    "papermill": {
     "duration": 1.3297,
     "end_time": "2024-06-17T21:34:43.862632",
     "exception": false,
     "start_time": "2024-06-17T21:34:42.532932",
     "status": "completed"
    },
    "tags": []
   },
   "outputs": [],
   "source": [
    "#Import Dependencies\n",
    "\n",
    "import audeer\n",
    "import audonnx\n",
    "import numpy as np\n",
    "import pandas as pd\n",
    "import audiofile\n",
    "import time\n",
    "import datetime as dt\n",
    "\n",
    "cache_root = audeer.mkdir('cache')\n",
    "model_root = audeer.mkdir('model')"
   ]
  },
  {
   "cell_type": "code",
   "execution_count": 4,
   "id": "f80c6281",
   "metadata": {
    "execution": {
     "iopub.execute_input": "2024-06-17T21:34:43.881583Z",
     "iopub.status.busy": "2024-06-17T21:34:43.880937Z",
     "iopub.status.idle": "2024-06-17T21:34:43.888729Z",
     "shell.execute_reply": "2024-06-17T21:34:43.887703Z"
    },
    "papermill": {
     "duration": 0.020019,
     "end_time": "2024-06-17T21:34:43.891154",
     "exception": false,
     "start_time": "2024-06-17T21:34:43.871135",
     "status": "completed"
    },
    "tags": []
   },
   "outputs": [],
   "source": [
    "def calcProcessTime(starttime, cur_iter, max_iter):\n",
    "\n",
    "    telapsed = time.time() - starttime\n",
    "    testimated = (telapsed/cur_iter)*(max_iter)\n",
    "\n",
    "    finishtime = starttime + testimated\n",
    "    finishtime = dt.datetime.fromtimestamp(finishtime).strftime(\"%H:%M:%S\")  # in time\n",
    "\n",
    "    lefttime = testimated-telapsed  # in seconds\n",
    "\n",
    "    return (int(telapsed), int(lefttime), finishtime)"
   ]
  },
  {
   "cell_type": "code",
   "execution_count": 5,
   "id": "99080e05",
   "metadata": {
    "execution": {
     "iopub.execute_input": "2024-06-17T21:34:43.909170Z",
     "iopub.status.busy": "2024-06-17T21:34:43.908738Z",
     "iopub.status.idle": "2024-06-17T21:34:54.710785Z",
     "shell.execute_reply": "2024-06-17T21:34:54.709662Z"
    },
    "papermill": {
     "duration": 10.814055,
     "end_time": "2024-06-17T21:34:54.713340",
     "exception": false,
     "start_time": "2024-06-17T21:34:43.899285",
     "status": "completed"
    },
    "tags": []
   },
   "outputs": [
    {
     "name": "stderr",
     "output_type": "stream",
     "text": [
      "                                                                                                    \r"
     ]
    },
    {
     "data": {
      "text/plain": [
       "['model.onnx', 'model.yaml']"
      ]
     },
     "execution_count": 5,
     "metadata": {},
     "output_type": "execute_result"
    }
   ],
   "source": [
    "#Download model if necessary\n",
    "url = 'https://zenodo.org/record/6221127/files/w2v2-L-robust-12.6bc4a7fd-1.1.0.zip'\n",
    "\n",
    "archive_path = audeer.download_url(url, cache_root, verbose=True)\n",
    "audeer.extract_archive(archive_path, model_root)"
   ]
  },
  {
   "cell_type": "code",
   "execution_count": 6,
   "id": "54b27659",
   "metadata": {
    "execution": {
     "iopub.execute_input": "2024-06-17T21:34:54.739731Z",
     "iopub.status.busy": "2024-06-17T21:34:54.739346Z",
     "iopub.status.idle": "2024-06-17T21:34:57.427602Z",
     "shell.execute_reply": "2024-06-17T21:34:57.426202Z"
    },
    "papermill": {
     "duration": 2.704592,
     "end_time": "2024-06-17T21:34:57.430394",
     "exception": false,
     "start_time": "2024-06-17T21:34:54.725802",
     "status": "completed"
    },
    "tags": []
   },
   "outputs": [
    {
     "data": {
      "text/plain": [
       "{'hidden_states': array([[-0.00714738,  0.00631136, -0.00733255, ...,  0.00666412,\n",
       "          0.00946707,  0.00295012]], dtype=float32),\n",
       " 'logits': array([[0.67524654, 0.65099585, 0.5139543 ]], dtype=float32)}"
      ]
     },
     "execution_count": 6,
     "metadata": {},
     "output_type": "execute_result"
    }
   ],
   "source": [
    "#Load model and test with random sample\n",
    "model = audonnx.load(model_root)\n",
    "sampling_rate = 16000\n",
    "signal = np.random.normal(size=sampling_rate).astype(np.float32)\n",
    "model(signal, sampling_rate)"
   ]
  },
  {
   "cell_type": "code",
   "execution_count": 7,
   "id": "dc8ab6ab",
   "metadata": {
    "execution": {
     "iopub.execute_input": "2024-06-17T21:34:57.458308Z",
     "iopub.status.busy": "2024-06-17T21:34:57.457865Z",
     "iopub.status.idle": "2024-06-17T21:34:57.472223Z",
     "shell.execute_reply": "2024-06-17T21:34:57.471016Z"
    },
    "papermill": {
     "duration": 0.031493,
     "end_time": "2024-06-17T21:34:57.474866",
     "exception": false,
     "start_time": "2024-06-17T21:34:57.443373",
     "status": "completed"
    },
    "tags": []
   },
   "outputs": [],
   "source": [
    "#Function definitions to use the model to extract arousal valence dominance from an audiofile\n",
    "\n",
    "def predict_avd(path):\n",
    "    signal, sampling_rate = audiofile.read(\n",
    "                path,\n",
    "                always_2d=True,\n",
    "            )\n",
    "    ret = model(signal, sampling_rate)\n",
    "    return ret[\"logits\"][0]\n",
    "start = time.time()\n",
    "\n",
    "def extract_avd(input_file,output_file):\n",
    "    df = pd.read_csv(input_file)\n",
    "    # df = df.sample(n=3) # test on small subset\n",
    "    data = {\"ActorID\":[],\"Emotion\":[],\"Path\":[],\"arousal\":[],\"valence\":[],\"dominance\":[]}\n",
    "    cur_iter = 0\n",
    "    for index, row in df.iterrows():\n",
    "        ret = predict_avd(row[\"Path\"])\n",
    "        data[\"arousal\"].append(ret[0])\n",
    "        data[\"valence\"].append(ret[1])\n",
    "        data[\"dominance\"].append(ret[2])\n",
    "        data[\"Path\"].append(row['Path'])\n",
    "        data[\"Emotion\"].append(row['Emotion'])\n",
    "        data[\"ActorID\"].append(row['ActorID'])\n",
    "        cur_iter += 1\n",
    "        print(\"On {}%\".format(round(cur_iter / df.shape[0] * 100, 2)))\n",
    "        prstime = calcProcessTime(start, cur_iter ,df.shape[0])\n",
    "        print(\"time elapsed: %s(s), time left: %s(s), estimated finish time: %s\"%prstime)\n",
    "    resdf = pd.DataFrame.from_dict(data)\n",
    "    resdf.to_csv(output_file,index=False)\n"
   ]
  },
  {
   "cell_type": "code",
   "execution_count": 8,
   "id": "79debe07",
   "metadata": {
    "execution": {
     "iopub.execute_input": "2024-06-17T21:34:57.501713Z",
     "iopub.status.busy": "2024-06-17T21:34:57.501304Z",
     "iopub.status.idle": "2024-06-17T23:59:11.421090Z",
     "shell.execute_reply": "2024-06-17T23:59:11.419731Z"
    },
    "papermill": {
     "duration": 8653.936473,
     "end_time": "2024-06-17T23:59:11.423970",
     "exception": false,
     "start_time": "2024-06-17T21:34:57.487497",
     "status": "completed"
    },
    "tags": []
   },
   "outputs": [
    {
     "name": "stdout",
     "output_type": "stream",
     "text": [
      "On 0.08%\n",
      "time elapsed: 9(s), time left: 11802(s), estimated finish time: 00:51:49\n",
      "On 0.16%\n",
      "time elapsed: 18(s), time left: 11338(s), estimated finish time: 00:44:14\n",
      "On 0.25%\n",
      "time elapsed: 25(s), time left: 10326(s), estimated finish time: 00:27:29\n",
      "On 0.33%\n",
      "time elapsed: 35(s), time left: 10720(s), estimated finish time: 00:34:13\n",
      "On 0.41%\n",
      "time elapsed: 42(s), time left: 10245(s), estimated finish time: 00:26:25\n",
      "On 0.49%\n",
      "time elapsed: 47(s), time left: 9600(s), estimated finish time: 00:15:45\n",
      "On 0.57%\n",
      "time elapsed: 56(s), time left: 9801(s), estimated finish time: 00:19:15\n",
      "On 0.65%\n",
      "time elapsed: 65(s), time left: 10027(s), estimated finish time: 00:23:10\n",
      "On 0.74%\n",
      "time elapsed: 74(s), time left: 10072(s), estimated finish time: 00:24:04\n",
      "On 0.82%\n",
      "time elapsed: 84(s), time left: 10242(s), estimated finish time: 00:27:03\n",
      "On 0.9%\n",
      "time elapsed: 93(s), time left: 10291(s), estimated finish time: 00:28:01\n",
      "On 0.98%\n",
      "time elapsed: 102(s), time left: 10397(s), estimated finish time: 00:29:58\n",
      "On 1.06%\n",
      "time elapsed: 112(s), time left: 10473(s), estimated finish time: 00:31:23\n",
      "On 1.14%\n",
      "time elapsed: 121(s), time left: 10531(s), estimated finish time: 00:32:30\n",
      "On 1.23%\n",
      "time elapsed: 131(s), time left: 10582(s), estimated finish time: 00:33:30\n",
      "On 1.31%\n",
      "time elapsed: 140(s), time left: 10619(s), estimated finish time: 00:34:17\n",
      "On 1.39%\n",
      "time elapsed: 148(s), time left: 10520(s), estimated finish time: 00:32:45\n",
      "On 1.47%\n",
      "time elapsed: 156(s), time left: 10510(s), estimated finish time: 00:32:45\n",
      "On 1.55%\n",
      "time elapsed: 164(s), time left: 10460(s), estimated finish time: 00:32:03\n",
      "On 1.63%\n",
      "time elapsed: 172(s), time left: 10373(s), estimated finish time: 00:30:43\n",
      "On 1.72%\n",
      "time elapsed: 181(s), time left: 10407(s), estimated finish time: 00:31:26\n",
      "On 1.8%\n",
      "time elapsed: 187(s), time left: 10235(s), estimated finish time: 00:28:40\n",
      "On 1.88%\n",
      "time elapsed: 196(s), time left: 10251(s), estimated finish time: 00:29:05\n",
      "On 1.96%\n",
      "time elapsed: 205(s), time left: 10282(s), estimated finish time: 00:29:45\n",
      "On 2.04%\n",
      "time elapsed: 214(s), time left: 10280(s), estimated finish time: 00:29:52\n",
      "On 2.12%\n",
      "time elapsed: 223(s), time left: 10310(s), estimated finish time: 00:30:31\n",
      "On 2.21%\n",
      "time elapsed: 230(s), time left: 10233(s), estimated finish time: 00:29:22\n",
      "On 2.29%\n",
      "time elapsed: 240(s), time left: 10264(s), estimated finish time: 00:30:02\n",
      "On 2.37%\n",
      "time elapsed: 245(s), time left: 10132(s), estimated finish time: 00:27:55\n",
      "On 2.45%\n",
      "time elapsed: 255(s), time left: 10162(s), estimated finish time: 00:28:35\n",
      "On 2.53%\n",
      "time elapsed: 260(s), time left: 10037(s), estimated finish time: 00:26:36\n",
      "On 2.61%\n",
      "time elapsed: 270(s), time left: 10068(s), estimated finish time: 00:27:15\n",
      "On 2.7%\n",
      "time elapsed: 279(s), time left: 10094(s), estimated finish time: 00:27:51\n",
      "On 2.78%\n",
      "time elapsed: 287(s), time left: 10062(s), estimated finish time: 00:27:27\n",
      "On 2.86%\n",
      "time elapsed: 295(s), time left: 10028(s), estimated finish time: 00:27:00\n",
      "On 2.94%\n",
      "time elapsed: 302(s), time left: 9977(s), estimated finish time: 00:26:17\n",
      "On 3.02%\n",
      "time elapsed: 307(s), time left: 9878(s), estimated finish time: 00:24:43\n",
      "On 3.1%\n",
      "time elapsed: 314(s), time left: 9820(s), estimated finish time: 00:23:52\n",
      "On 3.19%\n",
      "time elapsed: 324(s), time left: 9847(s), estimated finish time: 00:24:28\n",
      "On 3.27%\n",
      "time elapsed: 330(s), time left: 9781(s), estimated finish time: 00:23:29\n",
      "On 3.35%\n",
      "time elapsed: 336(s), time left: 9704(s), estimated finish time: 00:22:18\n",
      "On 3.43%\n",
      "time elapsed: 342(s), time left: 9652(s), estimated finish time: 00:21:32\n",
      "On 3.51%\n",
      "time elapsed: 349(s), time left: 9596(s), estimated finish time: 00:20:43\n",
      "On 3.59%\n",
      "time elapsed: 359(s), time left: 9638(s), estimated finish time: 00:21:35\n",
      "On 3.68%\n",
      "time elapsed: 366(s), time left: 9601(s), estimated finish time: 00:21:05\n",
      "On 3.76%\n",
      "time elapsed: 375(s), time left: 9627(s), estimated finish time: 00:21:40\n",
      "On 3.84%\n",
      "time elapsed: 382(s), time left: 9570(s), estimated finish time: 00:20:50\n",
      "On 3.92%\n",
      "time elapsed: 388(s), time left: 9528(s), estimated finish time: 00:20:15\n",
      "On 4.0%\n",
      "time elapsed: 395(s), time left: 9493(s), estimated finish time: 00:19:46\n",
      "On 4.08%\n",
      "time elapsed: 405(s), time left: 9519(s), estimated finish time: 00:20:22\n",
      "On 4.17%\n",
      "time elapsed: 412(s), time left: 9488(s), estimated finish time: 00:19:58\n",
      "On 4.25%\n",
      "time elapsed: 418(s), time left: 9443(s), estimated finish time: 00:19:19\n",
      "On 4.33%\n",
      "time elapsed: 425(s), time left: 9410(s), estimated finish time: 00:18:54\n",
      "On 4.41%\n",
      "time elapsed: 432(s), time left: 9375(s), estimated finish time: 00:18:25\n",
      "On 4.49%\n",
      "time elapsed: 439(s), time left: 9336(s), estimated finish time: 00:17:53\n",
      "On 4.58%\n",
      "time elapsed: 445(s), time left: 9299(s), estimated finish time: 00:17:22\n",
      "On 4.66%\n",
      "time elapsed: 455(s), time left: 9326(s), estimated finish time: 00:17:59\n",
      "On 4.74%\n",
      "time elapsed: 461(s), time left: 9272(s), estimated finish time: 00:17:11\n",
      "On 4.82%\n",
      "time elapsed: 470(s), time left: 9297(s), estimated finish time: 00:17:45\n",
      "On 4.9%\n",
      "time elapsed: 477(s), time left: 9268(s), estimated finish time: 00:17:23\n",
      "On 4.98%\n",
      "time elapsed: 483(s), time left: 9224(s), estimated finish time: 00:16:46\n",
      "On 5.07%\n",
      "time elapsed: 490(s), time left: 9192(s), estimated finish time: 00:16:20\n",
      "On 5.15%\n",
      "time elapsed: 496(s), time left: 9155(s), estimated finish time: 00:15:50\n",
      "On 5.23%\n",
      "time elapsed: 503(s), time left: 9121(s), estimated finish time: 00:15:22\n",
      "On 5.31%\n",
      "time elapsed: 509(s), time left: 9089(s), estimated finish time: 00:14:56\n",
      "On 5.39%\n",
      "time elapsed: 519(s), time left: 9110(s), estimated finish time: 00:15:27\n",
      "On 5.47%\n",
      "time elapsed: 525(s), time left: 9070(s), estimated finish time: 00:14:53\n",
      "On 5.56%\n",
      "time elapsed: 531(s), time left: 9039(s), estimated finish time: 00:14:29\n",
      "On 5.64%\n",
      "time elapsed: 540(s), time left: 9055(s), estimated finish time: 00:14:54\n",
      "On 5.72%\n",
      "time elapsed: 546(s), time left: 9017(s), estimated finish time: 00:14:21\n",
      "On 5.8%\n",
      "time elapsed: 553(s), time left: 8991(s), estimated finish time: 00:14:02\n",
      "On 5.88%\n",
      "time elapsed: 560(s), time left: 8975(s), estimated finish time: 00:13:53\n",
      "On 5.96%\n",
      "time elapsed: 570(s), time left: 8992(s), estimated finish time: 00:14:19\n",
      "On 6.05%\n",
      "time elapsed: 574(s), time left: 8925(s), estimated finish time: 00:13:17\n",
      "On 6.13%\n",
      "time elapsed: 582(s), time left: 8925(s), estimated finish time: 00:13:25\n",
      "On 6.21%\n",
      "time elapsed: 586(s), time left: 8853(s), estimated finish time: 00:12:16\n",
      "On 6.29%\n",
      "time elapsed: 595(s), time left: 8876(s), estimated finish time: 00:12:49\n",
      "On 6.37%\n",
      "time elapsed: 599(s), time left: 8809(s), estimated finish time: 00:11:46\n",
      "On 6.45%\n",
      "time elapsed: 603(s), time left: 8740(s), estimated finish time: 00:10:40\n",
      "On 6.54%\n",
      "time elapsed: 607(s), time left: 8682(s), estimated finish time: 00:09:46\n",
      "On 6.62%\n",
      "time elapsed: 610(s), time left: 8615(s), estimated finish time: 00:08:43\n",
      "On 6.7%\n",
      "time elapsed: 614(s), time left: 8552(s), estimated finish time: 00:07:44\n",
      "On 6.78%\n",
      "time elapsed: 618(s), time left: 8497(s), estimated finish time: 00:06:53\n",
      "On 6.86%\n",
      "time elapsed: 621(s), time left: 8434(s), estimated finish time: 00:05:53\n",
      "On 6.94%\n",
      "time elapsed: 629(s), time left: 8436(s), estimated finish time: 00:06:03\n",
      "On 7.03%\n",
      "time elapsed: 638(s), time left: 8453(s), estimated finish time: 00:06:29\n",
      "On 7.11%\n",
      "time elapsed: 642(s), time left: 8392(s), estimated finish time: 00:05:32\n",
      "On 7.19%\n",
      "time elapsed: 645(s), time left: 8336(s), estimated finish time: 00:04:39\n",
      "On 7.27%\n",
      "time elapsed: 649(s), time left: 8278(s), estimated finish time: 00:03:45\n",
      "On 7.35%\n",
      "time elapsed: 652(s), time left: 8223(s), estimated finish time: 00:02:53\n",
      "On 7.43%\n",
      "time elapsed: 656(s), time left: 8169(s), estimated finish time: 00:02:03\n",
      "On 7.52%\n",
      "time elapsed: 659(s), time left: 8118(s), estimated finish time: 00:01:15\n",
      "On 7.6%\n",
      "time elapsed: 667(s), time left: 8120(s), estimated finish time: 00:01:25\n",
      "On 7.68%\n",
      "time elapsed: 676(s), time left: 8129(s), estimated finish time: 00:01:43\n",
      "On 7.76%\n",
      "time elapsed: 680(s), time left: 8086(s), estimated finish time: 00:01:04\n",
      "On 7.84%\n",
      "time elapsed: 684(s), time left: 8039(s), estimated finish time: 00:00:20\n",
      "On 7.92%\n",
      "time elapsed: 693(s), time left: 8061(s), estimated finish time: 00:00:52\n",
      "On 8.01%\n",
      "time elapsed: 697(s), time left: 8011(s), estimated finish time: 00:00:06\n",
      "On 8.09%\n",
      "time elapsed: 700(s), time left: 7964(s), estimated finish time: 23:59:22\n",
      "On 8.17%\n",
      "time elapsed: 704(s), time left: 7917(s), estimated finish time: 23:58:39\n",
      "On 8.25%\n",
      "time elapsed: 708(s), time left: 7877(s), estimated finish time: 23:58:03\n",
      "On 8.33%\n",
      "time elapsed: 716(s), time left: 7884(s), estimated finish time: 23:58:18\n",
      "On 8.42%\n",
      "time elapsed: 720(s), time left: 7842(s), estimated finish time: 23:57:40\n",
      "On 8.5%\n",
      "time elapsed: 730(s), time left: 7861(s), estimated finish time: 23:58:09\n",
      "On 8.58%\n",
      "time elapsed: 739(s), time left: 7880(s), estimated finish time: 23:58:37\n",
      "On 8.66%\n",
      "time elapsed: 743(s), time left: 7838(s), estimated finish time: 23:57:59\n",
      "On 8.74%\n",
      "time elapsed: 747(s), time left: 7800(s), estimated finish time: 23:57:25\n",
      "On 8.82%\n",
      "time elapsed: 757(s), time left: 7824(s), estimated finish time: 23:57:59\n",
      "On 8.91%\n",
      "time elapsed: 761(s), time left: 7785(s), estimated finish time: 23:57:24\n",
      "On 8.99%\n",
      "time elapsed: 763(s), time left: 7729(s), estimated finish time: 23:56:30\n",
      "On 9.07%\n",
      "time elapsed: 766(s), time left: 7685(s), estimated finish time: 23:55:49\n",
      "On 9.15%\n",
      "time elapsed: 770(s), time left: 7651(s), estimated finish time: 23:55:19\n",
      "On 9.23%\n",
      "time elapsed: 774(s), time left: 7612(s), estimated finish time: 23:54:44\n",
      "On 9.31%\n",
      "time elapsed: 777(s), time left: 7573(s), estimated finish time: 23:54:08\n",
      "On 9.4%\n",
      "time elapsed: 781(s), time left: 7536(s), estimated finish time: 23:53:35\n",
      "On 9.48%\n",
      "time elapsed: 785(s), time left: 7499(s), estimated finish time: 23:53:01\n",
      "On 9.56%\n",
      "time elapsed: 788(s), time left: 7464(s), estimated finish time: 23:52:31\n",
      "On 9.64%\n",
      "time elapsed: 792(s), time left: 7430(s), estimated finish time: 23:52:00\n",
      "On 9.72%\n",
      "time elapsed: 796(s), time left: 7397(s), estimated finish time: 23:51:32\n",
      "On 9.8%\n",
      "time elapsed: 800(s), time left: 7362(s), estimated finish time: 23:50:59\n",
      "On 9.89%\n",
      "time elapsed: 804(s), time left: 7331(s), estimated finish time: 23:50:33\n",
      "On 9.97%\n",
      "time elapsed: 807(s), time left: 7297(s), estimated finish time: 23:50:02\n",
      "On 10.05%\n",
      "time elapsed: 811(s), time left: 7261(s), estimated finish time: 23:49:30\n",
      "On 10.13%\n",
      "time elapsed: 815(s), time left: 7231(s), estimated finish time: 23:49:03\n",
      "On 10.21%\n",
      "time elapsed: 819(s), time left: 7201(s), estimated finish time: 23:48:38\n",
      "On 10.29%\n",
      "time elapsed: 822(s), time left: 7170(s), estimated finish time: 23:48:11\n",
      "On 10.38%\n",
      "time elapsed: 826(s), time left: 7142(s), estimated finish time: 23:47:46\n",
      "On 10.46%\n",
      "time elapsed: 830(s), time left: 7111(s), estimated finish time: 23:47:19\n",
      "On 10.54%\n",
      "time elapsed: 833(s), time left: 7078(s), estimated finish time: 23:46:50\n",
      "On 10.62%\n",
      "time elapsed: 837(s), time left: 7051(s), estimated finish time: 23:46:27\n",
      "On 10.7%\n",
      "time elapsed: 840(s), time left: 7008(s), estimated finish time: 23:45:46\n",
      "On 10.78%\n",
      "time elapsed: 843(s), time left: 6979(s), estimated finish time: 23:45:20\n",
      "On 10.87%\n",
      "time elapsed: 847(s), time left: 6949(s), estimated finish time: 23:44:54\n",
      "On 10.95%\n",
      "time elapsed: 850(s), time left: 6921(s), estimated finish time: 23:44:29\n",
      "On 11.03%\n",
      "time elapsed: 854(s), time left: 6891(s), estimated finish time: 23:44:03\n",
      "On 11.11%\n",
      "time elapsed: 858(s), time left: 6864(s), estimated finish time: 23:43:39\n",
      "On 11.19%\n",
      "time elapsed: 861(s), time left: 6837(s), estimated finish time: 23:43:16\n",
      "On 11.27%\n",
      "time elapsed: 866(s), time left: 6815(s), estimated finish time: 23:42:58\n",
      "On 11.36%\n",
      "time elapsed: 869(s), time left: 6786(s), estimated finish time: 23:42:33\n",
      "On 11.44%\n",
      "time elapsed: 872(s), time left: 6757(s), estimated finish time: 23:42:08\n",
      "On 11.52%\n",
      "time elapsed: 874(s), time left: 6717(s), estimated finish time: 23:41:30\n",
      "On 11.6%\n",
      "time elapsed: 878(s), time left: 6691(s), estimated finish time: 23:41:06\n",
      "On 11.68%\n",
      "time elapsed: 881(s), time left: 6664(s), estimated finish time: 23:40:43\n",
      "On 11.76%\n",
      "time elapsed: 885(s), time left: 6640(s), estimated finish time: 23:40:23\n",
      "On 11.85%\n",
      "time elapsed: 894(s), time left: 6655(s), estimated finish time: 23:40:47\n",
      "On 11.93%\n",
      "time elapsed: 901(s), time left: 6657(s), estimated finish time: 23:40:56\n",
      "On 12.01%\n",
      "time elapsed: 909(s), time left: 6666(s), estimated finish time: 23:41:14\n",
      "On 12.09%\n",
      "time elapsed: 918(s), time left: 6674(s), estimated finish time: 23:41:29\n",
      "On 12.17%\n",
      "time elapsed: 926(s), time left: 6685(s), estimated finish time: 23:41:49\n",
      "On 12.25%\n",
      "time elapsed: 935(s), time left: 6695(s), estimated finish time: 23:42:08\n",
      "On 12.34%\n",
      "time elapsed: 942(s), time left: 6699(s), estimated finish time: 23:42:19\n",
      "On 12.42%\n",
      "time elapsed: 950(s), time left: 6706(s), estimated finish time: 23:42:34\n",
      "On 12.5%\n",
      "time elapsed: 958(s), time left: 6707(s), estimated finish time: 23:42:43\n",
      "On 12.58%\n",
      "time elapsed: 965(s), time left: 6710(s), estimated finish time: 23:42:53\n",
      "On 12.66%\n",
      "time elapsed: 974(s), time left: 6718(s), estimated finish time: 23:43:09\n",
      "On 12.75%\n",
      "time elapsed: 981(s), time left: 6719(s), estimated finish time: 23:43:18\n",
      "On 12.83%\n",
      "time elapsed: 988(s), time left: 6719(s), estimated finish time: 23:43:26\n",
      "On 12.91%\n",
      "time elapsed: 996(s), time left: 6726(s), estimated finish time: 23:43:40\n",
      "On 12.99%\n",
      "time elapsed: 1004(s), time left: 6727(s), estimated finish time: 23:43:48\n",
      "On 13.07%\n",
      "time elapsed: 1011(s), time left: 6727(s), estimated finish time: 23:43:56\n",
      "On 13.15%\n",
      "time elapsed: 1019(s), time left: 6731(s), estimated finish time: 23:44:08\n",
      "On 13.24%\n",
      "time elapsed: 1027(s), time left: 6734(s), estimated finish time: 23:44:19\n",
      "On 13.32%\n",
      "time elapsed: 1035(s), time left: 6741(s), estimated finish time: 23:44:34\n",
      "On 13.4%\n",
      "time elapsed: 1043(s), time left: 6741(s), estimated finish time: 23:44:42\n",
      "On 13.48%\n",
      "time elapsed: 1050(s), time left: 6740(s), estimated finish time: 23:44:48\n",
      "On 13.56%\n",
      "time elapsed: 1057(s), time left: 6739(s), estimated finish time: 23:44:54\n",
      "On 13.64%\n",
      "time elapsed: 1065(s), time left: 6744(s), estimated finish time: 23:45:07\n",
      "On 13.73%\n",
      "time elapsed: 1073(s), time left: 6745(s), estimated finish time: 23:45:16\n",
      "On 13.81%\n",
      "time elapsed: 1081(s), time left: 6751(s), estimated finish time: 23:45:30\n",
      "On 13.89%\n",
      "time elapsed: 1089(s), time left: 6755(s), estimated finish time: 23:45:42\n",
      "On 13.97%\n",
      "time elapsed: 1097(s), time left: 6760(s), estimated finish time: 23:45:55\n",
      "On 14.05%\n",
      "time elapsed: 1105(s), time left: 6760(s), estimated finish time: 23:46:03\n",
      "On 14.13%\n",
      "time elapsed: 1113(s), time left: 6764(s), estimated finish time: 23:46:15\n",
      "On 14.22%\n",
      "time elapsed: 1122(s), time left: 6770(s), estimated finish time: 23:46:30\n",
      "On 14.3%\n",
      "time elapsed: 1129(s), time left: 6771(s), estimated finish time: 23:46:38\n",
      "On 14.38%\n",
      "time elapsed: 1137(s), time left: 6774(s), estimated finish time: 23:46:49\n",
      "On 14.46%\n",
      "time elapsed: 1145(s), time left: 6775(s), estimated finish time: 23:46:58\n",
      "On 14.54%\n",
      "time elapsed: 1153(s), time left: 6776(s), estimated finish time: 23:47:07\n",
      "On 14.62%\n",
      "time elapsed: 1160(s), time left: 6776(s), estimated finish time: 23:47:14\n",
      "On 14.71%\n",
      "time elapsed: 1168(s), time left: 6778(s), estimated finish time: 23:47:24\n",
      "On 14.79%\n",
      "time elapsed: 1174(s), time left: 6767(s), estimated finish time: 23:47:19\n",
      "On 14.87%\n",
      "time elapsed: 1178(s), time left: 6748(s), estimated finish time: 23:47:04\n",
      "On 14.95%\n",
      "time elapsed: 1188(s), time left: 6760(s), estimated finish time: 23:47:26\n",
      "On 15.03%\n",
      "time elapsed: 1198(s), time left: 6773(s), estimated finish time: 23:47:49\n",
      "On 15.11%\n",
      "time elapsed: 1207(s), time left: 6783(s), estimated finish time: 23:48:08\n",
      "On 15.2%\n",
      "time elapsed: 1211(s), time left: 6759(s), estimated finish time: 23:47:47\n",
      "On 15.28%\n",
      "time elapsed: 1220(s), time left: 6768(s), estimated finish time: 23:48:05\n",
      "On 15.36%\n",
      "time elapsed: 1226(s), time left: 6756(s), estimated finish time: 23:48:00\n",
      "On 15.44%\n",
      "time elapsed: 1231(s), time left: 6743(s), estimated finish time: 23:47:52\n",
      "On 15.52%\n",
      "time elapsed: 1234(s), time left: 6718(s), estimated finish time: 23:47:30\n",
      "On 15.6%\n",
      "time elapsed: 1238(s), time left: 6697(s), estimated finish time: 23:47:13\n",
      "On 15.69%\n",
      "time elapsed: 1248(s), time left: 6708(s), estimated finish time: 23:47:33\n",
      "On 15.77%\n",
      "time elapsed: 1253(s), time left: 6695(s), estimated finish time: 23:47:25\n",
      "On 15.85%\n",
      "time elapsed: 1262(s), time left: 6704(s), estimated finish time: 23:47:44\n",
      "On 15.93%\n",
      "time elapsed: 1272(s), time left: 6715(s), estimated finish time: 23:48:05\n",
      "On 16.01%\n",
      "time elapsed: 1282(s), time left: 6724(s), estimated finish time: 23:48:24\n",
      "On 16.09%\n",
      "time elapsed: 1287(s), time left: 6714(s), estimated finish time: 23:48:19\n",
      "On 16.18%\n",
      "time elapsed: 1294(s), time left: 6709(s), estimated finish time: 23:48:22\n",
      "On 16.26%\n",
      "time elapsed: 1304(s), time left: 6719(s), estimated finish time: 23:48:41\n",
      "On 16.34%\n",
      "time elapsed: 1314(s), time left: 6729(s), estimated finish time: 23:49:01\n",
      "On 16.42%\n",
      "time elapsed: 1323(s), time left: 6737(s), estimated finish time: 23:49:18\n",
      "On 16.5%\n",
      "time elapsed: 1333(s), time left: 6746(s), estimated finish time: 23:49:37\n",
      "On 16.58%\n",
      "time elapsed: 1343(s), time left: 6756(s), estimated finish time: 23:49:56\n",
      "On 16.67%\n",
      "time elapsed: 1352(s), time left: 6764(s), estimated finish time: 23:50:14\n",
      "On 16.75%\n",
      "time elapsed: 1362(s), time left: 6773(s), estimated finish time: 23:50:33\n",
      "On 16.83%\n",
      "time elapsed: 1368(s), time left: 6761(s), estimated finish time: 23:50:27\n",
      "On 16.91%\n",
      "time elapsed: 1377(s), time left: 6769(s), estimated finish time: 23:50:45\n",
      "On 16.99%\n",
      "time elapsed: 1387(s), time left: 6776(s), estimated finish time: 23:51:01\n",
      "On 17.08%\n",
      "time elapsed: 1391(s), time left: 6757(s), estimated finish time: 23:50:46\n",
      "On 17.16%\n",
      "time elapsed: 1401(s), time left: 6765(s), estimated finish time: 23:51:03\n",
      "On 17.24%\n",
      "time elapsed: 1411(s), time left: 6774(s), estimated finish time: 23:51:23\n",
      "On 17.32%\n",
      "time elapsed: 1420(s), time left: 6782(s), estimated finish time: 23:51:40\n",
      "On 17.4%\n",
      "time elapsed: 1426(s), time left: 6771(s), estimated finish time: 23:51:35\n",
      "On 17.48%\n",
      "time elapsed: 1435(s), time left: 6776(s), estimated finish time: 23:51:50\n",
      "On 17.57%\n",
      "time elapsed: 1439(s), time left: 6757(s), estimated finish time: 23:51:35\n",
      "On 17.65%\n",
      "time elapsed: 1445(s), time left: 6745(s), estimated finish time: 23:51:28\n",
      "On 17.73%\n",
      "time elapsed: 1449(s), time left: 6724(s), estimated finish time: 23:51:11\n",
      "On 17.81%\n",
      "time elapsed: 1453(s), time left: 6706(s), estimated finish time: 23:50:57\n",
      "On 17.89%\n",
      "time elapsed: 1456(s), time left: 6683(s), estimated finish time: 23:50:37\n",
      "On 17.97%\n",
      "time elapsed: 1460(s), time left: 6666(s), estimated finish time: 23:50:24\n",
      "On 18.06%\n",
      "time elapsed: 1464(s), time left: 6644(s), estimated finish time: 23:50:06\n",
      "On 18.14%\n",
      "time elapsed: 1466(s), time left: 6618(s), estimated finish time: 23:49:42\n",
      "On 18.22%\n",
      "time elapsed: 1469(s), time left: 6597(s), estimated finish time: 23:49:25\n",
      "On 18.3%\n",
      "time elapsed: 1473(s), time left: 6578(s), estimated finish time: 23:49:09\n",
      "On 18.38%\n",
      "time elapsed: 1477(s), time left: 6559(s), estimated finish time: 23:48:53\n",
      "On 18.46%\n",
      "time elapsed: 1480(s), time left: 6537(s), estimated finish time: 23:48:35\n",
      "On 18.55%\n",
      "time elapsed: 1485(s), time left: 6522(s), estimated finish time: 23:48:25\n",
      "On 18.63%\n",
      "time elapsed: 1489(s), time left: 6506(s), estimated finish time: 23:48:13\n",
      "On 18.71%\n",
      "time elapsed: 1492(s), time left: 6485(s), estimated finish time: 23:47:55\n",
      "On 18.79%\n",
      "time elapsed: 1496(s), time left: 6467(s), estimated finish time: 23:47:41\n",
      "On 18.87%\n",
      "time elapsed: 1499(s), time left: 6447(s), estimated finish time: 23:47:24\n",
      "On 18.95%\n",
      "time elapsed: 1503(s), time left: 6427(s), estimated finish time: 23:47:08\n",
      "On 19.04%\n",
      "time elapsed: 1506(s), time left: 6408(s), estimated finish time: 23:46:52\n",
      "On 19.12%\n",
      "time elapsed: 1510(s), time left: 6388(s), estimated finish time: 23:46:35\n",
      "On 19.2%\n",
      "time elapsed: 1513(s), time left: 6368(s), estimated finish time: 23:46:18\n",
      "On 19.28%\n",
      "time elapsed: 1517(s), time left: 6351(s), estimated finish time: 23:46:05\n",
      "On 19.36%\n",
      "time elapsed: 1520(s), time left: 6331(s), estimated finish time: 23:45:49\n",
      "On 19.44%\n",
      "time elapsed: 1523(s), time left: 6312(s), estimated finish time: 23:45:33\n",
      "On 19.53%\n",
      "time elapsed: 1526(s), time left: 6291(s), estimated finish time: 23:45:15\n",
      "On 19.61%\n",
      "time elapsed: 1530(s), time left: 6273(s), estimated finish time: 23:45:01\n",
      "On 19.69%\n",
      "time elapsed: 1533(s), time left: 6255(s), estimated finish time: 23:44:46\n",
      "On 19.77%\n",
      "time elapsed: 1537(s), time left: 6237(s), estimated finish time: 23:44:32\n",
      "On 19.85%\n",
      "time elapsed: 1540(s), time left: 6219(s), estimated finish time: 23:44:17\n",
      "On 19.93%\n",
      "time elapsed: 1544(s), time left: 6204(s), estimated finish time: 23:44:06\n",
      "On 20.02%\n",
      "time elapsed: 1548(s), time left: 6186(s), estimated finish time: 23:43:51\n",
      "On 20.1%\n",
      "time elapsed: 1551(s), time left: 6168(s), estimated finish time: 23:43:38\n",
      "On 20.18%\n",
      "time elapsed: 1555(s), time left: 6152(s), estimated finish time: 23:43:25\n",
      "On 20.26%\n",
      "time elapsed: 1558(s), time left: 6134(s), estimated finish time: 23:43:10\n",
      "On 20.34%\n",
      "time elapsed: 1561(s), time left: 6115(s), estimated finish time: 23:42:54\n",
      "On 20.42%\n",
      "time elapsed: 1565(s), time left: 6099(s), estimated finish time: 23:42:42\n",
      "On 20.51%\n",
      "time elapsed: 1569(s), time left: 6084(s), estimated finish time: 23:42:31\n",
      "On 20.59%\n",
      "time elapsed: 1572(s), time left: 6066(s), estimated finish time: 23:42:16\n",
      "On 20.67%\n",
      "time elapsed: 1582(s), time left: 6071(s), estimated finish time: 23:42:31\n",
      "On 20.75%\n",
      "time elapsed: 1593(s), time left: 6084(s), estimated finish time: 23:42:55\n",
      "On 20.83%\n",
      "time elapsed: 1601(s), time left: 6086(s), estimated finish time: 23:43:05\n",
      "On 20.92%\n",
      "time elapsed: 1610(s), time left: 6088(s), estimated finish time: 23:43:16\n",
      "On 21.0%\n",
      "time elapsed: 1620(s), time left: 6095(s), estimated finish time: 23:43:32\n",
      "On 21.08%\n",
      "time elapsed: 1627(s), time left: 6093(s), estimated finish time: 23:43:38\n",
      "On 21.16%\n",
      "time elapsed: 1638(s), time left: 6105(s), estimated finish time: 23:44:01\n",
      "On 21.24%\n",
      "time elapsed: 1647(s), time left: 6107(s), estimated finish time: 23:44:12\n",
      "On 21.32%\n",
      "time elapsed: 1654(s), time left: 6105(s), estimated finish time: 23:44:17\n",
      "On 21.41%\n",
      "time elapsed: 1661(s), time left: 6102(s), estimated finish time: 23:44:21\n",
      "On 21.49%\n",
      "time elapsed: 1672(s), time left: 6109(s), estimated finish time: 23:44:39\n",
      "On 21.57%\n",
      "time elapsed: 1683(s), time left: 6120(s), estimated finish time: 23:45:01\n",
      "On 21.65%\n",
      "time elapsed: 1689(s), time left: 6115(s), estimated finish time: 23:45:02\n",
      "On 21.73%\n",
      "time elapsed: 1697(s), time left: 6115(s), estimated finish time: 23:45:10\n",
      "On 21.81%\n",
      "time elapsed: 1706(s), time left: 6116(s), estimated finish time: 23:45:20\n",
      "On 21.9%\n",
      "time elapsed: 1715(s), time left: 6119(s), estimated finish time: 23:45:32\n",
      "On 21.98%\n",
      "time elapsed: 1756(s), time left: 6235(s), estimated finish time: 23:48:09\n",
      "On 22.06%\n",
      "time elapsed: 1766(s), time left: 6242(s), estimated finish time: 23:48:26\n",
      "On 22.14%\n",
      "time elapsed: 1776(s), time left: 6247(s), estimated finish time: 23:48:41\n",
      "On 22.22%\n",
      "time elapsed: 1784(s), time left: 6247(s), estimated finish time: 23:48:49\n",
      "On 22.3%\n",
      "time elapsed: 1791(s), time left: 6242(s), estimated finish time: 23:48:51\n",
      "On 22.39%\n",
      "time elapsed: 1800(s), time left: 6243(s), estimated finish time: 23:49:02\n",
      "On 22.47%\n",
      "time elapsed: 1809(s), time left: 6244(s), estimated finish time: 23:49:10\n",
      "On 22.55%\n",
      "time elapsed: 1817(s), time left: 6243(s), estimated finish time: 23:49:19\n",
      "On 22.63%\n",
      "time elapsed: 1826(s), time left: 6244(s), estimated finish time: 23:49:28\n",
      "On 22.71%\n",
      "time elapsed: 1836(s), time left: 6248(s), estimated finish time: 23:49:41\n",
      "On 22.79%\n",
      "time elapsed: 1844(s), time left: 6247(s), estimated finish time: 23:49:49\n",
      "On 22.88%\n",
      "time elapsed: 1854(s), time left: 6251(s), estimated finish time: 23:50:02\n",
      "On 22.96%\n",
      "time elapsed: 1863(s), time left: 6255(s), estimated finish time: 23:50:16\n",
      "On 23.04%\n",
      "time elapsed: 1874(s), time left: 6262(s), estimated finish time: 23:50:34\n",
      "On 23.12%\n",
      "time elapsed: 1884(s), time left: 6264(s), estimated finish time: 23:50:46\n",
      "On 23.2%\n",
      "time elapsed: 1893(s), time left: 6267(s), estimated finish time: 23:50:58\n",
      "On 23.28%\n",
      "time elapsed: 1901(s), time left: 6266(s), estimated finish time: 23:51:05\n",
      "On 23.37%\n",
      "time elapsed: 1911(s), time left: 6268(s), estimated finish time: 23:51:16\n",
      "On 23.45%\n",
      "time elapsed: 1919(s), time left: 6267(s), estimated finish time: 23:51:24\n",
      "On 23.53%\n",
      "time elapsed: 1929(s), time left: 6269(s), estimated finish time: 23:51:36\n",
      "On 23.61%\n",
      "time elapsed: 1934(s), time left: 6259(s), estimated finish time: 23:51:32\n",
      "On 23.69%\n",
      "time elapsed: 1944(s), time left: 6262(s), estimated finish time: 23:51:44\n",
      "On 23.77%\n",
      "time elapsed: 1953(s), time left: 6264(s), estimated finish time: 23:51:56\n",
      "On 23.86%\n",
      "time elapsed: 1960(s), time left: 6258(s), estimated finish time: 23:51:56\n",
      "On 23.94%\n",
      "time elapsed: 1967(s), time left: 6250(s), estimated finish time: 23:51:55\n",
      "On 24.02%\n",
      "time elapsed: 1973(s), time left: 6242(s), estimated finish time: 23:51:53\n",
      "On 24.1%\n",
      "time elapsed: 1982(s), time left: 6244(s), estimated finish time: 23:52:04\n",
      "On 24.18%\n",
      "time elapsed: 1992(s), time left: 6246(s), estimated finish time: 23:52:15\n",
      "On 24.26%\n",
      "time elapsed: 1998(s), time left: 6237(s), estimated finish time: 23:52:13\n",
      "On 24.35%\n",
      "time elapsed: 2004(s), time left: 6229(s), estimated finish time: 23:52:12\n",
      "On 24.43%\n",
      "time elapsed: 2011(s), time left: 6221(s), estimated finish time: 23:52:10\n",
      "On 24.51%\n",
      "time elapsed: 2017(s), time left: 6212(s), estimated finish time: 23:52:07\n",
      "On 24.59%\n",
      "time elapsed: 2026(s), time left: 6214(s), estimated finish time: 23:52:18\n",
      "On 24.67%\n",
      "time elapsed: 2035(s), time left: 6215(s), estimated finish time: 23:52:28\n",
      "On 24.75%\n",
      "time elapsed: 2045(s), time left: 6217(s), estimated finish time: 23:52:39\n",
      "On 24.84%\n",
      "time elapsed: 2051(s), time left: 6208(s), estimated finish time: 23:52:37\n",
      "On 24.92%\n",
      "time elapsed: 2060(s), time left: 6209(s), estimated finish time: 23:52:47\n",
      "On 25.0%\n",
      "time elapsed: 2067(s), time left: 6201(s), estimated finish time: 23:52:45\n",
      "On 25.08%\n",
      "time elapsed: 2073(s), time left: 6194(s), estimated finish time: 23:52:45\n",
      "On 25.16%\n",
      "time elapsed: 2080(s), time left: 6187(s), estimated finish time: 23:52:46\n",
      "On 25.25%\n",
      "time elapsed: 2087(s), time left: 6180(s), estimated finish time: 23:52:44\n",
      "On 25.33%\n",
      "time elapsed: 2096(s), time left: 6180(s), estimated finish time: 23:52:54\n",
      "On 25.41%\n",
      "time elapsed: 2103(s), time left: 6174(s), estimated finish time: 23:52:54\n",
      "On 25.49%\n",
      "time elapsed: 2110(s), time left: 6168(s), estimated finish time: 23:52:56\n",
      "On 25.57%\n",
      "time elapsed: 2119(s), time left: 6169(s), estimated finish time: 23:53:07\n",
      "On 25.65%\n",
      "time elapsed: 2125(s), time left: 6161(s), estimated finish time: 23:53:04\n",
      "On 25.74%\n",
      "time elapsed: 2132(s), time left: 6154(s), estimated finish time: 23:53:04\n",
      "On 25.82%\n",
      "time elapsed: 2138(s), time left: 6145(s), estimated finish time: 23:53:02\n",
      "On 25.9%\n",
      "time elapsed: 2148(s), time left: 6146(s), estimated finish time: 23:53:12\n",
      "On 25.98%\n",
      "time elapsed: 2157(s), time left: 6147(s), estimated finish time: 23:53:23\n",
      "On 26.06%\n",
      "time elapsed: 2167(s), time left: 6148(s), estimated finish time: 23:53:32\n",
      "On 26.14%\n",
      "time elapsed: 2172(s), time left: 6138(s), estimated finish time: 23:53:28\n",
      "On 26.23%\n",
      "time elapsed: 2179(s), time left: 6130(s), estimated finish time: 23:53:27\n",
      "On 26.31%\n",
      "time elapsed: 2185(s), time left: 6120(s), estimated finish time: 23:53:23\n",
      "On 26.39%\n",
      "time elapsed: 2190(s), time left: 6111(s), estimated finish time: 23:53:19\n",
      "On 26.47%\n",
      "time elapsed: 2196(s), time left: 6101(s), estimated finish time: 23:53:15\n",
      "On 26.55%\n",
      "time elapsed: 2202(s), time left: 6092(s), estimated finish time: 23:53:13\n",
      "On 26.63%\n",
      "time elapsed: 2208(s), time left: 6083(s), estimated finish time: 23:53:09\n",
      "On 26.72%\n",
      "time elapsed: 2216(s), time left: 6079(s), estimated finish time: 23:53:13\n",
      "On 26.8%\n",
      "time elapsed: 2222(s), time left: 6071(s), estimated finish time: 23:53:11\n",
      "On 26.88%\n",
      "time elapsed: 2227(s), time left: 6060(s), estimated finish time: 23:53:06\n",
      "On 26.96%\n",
      "time elapsed: 2234(s), time left: 6053(s), estimated finish time: 23:53:05\n",
      "On 27.04%\n",
      "time elapsed: 2242(s), time left: 6049(s), estimated finish time: 23:53:09\n",
      "On 27.12%\n",
      "time elapsed: 2248(s), time left: 6041(s), estimated finish time: 23:53:07\n",
      "On 27.21%\n",
      "time elapsed: 2254(s), time left: 6032(s), estimated finish time: 23:53:04\n",
      "On 27.29%\n",
      "time elapsed: 2259(s), time left: 6021(s), estimated finish time: 23:52:59\n",
      "On 27.37%\n",
      "time elapsed: 2265(s), time left: 6011(s), estimated finish time: 23:52:54\n",
      "On 27.45%\n",
      "time elapsed: 2273(s), time left: 6007(s), estimated finish time: 23:52:57\n",
      "On 27.53%\n",
      "time elapsed: 2278(s), time left: 5997(s), estimated finish time: 23:52:54\n",
      "On 27.61%\n",
      "time elapsed: 2285(s), time left: 5990(s), estimated finish time: 23:52:52\n",
      "On 27.7%\n",
      "time elapsed: 2291(s), time left: 5981(s), estimated finish time: 23:52:49\n",
      "On 27.78%\n",
      "time elapsed: 2299(s), time left: 5977(s), estimated finish time: 23:52:53\n",
      "On 27.86%\n",
      "time elapsed: 2305(s), time left: 5968(s), estimated finish time: 23:52:51\n",
      "On 27.94%\n",
      "time elapsed: 2316(s), time left: 5972(s), estimated finish time: 23:53:06\n",
      "On 28.02%\n",
      "time elapsed: 2321(s), time left: 5963(s), estimated finish time: 23:53:02\n",
      "On 28.1%\n",
      "time elapsed: 2332(s), time left: 5967(s), estimated finish time: 23:53:17\n",
      "On 28.19%\n",
      "time elapsed: 2338(s), time left: 5957(s), estimated finish time: 23:53:12\n",
      "On 28.27%\n",
      "time elapsed: 2344(s), time left: 5950(s), estimated finish time: 23:53:12\n",
      "On 28.35%\n",
      "time elapsed: 2349(s), time left: 5939(s), estimated finish time: 23:53:06\n",
      "On 28.43%\n",
      "time elapsed: 2356(s), time left: 5931(s), estimated finish time: 23:53:04\n",
      "On 28.51%\n",
      "time elapsed: 2361(s), time left: 5920(s), estimated finish time: 23:52:59\n",
      "On 28.59%\n",
      "time elapsed: 2367(s), time left: 5911(s), estimated finish time: 23:52:56\n",
      "On 28.68%\n",
      "time elapsed: 2373(s), time left: 5902(s), estimated finish time: 23:52:53\n",
      "On 28.76%\n",
      "time elapsed: 2378(s), time left: 5893(s), estimated finish time: 23:52:49\n",
      "On 28.84%\n",
      "time elapsed: 2385(s), time left: 5885(s), estimated finish time: 23:52:48\n",
      "On 28.92%\n",
      "time elapsed: 2391(s), time left: 5877(s), estimated finish time: 23:52:45\n",
      "On 29.0%\n",
      "time elapsed: 2397(s), time left: 5868(s), estimated finish time: 23:52:42\n",
      "On 29.08%\n",
      "time elapsed: 2405(s), time left: 5864(s), estimated finish time: 23:52:47\n",
      "On 29.17%\n",
      "time elapsed: 2410(s), time left: 5854(s), estimated finish time: 23:52:42\n",
      "On 29.25%\n",
      "time elapsed: 2418(s), time left: 5850(s), estimated finish time: 23:52:46\n",
      "On 29.33%\n",
      "time elapsed: 2424(s), time left: 5841(s), estimated finish time: 23:52:43\n",
      "On 29.41%\n",
      "time elapsed: 2429(s), time left: 5831(s), estimated finish time: 23:52:39\n",
      "On 29.49%\n",
      "time elapsed: 2436(s), time left: 5824(s), estimated finish time: 23:52:38\n",
      "On 29.58%\n",
      "time elapsed: 2445(s), time left: 5823(s), estimated finish time: 23:52:46\n",
      "On 29.66%\n",
      "time elapsed: 2452(s), time left: 5817(s), estimated finish time: 23:52:47\n",
      "On 29.74%\n",
      "time elapsed: 2461(s), time left: 5816(s), estimated finish time: 23:52:55\n",
      "On 29.82%\n",
      "time elapsed: 2470(s), time left: 5814(s), estimated finish time: 23:53:02\n",
      "On 29.9%\n",
      "time elapsed: 2476(s), time left: 5806(s), estimated finish time: 23:53:00\n",
      "On 29.98%\n",
      "time elapsed: 2483(s), time left: 5799(s), estimated finish time: 23:52:59\n",
      "On 30.07%\n",
      "time elapsed: 2489(s), time left: 5791(s), estimated finish time: 23:52:58\n",
      "On 30.15%\n",
      "time elapsed: 2497(s), time left: 5785(s), estimated finish time: 23:53:00\n",
      "On 30.23%\n",
      "time elapsed: 2503(s), time left: 5778(s), estimated finish time: 23:52:59\n",
      "On 30.31%\n",
      "time elapsed: 2513(s), time left: 5779(s), estimated finish time: 23:53:10\n",
      "On 30.39%\n",
      "time elapsed: 2520(s), time left: 5771(s), estimated finish time: 23:53:09\n",
      "On 30.47%\n",
      "time elapsed: 2528(s), time left: 5768(s), estimated finish time: 23:53:14\n",
      "On 30.56%\n",
      "time elapsed: 2537(s), time left: 5767(s), estimated finish time: 23:53:22\n",
      "On 30.64%\n",
      "time elapsed: 2544(s), time left: 5761(s), estimated finish time: 23:53:23\n",
      "On 30.72%\n",
      "time elapsed: 2552(s), time left: 5757(s), estimated finish time: 23:53:27\n",
      "On 30.8%\n",
      "time elapsed: 2560(s), time left: 5753(s), estimated finish time: 23:53:31\n",
      "On 30.88%\n",
      "time elapsed: 2567(s), time left: 5746(s), estimated finish time: 23:53:31\n",
      "On 30.96%\n",
      "time elapsed: 2573(s), time left: 5738(s), estimated finish time: 23:53:29\n",
      "On 31.05%\n",
      "time elapsed: 2583(s), time left: 5737(s), estimated finish time: 23:53:37\n",
      "On 31.13%\n",
      "time elapsed: 2592(s), time left: 5735(s), estimated finish time: 23:53:45\n",
      "On 31.21%\n",
      "time elapsed: 2600(s), time left: 5730(s), estimated finish time: 23:53:48\n",
      "On 31.29%\n",
      "time elapsed: 2606(s), time left: 5723(s), estimated finish time: 23:53:47\n",
      "On 31.37%\n",
      "time elapsed: 2613(s), time left: 5717(s), estimated finish time: 23:53:48\n",
      "On 31.45%\n",
      "time elapsed: 2621(s), time left: 5713(s), estimated finish time: 23:53:52\n",
      "On 31.54%\n",
      "time elapsed: 2630(s), time left: 5711(s), estimated finish time: 23:53:59\n",
      "On 31.62%\n",
      "time elapsed: 2639(s), time left: 5709(s), estimated finish time: 23:54:06\n",
      "On 31.7%\n",
      "time elapsed: 2647(s), time left: 5703(s), estimated finish time: 23:54:08\n",
      "On 31.78%\n",
      "time elapsed: 2656(s), time left: 5701(s), estimated finish time: 23:54:14\n",
      "On 31.86%\n",
      "time elapsed: 2665(s), time left: 5699(s), estimated finish time: 23:54:22\n",
      "On 31.94%\n",
      "time elapsed: 2672(s), time left: 5694(s), estimated finish time: 23:54:24\n",
      "On 32.03%\n",
      "time elapsed: 2682(s), time left: 5692(s), estimated finish time: 23:54:32\n",
      "On 32.11%\n",
      "time elapsed: 2689(s), time left: 5686(s), estimated finish time: 23:54:33\n",
      "On 32.19%\n",
      "time elapsed: 2697(s), time left: 5682(s), estimated finish time: 23:54:37\n",
      "On 32.27%\n",
      "time elapsed: 2703(s), time left: 5674(s), estimated finish time: 23:54:35\n",
      "On 32.35%\n",
      "time elapsed: 2710(s), time left: 5667(s), estimated finish time: 23:54:34\n",
      "On 32.43%\n",
      "time elapsed: 2716(s), time left: 5657(s), estimated finish time: 23:54:31\n",
      "On 32.52%\n",
      "time elapsed: 2723(s), time left: 5651(s), estimated finish time: 23:54:32\n",
      "On 32.6%\n",
      "time elapsed: 2730(s), time left: 5646(s), estimated finish time: 23:54:34\n",
      "On 32.68%\n",
      "time elapsed: 2737(s), time left: 5638(s), estimated finish time: 23:54:33\n",
      "On 32.76%\n",
      "time elapsed: 2744(s), time left: 5632(s), estimated finish time: 23:54:34\n",
      "On 32.84%\n",
      "time elapsed: 2751(s), time left: 5625(s), estimated finish time: 23:54:34\n",
      "On 32.92%\n",
      "time elapsed: 2757(s), time left: 5617(s), estimated finish time: 23:54:32\n",
      "On 33.01%\n",
      "time elapsed: 2764(s), time left: 5611(s), estimated finish time: 23:54:33\n",
      "On 33.09%\n",
      "time elapsed: 2771(s), time left: 5604(s), estimated finish time: 23:54:33\n",
      "On 33.17%\n",
      "time elapsed: 2778(s), time left: 5598(s), estimated finish time: 23:54:34\n",
      "On 33.25%\n",
      "time elapsed: 2783(s), time left: 5588(s), estimated finish time: 23:54:29\n",
      "On 33.33%\n",
      "time elapsed: 2790(s), time left: 5581(s), estimated finish time: 23:54:29\n",
      "On 33.42%\n",
      "time elapsed: 2797(s), time left: 5574(s), estimated finish time: 23:54:29\n",
      "On 33.5%\n",
      "time elapsed: 2804(s), time left: 5567(s), estimated finish time: 23:54:28\n",
      "On 33.58%\n",
      "time elapsed: 2810(s), time left: 5560(s), estimated finish time: 23:54:28\n",
      "On 33.66%\n",
      "time elapsed: 2817(s), time left: 5552(s), estimated finish time: 23:54:27\n",
      "On 33.74%\n",
      "time elapsed: 2824(s), time left: 5546(s), estimated finish time: 23:54:28\n",
      "On 33.82%\n",
      "time elapsed: 2831(s), time left: 5539(s), estimated finish time: 23:54:28\n",
      "On 33.91%\n",
      "time elapsed: 2837(s), time left: 5532(s), estimated finish time: 23:54:27\n",
      "On 33.99%\n",
      "time elapsed: 2845(s), time left: 5525(s), estimated finish time: 23:54:28\n",
      "On 34.07%\n",
      "time elapsed: 2850(s), time left: 5517(s), estimated finish time: 23:54:25\n",
      "On 34.15%\n",
      "time elapsed: 2857(s), time left: 5509(s), estimated finish time: 23:54:23\n",
      "On 34.23%\n",
      "time elapsed: 2863(s), time left: 5502(s), estimated finish time: 23:54:23\n",
      "On 34.31%\n",
      "time elapsed: 2868(s), time left: 5491(s), estimated finish time: 23:54:17\n",
      "On 34.4%\n",
      "time elapsed: 2875(s), time left: 5485(s), estimated finish time: 23:54:18\n",
      "On 34.48%\n",
      "time elapsed: 2883(s), time left: 5479(s), estimated finish time: 23:54:19\n",
      "On 34.56%\n",
      "time elapsed: 2889(s), time left: 5471(s), estimated finish time: 23:54:18\n",
      "On 34.64%\n",
      "time elapsed: 2895(s), time left: 5463(s), estimated finish time: 23:54:17\n",
      "On 34.72%\n",
      "time elapsed: 2900(s), time left: 5453(s), estimated finish time: 23:54:11\n",
      "On 34.8%\n",
      "time elapsed: 2907(s), time left: 5446(s), estimated finish time: 23:54:11\n",
      "On 34.89%\n",
      "time elapsed: 2914(s), time left: 5440(s), estimated finish time: 23:54:12\n",
      "On 34.97%\n",
      "time elapsed: 2922(s), time left: 5434(s), estimated finish time: 23:54:14\n",
      "On 35.05%\n",
      "time elapsed: 2929(s), time left: 5428(s), estimated finish time: 23:54:14\n",
      "On 35.13%\n",
      "time elapsed: 2936(s), time left: 5421(s), estimated finish time: 23:54:15\n",
      "On 35.21%\n",
      "time elapsed: 2943(s), time left: 5414(s), estimated finish time: 23:54:15\n",
      "On 35.29%\n",
      "time elapsed: 2949(s), time left: 5408(s), estimated finish time: 23:54:15\n",
      "On 35.38%\n",
      "time elapsed: 2959(s), time left: 5406(s), estimated finish time: 23:54:22\n",
      "On 35.46%\n",
      "time elapsed: 2966(s), time left: 5399(s), estimated finish time: 23:54:22\n",
      "On 35.54%\n",
      "time elapsed: 2972(s), time left: 5391(s), estimated finish time: 23:54:21\n",
      "On 35.62%\n",
      "time elapsed: 2979(s), time left: 5385(s), estimated finish time: 23:54:22\n",
      "On 35.7%\n",
      "time elapsed: 2986(s), time left: 5378(s), estimated finish time: 23:54:22\n",
      "On 35.78%\n",
      "time elapsed: 2993(s), time left: 5372(s), estimated finish time: 23:54:23\n",
      "On 35.87%\n",
      "time elapsed: 3003(s), time left: 5370(s), estimated finish time: 23:54:31\n",
      "On 35.95%\n",
      "time elapsed: 3012(s), time left: 5367(s), estimated finish time: 23:54:37\n",
      "On 36.03%\n",
      "time elapsed: 3019(s), time left: 5360(s), estimated finish time: 23:54:37\n",
      "On 36.11%\n",
      "time elapsed: 3025(s), time left: 5352(s), estimated finish time: 23:54:35\n",
      "On 36.19%\n",
      "time elapsed: 3035(s), time left: 5350(s), estimated finish time: 23:54:43\n",
      "On 36.27%\n",
      "time elapsed: 3041(s), time left: 5343(s), estimated finish time: 23:54:41\n",
      "On 36.36%\n",
      "time elapsed: 3051(s), time left: 5341(s), estimated finish time: 23:54:49\n",
      "On 36.44%\n",
      "time elapsed: 3058(s), time left: 5335(s), estimated finish time: 23:54:51\n",
      "On 36.52%\n",
      "time elapsed: 3066(s), time left: 5329(s), estimated finish time: 23:54:53\n",
      "On 36.6%\n",
      "time elapsed: 3072(s), time left: 5322(s), estimated finish time: 23:54:53\n",
      "On 36.68%\n",
      "time elapsed: 3082(s), time left: 5320(s), estimated finish time: 23:54:59\n",
      "On 36.76%\n",
      "time elapsed: 3091(s), time left: 5317(s), estimated finish time: 23:55:06\n",
      "On 36.85%\n",
      "time elapsed: 3098(s), time left: 5310(s), estimated finish time: 23:55:06\n",
      "On 36.93%\n",
      "time elapsed: 3105(s), time left: 5304(s), estimated finish time: 23:55:07\n",
      "On 37.01%\n",
      "time elapsed: 3113(s), time left: 5298(s), estimated finish time: 23:55:09\n",
      "On 37.09%\n",
      "time elapsed: 3122(s), time left: 5296(s), estimated finish time: 23:55:16\n",
      "On 37.17%\n",
      "time elapsed: 3132(s), time left: 5294(s), estimated finish time: 23:55:24\n",
      "On 37.25%\n",
      "time elapsed: 3139(s), time left: 5286(s), estimated finish time: 23:55:23\n",
      "On 37.34%\n",
      "time elapsed: 3148(s), time left: 5284(s), estimated finish time: 23:55:31\n",
      "On 37.42%\n",
      "time elapsed: 3158(s), time left: 5281(s), estimated finish time: 23:55:37\n",
      "On 37.5%\n",
      "time elapsed: 3165(s), time left: 5275(s), estimated finish time: 23:55:38\n",
      "On 37.58%\n",
      "time elapsed: 3172(s), time left: 5268(s), estimated finish time: 23:55:38\n",
      "On 37.66%\n",
      "time elapsed: 3181(s), time left: 5265(s), estimated finish time: 23:55:44\n",
      "On 37.75%\n",
      "time elapsed: 3190(s), time left: 5261(s), estimated finish time: 23:55:49\n",
      "On 37.83%\n",
      "time elapsed: 3197(s), time left: 5255(s), estimated finish time: 23:55:50\n",
      "On 37.91%\n",
      "time elapsed: 3204(s), time left: 5249(s), estimated finish time: 23:55:51\n",
      "On 37.99%\n",
      "time elapsed: 3214(s), time left: 5246(s), estimated finish time: 23:55:57\n",
      "On 38.07%\n",
      "time elapsed: 3221(s), time left: 5239(s), estimated finish time: 23:55:58\n",
      "On 38.15%\n",
      "time elapsed: 3228(s), time left: 5234(s), estimated finish time: 23:56:00\n",
      "On 38.24%\n",
      "time elapsed: 3236(s), time left: 5227(s), estimated finish time: 23:56:01\n",
      "On 38.32%\n",
      "time elapsed: 3246(s), time left: 5226(s), estimated finish time: 23:56:10\n",
      "On 38.4%\n",
      "time elapsed: 3254(s), time left: 5221(s), estimated finish time: 23:56:14\n",
      "On 38.48%\n",
      "time elapsed: 3263(s), time left: 5216(s), estimated finish time: 23:56:17\n",
      "On 38.56%\n",
      "time elapsed: 3271(s), time left: 5212(s), estimated finish time: 23:56:21\n",
      "On 38.64%\n",
      "time elapsed: 3282(s), time left: 5211(s), estimated finish time: 23:56:30\n",
      "On 38.73%\n",
      "time elapsed: 3291(s), time left: 5207(s), estimated finish time: 23:56:36\n",
      "On 38.81%\n",
      "time elapsed: 3301(s), time left: 5206(s), estimated finish time: 23:56:45\n",
      "On 38.89%\n",
      "time elapsed: 3309(s), time left: 5200(s), estimated finish time: 23:56:46\n",
      "On 38.97%\n",
      "time elapsed: 3318(s), time left: 5197(s), estimated finish time: 23:56:53\n",
      "On 39.05%\n",
      "time elapsed: 3329(s), time left: 5195(s), estimated finish time: 23:57:02\n",
      "On 39.13%\n",
      "time elapsed: 3337(s), time left: 5191(s), estimated finish time: 23:57:06\n",
      "On 39.22%\n",
      "time elapsed: 3348(s), time left: 5189(s), estimated finish time: 23:57:15\n",
      "On 39.3%\n",
      "time elapsed: 3359(s), time left: 5189(s), estimated finish time: 23:57:26\n",
      "On 39.38%\n",
      "time elapsed: 3368(s), time left: 5186(s), estimated finish time: 23:57:32\n",
      "On 39.46%\n",
      "time elapsed: 3378(s), time left: 5183(s), estimated finish time: 23:57:39\n",
      "On 39.54%\n",
      "time elapsed: 3389(s), time left: 5181(s), estimated finish time: 23:57:48\n",
      "On 39.62%\n",
      "time elapsed: 3399(s), time left: 5180(s), estimated finish time: 23:57:57\n",
      "On 39.71%\n",
      "time elapsed: 3410(s), time left: 5178(s), estimated finish time: 23:58:05\n",
      "On 39.79%\n",
      "time elapsed: 3419(s), time left: 5174(s), estimated finish time: 23:58:11\n",
      "On 39.87%\n",
      "time elapsed: 3428(s), time left: 5170(s), estimated finish time: 23:58:15\n",
      "On 39.95%\n",
      "time elapsed: 3436(s), time left: 5165(s), estimated finish time: 23:58:19\n",
      "On 40.03%\n",
      "time elapsed: 3444(s), time left: 5159(s), estimated finish time: 23:58:22\n",
      "On 40.11%\n",
      "time elapsed: 3455(s), time left: 5158(s), estimated finish time: 23:58:30\n",
      "On 40.2%\n",
      "time elapsed: 3464(s), time left: 5154(s), estimated finish time: 23:58:36\n",
      "On 40.28%\n",
      "time elapsed: 3474(s), time left: 5151(s), estimated finish time: 23:58:42\n",
      "On 40.36%\n",
      "time elapsed: 3482(s), time left: 5146(s), estimated finish time: 23:58:46\n",
      "On 40.44%\n",
      "time elapsed: 3490(s), time left: 5141(s), estimated finish time: 23:58:49\n",
      "On 40.52%\n",
      "time elapsed: 3498(s), time left: 5134(s), estimated finish time: 23:58:50\n",
      "On 40.6%\n",
      "time elapsed: 3507(s), time left: 5130(s), estimated finish time: 23:58:54\n",
      "On 40.69%\n",
      "time elapsed: 3515(s), time left: 5124(s), estimated finish time: 23:58:57\n",
      "On 40.77%\n",
      "time elapsed: 3524(s), time left: 5120(s), estimated finish time: 23:59:01\n",
      "On 40.85%\n",
      "time elapsed: 3534(s), time left: 5118(s), estimated finish time: 23:59:10\n",
      "On 40.93%\n",
      "time elapsed: 3543(s), time left: 5114(s), estimated finish time: 23:59:15\n",
      "On 41.01%\n",
      "time elapsed: 3552(s), time left: 5108(s), estimated finish time: 23:59:18\n",
      "On 41.09%\n",
      "time elapsed: 3560(s), time left: 5103(s), estimated finish time: 23:59:21\n",
      "On 41.18%\n",
      "time elapsed: 3569(s), time left: 5098(s), estimated finish time: 23:59:25\n",
      "On 41.26%\n",
      "time elapsed: 3577(s), time left: 5093(s), estimated finish time: 23:59:28\n",
      "On 41.34%\n",
      "time elapsed: 3580(s), time left: 5080(s), estimated finish time: 23:59:19\n",
      "On 41.42%\n",
      "time elapsed: 3588(s), time left: 5075(s), estimated finish time: 23:59:21\n",
      "On 41.5%\n",
      "time elapsed: 3592(s), time left: 5062(s), estimated finish time: 23:59:12\n",
      "On 41.58%\n",
      "time elapsed: 3600(s), time left: 5057(s), estimated finish time: 23:59:15\n",
      "On 41.67%\n",
      "time elapsed: 3603(s), time left: 5044(s), estimated finish time: 23:59:05\n",
      "On 41.75%\n",
      "time elapsed: 3611(s), time left: 5039(s), estimated finish time: 23:59:08\n",
      "On 41.83%\n",
      "time elapsed: 3615(s), time left: 5027(s), estimated finish time: 23:59:00\n",
      "On 41.91%\n",
      "time elapsed: 3625(s), time left: 5024(s), estimated finish time: 23:59:07\n",
      "On 41.99%\n",
      "time elapsed: 3633(s), time left: 5018(s), estimated finish time: 23:59:08\n",
      "On 42.08%\n",
      "time elapsed: 3637(s), time left: 5007(s), estimated finish time: 23:59:01\n",
      "On 42.16%\n",
      "time elapsed: 3648(s), time left: 5006(s), estimated finish time: 23:59:12\n",
      "On 42.24%\n",
      "time elapsed: 3656(s), time left: 5000(s), estimated finish time: 23:59:15\n",
      "On 42.32%\n",
      "time elapsed: 3665(s), time left: 4995(s), estimated finish time: 23:59:17\n",
      "On 42.4%\n",
      "time elapsed: 3673(s), time left: 4989(s), estimated finish time: 23:59:20\n",
      "On 42.48%\n",
      "time elapsed: 3681(s), time left: 4983(s), estimated finish time: 23:59:22\n",
      "On 42.57%\n",
      "time elapsed: 3687(s), time left: 4976(s), estimated finish time: 23:59:21\n",
      "On 42.65%\n",
      "time elapsed: 3691(s), time left: 4964(s), estimated finish time: 23:59:13\n",
      "On 42.73%\n",
      "time elapsed: 3698(s), time left: 4957(s), estimated finish time: 23:59:12\n",
      "On 42.81%\n",
      "time elapsed: 3701(s), time left: 4945(s), estimated finish time: 23:59:04\n",
      "On 42.89%\n",
      "time elapsed: 3704(s), time left: 4932(s), estimated finish time: 23:58:55\n",
      "On 42.97%\n",
      "time elapsed: 3708(s), time left: 4921(s), estimated finish time: 23:58:47\n",
      "On 43.06%\n",
      "time elapsed: 3716(s), time left: 4915(s), estimated finish time: 23:58:50\n",
      "On 43.14%\n",
      "time elapsed: 3720(s), time left: 4904(s), estimated finish time: 23:58:41\n",
      "On 43.22%\n",
      "time elapsed: 3729(s), time left: 4899(s), estimated finish time: 23:58:46\n",
      "On 43.3%\n",
      "time elapsed: 3737(s), time left: 4894(s), estimated finish time: 23:58:49\n",
      "On 43.38%\n",
      "time elapsed: 3745(s), time left: 4888(s), estimated finish time: 23:58:51\n",
      "On 43.46%\n",
      "time elapsed: 3754(s), time left: 4883(s), estimated finish time: 23:58:54\n",
      "On 43.55%\n",
      "time elapsed: 3762(s), time left: 4878(s), estimated finish time: 23:58:58\n",
      "On 43.63%\n",
      "time elapsed: 3766(s), time left: 4866(s), estimated finish time: 23:58:50\n",
      "On 43.71%\n",
      "time elapsed: 3774(s), time left: 4860(s), estimated finish time: 23:58:51\n",
      "On 43.79%\n",
      "time elapsed: 3783(s), time left: 4856(s), estimated finish time: 23:58:57\n",
      "On 43.87%\n",
      "time elapsed: 3787(s), time left: 4845(s), estimated finish time: 23:58:50\n",
      "On 43.95%\n",
      "time elapsed: 3795(s), time left: 4839(s), estimated finish time: 23:58:52\n",
      "On 44.04%\n",
      "time elapsed: 3809(s), time left: 4840(s), estimated finish time: 23:59:07\n",
      "On 44.12%\n",
      "time elapsed: 3816(s), time left: 4834(s), estimated finish time: 23:59:09\n",
      "On 44.2%\n",
      "time elapsed: 3824(s), time left: 4828(s), estimated finish time: 23:59:10\n",
      "On 44.28%\n",
      "time elapsed: 3832(s), time left: 4822(s), estimated finish time: 23:59:12\n",
      "On 44.36%\n",
      "time elapsed: 3839(s), time left: 4815(s), estimated finish time: 23:59:11\n",
      "On 44.44%\n",
      "time elapsed: 3846(s), time left: 4807(s), estimated finish time: 23:59:11\n",
      "On 44.53%\n",
      "time elapsed: 3854(s), time left: 4802(s), estimated finish time: 23:59:15\n",
      "On 44.61%\n",
      "time elapsed: 3862(s), time left: 4796(s), estimated finish time: 23:59:15\n",
      "On 44.69%\n",
      "time elapsed: 3871(s), time left: 4791(s), estimated finish time: 23:59:19\n",
      "On 44.77%\n",
      "time elapsed: 3878(s), time left: 4784(s), estimated finish time: 23:59:20\n",
      "On 44.85%\n",
      "time elapsed: 3885(s), time left: 4777(s), estimated finish time: 23:59:20\n",
      "On 44.93%\n",
      "time elapsed: 3893(s), time left: 4771(s), estimated finish time: 23:59:22\n",
      "On 45.02%\n",
      "time elapsed: 3900(s), time left: 4764(s), estimated finish time: 23:59:22\n",
      "On 45.1%\n",
      "time elapsed: 3907(s), time left: 4757(s), estimated finish time: 23:59:22\n",
      "On 45.18%\n",
      "time elapsed: 3914(s), time left: 4750(s), estimated finish time: 23:59:22\n",
      "On 45.26%\n",
      "time elapsed: 3922(s), time left: 4743(s), estimated finish time: 23:59:24\n",
      "On 45.34%\n",
      "time elapsed: 3929(s), time left: 4737(s), estimated finish time: 23:59:24\n",
      "On 45.42%\n",
      "time elapsed: 3937(s), time left: 4730(s), estimated finish time: 23:59:25\n",
      "On 45.51%\n",
      "time elapsed: 3944(s), time left: 4723(s), estimated finish time: 23:59:25\n",
      "On 45.59%\n",
      "time elapsed: 3952(s), time left: 4717(s), estimated finish time: 23:59:27\n",
      "On 45.67%\n",
      "time elapsed: 3960(s), time left: 4710(s), estimated finish time: 23:59:28\n",
      "On 45.75%\n",
      "time elapsed: 3965(s), time left: 4702(s), estimated finish time: 23:59:25\n",
      "On 45.83%\n",
      "time elapsed: 3973(s), time left: 4695(s), estimated finish time: 23:59:26\n",
      "On 45.92%\n",
      "time elapsed: 3979(s), time left: 4687(s), estimated finish time: 23:59:23\n",
      "On 46.0%\n",
      "time elapsed: 3987(s), time left: 4682(s), estimated finish time: 23:59:27\n",
      "On 46.08%\n",
      "time elapsed: 3995(s), time left: 4676(s), estimated finish time: 23:59:29\n",
      "On 46.16%\n",
      "time elapsed: 4003(s), time left: 4669(s), estimated finish time: 23:59:29\n",
      "On 46.24%\n",
      "time elapsed: 4007(s), time left: 4659(s), estimated finish time: 23:59:24\n",
      "On 46.32%\n",
      "time elapsed: 4014(s), time left: 4652(s), estimated finish time: 23:59:24\n",
      "On 46.41%\n",
      "time elapsed: 4022(s), time left: 4645(s), estimated finish time: 23:59:26\n",
      "On 46.49%\n",
      "time elapsed: 4030(s), time left: 4639(s), estimated finish time: 23:59:27\n",
      "On 46.57%\n",
      "time elapsed: 4037(s), time left: 4632(s), estimated finish time: 23:59:27\n",
      "On 46.65%\n",
      "time elapsed: 4044(s), time left: 4625(s), estimated finish time: 23:59:27\n",
      "On 46.73%\n",
      "time elapsed: 4053(s), time left: 4620(s), estimated finish time: 23:59:30\n",
      "On 46.81%\n",
      "time elapsed: 4061(s), time left: 4614(s), estimated finish time: 23:59:34\n",
      "On 46.9%\n",
      "time elapsed: 4069(s), time left: 4608(s), estimated finish time: 23:59:35\n",
      "On 46.98%\n",
      "time elapsed: 4076(s), time left: 4601(s), estimated finish time: 23:59:35\n",
      "On 47.06%\n",
      "time elapsed: 4083(s), time left: 4594(s), estimated finish time: 23:59:35\n",
      "On 47.14%\n",
      "time elapsed: 4087(s), time left: 4583(s), estimated finish time: 23:59:28\n",
      "On 47.22%\n",
      "time elapsed: 4091(s), time left: 4572(s), estimated finish time: 23:59:20\n",
      "On 47.3%\n",
      "time elapsed: 4097(s), time left: 4564(s), estimated finish time: 23:59:19\n",
      "On 47.39%\n",
      "time elapsed: 4106(s), time left: 4559(s), estimated finish time: 23:59:22\n",
      "On 47.47%\n",
      "time elapsed: 4113(s), time left: 4552(s), estimated finish time: 23:59:22\n",
      "On 47.55%\n",
      "time elapsed: 4120(s), time left: 4544(s), estimated finish time: 23:59:22\n",
      "On 47.63%\n",
      "time elapsed: 4127(s), time left: 4538(s), estimated finish time: 23:59:23\n",
      "On 47.71%\n",
      "time elapsed: 4137(s), time left: 4534(s), estimated finish time: 23:59:28\n",
      "On 47.79%\n",
      "time elapsed: 4142(s), time left: 4525(s), estimated finish time: 23:59:25\n",
      "On 47.88%\n",
      "time elapsed: 4149(s), time left: 4518(s), estimated finish time: 23:59:25\n",
      "On 47.96%\n",
      "time elapsed: 4158(s), time left: 4512(s), estimated finish time: 23:59:27\n",
      "On 48.04%\n",
      "time elapsed: 4165(s), time left: 4505(s), estimated finish time: 23:59:28\n",
      "On 48.12%\n",
      "time elapsed: 4175(s), time left: 4501(s), estimated finish time: 23:59:33\n",
      "On 48.2%\n",
      "time elapsed: 4183(s), time left: 4495(s), estimated finish time: 23:59:37\n",
      "On 48.28%\n",
      "time elapsed: 4192(s), time left: 4490(s), estimated finish time: 23:59:39\n",
      "On 48.37%\n",
      "time elapsed: 4200(s), time left: 4484(s), estimated finish time: 23:59:43\n",
      "On 48.45%\n",
      "time elapsed: 4209(s), time left: 4479(s), estimated finish time: 23:59:46\n",
      "On 48.53%\n",
      "time elapsed: 4219(s), time left: 4475(s), estimated finish time: 23:59:52\n",
      "On 48.61%\n",
      "time elapsed: 4226(s), time left: 4468(s), estimated finish time: 23:59:52\n",
      "On 48.69%\n",
      "time elapsed: 4236(s), time left: 4463(s), estimated finish time: 23:59:57\n",
      "On 48.77%\n",
      "time elapsed: 4245(s), time left: 4459(s), estimated finish time: 00:00:02\n",
      "On 48.86%\n",
      "time elapsed: 4255(s), time left: 4455(s), estimated finish time: 00:00:08\n",
      "On 48.94%\n",
      "time elapsed: 4265(s), time left: 4450(s), estimated finish time: 00:00:13\n",
      "On 49.02%\n",
      "time elapsed: 4273(s), time left: 4444(s), estimated finish time: 00:00:14\n",
      "On 49.1%\n",
      "time elapsed: 4281(s), time left: 4438(s), estimated finish time: 00:00:17\n",
      "On 49.18%\n",
      "time elapsed: 4289(s), time left: 4432(s), estimated finish time: 00:00:19\n",
      "On 49.26%\n",
      "time elapsed: 4298(s), time left: 4426(s), estimated finish time: 00:00:22\n",
      "On 49.35%\n",
      "time elapsed: 4306(s), time left: 4420(s), estimated finish time: 00:00:24\n",
      "On 49.43%\n",
      "time elapsed: 4315(s), time left: 4414(s), estimated finish time: 00:00:27\n",
      "On 49.51%\n",
      "time elapsed: 4323(s), time left: 4409(s), estimated finish time: 00:00:29\n",
      "On 49.59%\n",
      "time elapsed: 4331(s), time left: 4403(s), estimated finish time: 00:00:32\n",
      "On 49.67%\n",
      "time elapsed: 4335(s), time left: 4392(s), estimated finish time: 00:00:26\n",
      "On 49.75%\n",
      "time elapsed: 4343(s), time left: 4385(s), estimated finish time: 00:00:26\n",
      "On 49.84%\n",
      "time elapsed: 4347(s), time left: 4375(s), estimated finish time: 00:00:20\n",
      "On 49.92%\n",
      "time elapsed: 4350(s), time left: 4365(s), estimated finish time: 00:00:13\n",
      "On 50.0%\n",
      "time elapsed: 4362(s), time left: 4362(s), estimated finish time: 00:00:22\n",
      "On 50.08%\n",
      "time elapsed: 4370(s), time left: 4356(s), estimated finish time: 00:00:25\n",
      "On 50.16%\n",
      "time elapsed: 4379(s), time left: 4350(s), estimated finish time: 00:00:27\n",
      "On 50.25%\n",
      "time elapsed: 4387(s), time left: 4344(s), estimated finish time: 00:00:29\n",
      "On 50.33%\n",
      "time elapsed: 4397(s), time left: 4340(s), estimated finish time: 00:00:35\n",
      "On 50.41%\n",
      "time elapsed: 4406(s), time left: 4335(s), estimated finish time: 00:00:38\n",
      "On 50.49%\n",
      "time elapsed: 4415(s), time left: 4329(s), estimated finish time: 00:00:42\n",
      "On 50.57%\n",
      "time elapsed: 4424(s), time left: 4324(s), estimated finish time: 00:00:45\n",
      "On 50.65%\n",
      "time elapsed: 4432(s), time left: 4317(s), estimated finish time: 00:00:47\n",
      "On 50.74%\n",
      "time elapsed: 4441(s), time left: 4312(s), estimated finish time: 00:00:52\n",
      "On 50.82%\n",
      "time elapsed: 4450(s), time left: 4307(s), estimated finish time: 00:00:55\n",
      "On 50.9%\n",
      "time elapsed: 4459(s), time left: 4301(s), estimated finish time: 00:00:58\n",
      "On 50.98%\n",
      "time elapsed: 4466(s), time left: 4295(s), estimated finish time: 00:00:59\n",
      "On 51.06%\n",
      "time elapsed: 4474(s), time left: 4288(s), estimated finish time: 00:01:00\n",
      "On 51.14%\n",
      "time elapsed: 4484(s), time left: 4283(s), estimated finish time: 00:01:05\n",
      "On 51.23%\n",
      "time elapsed: 4493(s), time left: 4278(s), estimated finish time: 00:01:08\n",
      "On 51.31%\n",
      "time elapsed: 4500(s), time left: 4271(s), estimated finish time: 00:01:09\n",
      "On 51.39%\n",
      "time elapsed: 4506(s), time left: 4262(s), estimated finish time: 00:01:07\n",
      "On 51.47%\n",
      "time elapsed: 4515(s), time left: 4257(s), estimated finish time: 00:01:10\n",
      "On 51.55%\n",
      "time elapsed: 4525(s), time left: 4253(s), estimated finish time: 00:01:16\n",
      "On 51.63%\n",
      "time elapsed: 4533(s), time left: 4246(s), estimated finish time: 00:01:18\n",
      "On 51.72%\n",
      "time elapsed: 4541(s), time left: 4240(s), estimated finish time: 00:01:19\n",
      "On 51.8%\n",
      "time elapsed: 4549(s), time left: 4233(s), estimated finish time: 00:01:20\n",
      "On 51.88%\n",
      "time elapsed: 4559(s), time left: 4229(s), estimated finish time: 00:01:26\n",
      "On 51.96%\n",
      "time elapsed: 4567(s), time left: 4223(s), estimated finish time: 00:01:28\n",
      "On 52.04%\n",
      "time elapsed: 4575(s), time left: 4216(s), estimated finish time: 00:01:29\n",
      "On 52.12%\n",
      "time elapsed: 4585(s), time left: 4211(s), estimated finish time: 00:01:34\n",
      "On 52.21%\n",
      "time elapsed: 4593(s), time left: 4205(s), estimated finish time: 00:01:36\n",
      "On 52.29%\n",
      "time elapsed: 4602(s), time left: 4199(s), estimated finish time: 00:01:39\n",
      "On 52.37%\n",
      "time elapsed: 4607(s), time left: 4190(s), estimated finish time: 00:01:34\n",
      "On 52.45%\n",
      "time elapsed: 4615(s), time left: 4184(s), estimated finish time: 00:01:37\n",
      "On 52.53%\n",
      "time elapsed: 4623(s), time left: 4177(s), estimated finish time: 00:01:39\n",
      "On 52.61%\n",
      "time elapsed: 4634(s), time left: 4174(s), estimated finish time: 00:01:46\n",
      "On 52.7%\n",
      "time elapsed: 4639(s), time left: 4165(s), estimated finish time: 00:01:42\n",
      "On 52.78%\n",
      "time elapsed: 4649(s), time left: 4160(s), estimated finish time: 00:01:47\n",
      "On 52.86%\n",
      "time elapsed: 4657(s), time left: 4154(s), estimated finish time: 00:01:49\n",
      "On 52.94%\n",
      "time elapsed: 4667(s), time left: 4148(s), estimated finish time: 00:01:53\n",
      "On 53.02%\n",
      "time elapsed: 4675(s), time left: 4142(s), estimated finish time: 00:01:55\n",
      "On 53.1%\n",
      "time elapsed: 4684(s), time left: 4136(s), estimated finish time: 00:01:58\n",
      "On 53.19%\n",
      "time elapsed: 4693(s), time left: 4130(s), estimated finish time: 00:02:01\n",
      "On 53.27%\n",
      "time elapsed: 4701(s), time left: 4124(s), estimated finish time: 00:02:04\n",
      "On 53.35%\n",
      "time elapsed: 4710(s), time left: 4119(s), estimated finish time: 00:02:07\n",
      "On 53.43%\n",
      "time elapsed: 4719(s), time left: 4113(s), estimated finish time: 00:02:09\n",
      "On 53.51%\n",
      "time elapsed: 4726(s), time left: 4106(s), estimated finish time: 00:02:10\n",
      "On 53.59%\n",
      "time elapsed: 4736(s), time left: 4100(s), estimated finish time: 00:02:14\n",
      "On 53.68%\n",
      "time elapsed: 4744(s), time left: 4094(s), estimated finish time: 00:02:16\n",
      "On 53.76%\n",
      "time elapsed: 4753(s), time left: 4089(s), estimated finish time: 00:02:20\n",
      "On 53.84%\n",
      "time elapsed: 4762(s), time left: 4083(s), estimated finish time: 00:02:23\n",
      "On 53.92%\n",
      "time elapsed: 4771(s), time left: 4077(s), estimated finish time: 00:02:26\n",
      "On 54.0%\n",
      "time elapsed: 4778(s), time left: 4070(s), estimated finish time: 00:02:26\n",
      "On 54.08%\n",
      "time elapsed: 4787(s), time left: 4064(s), estimated finish time: 00:02:29\n",
      "On 54.17%\n",
      "time elapsed: 4795(s), time left: 4057(s), estimated finish time: 00:02:30\n",
      "On 54.25%\n",
      "time elapsed: 4803(s), time left: 4050(s), estimated finish time: 00:02:31\n",
      "On 54.33%\n",
      "time elapsed: 4811(s), time left: 4044(s), estimated finish time: 00:02:33\n",
      "On 54.41%\n",
      "time elapsed: 4818(s), time left: 4037(s), estimated finish time: 00:02:33\n",
      "On 54.49%\n",
      "time elapsed: 4826(s), time left: 4030(s), estimated finish time: 00:02:34\n",
      "On 54.58%\n",
      "time elapsed: 4835(s), time left: 4024(s), estimated finish time: 00:02:38\n",
      "On 54.66%\n",
      "time elapsed: 4842(s), time left: 4017(s), estimated finish time: 00:02:38\n",
      "On 54.74%\n",
      "time elapsed: 4851(s), time left: 4011(s), estimated finish time: 00:02:39\n",
      "On 54.82%\n",
      "time elapsed: 4858(s), time left: 4003(s), estimated finish time: 00:02:39\n",
      "On 54.9%\n",
      "time elapsed: 4865(s), time left: 3996(s), estimated finish time: 00:02:40\n",
      "On 54.98%\n",
      "time elapsed: 4873(s), time left: 3990(s), estimated finish time: 00:02:41\n",
      "On 55.07%\n",
      "time elapsed: 4880(s), time left: 3982(s), estimated finish time: 00:02:40\n",
      "On 55.15%\n",
      "time elapsed: 4887(s), time left: 3975(s), estimated finish time: 00:02:41\n",
      "On 55.23%\n",
      "time elapsed: 4896(s), time left: 3969(s), estimated finish time: 00:02:43\n",
      "On 55.31%\n",
      "time elapsed: 4905(s), time left: 3963(s), estimated finish time: 00:02:46\n",
      "On 55.39%\n",
      "time elapsed: 4914(s), time left: 3958(s), estimated finish time: 00:02:50\n",
      "On 55.47%\n",
      "time elapsed: 4922(s), time left: 3950(s), estimated finish time: 00:02:50\n",
      "On 55.56%\n",
      "time elapsed: 4929(s), time left: 3943(s), estimated finish time: 00:02:50\n",
      "On 55.64%\n",
      "time elapsed: 4938(s), time left: 3937(s), estimated finish time: 00:02:53\n",
      "On 55.72%\n",
      "time elapsed: 4946(s), time left: 3931(s), estimated finish time: 00:02:55\n",
      "On 55.8%\n",
      "time elapsed: 4954(s), time left: 3924(s), estimated finish time: 00:02:56\n",
      "On 55.88%\n",
      "time elapsed: 4963(s), time left: 3918(s), estimated finish time: 00:03:00\n",
      "On 55.96%\n",
      "time elapsed: 4967(s), time left: 3909(s), estimated finish time: 00:02:54\n",
      "On 56.05%\n",
      "time elapsed: 4971(s), time left: 3898(s), estimated finish time: 00:02:47\n",
      "On 56.13%\n",
      "time elapsed: 4975(s), time left: 3889(s), estimated finish time: 00:02:41\n",
      "On 56.21%\n",
      "time elapsed: 4979(s), time left: 3879(s), estimated finish time: 00:02:36\n",
      "On 56.29%\n",
      "time elapsed: 4982(s), time left: 3869(s), estimated finish time: 00:02:29\n",
      "On 56.37%\n",
      "time elapsed: 4985(s), time left: 3858(s), estimated finish time: 00:02:21\n",
      "On 56.45%\n",
      "time elapsed: 4988(s), time left: 3848(s), estimated finish time: 00:02:14\n",
      "On 56.54%\n",
      "time elapsed: 4991(s), time left: 3837(s), estimated finish time: 00:02:06\n",
      "On 56.62%\n",
      "time elapsed: 4996(s), time left: 3828(s), estimated finish time: 00:02:01\n",
      "On 56.7%\n",
      "time elapsed: 5000(s), time left: 3818(s), estimated finish time: 00:01:56\n",
      "On 56.78%\n",
      "time elapsed: 5003(s), time left: 3808(s), estimated finish time: 00:01:50\n",
      "On 56.86%\n",
      "time elapsed: 5007(s), time left: 3798(s), estimated finish time: 00:01:43\n",
      "On 56.94%\n",
      "time elapsed: 5010(s), time left: 3788(s), estimated finish time: 00:01:36\n",
      "On 57.03%\n",
      "time elapsed: 5013(s), time left: 3778(s), estimated finish time: 00:01:29\n",
      "On 57.11%\n",
      "time elapsed: 5016(s), time left: 3768(s), estimated finish time: 00:01:22\n",
      "On 57.19%\n",
      "time elapsed: 5020(s), time left: 3758(s), estimated finish time: 00:01:15\n",
      "On 57.27%\n",
      "time elapsed: 5024(s), time left: 3748(s), estimated finish time: 00:01:10\n",
      "On 57.35%\n",
      "time elapsed: 5028(s), time left: 3738(s), estimated finish time: 00:01:04\n",
      "On 57.43%\n",
      "time elapsed: 5031(s), time left: 3728(s), estimated finish time: 00:00:57\n",
      "On 57.52%\n",
      "time elapsed: 5035(s), time left: 3719(s), estimated finish time: 00:00:53\n",
      "On 57.6%\n",
      "time elapsed: 5039(s), time left: 3709(s), estimated finish time: 00:00:46\n",
      "On 57.68%\n",
      "time elapsed: 5042(s), time left: 3699(s), estimated finish time: 00:00:40\n",
      "On 57.76%\n",
      "time elapsed: 5046(s), time left: 3690(s), estimated finish time: 00:00:33\n",
      "On 57.84%\n",
      "time elapsed: 5049(s), time left: 3680(s), estimated finish time: 00:00:27\n",
      "On 57.92%\n",
      "time elapsed: 5053(s), time left: 3671(s), estimated finish time: 00:00:22\n",
      "On 58.01%\n",
      "time elapsed: 5057(s), time left: 3661(s), estimated finish time: 00:00:15\n",
      "On 58.09%\n",
      "time elapsed: 5060(s), time left: 3651(s), estimated finish time: 00:00:08\n",
      "On 58.17%\n",
      "time elapsed: 5064(s), time left: 3641(s), estimated finish time: 00:00:03\n",
      "On 58.25%\n",
      "time elapsed: 5067(s), time left: 3632(s), estimated finish time: 23:59:57\n",
      "On 58.33%\n",
      "time elapsed: 5072(s), time left: 3623(s), estimated finish time: 23:59:52\n",
      "On 58.42%\n",
      "time elapsed: 5075(s), time left: 3613(s), estimated finish time: 23:59:46\n",
      "On 58.5%\n",
      "time elapsed: 5079(s), time left: 3603(s), estimated finish time: 23:59:41\n",
      "On 58.58%\n",
      "time elapsed: 5084(s), time left: 3594(s), estimated finish time: 23:59:36\n",
      "On 58.66%\n",
      "time elapsed: 5087(s), time left: 3585(s), estimated finish time: 23:59:30\n",
      "On 58.74%\n",
      "time elapsed: 5090(s), time left: 3575(s), estimated finish time: 23:59:23\n",
      "On 58.82%\n",
      "time elapsed: 5093(s), time left: 3565(s), estimated finish time: 23:59:16\n",
      "On 58.91%\n",
      "time elapsed: 5102(s), time left: 3559(s), estimated finish time: 23:59:19\n",
      "On 58.99%\n",
      "time elapsed: 5109(s), time left: 3552(s), estimated finish time: 23:59:19\n",
      "On 59.07%\n",
      "time elapsed: 5116(s), time left: 3545(s), estimated finish time: 23:59:19\n",
      "On 59.15%\n",
      "time elapsed: 5124(s), time left: 3538(s), estimated finish time: 23:59:20\n",
      "On 59.23%\n",
      "time elapsed: 5132(s), time left: 3532(s), estimated finish time: 23:59:21\n",
      "On 59.31%\n",
      "time elapsed: 5139(s), time left: 3525(s), estimated finish time: 23:59:23\n",
      "On 59.4%\n",
      "time elapsed: 5147(s), time left: 3519(s), estimated finish time: 23:59:24\n",
      "On 59.48%\n",
      "time elapsed: 5155(s), time left: 3512(s), estimated finish time: 23:59:25\n",
      "On 59.56%\n",
      "time elapsed: 5163(s), time left: 3506(s), estimated finish time: 23:59:26\n",
      "On 59.64%\n",
      "time elapsed: 5172(s), time left: 3500(s), estimated finish time: 23:59:30\n",
      "On 59.72%\n",
      "time elapsed: 5180(s), time left: 3493(s), estimated finish time: 23:59:31\n",
      "On 59.8%\n",
      "time elapsed: 5188(s), time left: 3487(s), estimated finish time: 23:59:33\n",
      "On 59.89%\n",
      "time elapsed: 5195(s), time left: 3480(s), estimated finish time: 23:59:33\n",
      "On 59.97%\n",
      "time elapsed: 5203(s), time left: 3473(s), estimated finish time: 23:59:33\n",
      "On 60.05%\n",
      "time elapsed: 5210(s), time left: 3466(s), estimated finish time: 23:59:35\n",
      "On 60.13%\n",
      "time elapsed: 5218(s), time left: 3460(s), estimated finish time: 23:59:36\n",
      "On 60.21%\n",
      "time elapsed: 5226(s), time left: 3453(s), estimated finish time: 23:59:37\n",
      "On 60.29%\n",
      "time elapsed: 5234(s), time left: 3447(s), estimated finish time: 23:59:38\n",
      "On 60.38%\n",
      "time elapsed: 5242(s), time left: 3440(s), estimated finish time: 23:59:40\n",
      "On 60.46%\n",
      "time elapsed: 5249(s), time left: 3433(s), estimated finish time: 23:59:40\n",
      "On 60.54%\n",
      "time elapsed: 5256(s), time left: 3426(s), estimated finish time: 23:59:39\n",
      "On 60.62%\n",
      "time elapsed: 5265(s), time left: 3420(s), estimated finish time: 23:59:43\n",
      "On 60.7%\n",
      "time elapsed: 5274(s), time left: 3414(s), estimated finish time: 23:59:45\n",
      "On 60.78%\n",
      "time elapsed: 5283(s), time left: 3408(s), estimated finish time: 23:59:49\n",
      "On 60.87%\n",
      "time elapsed: 5290(s), time left: 3401(s), estimated finish time: 23:59:50\n",
      "On 60.95%\n",
      "time elapsed: 5297(s), time left: 3394(s), estimated finish time: 23:59:50\n",
      "On 61.03%\n",
      "time elapsed: 5305(s), time left: 3387(s), estimated finish time: 23:59:50\n",
      "On 61.11%\n",
      "time elapsed: 5314(s), time left: 3381(s), estimated finish time: 23:59:53\n",
      "On 61.19%\n",
      "time elapsed: 5322(s), time left: 3375(s), estimated finish time: 23:59:55\n",
      "On 61.27%\n",
      "time elapsed: 5331(s), time left: 3369(s), estimated finish time: 23:59:58\n",
      "On 61.36%\n",
      "time elapsed: 5338(s), time left: 3362(s), estimated finish time: 23:59:58\n",
      "On 61.44%\n",
      "time elapsed: 5345(s), time left: 3355(s), estimated finish time: 23:59:58\n",
      "On 61.52%\n",
      "time elapsed: 5353(s), time left: 3348(s), estimated finish time: 00:00:00\n",
      "On 61.6%\n",
      "time elapsed: 5361(s), time left: 3342(s), estimated finish time: 00:00:01\n",
      "On 61.68%\n",
      "time elapsed: 5370(s), time left: 3335(s), estimated finish time: 00:00:03\n",
      "On 61.76%\n",
      "time elapsed: 5377(s), time left: 3328(s), estimated finish time: 00:00:03\n",
      "On 61.85%\n",
      "time elapsed: 5384(s), time left: 3321(s), estimated finish time: 00:00:03\n",
      "On 61.93%\n",
      "time elapsed: 5391(s), time left: 3314(s), estimated finish time: 00:00:03\n",
      "On 62.01%\n",
      "time elapsed: 5400(s), time left: 3308(s), estimated finish time: 00:00:07\n",
      "On 62.09%\n",
      "time elapsed: 5408(s), time left: 3301(s), estimated finish time: 00:00:07\n",
      "On 62.17%\n",
      "time elapsed: 5415(s), time left: 3294(s), estimated finish time: 00:00:07\n",
      "On 62.25%\n",
      "time elapsed: 5422(s), time left: 3287(s), estimated finish time: 00:00:07\n",
      "On 62.34%\n",
      "time elapsed: 5430(s), time left: 3280(s), estimated finish time: 00:00:08\n",
      "On 62.42%\n",
      "time elapsed: 5438(s), time left: 3274(s), estimated finish time: 00:00:10\n",
      "On 62.5%\n",
      "time elapsed: 5445(s), time left: 3267(s), estimated finish time: 00:00:10\n",
      "On 62.58%\n",
      "time elapsed: 5453(s), time left: 3260(s), estimated finish time: 00:00:11\n",
      "On 62.66%\n",
      "time elapsed: 5460(s), time left: 3253(s), estimated finish time: 00:00:11\n",
      "On 62.75%\n",
      "time elapsed: 5469(s), time left: 3247(s), estimated finish time: 00:00:13\n",
      "On 62.83%\n",
      "time elapsed: 5476(s), time left: 3240(s), estimated finish time: 00:00:14\n",
      "On 62.91%\n",
      "time elapsed: 5485(s), time left: 3234(s), estimated finish time: 00:00:16\n",
      "On 62.99%\n",
      "time elapsed: 5492(s), time left: 3227(s), estimated finish time: 00:00:17\n",
      "On 63.07%\n",
      "time elapsed: 5498(s), time left: 3219(s), estimated finish time: 00:00:15\n",
      "On 63.15%\n",
      "time elapsed: 5505(s), time left: 3212(s), estimated finish time: 00:00:15\n",
      "On 63.24%\n",
      "time elapsed: 5513(s), time left: 3205(s), estimated finish time: 00:00:16\n",
      "On 63.32%\n",
      "time elapsed: 5521(s), time left: 3198(s), estimated finish time: 00:00:18\n",
      "On 63.4%\n",
      "time elapsed: 5528(s), time left: 3191(s), estimated finish time: 00:00:17\n",
      "On 63.48%\n",
      "time elapsed: 5535(s), time left: 3184(s), estimated finish time: 00:00:17\n",
      "On 63.56%\n",
      "time elapsed: 5543(s), time left: 3178(s), estimated finish time: 00:00:19\n",
      "On 63.64%\n",
      "time elapsed: 5550(s), time left: 3170(s), estimated finish time: 00:00:19\n",
      "On 63.73%\n",
      "time elapsed: 5557(s), time left: 3163(s), estimated finish time: 00:00:18\n",
      "On 63.81%\n",
      "time elapsed: 5565(s), time left: 3156(s), estimated finish time: 00:00:19\n",
      "On 63.89%\n",
      "time elapsed: 5572(s), time left: 3149(s), estimated finish time: 00:00:19\n",
      "On 63.97%\n",
      "time elapsed: 5580(s), time left: 3143(s), estimated finish time: 00:00:20\n",
      "On 64.05%\n",
      "time elapsed: 5588(s), time left: 3136(s), estimated finish time: 00:00:22\n",
      "On 64.13%\n",
      "time elapsed: 5597(s), time left: 3130(s), estimated finish time: 00:00:24\n",
      "On 64.22%\n",
      "time elapsed: 5604(s), time left: 3123(s), estimated finish time: 00:00:25\n",
      "On 64.3%\n",
      "time elapsed: 5612(s), time left: 3116(s), estimated finish time: 00:00:26\n",
      "On 64.38%\n",
      "time elapsed: 5620(s), time left: 3109(s), estimated finish time: 00:00:27\n",
      "On 64.46%\n",
      "time elapsed: 5627(s), time left: 3102(s), estimated finish time: 00:00:27\n",
      "On 64.54%\n",
      "time elapsed: 5634(s), time left: 3095(s), estimated finish time: 00:00:27\n",
      "On 64.62%\n",
      "time elapsed: 5642(s), time left: 3088(s), estimated finish time: 00:00:29\n",
      "On 64.71%\n",
      "time elapsed: 5650(s), time left: 3081(s), estimated finish time: 00:00:29\n",
      "On 64.79%\n",
      "time elapsed: 5658(s), time left: 3075(s), estimated finish time: 00:00:31\n",
      "On 64.87%\n",
      "time elapsed: 5666(s), time left: 3068(s), estimated finish time: 00:00:33\n",
      "On 64.95%\n",
      "time elapsed: 5677(s), time left: 3063(s), estimated finish time: 00:00:38\n",
      "On 65.03%\n",
      "time elapsed: 5685(s), time left: 3057(s), estimated finish time: 00:00:40\n",
      "On 65.11%\n",
      "time elapsed: 5694(s), time left: 3050(s), estimated finish time: 00:00:43\n",
      "On 65.2%\n",
      "time elapsed: 5703(s), time left: 3044(s), estimated finish time: 00:00:45\n",
      "On 65.28%\n",
      "time elapsed: 5713(s), time left: 3039(s), estimated finish time: 00:00:49\n",
      "On 65.36%\n",
      "time elapsed: 5724(s), time left: 3033(s), estimated finish time: 00:00:55\n",
      "On 65.44%\n",
      "time elapsed: 5734(s), time left: 3028(s), estimated finish time: 00:00:59\n",
      "On 65.52%\n",
      "time elapsed: 5744(s), time left: 3022(s), estimated finish time: 00:01:04\n",
      "On 65.6%\n",
      "time elapsed: 5754(s), time left: 3016(s), estimated finish time: 00:01:08\n",
      "On 65.69%\n",
      "time elapsed: 5762(s), time left: 3010(s), estimated finish time: 00:01:09\n",
      "On 65.77%\n",
      "time elapsed: 5770(s), time left: 3003(s), estimated finish time: 00:01:11\n",
      "On 65.85%\n",
      "time elapsed: 5779(s), time left: 2997(s), estimated finish time: 00:01:14\n",
      "On 65.93%\n",
      "time elapsed: 5789(s), time left: 2991(s), estimated finish time: 00:01:18\n",
      "On 66.01%\n",
      "time elapsed: 5798(s), time left: 2985(s), estimated finish time: 00:01:21\n",
      "On 66.09%\n",
      "time elapsed: 5806(s), time left: 2978(s), estimated finish time: 00:01:22\n",
      "On 66.18%\n",
      "time elapsed: 5815(s), time left: 2972(s), estimated finish time: 00:01:25\n",
      "On 66.26%\n",
      "time elapsed: 5823(s), time left: 2965(s), estimated finish time: 00:01:27\n",
      "On 66.34%\n",
      "time elapsed: 5831(s), time left: 2958(s), estimated finish time: 00:01:28\n",
      "On 66.42%\n",
      "time elapsed: 5839(s), time left: 2952(s), estimated finish time: 00:01:29\n",
      "On 66.5%\n",
      "time elapsed: 5849(s), time left: 2946(s), estimated finish time: 00:01:33\n",
      "On 66.58%\n",
      "time elapsed: 5858(s), time left: 2939(s), estimated finish time: 00:01:35\n",
      "On 66.67%\n",
      "time elapsed: 5867(s), time left: 2933(s), estimated finish time: 00:01:39\n",
      "On 66.75%\n",
      "time elapsed: 5876(s), time left: 2927(s), estimated finish time: 00:01:41\n",
      "On 66.83%\n",
      "time elapsed: 5886(s), time left: 2921(s), estimated finish time: 00:01:45\n",
      "On 66.91%\n",
      "time elapsed: 5895(s), time left: 2915(s), estimated finish time: 00:01:48\n",
      "On 66.99%\n",
      "time elapsed: 5905(s), time left: 2909(s), estimated finish time: 00:01:52\n",
      "On 67.08%\n",
      "time elapsed: 5916(s), time left: 2904(s), estimated finish time: 00:01:57\n",
      "On 67.16%\n",
      "time elapsed: 5925(s), time left: 2897(s), estimated finish time: 00:02:00\n",
      "On 67.24%\n",
      "time elapsed: 5933(s), time left: 2891(s), estimated finish time: 00:02:02\n",
      "On 67.32%\n",
      "time elapsed: 5944(s), time left: 2885(s), estimated finish time: 00:02:07\n",
      "On 67.4%\n",
      "time elapsed: 5954(s), time left: 2879(s), estimated finish time: 00:02:11\n",
      "On 67.48%\n",
      "time elapsed: 5962(s), time left: 2872(s), estimated finish time: 00:02:12\n",
      "On 67.57%\n",
      "time elapsed: 5972(s), time left: 2867(s), estimated finish time: 00:02:17\n",
      "On 67.65%\n",
      "time elapsed: 5982(s), time left: 2861(s), estimated finish time: 00:02:21\n",
      "On 67.73%\n",
      "time elapsed: 5989(s), time left: 2854(s), estimated finish time: 00:02:21\n",
      "On 67.81%\n",
      "time elapsed: 5999(s), time left: 2847(s), estimated finish time: 00:02:24\n",
      "On 67.89%\n",
      "time elapsed: 6008(s), time left: 2841(s), estimated finish time: 00:02:28\n",
      "On 67.97%\n",
      "time elapsed: 6014(s), time left: 2833(s), estimated finish time: 00:02:26\n",
      "On 68.06%\n",
      "time elapsed: 6022(s), time left: 2826(s), estimated finish time: 00:02:26\n",
      "On 68.14%\n",
      "time elapsed: 6028(s), time left: 2819(s), estimated finish time: 00:02:24\n",
      "On 68.22%\n",
      "time elapsed: 6036(s), time left: 2812(s), estimated finish time: 00:02:26\n",
      "On 68.3%\n",
      "time elapsed: 6042(s), time left: 2804(s), estimated finish time: 00:02:24\n",
      "On 68.38%\n",
      "time elapsed: 6048(s), time left: 2796(s), estimated finish time: 00:02:21\n",
      "On 68.46%\n",
      "time elapsed: 6052(s), time left: 2787(s), estimated finish time: 00:02:17\n",
      "On 68.55%\n",
      "time elapsed: 6062(s), time left: 2781(s), estimated finish time: 00:02:21\n",
      "On 68.63%\n",
      "time elapsed: 6068(s), time left: 2774(s), estimated finish time: 00:02:20\n",
      "On 68.71%\n",
      "time elapsed: 6074(s), time left: 2766(s), estimated finish time: 00:02:18\n",
      "On 68.79%\n",
      "time elapsed: 6081(s), time left: 2758(s), estimated finish time: 00:02:17\n",
      "On 68.87%\n",
      "time elapsed: 6088(s), time left: 2751(s), estimated finish time: 00:02:17\n",
      "On 68.95%\n",
      "time elapsed: 6098(s), time left: 2745(s), estimated finish time: 00:02:21\n",
      "On 69.04%\n",
      "time elapsed: 6104(s), time left: 2737(s), estimated finish time: 00:02:19\n",
      "On 69.12%\n",
      "time elapsed: 6109(s), time left: 2729(s), estimated finish time: 00:02:17\n",
      "On 69.2%\n",
      "time elapsed: 6116(s), time left: 2722(s), estimated finish time: 00:02:15\n",
      "On 69.28%\n",
      "time elapsed: 6125(s), time left: 2716(s), estimated finish time: 00:02:19\n",
      "On 69.36%\n",
      "time elapsed: 6129(s), time left: 2707(s), estimated finish time: 00:02:15\n",
      "On 69.44%\n",
      "time elapsed: 6135(s), time left: 2699(s), estimated finish time: 00:02:12\n",
      "On 69.53%\n",
      "time elapsed: 6141(s), time left: 2691(s), estimated finish time: 00:02:10\n",
      "On 69.61%\n",
      "time elapsed: 6148(s), time left: 2684(s), estimated finish time: 00:02:09\n",
      "On 69.69%\n",
      "time elapsed: 6157(s), time left: 2678(s), estimated finish time: 00:02:13\n",
      "On 69.77%\n",
      "time elapsed: 6165(s), time left: 2671(s), estimated finish time: 00:02:13\n",
      "On 69.85%\n",
      "time elapsed: 6173(s), time left: 2664(s), estimated finish time: 00:02:15\n",
      "On 69.93%\n",
      "time elapsed: 6182(s), time left: 2658(s), estimated finish time: 00:02:18\n",
      "On 70.02%\n",
      "time elapsed: 6189(s), time left: 2650(s), estimated finish time: 00:02:17\n",
      "On 70.1%\n",
      "time elapsed: 6199(s), time left: 2644(s), estimated finish time: 00:02:20\n",
      "On 70.18%\n",
      "time elapsed: 6206(s), time left: 2637(s), estimated finish time: 00:02:20\n",
      "On 70.26%\n",
      "time elapsed: 6212(s), time left: 2629(s), estimated finish time: 00:02:20\n",
      "On 70.34%\n",
      "time elapsed: 6217(s), time left: 2621(s), estimated finish time: 00:02:15\n",
      "On 70.42%\n",
      "time elapsed: 6225(s), time left: 2614(s), estimated finish time: 00:02:16\n",
      "On 70.51%\n",
      "time elapsed: 6233(s), time left: 2607(s), estimated finish time: 00:02:18\n",
      "On 70.59%\n",
      "time elapsed: 6240(s), time left: 2600(s), estimated finish time: 00:02:17\n",
      "On 70.67%\n",
      "time elapsed: 6249(s), time left: 2593(s), estimated finish time: 00:02:19\n",
      "On 70.75%\n",
      "time elapsed: 6256(s), time left: 2586(s), estimated finish time: 00:02:20\n",
      "On 70.83%\n",
      "time elapsed: 6260(s), time left: 2577(s), estimated finish time: 00:02:16\n",
      "On 70.92%\n",
      "time elapsed: 6276(s), time left: 2574(s), estimated finish time: 00:02:28\n",
      "On 71.0%\n",
      "time elapsed: 6280(s), time left: 2565(s), estimated finish time: 00:02:23\n",
      "On 71.08%\n",
      "time elapsed: 6284(s), time left: 2557(s), estimated finish time: 00:02:19\n",
      "On 71.16%\n",
      "time elapsed: 6292(s), time left: 2550(s), estimated finish time: 00:02:20\n",
      "On 71.24%\n",
      "time elapsed: 6301(s), time left: 2543(s), estimated finish time: 00:02:22\n",
      "On 71.32%\n",
      "time elapsed: 6312(s), time left: 2538(s), estimated finish time: 00:02:28\n",
      "On 71.41%\n",
      "time elapsed: 6316(s), time left: 2529(s), estimated finish time: 00:02:22\n",
      "On 71.49%\n",
      "time elapsed: 6322(s), time left: 2521(s), estimated finish time: 00:02:22\n",
      "On 71.57%\n",
      "time elapsed: 6327(s), time left: 2513(s), estimated finish time: 00:02:18\n",
      "On 71.65%\n",
      "time elapsed: 6330(s), time left: 2504(s), estimated finish time: 00:02:12\n",
      "On 71.73%\n",
      "time elapsed: 6340(s), time left: 2498(s), estimated finish time: 00:02:16\n",
      "On 71.81%\n",
      "time elapsed: 6349(s), time left: 2491(s), estimated finish time: 00:02:18\n",
      "On 71.9%\n",
      "time elapsed: 6352(s), time left: 2483(s), estimated finish time: 00:02:12\n",
      "On 71.98%\n",
      "time elapsed: 6360(s), time left: 2476(s), estimated finish time: 00:02:14\n",
      "On 72.06%\n",
      "time elapsed: 6369(s), time left: 2469(s), estimated finish time: 00:02:16\n",
      "On 72.14%\n",
      "time elapsed: 6376(s), time left: 2462(s), estimated finish time: 00:02:16\n",
      "On 72.22%\n",
      "time elapsed: 6385(s), time left: 2455(s), estimated finish time: 00:02:18\n",
      "On 72.3%\n",
      "time elapsed: 6393(s), time left: 2449(s), estimated finish time: 00:02:20\n",
      "On 72.39%\n",
      "time elapsed: 6401(s), time left: 2441(s), estimated finish time: 00:02:20\n",
      "On 72.47%\n",
      "time elapsed: 6409(s), time left: 2435(s), estimated finish time: 00:02:21\n",
      "On 72.55%\n",
      "time elapsed: 6418(s), time left: 2428(s), estimated finish time: 00:02:23\n",
      "On 72.63%\n",
      "time elapsed: 6427(s), time left: 2422(s), estimated finish time: 00:02:27\n",
      "On 72.71%\n",
      "time elapsed: 6431(s), time left: 2413(s), estimated finish time: 00:02:22\n",
      "On 72.79%\n",
      "time elapsed: 6439(s), time left: 2406(s), estimated finish time: 00:02:23\n",
      "On 72.88%\n",
      "time elapsed: 6448(s), time left: 2400(s), estimated finish time: 00:02:26\n",
      "On 72.96%\n",
      "time elapsed: 6457(s), time left: 2393(s), estimated finish time: 00:02:28\n",
      "On 73.04%\n",
      "time elapsed: 6460(s), time left: 2384(s), estimated finish time: 00:02:22\n",
      "On 73.12%\n",
      "time elapsed: 6465(s), time left: 2376(s), estimated finish time: 00:02:19\n",
      "On 73.2%\n",
      "time elapsed: 6473(s), time left: 2369(s), estimated finish time: 00:02:20\n",
      "On 73.28%\n",
      "time elapsed: 6482(s), time left: 2363(s), estimated finish time: 00:02:23\n",
      "On 73.37%\n",
      "time elapsed: 6489(s), time left: 2356(s), estimated finish time: 00:02:23\n",
      "On 73.45%\n",
      "time elapsed: 6500(s), time left: 2350(s), estimated finish time: 00:02:28\n",
      "On 73.53%\n",
      "time elapsed: 6504(s), time left: 2341(s), estimated finish time: 00:02:23\n",
      "On 73.61%\n",
      "time elapsed: 6507(s), time left: 2332(s), estimated finish time: 00:02:17\n",
      "On 73.69%\n",
      "time elapsed: 6510(s), time left: 2324(s), estimated finish time: 00:02:12\n",
      "On 73.77%\n",
      "time elapsed: 6515(s), time left: 2316(s), estimated finish time: 00:02:08\n",
      "On 73.86%\n",
      "time elapsed: 6518(s), time left: 2307(s), estimated finish time: 00:02:03\n",
      "On 73.94%\n",
      "time elapsed: 6522(s), time left: 2299(s), estimated finish time: 00:01:59\n",
      "On 74.02%\n",
      "time elapsed: 6526(s), time left: 2290(s), estimated finish time: 00:01:54\n",
      "On 74.1%\n",
      "time elapsed: 6528(s), time left: 2281(s), estimated finish time: 00:01:48\n",
      "On 74.18%\n",
      "time elapsed: 6532(s), time left: 2273(s), estimated finish time: 00:01:42\n",
      "On 74.26%\n",
      "time elapsed: 6535(s), time left: 2264(s), estimated finish time: 00:01:37\n",
      "On 74.35%\n",
      "time elapsed: 6544(s), time left: 2258(s), estimated finish time: 00:01:39\n",
      "On 74.43%\n",
      "time elapsed: 6548(s), time left: 2249(s), estimated finish time: 00:01:35\n",
      "On 74.51%\n",
      "time elapsed: 6551(s), time left: 2241(s), estimated finish time: 00:01:29\n",
      "On 74.59%\n",
      "time elapsed: 6554(s), time left: 2232(s), estimated finish time: 00:01:24\n",
      "On 74.67%\n",
      "time elapsed: 6557(s), time left: 2224(s), estimated finish time: 00:01:18\n",
      "On 74.75%\n",
      "time elapsed: 6560(s), time left: 2215(s), estimated finish time: 00:01:13\n",
      "On 74.84%\n",
      "time elapsed: 6564(s), time left: 2207(s), estimated finish time: 00:01:08\n",
      "On 74.92%\n",
      "time elapsed: 6566(s), time left: 2198(s), estimated finish time: 00:01:02\n",
      "On 75.0%\n",
      "time elapsed: 6569(s), time left: 2189(s), estimated finish time: 00:00:57\n",
      "On 75.08%\n",
      "time elapsed: 6574(s), time left: 2181(s), estimated finish time: 00:00:53\n",
      "On 75.16%\n",
      "time elapsed: 6578(s), time left: 2173(s), estimated finish time: 00:00:49\n",
      "On 75.25%\n",
      "time elapsed: 6581(s), time left: 2165(s), estimated finish time: 00:00:43\n",
      "On 75.33%\n",
      "time elapsed: 6586(s), time left: 2157(s), estimated finish time: 00:00:41\n",
      "On 75.41%\n",
      "time elapsed: 6595(s), time left: 2150(s), estimated finish time: 00:00:43\n",
      "On 75.49%\n",
      "time elapsed: 6598(s), time left: 2142(s), estimated finish time: 00:00:38\n",
      "On 75.57%\n",
      "time elapsed: 6603(s), time left: 2134(s), estimated finish time: 00:00:35\n",
      "On 75.65%\n",
      "time elapsed: 6606(s), time left: 2126(s), estimated finish time: 00:00:30\n",
      "On 75.74%\n",
      "time elapsed: 6610(s), time left: 2117(s), estimated finish time: 00:00:25\n",
      "On 75.82%\n",
      "time elapsed: 6613(s), time left: 2109(s), estimated finish time: 00:00:20\n",
      "On 75.9%\n",
      "time elapsed: 6617(s), time left: 2101(s), estimated finish time: 00:00:16\n",
      "On 75.98%\n",
      "time elapsed: 6621(s), time left: 2093(s), estimated finish time: 00:00:12\n",
      "On 76.06%\n",
      "time elapsed: 6625(s), time left: 2085(s), estimated finish time: 00:00:07\n",
      "On 76.14%\n",
      "time elapsed: 6628(s), time left: 2076(s), estimated finish time: 00:00:02\n",
      "On 76.23%\n",
      "time elapsed: 6631(s), time left: 2068(s), estimated finish time: 23:59:57\n",
      "On 76.31%\n",
      "time elapsed: 6636(s), time left: 2060(s), estimated finish time: 23:59:54\n",
      "On 76.39%\n",
      "time elapsed: 6641(s), time left: 2052(s), estimated finish time: 23:59:52\n",
      "On 76.47%\n",
      "time elapsed: 6644(s), time left: 2044(s), estimated finish time: 23:59:46\n",
      "On 76.55%\n",
      "time elapsed: 6648(s), time left: 2036(s), estimated finish time: 23:59:42\n",
      "On 76.63%\n",
      "time elapsed: 6657(s), time left: 2029(s), estimated finish time: 23:59:45\n",
      "On 76.72%\n",
      "time elapsed: 6666(s), time left: 2023(s), estimated finish time: 23:59:46\n",
      "On 76.8%\n",
      "time elapsed: 6674(s), time left: 2016(s), estimated finish time: 23:59:48\n",
      "On 76.88%\n",
      "time elapsed: 6683(s), time left: 2009(s), estimated finish time: 23:59:50\n",
      "On 76.96%\n",
      "time elapsed: 6691(s), time left: 2003(s), estimated finish time: 23:59:52\n",
      "On 77.04%\n",
      "time elapsed: 6700(s), time left: 1996(s), estimated finish time: 23:59:53\n",
      "On 77.12%\n",
      "time elapsed: 6707(s), time left: 1989(s), estimated finish time: 23:59:54\n",
      "On 77.21%\n",
      "time elapsed: 6717(s), time left: 1983(s), estimated finish time: 23:59:58\n",
      "On 77.29%\n",
      "time elapsed: 6726(s), time left: 1976(s), estimated finish time: 00:00:00\n",
      "On 77.37%\n",
      "time elapsed: 6736(s), time left: 1970(s), estimated finish time: 00:00:04\n",
      "On 77.45%\n",
      "time elapsed: 6739(s), time left: 1962(s), estimated finish time: 23:59:59\n",
      "On 77.53%\n",
      "time elapsed: 6743(s), time left: 1954(s), estimated finish time: 23:59:54\n",
      "On 77.61%\n",
      "time elapsed: 6752(s), time left: 1947(s), estimated finish time: 23:59:57\n",
      "On 77.7%\n",
      "time elapsed: 6761(s), time left: 1941(s), estimated finish time: 00:00:00\n",
      "On 77.78%\n",
      "time elapsed: 6771(s), time left: 1934(s), estimated finish time: 00:00:03\n",
      "On 77.86%\n",
      "time elapsed: 6775(s), time left: 1926(s), estimated finish time: 23:59:59\n",
      "On 77.94%\n",
      "time elapsed: 6778(s), time left: 1918(s), estimated finish time: 23:59:54\n",
      "On 78.02%\n",
      "time elapsed: 6782(s), time left: 1910(s), estimated finish time: 23:59:49\n",
      "On 78.1%\n",
      "time elapsed: 6792(s), time left: 1904(s), estimated finish time: 23:59:54\n",
      "On 78.19%\n",
      "time elapsed: 6800(s), time left: 1897(s), estimated finish time: 23:59:55\n",
      "On 78.27%\n",
      "time elapsed: 6809(s), time left: 1890(s), estimated finish time: 23:59:58\n",
      "On 78.35%\n",
      "time elapsed: 6818(s), time left: 1884(s), estimated finish time: 00:00:00\n",
      "On 78.43%\n",
      "time elapsed: 6827(s), time left: 1877(s), estimated finish time: 00:00:02\n",
      "On 78.51%\n",
      "time elapsed: 6836(s), time left: 1871(s), estimated finish time: 00:00:05\n",
      "On 78.59%\n",
      "time elapsed: 6844(s), time left: 1864(s), estimated finish time: 00:00:06\n",
      "On 78.68%\n",
      "time elapsed: 6848(s), time left: 1856(s), estimated finish time: 00:00:02\n",
      "On 78.76%\n",
      "time elapsed: 6851(s), time left: 1847(s), estimated finish time: 23:59:57\n",
      "On 78.84%\n",
      "time elapsed: 6854(s), time left: 1839(s), estimated finish time: 23:59:52\n",
      "On 78.92%\n",
      "time elapsed: 6858(s), time left: 1831(s), estimated finish time: 23:59:48\n",
      "On 79.0%\n",
      "time elapsed: 6868(s), time left: 1825(s), estimated finish time: 23:59:51\n",
      "On 79.08%\n",
      "time elapsed: 6876(s), time left: 1818(s), estimated finish time: 23:59:52\n",
      "On 79.17%\n",
      "time elapsed: 6879(s), time left: 1810(s), estimated finish time: 23:59:47\n",
      "On 79.25%\n",
      "time elapsed: 6887(s), time left: 1803(s), estimated finish time: 23:59:48\n",
      "On 79.33%\n",
      "time elapsed: 6897(s), time left: 1797(s), estimated finish time: 23:59:51\n",
      "On 79.41%\n",
      "time elapsed: 6900(s), time left: 1789(s), estimated finish time: 23:59:47\n",
      "On 79.49%\n",
      "time elapsed: 6908(s), time left: 1782(s), estimated finish time: 23:59:48\n",
      "On 79.58%\n",
      "time elapsed: 6917(s), time left: 1775(s), estimated finish time: 23:59:50\n",
      "On 79.66%\n",
      "time elapsed: 6924(s), time left: 1768(s), estimated finish time: 23:59:50\n",
      "On 79.74%\n",
      "time elapsed: 6932(s), time left: 1761(s), estimated finish time: 23:59:51\n",
      "On 79.82%\n",
      "time elapsed: 6940(s), time left: 1754(s), estimated finish time: 23:59:53\n",
      "On 79.9%\n",
      "time elapsed: 6948(s), time left: 1747(s), estimated finish time: 23:59:53\n",
      "On 79.98%\n",
      "time elapsed: 6955(s), time left: 1740(s), estimated finish time: 23:59:53\n",
      "On 80.07%\n",
      "time elapsed: 6963(s), time left: 1733(s), estimated finish time: 23:59:54\n",
      "On 80.15%\n",
      "time elapsed: 6972(s), time left: 1727(s), estimated finish time: 23:59:56\n",
      "On 80.23%\n",
      "time elapsed: 6979(s), time left: 1720(s), estimated finish time: 23:59:56\n",
      "On 80.31%\n",
      "time elapsed: 6987(s), time left: 1713(s), estimated finish time: 23:59:58\n",
      "On 80.39%\n",
      "time elapsed: 6995(s), time left: 1706(s), estimated finish time: 23:59:59\n",
      "On 80.47%\n",
      "time elapsed: 7003(s), time left: 1699(s), estimated finish time: 00:00:00\n",
      "On 80.56%\n",
      "time elapsed: 7012(s), time left: 1692(s), estimated finish time: 00:00:03\n",
      "On 80.64%\n",
      "time elapsed: 7020(s), time left: 1685(s), estimated finish time: 00:00:04\n",
      "On 80.72%\n",
      "time elapsed: 7029(s), time left: 1679(s), estimated finish time: 00:00:06\n",
      "On 80.8%\n",
      "time elapsed: 7037(s), time left: 1672(s), estimated finish time: 00:00:07\n",
      "On 80.88%\n",
      "time elapsed: 7044(s), time left: 1665(s), estimated finish time: 00:00:07\n",
      "On 80.96%\n",
      "time elapsed: 7052(s), time left: 1658(s), estimated finish time: 00:00:07\n",
      "On 81.05%\n",
      "time elapsed: 7059(s), time left: 1651(s), estimated finish time: 00:00:07\n",
      "On 81.13%\n",
      "time elapsed: 7066(s), time left: 1643(s), estimated finish time: 00:00:08\n",
      "On 81.21%\n",
      "time elapsed: 7075(s), time left: 1637(s), estimated finish time: 00:00:10\n",
      "On 81.29%\n",
      "time elapsed: 7083(s), time left: 1630(s), estimated finish time: 00:00:11\n",
      "On 81.37%\n",
      "time elapsed: 7092(s), time left: 1623(s), estimated finish time: 00:00:13\n",
      "On 81.45%\n",
      "time elapsed: 7100(s), time left: 1616(s), estimated finish time: 00:00:14\n",
      "On 81.54%\n",
      "time elapsed: 7108(s), time left: 1609(s), estimated finish time: 00:00:15\n",
      "On 81.62%\n",
      "time elapsed: 7115(s), time left: 1602(s), estimated finish time: 00:00:15\n",
      "On 81.7%\n",
      "time elapsed: 7122(s), time left: 1595(s), estimated finish time: 00:00:15\n",
      "On 81.78%\n",
      "time elapsed: 7131(s), time left: 1588(s), estimated finish time: 00:00:17\n",
      "On 81.86%\n",
      "time elapsed: 7139(s), time left: 1581(s), estimated finish time: 00:00:19\n",
      "On 81.94%\n",
      "time elapsed: 7147(s), time left: 1574(s), estimated finish time: 00:00:20\n",
      "On 82.03%\n",
      "time elapsed: 7155(s), time left: 1568(s), estimated finish time: 00:00:21\n",
      "On 82.11%\n",
      "time elapsed: 7163(s), time left: 1560(s), estimated finish time: 00:00:21\n",
      "On 82.19%\n",
      "time elapsed: 7170(s), time left: 1553(s), estimated finish time: 00:00:21\n",
      "On 82.27%\n",
      "time elapsed: 7178(s), time left: 1546(s), estimated finish time: 00:00:22\n",
      "On 82.35%\n",
      "time elapsed: 7186(s), time left: 1539(s), estimated finish time: 00:00:23\n",
      "On 82.43%\n",
      "time elapsed: 7188(s), time left: 1531(s), estimated finish time: 00:00:18\n",
      "On 82.52%\n",
      "time elapsed: 7197(s), time left: 1524(s), estimated finish time: 00:00:19\n",
      "On 82.6%\n",
      "time elapsed: 7199(s), time left: 1516(s), estimated finish time: 00:00:14\n",
      "On 82.68%\n",
      "time elapsed: 7202(s), time left: 1508(s), estimated finish time: 00:00:08\n",
      "On 82.76%\n",
      "time elapsed: 7205(s), time left: 1500(s), estimated finish time: 00:00:03\n",
      "On 82.84%\n",
      "time elapsed: 7208(s), time left: 1492(s), estimated finish time: 23:59:59\n",
      "On 82.92%\n",
      "time elapsed: 7211(s), time left: 1484(s), estimated finish time: 23:59:53\n",
      "On 83.01%\n",
      "time elapsed: 7213(s), time left: 1476(s), estimated finish time: 23:59:48\n",
      "On 83.09%\n",
      "time elapsed: 7222(s), time left: 1470(s), estimated finish time: 23:59:50\n",
      "On 83.17%\n",
      "time elapsed: 7225(s), time left: 1462(s), estimated finish time: 23:59:45\n",
      "On 83.25%\n",
      "time elapsed: 7228(s), time left: 1454(s), estimated finish time: 23:59:39\n",
      "On 83.33%\n",
      "time elapsed: 7230(s), time left: 1446(s), estimated finish time: 23:59:34\n",
      "On 83.42%\n",
      "time elapsed: 7233(s), time left: 1438(s), estimated finish time: 23:59:29\n",
      "On 83.5%\n",
      "time elapsed: 7243(s), time left: 1431(s), estimated finish time: 23:59:33\n",
      "On 83.58%\n",
      "time elapsed: 7251(s), time left: 1424(s), estimated finish time: 23:59:34\n",
      "On 83.66%\n",
      "time elapsed: 7254(s), time left: 1416(s), estimated finish time: 23:59:28\n",
      "On 83.74%\n",
      "time elapsed: 7261(s), time left: 1409(s), estimated finish time: 23:59:29\n",
      "On 83.82%\n",
      "time elapsed: 7264(s), time left: 1401(s), estimated finish time: 23:59:23\n",
      "On 83.91%\n",
      "time elapsed: 7267(s), time left: 1393(s), estimated finish time: 23:59:18\n",
      "On 83.99%\n",
      "time elapsed: 7270(s), time left: 1386(s), estimated finish time: 23:59:13\n",
      "On 84.07%\n",
      "time elapsed: 7273(s), time left: 1378(s), estimated finish time: 23:59:08\n",
      "On 84.15%\n",
      "time elapsed: 7275(s), time left: 1370(s), estimated finish time: 23:59:03\n",
      "On 84.23%\n",
      "time elapsed: 7283(s), time left: 1363(s), estimated finish time: 23:59:04\n",
      "On 84.31%\n",
      "time elapsed: 7292(s), time left: 1356(s), estimated finish time: 23:59:06\n",
      "On 84.4%\n",
      "time elapsed: 7294(s), time left: 1348(s), estimated finish time: 23:59:00\n",
      "On 84.48%\n",
      "time elapsed: 7296(s), time left: 1340(s), estimated finish time: 23:58:55\n",
      "On 84.56%\n",
      "time elapsed: 7299(s), time left: 1333(s), estimated finish time: 23:58:50\n",
      "On 84.64%\n",
      "time elapsed: 7307(s), time left: 1326(s), estimated finish time: 23:58:51\n",
      "On 84.72%\n",
      "time elapsed: 7310(s), time left: 1318(s), estimated finish time: 23:58:46\n",
      "On 84.8%\n",
      "time elapsed: 7312(s), time left: 1310(s), estimated finish time: 23:58:40\n",
      "On 84.89%\n",
      "time elapsed: 7321(s), time left: 1303(s), estimated finish time: 23:58:42\n",
      "On 84.97%\n",
      "time elapsed: 7324(s), time left: 1295(s), estimated finish time: 23:58:37\n",
      "On 85.05%\n",
      "time elapsed: 7326(s), time left: 1287(s), estimated finish time: 23:58:31\n",
      "On 85.13%\n",
      "time elapsed: 7329(s), time left: 1280(s), estimated finish time: 23:58:27\n",
      "On 85.21%\n",
      "time elapsed: 7332(s), time left: 1272(s), estimated finish time: 23:58:22\n",
      "On 85.29%\n",
      "time elapsed: 7335(s), time left: 1264(s), estimated finish time: 23:58:17\n",
      "On 85.38%\n",
      "time elapsed: 7342(s), time left: 1257(s), estimated finish time: 23:58:17\n",
      "On 85.46%\n",
      "time elapsed: 7350(s), time left: 1250(s), estimated finish time: 23:58:18\n",
      "On 85.54%\n",
      "time elapsed: 7357(s), time left: 1243(s), estimated finish time: 23:58:18\n",
      "On 85.62%\n",
      "time elapsed: 7364(s), time left: 1236(s), estimated finish time: 23:58:18\n",
      "On 85.7%\n",
      "time elapsed: 7371(s), time left: 1229(s), estimated finish time: 23:58:18\n",
      "On 85.78%\n",
      "time elapsed: 7378(s), time left: 1222(s), estimated finish time: 23:58:19\n",
      "On 85.87%\n",
      "time elapsed: 7385(s), time left: 1215(s), estimated finish time: 23:58:18\n",
      "On 85.95%\n",
      "time elapsed: 7392(s), time left: 1208(s), estimated finish time: 23:58:18\n",
      "On 86.03%\n",
      "time elapsed: 7400(s), time left: 1201(s), estimated finish time: 23:58:20\n",
      "On 86.11%\n",
      "time elapsed: 7407(s), time left: 1194(s), estimated finish time: 23:58:20\n",
      "On 86.19%\n",
      "time elapsed: 7414(s), time left: 1187(s), estimated finish time: 23:58:20\n",
      "On 86.27%\n",
      "time elapsed: 7422(s), time left: 1180(s), estimated finish time: 23:58:20\n",
      "On 86.36%\n",
      "time elapsed: 7429(s), time left: 1173(s), estimated finish time: 23:58:20\n",
      "On 86.44%\n",
      "time elapsed: 7436(s), time left: 1166(s), estimated finish time: 23:58:21\n",
      "On 86.52%\n",
      "time elapsed: 7444(s), time left: 1159(s), estimated finish time: 23:58:21\n",
      "On 86.6%\n",
      "time elapsed: 7451(s), time left: 1152(s), estimated finish time: 23:58:21\n",
      "On 86.68%\n",
      "time elapsed: 7458(s), time left: 1145(s), estimated finish time: 23:58:21\n",
      "On 86.76%\n",
      "time elapsed: 7466(s), time left: 1138(s), estimated finish time: 23:58:22\n",
      "On 86.85%\n",
      "time elapsed: 7473(s), time left: 1131(s), estimated finish time: 23:58:22\n",
      "On 86.93%\n",
      "time elapsed: 7480(s), time left: 1124(s), estimated finish time: 23:58:23\n",
      "On 87.01%\n",
      "time elapsed: 7487(s), time left: 1117(s), estimated finish time: 23:58:23\n",
      "On 87.09%\n",
      "time elapsed: 7495(s), time left: 1110(s), estimated finish time: 23:58:23\n",
      "On 87.17%\n",
      "time elapsed: 7502(s), time left: 1103(s), estimated finish time: 23:58:23\n",
      "On 87.25%\n",
      "time elapsed: 7510(s), time left: 1096(s), estimated finish time: 23:58:24\n",
      "On 87.34%\n",
      "time elapsed: 7517(s), time left: 1090(s), estimated finish time: 23:58:25\n",
      "On 87.42%\n",
      "time elapsed: 7524(s), time left: 1083(s), estimated finish time: 23:58:25\n",
      "On 87.5%\n",
      "time elapsed: 7532(s), time left: 1076(s), estimated finish time: 23:58:25\n",
      "On 87.58%\n",
      "time elapsed: 7539(s), time left: 1069(s), estimated finish time: 23:58:26\n",
      "On 87.66%\n",
      "time elapsed: 7546(s), time left: 1062(s), estimated finish time: 23:58:26\n",
      "On 87.75%\n",
      "time elapsed: 7553(s), time left: 1055(s), estimated finish time: 23:58:26\n",
      "On 87.83%\n",
      "time elapsed: 7561(s), time left: 1048(s), estimated finish time: 23:58:27\n",
      "On 87.91%\n",
      "time elapsed: 7568(s), time left: 1041(s), estimated finish time: 23:58:27\n",
      "On 87.99%\n",
      "time elapsed: 7575(s), time left: 1034(s), estimated finish time: 23:58:27\n",
      "On 88.07%\n",
      "time elapsed: 7582(s), time left: 1026(s), estimated finish time: 23:58:27\n",
      "On 88.15%\n",
      "time elapsed: 7589(s), time left: 1019(s), estimated finish time: 23:58:27\n",
      "On 88.24%\n",
      "time elapsed: 7596(s), time left: 1012(s), estimated finish time: 23:58:27\n",
      "On 88.32%\n",
      "time elapsed: 7603(s), time left: 1005(s), estimated finish time: 23:58:26\n",
      "On 88.4%\n",
      "time elapsed: 7612(s), time left: 999(s), estimated finish time: 23:58:29\n",
      "On 88.48%\n",
      "time elapsed: 7622(s), time left: 992(s), estimated finish time: 23:58:32\n",
      "On 88.56%\n",
      "time elapsed: 7632(s), time left: 985(s), estimated finish time: 23:58:35\n",
      "On 88.64%\n",
      "time elapsed: 7641(s), time left: 978(s), estimated finish time: 23:58:37\n",
      "On 88.73%\n",
      "time elapsed: 7651(s), time left: 972(s), estimated finish time: 23:58:40\n",
      "On 88.81%\n",
      "time elapsed: 7660(s), time left: 965(s), estimated finish time: 23:58:43\n",
      "On 88.89%\n",
      "time elapsed: 7670(s), time left: 958(s), estimated finish time: 23:58:46\n",
      "On 88.97%\n",
      "time elapsed: 7679(s), time left: 952(s), estimated finish time: 23:58:49\n",
      "On 89.05%\n",
      "time elapsed: 7686(s), time left: 944(s), estimated finish time: 23:58:49\n",
      "On 89.13%\n",
      "time elapsed: 7696(s), time left: 938(s), estimated finish time: 23:58:52\n",
      "On 89.22%\n",
      "time elapsed: 7703(s), time left: 931(s), estimated finish time: 23:58:52\n",
      "On 89.3%\n",
      "time elapsed: 7712(s), time left: 924(s), estimated finish time: 23:58:54\n",
      "On 89.38%\n",
      "time elapsed: 7721(s), time left: 917(s), estimated finish time: 23:58:56\n",
      "On 89.46%\n",
      "time elapsed: 7728(s), time left: 910(s), estimated finish time: 23:58:56\n",
      "On 89.54%\n",
      "time elapsed: 7737(s), time left: 903(s), estimated finish time: 23:58:58\n",
      "On 89.62%\n",
      "time elapsed: 7747(s), time left: 896(s), estimated finish time: 23:59:01\n",
      "On 89.71%\n",
      "time elapsed: 7756(s), time left: 890(s), estimated finish time: 23:59:03\n",
      "On 89.79%\n",
      "time elapsed: 7763(s), time left: 882(s), estimated finish time: 23:59:03\n",
      "On 89.87%\n",
      "time elapsed: 7769(s), time left: 875(s), estimated finish time: 23:59:03\n",
      "On 89.95%\n",
      "time elapsed: 7778(s), time left: 868(s), estimated finish time: 23:59:04\n",
      "On 90.03%\n",
      "time elapsed: 7785(s), time left: 861(s), estimated finish time: 23:59:05\n",
      "On 90.11%\n",
      "time elapsed: 7794(s), time left: 855(s), estimated finish time: 23:59:06\n",
      "On 90.2%\n",
      "time elapsed: 7801(s), time left: 847(s), estimated finish time: 23:59:06\n",
      "On 90.28%\n",
      "time elapsed: 7810(s), time left: 841(s), estimated finish time: 23:59:09\n",
      "On 90.36%\n",
      "time elapsed: 7820(s), time left: 834(s), estimated finish time: 23:59:12\n",
      "On 90.44%\n",
      "time elapsed: 7830(s), time left: 827(s), estimated finish time: 23:59:15\n",
      "On 90.52%\n",
      "time elapsed: 7837(s), time left: 820(s), estimated finish time: 23:59:15\n",
      "On 90.6%\n",
      "time elapsed: 7846(s), time left: 813(s), estimated finish time: 23:59:17\n",
      "On 90.69%\n",
      "time elapsed: 7855(s), time left: 806(s), estimated finish time: 23:59:20\n",
      "On 90.77%\n",
      "time elapsed: 7863(s), time left: 799(s), estimated finish time: 23:59:20\n",
      "On 90.85%\n",
      "time elapsed: 7870(s), time left: 792(s), estimated finish time: 23:59:20\n",
      "On 90.93%\n",
      "time elapsed: 7879(s), time left: 785(s), estimated finish time: 23:59:22\n",
      "On 91.01%\n",
      "time elapsed: 7886(s), time left: 778(s), estimated finish time: 23:59:22\n",
      "On 91.09%\n",
      "time elapsed: 7893(s), time left: 771(s), estimated finish time: 23:59:22\n",
      "On 91.18%\n",
      "time elapsed: 7901(s), time left: 764(s), estimated finish time: 23:59:24\n",
      "On 91.26%\n",
      "time elapsed: 7905(s), time left: 757(s), estimated finish time: 23:59:19\n",
      "On 91.34%\n",
      "time elapsed: 7908(s), time left: 749(s), estimated finish time: 23:59:15\n",
      "On 91.42%\n",
      "time elapsed: 7911(s), time left: 742(s), estimated finish time: 23:59:11\n",
      "On 91.5%\n",
      "time elapsed: 7914(s), time left: 734(s), estimated finish time: 23:59:06\n",
      "On 91.58%\n",
      "time elapsed: 7923(s), time left: 728(s), estimated finish time: 23:59:09\n",
      "On 91.67%\n",
      "time elapsed: 7926(s), time left: 720(s), estimated finish time: 23:59:04\n",
      "On 91.75%\n",
      "time elapsed: 7935(s), time left: 713(s), estimated finish time: 23:59:06\n",
      "On 91.83%\n",
      "time elapsed: 7938(s), time left: 706(s), estimated finish time: 23:59:02\n",
      "On 91.91%\n",
      "time elapsed: 7948(s), time left: 699(s), estimated finish time: 23:59:05\n",
      "On 91.99%\n",
      "time elapsed: 7951(s), time left: 692(s), estimated finish time: 23:59:00\n",
      "On 92.08%\n",
      "time elapsed: 7954(s), time left: 684(s), estimated finish time: 23:58:56\n",
      "On 92.16%\n",
      "time elapsed: 7958(s), time left: 677(s), estimated finish time: 23:58:53\n",
      "On 92.24%\n",
      "time elapsed: 7961(s), time left: 669(s), estimated finish time: 23:58:48\n",
      "On 92.32%\n",
      "time elapsed: 7964(s), time left: 662(s), estimated finish time: 23:58:44\n",
      "On 92.4%\n",
      "time elapsed: 7967(s), time left: 655(s), estimated finish time: 23:58:40\n",
      "On 92.48%\n",
      "time elapsed: 7971(s), time left: 647(s), estimated finish time: 23:58:36\n",
      "On 92.57%\n",
      "time elapsed: 7980(s), time left: 640(s), estimated finish time: 23:58:38\n",
      "On 92.65%\n",
      "time elapsed: 7983(s), time left: 633(s), estimated finish time: 23:58:34\n",
      "On 92.73%\n",
      "time elapsed: 7986(s), time left: 626(s), estimated finish time: 23:58:30\n",
      "On 92.81%\n",
      "time elapsed: 7996(s), time left: 619(s), estimated finish time: 23:58:33\n",
      "On 92.89%\n",
      "time elapsed: 7999(s), time left: 612(s), estimated finish time: 23:58:28\n",
      "On 92.97%\n",
      "time elapsed: 8002(s), time left: 604(s), estimated finish time: 23:58:24\n",
      "On 93.06%\n",
      "time elapsed: 8006(s), time left: 597(s), estimated finish time: 23:58:21\n",
      "On 93.14%\n",
      "time elapsed: 8009(s), time left: 590(s), estimated finish time: 23:58:16\n",
      "On 93.22%\n",
      "time elapsed: 8011(s), time left: 582(s), estimated finish time: 23:58:12\n",
      "On 93.3%\n",
      "time elapsed: 8015(s), time left: 575(s), estimated finish time: 23:58:08\n",
      "On 93.38%\n",
      "time elapsed: 8018(s), time left: 568(s), estimated finish time: 23:58:04\n",
      "On 93.46%\n",
      "time elapsed: 8027(s), time left: 561(s), estimated finish time: 23:58:06\n",
      "On 93.55%\n",
      "time elapsed: 8031(s), time left: 554(s), estimated finish time: 23:58:02\n",
      "On 93.63%\n",
      "time elapsed: 8035(s), time left: 546(s), estimated finish time: 23:57:59\n",
      "On 93.71%\n",
      "time elapsed: 8038(s), time left: 539(s), estimated finish time: 23:57:55\n",
      "On 93.79%\n",
      "time elapsed: 8041(s), time left: 532(s), estimated finish time: 23:57:51\n",
      "On 93.87%\n",
      "time elapsed: 8045(s), time left: 525(s), estimated finish time: 23:57:47\n",
      "On 93.95%\n",
      "time elapsed: 8048(s), time left: 517(s), estimated finish time: 23:57:43\n",
      "On 94.04%\n",
      "time elapsed: 8057(s), time left: 511(s), estimated finish time: 23:57:46\n",
      "On 94.12%\n",
      "time elapsed: 8061(s), time left: 503(s), estimated finish time: 23:57:42\n",
      "On 94.2%\n",
      "time elapsed: 8070(s), time left: 496(s), estimated finish time: 23:57:44\n",
      "On 94.28%\n",
      "time elapsed: 8078(s), time left: 490(s), estimated finish time: 23:57:46\n",
      "On 94.36%\n",
      "time elapsed: 8087(s), time left: 483(s), estimated finish time: 23:57:47\n",
      "On 94.44%\n",
      "time elapsed: 8096(s), time left: 476(s), estimated finish time: 23:57:49\n",
      "On 94.53%\n",
      "time elapsed: 8103(s), time left: 469(s), estimated finish time: 23:57:50\n",
      "On 94.61%\n",
      "time elapsed: 8113(s), time left: 462(s), estimated finish time: 23:57:53\n",
      "On 94.69%\n",
      "time elapsed: 8121(s), time left: 455(s), estimated finish time: 23:57:53\n",
      "On 94.77%\n",
      "time elapsed: 8128(s), time left: 448(s), estimated finish time: 23:57:54\n",
      "On 94.85%\n",
      "time elapsed: 8136(s), time left: 441(s), estimated finish time: 23:57:55\n",
      "On 94.93%\n",
      "time elapsed: 8145(s), time left: 434(s), estimated finish time: 23:57:57\n",
      "On 95.02%\n",
      "time elapsed: 8152(s), time left: 427(s), estimated finish time: 23:57:57\n",
      "On 95.1%\n",
      "time elapsed: 8162(s), time left: 420(s), estimated finish time: 23:58:00\n",
      "On 95.18%\n",
      "time elapsed: 8169(s), time left: 413(s), estimated finish time: 23:58:00\n",
      "On 95.26%\n",
      "time elapsed: 8177(s), time left: 406(s), estimated finish time: 23:58:01\n",
      "On 95.34%\n",
      "time elapsed: 8185(s), time left: 399(s), estimated finish time: 23:58:03\n",
      "On 95.42%\n",
      "time elapsed: 8194(s), time left: 392(s), estimated finish time: 23:58:04\n",
      "On 95.51%\n",
      "time elapsed: 8201(s), time left: 385(s), estimated finish time: 23:58:04\n",
      "On 95.59%\n",
      "time elapsed: 8209(s), time left: 378(s), estimated finish time: 23:58:05\n",
      "On 95.67%\n",
      "time elapsed: 8218(s), time left: 371(s), estimated finish time: 23:58:07\n",
      "On 95.75%\n",
      "time elapsed: 8226(s), time left: 364(s), estimated finish time: 23:58:08\n",
      "On 95.83%\n",
      "time elapsed: 8233(s), time left: 357(s), estimated finish time: 23:58:08\n",
      "On 95.92%\n",
      "time elapsed: 8243(s), time left: 351(s), estimated finish time: 23:58:11\n",
      "On 96.0%\n",
      "time elapsed: 8253(s), time left: 344(s), estimated finish time: 23:58:14\n",
      "On 96.08%\n",
      "time elapsed: 8260(s), time left: 337(s), estimated finish time: 23:58:15\n",
      "On 96.16%\n",
      "time elapsed: 8267(s), time left: 330(s), estimated finish time: 23:58:15\n",
      "On 96.24%\n",
      "time elapsed: 8278(s), time left: 323(s), estimated finish time: 23:58:19\n",
      "On 96.32%\n",
      "time elapsed: 8288(s), time left: 316(s), estimated finish time: 23:58:21\n",
      "On 96.41%\n",
      "time elapsed: 8296(s), time left: 309(s), estimated finish time: 23:58:23\n",
      "On 96.49%\n",
      "time elapsed: 8304(s), time left: 302(s), estimated finish time: 23:58:24\n",
      "On 96.57%\n",
      "time elapsed: 8311(s), time left: 295(s), estimated finish time: 23:58:24\n",
      "On 96.65%\n",
      "time elapsed: 8320(s), time left: 288(s), estimated finish time: 23:58:26\n",
      "On 96.73%\n",
      "time elapsed: 8328(s), time left: 281(s), estimated finish time: 23:58:26\n",
      "On 96.81%\n",
      "time elapsed: 8335(s), time left: 274(s), estimated finish time: 23:58:27\n",
      "On 96.9%\n",
      "time elapsed: 8344(s), time left: 267(s), estimated finish time: 23:58:29\n",
      "On 96.98%\n",
      "time elapsed: 8352(s), time left: 260(s), estimated finish time: 23:58:29\n",
      "On 97.06%\n",
      "time elapsed: 8360(s), time left: 253(s), estimated finish time: 23:58:31\n",
      "On 97.14%\n",
      "time elapsed: 8368(s), time left: 246(s), estimated finish time: 23:58:32\n",
      "On 97.22%\n",
      "time elapsed: 8376(s), time left: 239(s), estimated finish time: 23:58:33\n",
      "On 97.3%\n",
      "time elapsed: 8384(s), time left: 232(s), estimated finish time: 23:58:34\n",
      "On 97.39%\n",
      "time elapsed: 8392(s), time left: 225(s), estimated finish time: 23:58:35\n",
      "On 97.47%\n",
      "time elapsed: 8401(s), time left: 218(s), estimated finish time: 23:58:37\n",
      "On 97.55%\n",
      "time elapsed: 8408(s), time left: 211(s), estimated finish time: 23:58:37\n",
      "On 97.63%\n",
      "time elapsed: 8416(s), time left: 204(s), estimated finish time: 23:58:38\n",
      "On 97.71%\n",
      "time elapsed: 8423(s), time left: 197(s), estimated finish time: 23:58:37\n",
      "On 97.79%\n",
      "time elapsed: 8430(s), time left: 190(s), estimated finish time: 23:58:38\n",
      "On 97.88%\n",
      "time elapsed: 8438(s), time left: 183(s), estimated finish time: 23:58:38\n",
      "On 97.96%\n",
      "time elapsed: 8447(s), time left: 176(s), estimated finish time: 23:58:40\n",
      "On 98.04%\n",
      "time elapsed: 8454(s), time left: 169(s), estimated finish time: 23:58:41\n",
      "On 98.12%\n",
      "time elapsed: 8462(s), time left: 162(s), estimated finish time: 23:58:41\n",
      "On 98.2%\n",
      "time elapsed: 8470(s), time left: 155(s), estimated finish time: 23:58:43\n",
      "On 98.28%\n",
      "time elapsed: 8479(s), time left: 148(s), estimated finish time: 23:58:45\n",
      "On 98.37%\n",
      "time elapsed: 8488(s), time left: 140(s), estimated finish time: 23:58:46\n",
      "On 98.45%\n",
      "time elapsed: 8497(s), time left: 133(s), estimated finish time: 23:58:48\n",
      "On 98.53%\n",
      "time elapsed: 8505(s), time left: 126(s), estimated finish time: 23:58:49\n",
      "On 98.61%\n",
      "time elapsed: 8514(s), time left: 119(s), estimated finish time: 23:58:51\n",
      "On 98.69%\n",
      "time elapsed: 8523(s), time left: 112(s), estimated finish time: 23:58:53\n",
      "On 98.77%\n",
      "time elapsed: 8530(s), time left: 105(s), estimated finish time: 23:58:54\n",
      "On 98.86%\n",
      "time elapsed: 8539(s), time left: 98(s), estimated finish time: 23:58:55\n",
      "On 98.94%\n",
      "time elapsed: 8547(s), time left: 91(s), estimated finish time: 23:58:56\n",
      "On 99.02%\n",
      "time elapsed: 8556(s), time left: 84(s), estimated finish time: 23:58:58\n",
      "On 99.1%\n",
      "time elapsed: 8564(s), time left: 77(s), estimated finish time: 23:58:59\n",
      "On 99.18%\n",
      "time elapsed: 8571(s), time left: 70(s), estimated finish time: 23:58:59\n",
      "On 99.26%\n",
      "time elapsed: 8578(s), time left: 63(s), estimated finish time: 23:58:59\n",
      "On 99.35%\n",
      "time elapsed: 8587(s), time left: 56(s), estimated finish time: 23:59:01\n",
      "On 99.43%\n",
      "time elapsed: 8595(s), time left: 49(s), estimated finish time: 23:59:02\n",
      "On 99.51%\n",
      "time elapsed: 8603(s), time left: 42(s), estimated finish time: 23:59:03\n",
      "On 99.59%\n",
      "time elapsed: 8612(s), time left: 35(s), estimated finish time: 23:59:05\n",
      "On 99.67%\n",
      "time elapsed: 8621(s), time left: 28(s), estimated finish time: 23:59:07\n",
      "On 99.75%\n",
      "time elapsed: 8629(s), time left: 21(s), estimated finish time: 23:59:08\n",
      "On 99.84%\n",
      "time elapsed: 8637(s), time left: 14(s), estimated finish time: 23:59:09\n",
      "On 99.92%\n",
      "time elapsed: 8646(s), time left: 7(s), estimated finish time: 23:59:11\n",
      "On 100.0%\n",
      "time elapsed: 8653(s), time left: 0(s), estimated finish time: 23:59:11\n"
     ]
    }
   ],
   "source": [
    "extract_avd('/kaggle/input/opensmile-beasc/opensmileDF_beasc.csv', \"/kaggle/working/beasc_avd.csv\")"
   ]
  },
  {
   "cell_type": "code",
   "execution_count": 9,
   "id": "5ddf1200",
   "metadata": {
    "execution": {
     "iopub.execute_input": "2024-06-17T23:59:11.682563Z",
     "iopub.status.busy": "2024-06-17T23:59:11.682171Z",
     "iopub.status.idle": "2024-06-17T23:59:11.689804Z",
     "shell.execute_reply": "2024-06-17T23:59:11.688716Z"
    },
    "papermill": {
     "duration": 0.139085,
     "end_time": "2024-06-17T23:59:11.692154",
     "exception": false,
     "start_time": "2024-06-17T23:59:11.553069",
     "status": "completed"
    },
    "tags": []
   },
   "outputs": [],
   "source": [
    "def feature_embeddings(path):\n",
    "    signal, sampling_rate = audiofile.read(\n",
    "                path,\n",
    "                always_2d=True,\n",
    "            )\n",
    "    ret = model(signal, sampling_rate)\n",
    "    return ret[\"hidden_states\"][0]"
   ]
  },
  {
   "cell_type": "code",
   "execution_count": 10,
   "id": "5fe0caf2",
   "metadata": {
    "execution": {
     "iopub.execute_input": "2024-06-17T23:59:11.945416Z",
     "iopub.status.busy": "2024-06-17T23:59:11.945012Z",
     "iopub.status.idle": "2024-06-17T23:59:11.954524Z",
     "shell.execute_reply": "2024-06-17T23:59:11.953456Z"
    },
    "papermill": {
     "duration": 0.13978,
     "end_time": "2024-06-17T23:59:11.956873",
     "exception": false,
     "start_time": "2024-06-17T23:59:11.817093",
     "status": "completed"
    },
    "tags": []
   },
   "outputs": [],
   "source": [
    "from tqdm import tqdm\n",
    "\n",
    "def extract_transformer_embeddings(input_file, output_file):\n",
    "    start = time.time()\n",
    "    df = pd.read_csv(input_file)\n",
    "    # df = df.sample(n=3)  # test on small subset\n",
    "    data = {\"Path\": [], \"feature_embeddings\": []}\n",
    "    \n",
    "    cur_iter = 0\n",
    "    # Wrap the iterable with tqdm for the progress bar\n",
    "    for index, row in tqdm(df.iterrows(), total=len(df), desc=\"Processing rows\"):\n",
    "        ret = feature_embeddings(row[\"Path\"])\n",
    "        data[\"Path\"].append(row['Path'])\n",
    "        data[\"feature_embeddings\"].append(list(ret))\n",
    "        cur_iter += 1\n",
    "        print(\"On {}%\".format(round(cur_iter / df.shape[0] * 100, 2)))\n",
    "        prstime = calcProcessTime(start, cur_iter ,df.shape[0])\n",
    "        print(\"time elapsed: %s(s), time left: %s(s), estimated finish time: %s\"%prstime)\n",
    "    \n",
    "    resdf = pd.DataFrame.from_dict(data)\n",
    "    resdf.to_csv(output_file, index=False)\n",
    "        "
   ]
  },
  {
   "cell_type": "code",
   "execution_count": 11,
   "id": "f26701af",
   "metadata": {
    "execution": {
     "iopub.execute_input": "2024-06-17T23:59:12.208855Z",
     "iopub.status.busy": "2024-06-17T23:59:12.207908Z",
     "iopub.status.idle": "2024-06-18T02:23:32.785627Z",
     "shell.execute_reply": "2024-06-18T02:23:32.784297Z"
    },
    "papermill": {
     "duration": 8660.706756,
     "end_time": "2024-06-18T02:23:32.788385",
     "exception": false,
     "start_time": "2024-06-17T23:59:12.081629",
     "status": "completed"
    },
    "tags": []
   },
   "outputs": [
    {
     "name": "stderr",
     "output_type": "stream",
     "text": [
      "Processing rows:   0%|          | 1/1224 [00:09<3:07:44,  9.21s/it]"
     ]
    },
    {
     "name": "stdout",
     "output_type": "stream",
     "text": [
      "On 0.08%\n",
      "time elapsed: 9(s), time left: 11312(s), estimated finish time: 03:07:54\n"
     ]
    },
    {
     "name": "stderr",
     "output_type": "stream",
     "text": [
      "Processing rows:   0%|          | 2/1224 [00:17<3:01:54,  8.93s/it]"
     ]
    },
    {
     "name": "stdout",
     "output_type": "stream",
     "text": [
      "On 0.16%\n",
      "time elapsed: 17(s), time left: 10989(s), estimated finish time: 03:02:40\n"
     ]
    },
    {
     "name": "stderr",
     "output_type": "stream",
     "text": [
      "Processing rows:   0%|          | 3/1224 [00:24<2:39:48,  7.85s/it]"
     ]
    },
    {
     "name": "stdout",
     "output_type": "stream",
     "text": [
      "On 0.25%\n",
      "time elapsed: 24(s), time left: 9994(s), estimated finish time: 02:46:11\n"
     ]
    },
    {
     "name": "stderr",
     "output_type": "stream",
     "text": [
      "Processing rows:   0%|          | 4/1224 [00:33<2:52:14,  8.47s/it]"
     ]
    },
    {
     "name": "stdout",
     "output_type": "stream",
     "text": [
      "On 0.33%\n",
      "time elapsed: 33(s), time left: 10362(s), estimated finish time: 02:52:28\n"
     ]
    },
    {
     "name": "stderr",
     "output_type": "stream",
     "text": [
      "Processing rows:   0%|          | 5/1224 [00:40<2:39:25,  7.85s/it]"
     ]
    },
    {
     "name": "stdout",
     "output_type": "stream",
     "text": [
      "On 0.41%\n",
      "time elapsed: 40(s), time left: 9926(s), estimated finish time: 02:45:19\n"
     ]
    },
    {
     "name": "stderr",
     "output_type": "stream",
     "text": [
      "Processing rows:   0%|          | 6/1224 [00:45<2:20:42,  6.93s/it]"
     ]
    },
    {
     "name": "stdout",
     "output_type": "stream",
     "text": [
      "On 0.49%\n",
      "time elapsed: 45(s), time left: 9311(s), estimated finish time: 02:35:09\n"
     ]
    },
    {
     "name": "stderr",
     "output_type": "stream",
     "text": [
      "Processing rows:   1%|          | 7/1224 [00:54<2:33:23,  7.56s/it]"
     ]
    },
    {
     "name": "stdout",
     "output_type": "stream",
     "text": [
      "On 0.57%\n",
      "time elapsed: 54(s), time left: 9515(s), estimated finish time: 02:38:42\n"
     ]
    },
    {
     "name": "stderr",
     "output_type": "stream",
     "text": [
      "Processing rows:   1%|          | 8/1224 [01:03<2:44:16,  8.11s/it]"
     ]
    },
    {
     "name": "stdout",
     "output_type": "stream",
     "text": [
      "On 0.65%\n",
      "time elapsed: 63(s), time left: 9727(s), estimated finish time: 02:42:24\n"
     ]
    },
    {
     "name": "stderr",
     "output_type": "stream",
     "text": [
      "Processing rows:   1%|          | 9/1224 [01:12<2:46:33,  8.22s/it]"
     ]
    },
    {
     "name": "stdout",
     "output_type": "stream",
     "text": [
      "On 0.74%\n",
      "time elapsed: 72(s), time left: 9785(s), estimated finish time: 02:43:30\n"
     ]
    },
    {
     "name": "stderr",
     "output_type": "stream",
     "text": [
      "Processing rows:   1%|          | 10/1224 [01:21<2:54:00,  8.60s/it]"
     ]
    },
    {
     "name": "stdout",
     "output_type": "stream",
     "text": [
      "On 0.82%\n",
      "time elapsed: 81(s), time left: 9945(s), estimated finish time: 02:46:19\n"
     ]
    },
    {
     "name": "stderr",
     "output_type": "stream",
     "text": [
      "Processing rows:   1%|          | 11/1224 [01:30<2:54:28,  8.63s/it]"
     ]
    },
    {
     "name": "stdout",
     "output_type": "stream",
     "text": [
      "On 0.9%\n",
      "time elapsed: 90(s), time left: 9993(s), estimated finish time: 02:47:16\n"
     ]
    },
    {
     "name": "stderr",
     "output_type": "stream",
     "text": [
      "Processing rows:   1%|          | 12/1224 [01:39<2:59:08,  8.87s/it]"
     ]
    },
    {
     "name": "stdout",
     "output_type": "stream",
     "text": [
      "On 0.98%\n",
      "time elapsed: 100(s), time left: 10103(s), estimated finish time: 02:49:16\n"
     ]
    },
    {
     "name": "stderr",
     "output_type": "stream",
     "text": [
      "Processing rows:   1%|          | 13/1224 [01:49<3:01:49,  9.01s/it]"
     ]
    },
    {
     "name": "stdout",
     "output_type": "stream",
     "text": [
      "On 1.06%\n",
      "time elapsed: 109(s), time left: 10188(s), estimated finish time: 02:50:49\n"
     ]
    },
    {
     "name": "stderr",
     "output_type": "stream",
     "text": [
      "Processing rows:   1%|          | 14/1224 [01:58<3:02:44,  9.06s/it]"
     ]
    },
    {
     "name": "stdout",
     "output_type": "stream",
     "text": [
      "On 1.14%\n",
      "time elapsed: 118(s), time left: 10246(s), estimated finish time: 02:51:57\n"
     ]
    },
    {
     "name": "stderr",
     "output_type": "stream",
     "text": [
      "Processing rows:   1%|          | 15/1224 [02:07<3:03:14,  9.09s/it]"
     ]
    },
    {
     "name": "stdout",
     "output_type": "stream",
     "text": [
      "On 1.23%\n",
      "time elapsed: 127(s), time left: 10294(s), estimated finish time: 02:52:54\n"
     ]
    },
    {
     "name": "stderr",
     "output_type": "stream",
     "text": [
      "Processing rows:   1%|▏         | 16/1224 [02:16<3:03:55,  9.14s/it]"
     ]
    },
    {
     "name": "stdout",
     "output_type": "stream",
     "text": [
      "On 1.31%\n",
      "time elapsed: 136(s), time left: 10340(s), estimated finish time: 02:53:49\n"
     ]
    },
    {
     "name": "stderr",
     "output_type": "stream",
     "text": [
      "Processing rows:   1%|▏         | 17/1224 [02:24<2:53:06,  8.61s/it]"
     ]
    },
    {
     "name": "stdout",
     "output_type": "stream",
     "text": [
      "On 1.39%\n",
      "time elapsed: 144(s), time left: 10247(s), estimated finish time: 02:52:23\n"
     ]
    },
    {
     "name": "stderr",
     "output_type": "stream",
     "text": [
      "Processing rows:   1%|▏         | 18/1224 [02:32<2:52:08,  8.56s/it]"
     ]
    },
    {
     "name": "stdout",
     "output_type": "stream",
     "text": [
      "On 1.47%\n",
      "time elapsed: 152(s), time left: 10237(s), estimated finish time: 02:52:22\n"
     ]
    },
    {
     "name": "stderr",
     "output_type": "stream",
     "text": [
      "Processing rows:   2%|▏         | 19/1224 [02:40<2:48:06,  8.37s/it]"
     ]
    },
    {
     "name": "stdout",
     "output_type": "stream",
     "text": [
      "On 1.55%\n",
      "time elapsed: 160(s), time left: 10192(s), estimated finish time: 02:51:45\n"
     ]
    },
    {
     "name": "stderr",
     "output_type": "stream",
     "text": [
      "Processing rows:   2%|▏         | 20/1224 [02:47<2:41:31,  8.05s/it]"
     ]
    },
    {
     "name": "stdout",
     "output_type": "stream",
     "text": [
      "On 1.63%\n",
      "time elapsed: 168(s), time left: 10114(s), estimated finish time: 02:50:34\n"
     ]
    },
    {
     "name": "stderr",
     "output_type": "stream",
     "text": [
      "Processing rows:   2%|▏         | 21/1224 [02:57<2:48:32,  8.41s/it]"
     ]
    },
    {
     "name": "stdout",
     "output_type": "stream",
     "text": [
      "On 1.72%\n",
      "time elapsed: 177(s), time left: 10154(s), estimated finish time: 02:51:23\n"
     ]
    },
    {
     "name": "stderr",
     "output_type": "stream",
     "text": [
      "Processing rows:   2%|▏         | 22/1224 [03:02<2:30:48,  7.53s/it]"
     ]
    },
    {
     "name": "stdout",
     "output_type": "stream",
     "text": [
      "On 1.8%\n",
      "time elapsed: 182(s), time left: 9983(s), estimated finish time: 02:48:38\n"
     ]
    },
    {
     "name": "stderr",
     "output_type": "stream",
     "text": [
      "Processing rows:   2%|▏         | 23/1224 [03:11<2:38:23,  7.91s/it]"
     ]
    },
    {
     "name": "stdout",
     "output_type": "stream",
     "text": [
      "On 1.88%\n",
      "time elapsed: 191(s), time left: 10001(s), estimated finish time: 02:49:05\n"
     ]
    },
    {
     "name": "stderr",
     "output_type": "stream",
     "text": [
      "Processing rows:   2%|▏         | 24/1224 [03:20<2:46:08,  8.31s/it]"
     ]
    },
    {
     "name": "stdout",
     "output_type": "stream",
     "text": [
      "On 1.96%\n",
      "time elapsed: 200(s), time left: 10038(s), estimated finish time: 02:49:51\n"
     ]
    },
    {
     "name": "stderr",
     "output_type": "stream",
     "text": [
      "Processing rows:   2%|▏         | 25/1224 [03:29<2:47:19,  8.37s/it]"
     ]
    },
    {
     "name": "stdout",
     "output_type": "stream",
     "text": [
      "On 2.04%\n",
      "time elapsed: 209(s), time left: 10037(s), estimated finish time: 02:49:59\n"
     ]
    },
    {
     "name": "stderr",
     "output_type": "stream",
     "text": [
      "Processing rows:   2%|▏         | 26/1224 [03:38<2:52:14,  8.63s/it]"
     ]
    },
    {
     "name": "stdout",
     "output_type": "stream",
     "text": [
      "On 2.12%\n",
      "time elapsed: 218(s), time left: 10068(s), estimated finish time: 02:50:39\n"
     ]
    },
    {
     "name": "stderr",
     "output_type": "stream",
     "text": [
      "Processing rows:   2%|▏         | 27/1224 [03:45<2:41:40,  8.10s/it]"
     ]
    },
    {
     "name": "stdout",
     "output_type": "stream",
     "text": [
      "On 2.21%\n",
      "time elapsed: 225(s), time left: 9992(s), estimated finish time: 02:49:30\n"
     ]
    },
    {
     "name": "stderr",
     "output_type": "stream",
     "text": [
      "Processing rows:   2%|▏         | 28/1224 [03:54<2:49:03,  8.48s/it]"
     ]
    },
    {
     "name": "stdout",
     "output_type": "stream",
     "text": [
      "On 2.29%\n",
      "time elapsed: 234(s), time left: 10027(s), estimated finish time: 02:50:14\n"
     ]
    },
    {
     "name": "stderr",
     "output_type": "stream",
     "text": [
      "Processing rows:   2%|▏         | 29/1224 [04:00<2:30:28,  7.55s/it]"
     ]
    },
    {
     "name": "stdout",
     "output_type": "stream",
     "text": [
      "On 2.37%\n",
      "time elapsed: 240(s), time left: 9896(s), estimated finish time: 02:48:08\n"
     ]
    },
    {
     "name": "stderr",
     "output_type": "stream",
     "text": [
      "Processing rows:   2%|▏         | 30/1224 [04:09<2:39:48,  8.03s/it]"
     ]
    },
    {
     "name": "stdout",
     "output_type": "stream",
     "text": [
      "On 2.45%\n",
      "time elapsed: 249(s), time left: 9921(s), estimated finish time: 02:48:43\n"
     ]
    },
    {
     "name": "stderr",
     "output_type": "stream",
     "text": [
      "Processing rows:   3%|▎         | 31/1224 [04:14<2:24:14,  7.25s/it]"
     ]
    },
    {
     "name": "stdout",
     "output_type": "stream",
     "text": [
      "On 2.53%\n",
      "time elapsed: 254(s), time left: 9803(s), estimated finish time: 02:46:50\n"
     ]
    },
    {
     "name": "stderr",
     "output_type": "stream",
     "text": [
      "Processing rows:   3%|▎         | 32/1224 [04:24<2:36:38,  7.88s/it]"
     ]
    },
    {
     "name": "stdout",
     "output_type": "stream",
     "text": [
      "On 2.61%\n",
      "time elapsed: 264(s), time left: 9837(s), estimated finish time: 02:47:33\n"
     ]
    },
    {
     "name": "stderr",
     "output_type": "stream",
     "text": [
      "Processing rows:   3%|▎         | 33/1224 [04:33<2:44:19,  8.28s/it]"
     ]
    },
    {
     "name": "stdout",
     "output_type": "stream",
     "text": [
      "On 2.7%\n",
      "time elapsed: 273(s), time left: 9863(s), estimated finish time: 02:48:08\n"
     ]
    },
    {
     "name": "stderr",
     "output_type": "stream",
     "text": [
      "Processing rows:   3%|▎         | 34/1224 [04:40<2:39:51,  8.06s/it]"
     ]
    },
    {
     "name": "stdout",
     "output_type": "stream",
     "text": [
      "On 2.78%\n",
      "time elapsed: 280(s), time left: 9829(s), estimated finish time: 02:47:42\n"
     ]
    },
    {
     "name": "stderr",
     "output_type": "stream",
     "text": [
      "Processing rows:   3%|▎         | 35/1224 [04:48<2:36:16,  7.89s/it]"
     ]
    },
    {
     "name": "stdout",
     "output_type": "stream",
     "text": [
      "On 2.86%\n",
      "time elapsed: 288(s), time left: 9794(s), estimated finish time: 02:47:15\n"
     ]
    },
    {
     "name": "stderr",
     "output_type": "stream",
     "text": [
      "Processing rows:   3%|▎         | 36/1224 [04:55<2:30:55,  7.62s/it]"
     ]
    },
    {
     "name": "stdout",
     "output_type": "stream",
     "text": [
      "On 2.94%\n",
      "time elapsed: 295(s), time left: 9745(s), estimated finish time: 02:46:33\n"
     ]
    },
    {
     "name": "stderr",
     "output_type": "stream",
     "text": [
      "Processing rows:   3%|▎         | 37/1224 [05:00<2:17:36,  6.96s/it]"
     ]
    },
    {
     "name": "stdout",
     "output_type": "stream",
     "text": [
      "On 3.02%\n",
      "time elapsed: 300(s), time left: 9647(s), estimated finish time: 02:45:00\n"
     ]
    },
    {
     "name": "stderr",
     "output_type": "stream",
     "text": [
      "Processing rows:   3%|▎         | 38/1224 [05:07<2:14:18,  6.80s/it]"
     ]
    },
    {
     "name": "stdout",
     "output_type": "stream",
     "text": [
      "On 3.1%\n",
      "time elapsed: 307(s), time left: 9586(s), estimated finish time: 02:44:05\n"
     ]
    },
    {
     "name": "stderr",
     "output_type": "stream",
     "text": [
      "Processing rows:   3%|▎         | 39/1224 [05:16<2:28:02,  7.50s/it]"
     ]
    },
    {
     "name": "stdout",
     "output_type": "stream",
     "text": [
      "On 3.19%\n",
      "time elapsed: 316(s), time left: 9610(s), estimated finish time: 02:44:38\n"
     ]
    },
    {
     "name": "stderr",
     "output_type": "stream",
     "text": [
      "Processing rows:   3%|▎         | 40/1224 [05:22<2:20:25,  7.12s/it]"
     ]
    },
    {
     "name": "stdout",
     "output_type": "stream",
     "text": [
      "On 3.27%\n",
      "time elapsed: 322(s), time left: 9546(s), estimated finish time: 02:43:41\n"
     ]
    },
    {
     "name": "stderr",
     "output_type": "stream",
     "text": [
      "Processing rows:   3%|▎         | 41/1224 [05:28<2:12:29,  6.72s/it]"
     ]
    },
    {
     "name": "stdout",
     "output_type": "stream",
     "text": [
      "On 3.35%\n",
      "time elapsed: 328(s), time left: 9472(s), estimated finish time: 02:42:33\n"
     ]
    },
    {
     "name": "stderr",
     "output_type": "stream",
     "text": [
      "Processing rows:   3%|▎         | 42/1224 [05:34<2:10:44,  6.64s/it]"
     ]
    },
    {
     "name": "stdout",
     "output_type": "stream",
     "text": [
      "On 3.43%\n",
      "time elapsed: 334(s), time left: 9420(s), estimated finish time: 02:41:47\n"
     ]
    },
    {
     "name": "stderr",
     "output_type": "stream",
     "text": [
      "Processing rows:   4%|▎         | 43/1224 [05:40<2:08:17,  6.52s/it]"
     ]
    },
    {
     "name": "stdout",
     "output_type": "stream",
     "text": [
      "On 3.51%\n",
      "time elapsed: 340(s), time left: 9365(s), estimated finish time: 02:40:58\n"
     ]
    },
    {
     "name": "stderr",
     "output_type": "stream",
     "text": [
      "Processing rows:   4%|▎         | 44/1224 [05:50<2:26:52,  7.47s/it]"
     ]
    },
    {
     "name": "stdout",
     "output_type": "stream",
     "text": [
      "On 3.59%\n",
      "time elapsed: 350(s), time left: 9404(s), estimated finish time: 02:41:47\n"
     ]
    },
    {
     "name": "stderr",
     "output_type": "stream",
     "text": [
      "Processing rows:   4%|▎         | 45/1224 [05:57<2:23:51,  7.32s/it]"
     ]
    },
    {
     "name": "stdout",
     "output_type": "stream",
     "text": [
      "On 3.68%\n",
      "time elapsed: 357(s), time left: 9370(s), estimated finish time: 02:41:20\n"
     ]
    },
    {
     "name": "stderr",
     "output_type": "stream",
     "text": [
      "Processing rows:   4%|▍         | 46/1224 [06:06<2:34:53,  7.89s/it]"
     ]
    },
    {
     "name": "stdout",
     "output_type": "stream",
     "text": [
      "On 3.76%\n",
      "time elapsed: 366(s), time left: 9395(s), estimated finish time: 02:41:54\n"
     ]
    },
    {
     "name": "stderr",
     "output_type": "stream",
     "text": [
      "Processing rows:   4%|▍         | 47/1224 [06:12<2:24:11,  7.35s/it]"
     ]
    },
    {
     "name": "stdout",
     "output_type": "stream",
     "text": [
      "On 3.84%\n",
      "time elapsed: 372(s), time left: 9339(s), estimated finish time: 02:41:05\n"
     ]
    },
    {
     "name": "stderr",
     "output_type": "stream",
     "text": [
      "Processing rows:   4%|▍         | 48/1224 [06:19<2:19:43,  7.13s/it]"
     ]
    },
    {
     "name": "stdout",
     "output_type": "stream",
     "text": [
      "On 3.92%\n",
      "time elapsed: 379(s), time left: 9299(s), estimated finish time: 02:40:31\n"
     ]
    },
    {
     "name": "stderr",
     "output_type": "stream",
     "text": [
      "Processing rows:   4%|▍         | 49/1224 [06:26<2:17:38,  7.03s/it]"
     ]
    },
    {
     "name": "stdout",
     "output_type": "stream",
     "text": [
      "On 4.0%\n",
      "time elapsed: 386(s), time left: 9264(s), estimated finish time: 02:40:03\n"
     ]
    },
    {
     "name": "stderr",
     "output_type": "stream",
     "text": [
      "Processing rows:   4%|▍         | 50/1224 [06:35<2:31:14,  7.73s/it]"
     ]
    },
    {
     "name": "stdout",
     "output_type": "stream",
     "text": [
      "On 4.08%\n",
      "time elapsed: 395(s), time left: 9291(s), estimated finish time: 02:40:39\n"
     ]
    },
    {
     "name": "stderr",
     "output_type": "stream",
     "text": [
      "Processing rows:   4%|▍         | 51/1224 [06:42<2:26:46,  7.51s/it]"
     ]
    },
    {
     "name": "stdout",
     "output_type": "stream",
     "text": [
      "On 4.17%\n",
      "time elapsed: 402(s), time left: 9262(s), estimated finish time: 02:40:17\n"
     ]
    },
    {
     "name": "stderr",
     "output_type": "stream",
     "text": [
      "Processing rows:   4%|▍         | 52/1224 [06:49<2:19:53,  7.16s/it]"
     ]
    },
    {
     "name": "stdout",
     "output_type": "stream",
     "text": [
      "On 4.25%\n",
      "time elapsed: 409(s), time left: 9219(s), estimated finish time: 02:39:41\n"
     ]
    },
    {
     "name": "stderr",
     "output_type": "stream",
     "text": [
      "Processing rows:   4%|▍         | 53/1224 [06:55<2:17:42,  7.06s/it]"
     ]
    },
    {
     "name": "stdout",
     "output_type": "stream",
     "text": [
      "On 4.33%\n",
      "time elapsed: 415(s), time left: 9188(s), estimated finish time: 02:39:16\n"
     ]
    },
    {
     "name": "stderr",
     "output_type": "stream",
     "text": [
      "Processing rows:   4%|▍         | 54/1224 [07:02<2:15:33,  6.95s/it]"
     ]
    },
    {
     "name": "stdout",
     "output_type": "stream",
     "text": [
      "On 4.41%\n",
      "time elapsed: 422(s), time left: 9156(s), estimated finish time: 02:38:50\n"
     ]
    },
    {
     "name": "stderr",
     "output_type": "stream",
     "text": [
      "Processing rows:   4%|▍         | 55/1224 [07:08<2:12:14,  6.79s/it]"
     ]
    },
    {
     "name": "stdout",
     "output_type": "stream",
     "text": [
      "On 4.49%\n",
      "time elapsed: 428(s), time left: 9118(s), estimated finish time: 02:38:19\n"
     ]
    },
    {
     "name": "stderr",
     "output_type": "stream",
     "text": [
      "Processing rows:   5%|▍         | 56/1224 [07:15<2:10:16,  6.69s/it]"
     ]
    },
    {
     "name": "stdout",
     "output_type": "stream",
     "text": [
      "On 4.58%\n",
      "time elapsed: 435(s), time left: 9082(s), estimated finish time: 02:37:50\n"
     ]
    },
    {
     "name": "stderr",
     "output_type": "stream",
     "text": [
      "Processing rows:   5%|▍         | 57/1224 [07:24<2:26:43,  7.54s/it]"
     ]
    },
    {
     "name": "stdout",
     "output_type": "stream",
     "text": [
      "On 4.66%\n",
      "time elapsed: 444(s), time left: 9110(s), estimated finish time: 02:38:27\n"
     ]
    },
    {
     "name": "stderr",
     "output_type": "stream",
     "text": [
      "Processing rows:   5%|▍         | 58/1224 [07:30<2:15:16,  6.96s/it]"
     ]
    },
    {
     "name": "stdout",
     "output_type": "stream",
     "text": [
      "On 4.74%\n",
      "time elapsed: 450(s), time left: 9058(s), estimated finish time: 02:37:41\n"
     ]
    },
    {
     "name": "stderr",
     "output_type": "stream",
     "text": [
      "Processing rows:   5%|▍         | 59/1224 [07:39<2:29:30,  7.70s/it]"
     ]
    },
    {
     "name": "stdout",
     "output_type": "stream",
     "text": [
      "On 4.82%\n",
      "time elapsed: 460(s), time left: 9083(s), estimated finish time: 02:38:15\n"
     ]
    },
    {
     "name": "stderr",
     "output_type": "stream",
     "text": [
      "Processing rows:   5%|▍         | 60/1224 [07:46<2:24:04,  7.43s/it]"
     ]
    },
    {
     "name": "stdout",
     "output_type": "stream",
     "text": [
      "On 4.9%\n",
      "time elapsed: 466(s), time left: 9056(s), estimated finish time: 02:37:55\n"
     ]
    },
    {
     "name": "stderr",
     "output_type": "stream",
     "text": [
      "Processing rows:   5%|▍         | 61/1224 [07:52<2:15:25,  6.99s/it]"
     ]
    },
    {
     "name": "stdout",
     "output_type": "stream",
     "text": [
      "On 4.98%\n",
      "time elapsed: 472(s), time left: 9013(s), estimated finish time: 02:37:18\n"
     ]
    },
    {
     "name": "stderr",
     "output_type": "stream",
     "text": [
      "Processing rows:   5%|▌         | 62/1224 [07:59<2:12:49,  6.86s/it]"
     ]
    },
    {
     "name": "stdout",
     "output_type": "stream",
     "text": [
      "On 5.07%\n",
      "time elapsed: 479(s), time left: 8983(s), estimated finish time: 02:36:55\n"
     ]
    },
    {
     "name": "stderr",
     "output_type": "stream",
     "text": [
      "Processing rows:   5%|▌         | 63/1224 [08:05<2:09:16,  6.68s/it]"
     ]
    },
    {
     "name": "stdout",
     "output_type": "stream",
     "text": [
      "On 5.15%\n",
      "time elapsed: 485(s), time left: 8948(s), estimated finish time: 02:36:26\n"
     ]
    },
    {
     "name": "stderr",
     "output_type": "stream",
     "text": [
      "Processing rows:   5%|▌         | 64/1224 [08:11<2:06:34,  6.55s/it]"
     ]
    },
    {
     "name": "stdout",
     "output_type": "stream",
     "text": [
      "On 5.23%\n",
      "time elapsed: 491(s), time left: 8914(s), estimated finish time: 02:35:58\n"
     ]
    },
    {
     "name": "stderr",
     "output_type": "stream",
     "text": [
      "Processing rows:   5%|▌         | 65/1224 [08:18<2:05:56,  6.52s/it]"
     ]
    },
    {
     "name": "stdout",
     "output_type": "stream",
     "text": [
      "On 5.31%\n",
      "time elapsed: 498(s), time left: 8884(s), estimated finish time: 02:35:35\n"
     ]
    },
    {
     "name": "stderr",
     "output_type": "stream",
     "text": [
      "Processing rows:   5%|▌         | 66/1224 [08:27<2:21:55,  7.35s/it]"
     ]
    },
    {
     "name": "stdout",
     "output_type": "stream",
     "text": [
      "On 5.39%\n",
      "time elapsed: 507(s), time left: 8905(s), estimated finish time: 02:36:05\n"
     ]
    },
    {
     "name": "stderr",
     "output_type": "stream",
     "text": [
      "Processing rows:   5%|▌         | 67/1224 [08:33<2:13:28,  6.92s/it]"
     ]
    },
    {
     "name": "stdout",
     "output_type": "stream",
     "text": [
      "On 5.47%\n",
      "time elapsed: 513(s), time left: 8867(s), estimated finish time: 02:35:33\n"
     ]
    },
    {
     "name": "stderr",
     "output_type": "stream",
     "text": [
      "Processing rows:   6%|▌         | 68/1224 [08:39<2:10:28,  6.77s/it]"
     ]
    },
    {
     "name": "stdout",
     "output_type": "stream",
     "text": [
      "On 5.56%\n",
      "time elapsed: 519(s), time left: 8838(s), estimated finish time: 02:35:10\n"
     ]
    },
    {
     "name": "stderr",
     "output_type": "stream",
     "text": [
      "Processing rows:   6%|▌         | 69/1224 [08:48<2:23:30,  7.45s/it]"
     ]
    },
    {
     "name": "stdout",
     "output_type": "stream",
     "text": [
      "On 5.64%\n",
      "time elapsed: 528(s), time left: 8854(s), estimated finish time: 02:35:35\n"
     ]
    },
    {
     "name": "stderr",
     "output_type": "stream",
     "text": [
      "Processing rows:   6%|▌         | 70/1224 [08:54<2:14:00,  6.97s/it]"
     ]
    },
    {
     "name": "stdout",
     "output_type": "stream",
     "text": [
      "On 5.72%\n",
      "time elapsed: 534(s), time left: 8816(s), estimated finish time: 02:35:03\n"
     ]
    },
    {
     "name": "stderr",
     "output_type": "stream",
     "text": [
      "Processing rows:   6%|▌         | 71/1224 [09:01<2:11:43,  6.85s/it]"
     ]
    },
    {
     "name": "stdout",
     "output_type": "stream",
     "text": [
      "On 5.8%\n",
      "time elapsed: 541(s), time left: 8791(s), estimated finish time: 02:34:45\n"
     ]
    },
    {
     "name": "stderr",
     "output_type": "stream",
     "text": [
      "Processing rows:   6%|▌         | 72/1224 [09:08<2:13:59,  6.98s/it]"
     ]
    },
    {
     "name": "stdout",
     "output_type": "stream",
     "text": [
      "On 5.88%\n",
      "time elapsed: 548(s), time left: 8778(s), estimated finish time: 02:34:39\n"
     ]
    },
    {
     "name": "stderr",
     "output_type": "stream",
     "text": [
      "Processing rows:   6%|▌         | 73/1224 [09:17<2:26:27,  7.63s/it]"
     ]
    },
    {
     "name": "stdout",
     "output_type": "stream",
     "text": [
      "On 5.96%\n",
      "time elapsed: 557(s), time left: 8795(s), estimated finish time: 02:35:05\n"
     ]
    },
    {
     "name": "stderr",
     "output_type": "stream",
     "text": [
      "Processing rows:   6%|▌         | 74/1224 [09:21<2:05:13,  6.53s/it]"
     ]
    },
    {
     "name": "stdout",
     "output_type": "stream",
     "text": [
      "On 6.05%\n",
      "time elapsed: 561(s), time left: 8730(s), estimated finish time: 02:34:04\n"
     ]
    },
    {
     "name": "stderr",
     "output_type": "stream",
     "text": [
      "Processing rows:   6%|▌         | 75/1224 [09:29<2:14:09,  7.01s/it]"
     ]
    },
    {
     "name": "stdout",
     "output_type": "stream",
     "text": [
      "On 6.13%\n",
      "time elapsed: 569(s), time left: 8730(s), estimated finish time: 02:34:13\n"
     ]
    },
    {
     "name": "stderr",
     "output_type": "stream",
     "text": [
      "Processing rows:   6%|▌         | 76/1224 [09:33<1:53:16,  5.92s/it]"
     ]
    },
    {
     "name": "stdout",
     "output_type": "stream",
     "text": [
      "On 6.21%\n",
      "time elapsed: 573(s), time left: 8659(s), estimated finish time: 02:33:05\n"
     ]
    },
    {
     "name": "stderr",
     "output_type": "stream",
     "text": [
      "Processing rows:   6%|▋         | 77/1224 [09:42<2:14:23,  7.03s/it]"
     ]
    },
    {
     "name": "stdout",
     "output_type": "stream",
     "text": [
      "On 6.29%\n",
      "time elapsed: 582(s), time left: 8683(s), estimated finish time: 02:33:38\n"
     ]
    },
    {
     "name": "stderr",
     "output_type": "stream",
     "text": [
      "Processing rows:   6%|▋         | 78/1224 [09:46<1:54:34,  6.00s/it]"
     ]
    },
    {
     "name": "stdout",
     "output_type": "stream",
     "text": [
      "On 6.37%\n",
      "time elapsed: 586(s), time left: 8617(s), estimated finish time: 02:32:35\n"
     ]
    },
    {
     "name": "stderr",
     "output_type": "stream",
     "text": [
      "Processing rows:   6%|▋         | 79/1224 [09:49<1:39:28,  5.21s/it]"
     ]
    },
    {
     "name": "stdout",
     "output_type": "stream",
     "text": [
      "On 6.45%\n",
      "time elapsed: 589(s), time left: 8549(s), estimated finish time: 02:31:31\n"
     ]
    },
    {
     "name": "stderr",
     "output_type": "stream",
     "text": [
      "Processing rows:   7%|▋         | 80/1224 [09:53<1:32:18,  4.84s/it]"
     ]
    },
    {
     "name": "stdout",
     "output_type": "stream",
     "text": [
      "On 6.54%\n",
      "time elapsed: 593(s), time left: 8492(s), estimated finish time: 02:30:38\n"
     ]
    },
    {
     "name": "stderr",
     "output_type": "stream",
     "text": [
      "Processing rows:   7%|▋         | 81/1224 [09:57<1:23:24,  4.38s/it]"
     ]
    },
    {
     "name": "stdout",
     "output_type": "stream",
     "text": [
      "On 6.62%\n",
      "time elapsed: 597(s), time left: 8426(s), estimated finish time: 02:29:35\n"
     ]
    },
    {
     "name": "stderr",
     "output_type": "stream",
     "text": [
      "Processing rows:   7%|▋         | 82/1224 [10:00<1:18:12,  4.11s/it]"
     ]
    },
    {
     "name": "stdout",
     "output_type": "stream",
     "text": [
      "On 6.7%\n",
      "time elapsed: 600(s), time left: 8364(s), estimated finish time: 02:28:37\n"
     ]
    },
    {
     "name": "stderr",
     "output_type": "stream",
     "text": [
      "Processing rows:   7%|▋         | 83/1224 [10:04<1:17:22,  4.07s/it]"
     ]
    },
    {
     "name": "stdout",
     "output_type": "stream",
     "text": [
      "On 6.78%\n",
      "time elapsed: 604(s), time left: 8311(s), estimated finish time: 02:27:48\n"
     ]
    },
    {
     "name": "stderr",
     "output_type": "stream",
     "text": [
      "Processing rows:   7%|▋         | 84/1224 [10:07<1:13:00,  3.84s/it]"
     ]
    },
    {
     "name": "stdout",
     "output_type": "stream",
     "text": [
      "On 6.86%\n",
      "time elapsed: 607(s), time left: 8250(s), estimated finish time: 02:26:50\n"
     ]
    },
    {
     "name": "stderr",
     "output_type": "stream",
     "text": [
      "Processing rows:   7%|▋         | 85/1224 [10:15<1:35:34,  5.04s/it]"
     ]
    },
    {
     "name": "stdout",
     "output_type": "stream",
     "text": [
      "On 6.94%\n",
      "time elapsed: 615(s), time left: 8250(s), estimated finish time: 02:26:58\n"
     ]
    },
    {
     "name": "stderr",
     "output_type": "stream",
     "text": [
      "Processing rows:   7%|▋         | 86/1224 [10:24<1:58:18,  6.24s/it]"
     ]
    },
    {
     "name": "stdout",
     "output_type": "stream",
     "text": [
      "On 7.03%\n",
      "time elapsed: 624(s), time left: 8267(s), estimated finish time: 02:27:24\n"
     ]
    },
    {
     "name": "stderr",
     "output_type": "stream",
     "text": [
      "Processing rows:   7%|▋         | 87/1224 [10:28<1:41:30,  5.36s/it]"
     ]
    },
    {
     "name": "stdout",
     "output_type": "stream",
     "text": [
      "On 7.11%\n",
      "time elapsed: 628(s), time left: 8208(s), estimated finish time: 02:26:28\n"
     ]
    },
    {
     "name": "stderr",
     "output_type": "stream",
     "text": [
      "Processing rows:   7%|▋         | 88/1224 [10:31<1:30:38,  4.79s/it]"
     ]
    },
    {
     "name": "stdout",
     "output_type": "stream",
     "text": [
      "On 7.19%\n",
      "time elapsed: 631(s), time left: 8152(s), estimated finish time: 02:25:36\n"
     ]
    },
    {
     "name": "stderr",
     "output_type": "stream",
     "text": [
      "Processing rows:   7%|▋         | 89/1224 [10:34<1:22:21,  4.35s/it]"
     ]
    },
    {
     "name": "stdout",
     "output_type": "stream",
     "text": [
      "On 7.27%\n",
      "time elapsed: 634(s), time left: 8096(s), estimated finish time: 02:24:43\n"
     ]
    },
    {
     "name": "stderr",
     "output_type": "stream",
     "text": [
      "Processing rows:   7%|▋         | 90/1224 [10:38<1:17:09,  4.08s/it]"
     ]
    },
    {
     "name": "stdout",
     "output_type": "stream",
     "text": [
      "On 7.35%\n",
      "time elapsed: 638(s), time left: 8043(s), estimated finish time: 02:23:53\n"
     ]
    },
    {
     "name": "stderr",
     "output_type": "stream",
     "text": [
      "Processing rows:   7%|▋         | 91/1224 [10:41<1:13:39,  3.90s/it]"
     ]
    },
    {
     "name": "stdout",
     "output_type": "stream",
     "text": [
      "On 7.43%\n",
      "time elapsed: 641(s), time left: 7990(s), estimated finish time: 02:23:04\n"
     ]
    },
    {
     "name": "stderr",
     "output_type": "stream",
     "text": [
      "Processing rows:   8%|▊         | 92/1224 [10:45<1:11:46,  3.80s/it]"
     ]
    },
    {
     "name": "stdout",
     "output_type": "stream",
     "text": [
      "On 7.52%\n",
      "time elapsed: 645(s), time left: 7941(s), estimated finish time: 02:22:18\n"
     ]
    },
    {
     "name": "stderr",
     "output_type": "stream",
     "text": [
      "Processing rows:   8%|▊         | 93/1224 [10:53<1:34:22,  5.01s/it]"
     ]
    },
    {
     "name": "stdout",
     "output_type": "stream",
     "text": [
      "On 7.6%\n",
      "time elapsed: 653(s), time left: 7943(s), estimated finish time: 02:22:29\n"
     ]
    },
    {
     "name": "stderr",
     "output_type": "stream",
     "text": [
      "Processing rows:   8%|▊         | 94/1224 [11:01<1:53:15,  6.01s/it]"
     ]
    },
    {
     "name": "stdout",
     "output_type": "stream",
     "text": [
      "On 7.68%\n",
      "time elapsed: 661(s), time left: 7952(s), estimated finish time: 02:22:46\n"
     ]
    },
    {
     "name": "stderr",
     "output_type": "stream",
     "text": [
      "Processing rows:   8%|▊         | 95/1224 [11:05<1:42:14,  5.43s/it]"
     ]
    },
    {
     "name": "stdout",
     "output_type": "stream",
     "text": [
      "On 7.76%\n",
      "time elapsed: 665(s), time left: 7910(s), estimated finish time: 02:22:08\n"
     ]
    },
    {
     "name": "stderr",
     "output_type": "stream",
     "text": [
      "Processing rows:   8%|▊         | 96/1224 [11:09<1:32:08,  4.90s/it]"
     ]
    },
    {
     "name": "stdout",
     "output_type": "stream",
     "text": [
      "On 7.84%\n",
      "time elapsed: 669(s), time left: 7864(s), estimated finish time: 02:21:25\n"
     ]
    },
    {
     "name": "stderr",
     "output_type": "stream",
     "text": [
      "Processing rows:   8%|▊         | 97/1224 [11:18<1:57:50,  6.27s/it]"
     ]
    },
    {
     "name": "stdout",
     "output_type": "stream",
     "text": [
      "On 7.92%\n",
      "time elapsed: 678(s), time left: 7886(s), estimated finish time: 02:21:57\n"
     ]
    },
    {
     "name": "stderr",
     "output_type": "stream",
     "text": [
      "Processing rows:   8%|▊         | 98/1224 [11:22<1:41:34,  5.41s/it]"
     ]
    },
    {
     "name": "stdout",
     "output_type": "stream",
     "text": [
      "On 8.01%\n",
      "time elapsed: 682(s), time left: 7838(s), estimated finish time: 02:21:12\n"
     ]
    },
    {
     "name": "stderr",
     "output_type": "stream",
     "text": [
      "Processing rows:   8%|▊         | 99/1224 [11:25<1:30:49,  4.84s/it]"
     ]
    },
    {
     "name": "stdout",
     "output_type": "stream",
     "text": [
      "On 8.09%\n",
      "time elapsed: 685(s), time left: 7792(s), estimated finish time: 02:20:29\n"
     ]
    },
    {
     "name": "stderr",
     "output_type": "stream",
     "text": [
      "Processing rows:   8%|▊         | 100/1224 [11:29<1:23:14,  4.44s/it]"
     ]
    },
    {
     "name": "stdout",
     "output_type": "stream",
     "text": [
      "On 8.17%\n",
      "time elapsed: 689(s), time left: 7746(s), estimated finish time: 02:19:48\n"
     ]
    },
    {
     "name": "stderr",
     "output_type": "stream",
     "text": [
      "Processing rows:   8%|▊         | 101/1224 [11:33<1:20:34,  4.30s/it]"
     ]
    },
    {
     "name": "stdout",
     "output_type": "stream",
     "text": [
      "On 8.25%\n",
      "time elapsed: 693(s), time left: 7707(s), estimated finish time: 02:19:12\n"
     ]
    },
    {
     "name": "stderr",
     "output_type": "stream",
     "text": [
      "Processing rows:   8%|▊         | 102/1224 [11:41<1:42:05,  5.46s/it]"
     ]
    },
    {
     "name": "stdout",
     "output_type": "stream",
     "text": [
      "On 8.33%\n",
      "time elapsed: 701(s), time left: 7714(s), estimated finish time: 02:19:28\n"
     ]
    },
    {
     "name": "stderr",
     "output_type": "stream",
     "text": [
      "Processing rows:   8%|▊         | 103/1224 [11:45<1:32:41,  4.96s/it]"
     ]
    },
    {
     "name": "stdout",
     "output_type": "stream",
     "text": [
      "On 8.42%\n",
      "time elapsed: 705(s), time left: 7674(s), estimated finish time: 02:18:51\n"
     ]
    },
    {
     "name": "stderr",
     "output_type": "stream",
     "text": [
      "Processing rows:   8%|▊         | 104/1224 [11:54<1:56:26,  6.24s/it]"
     ]
    },
    {
     "name": "stdout",
     "output_type": "stream",
     "text": [
      "On 8.5%\n",
      "time elapsed: 714(s), time left: 7693(s), estimated finish time: 02:19:19\n"
     ]
    },
    {
     "name": "stderr",
     "output_type": "stream",
     "text": [
      "Processing rows:   9%|▊         | 105/1224 [12:03<2:13:39,  7.17s/it]"
     ]
    },
    {
     "name": "stdout",
     "output_type": "stream",
     "text": [
      "On 8.58%\n",
      "time elapsed: 723(s), time left: 7712(s), estimated finish time: 02:19:48\n"
     ]
    },
    {
     "name": "stderr",
     "output_type": "stream",
     "text": [
      "Processing rows:   9%|▊         | 106/1224 [12:07<1:53:55,  6.11s/it]"
     ]
    },
    {
     "name": "stdout",
     "output_type": "stream",
     "text": [
      "On 8.66%\n",
      "time elapsed: 727(s), time left: 7671(s), estimated finish time: 02:19:11\n"
     ]
    },
    {
     "name": "stderr",
     "output_type": "stream",
     "text": [
      "Processing rows:   9%|▊         | 107/1224 [12:11<1:42:19,  5.50s/it]"
     ]
    },
    {
     "name": "stdout",
     "output_type": "stream",
     "text": [
      "On 8.74%\n",
      "time elapsed: 731(s), time left: 7635(s), estimated finish time: 02:18:38\n"
     ]
    },
    {
     "name": "stderr",
     "output_type": "stream",
     "text": [
      "Processing rows:   9%|▉         | 108/1224 [12:21<2:06:34,  6.81s/it]"
     ]
    },
    {
     "name": "stdout",
     "output_type": "stream",
     "text": [
      "On 8.82%\n",
      "time elapsed: 741(s), time left: 7659(s), estimated finish time: 02:19:13\n"
     ]
    },
    {
     "name": "stderr",
     "output_type": "stream",
     "text": [
      "Processing rows:   9%|▉         | 109/1224 [12:25<1:49:57,  5.92s/it]"
     ]
    },
    {
     "name": "stdout",
     "output_type": "stream",
     "text": [
      "On 8.91%\n",
      "time elapsed: 745(s), time left: 7621(s), estimated finish time: 02:18:39\n"
     ]
    },
    {
     "name": "stderr",
     "output_type": "stream",
     "text": [
      "Processing rows:   9%|▉         | 110/1224 [12:27<1:28:22,  4.76s/it]"
     ]
    },
    {
     "name": "stdout",
     "output_type": "stream",
     "text": [
      "On 8.99%\n",
      "time elapsed: 747(s), time left: 7566(s), estimated finish time: 02:17:46\n"
     ]
    },
    {
     "name": "stderr",
     "output_type": "stream",
     "text": [
      "Processing rows:   9%|▉         | 111/1224 [12:30<1:19:59,  4.31s/it]"
     ]
    },
    {
     "name": "stdout",
     "output_type": "stream",
     "text": [
      "On 9.07%\n",
      "time elapsed: 750(s), time left: 7524(s), estimated finish time: 02:17:07\n"
     ]
    },
    {
     "name": "stderr",
     "output_type": "stream",
     "text": [
      "Processing rows:   9%|▉         | 112/1224 [12:34<1:18:32,  4.24s/it]"
     ]
    },
    {
     "name": "stdout",
     "output_type": "stream",
     "text": [
      "On 9.15%\n",
      "time elapsed: 754(s), time left: 7491(s), estimated finish time: 02:16:37\n"
     ]
    },
    {
     "name": "stderr",
     "output_type": "stream",
     "text": [
      "Processing rows:   9%|▉         | 113/1224 [12:38<1:14:38,  4.03s/it]"
     ]
    },
    {
     "name": "stdout",
     "output_type": "stream",
     "text": [
      "On 9.23%\n",
      "time elapsed: 758(s), time left: 7453(s), estimated finish time: 02:16:03\n"
     ]
    },
    {
     "name": "stderr",
     "output_type": "stream",
     "text": [
      "Processing rows:   9%|▉         | 114/1224 [12:41<1:11:41,  3.87s/it]"
     ]
    },
    {
     "name": "stdout",
     "output_type": "stream",
     "text": [
      "On 9.31%\n",
      "time elapsed: 761(s), time left: 7415(s), estimated finish time: 02:15:28\n"
     ]
    },
    {
     "name": "stderr",
     "output_type": "stream",
     "text": [
      "Processing rows:   9%|▉         | 115/1224 [12:45<1:10:18,  3.80s/it]"
     ]
    },
    {
     "name": "stdout",
     "output_type": "stream",
     "text": [
      "On 9.4%\n",
      "time elapsed: 765(s), time left: 7379(s), estimated finish time: 02:14:56\n"
     ]
    },
    {
     "name": "stderr",
     "output_type": "stream",
     "text": [
      "Processing rows:   9%|▉         | 116/1224 [12:48<1:09:00,  3.74s/it]"
     ]
    },
    {
     "name": "stdout",
     "output_type": "stream",
     "text": [
      "On 9.48%\n",
      "time elapsed: 768(s), time left: 7343(s), estimated finish time: 02:14:24\n"
     ]
    },
    {
     "name": "stderr",
     "output_type": "stream",
     "text": [
      "Processing rows:  10%|▉         | 117/1224 [12:52<1:09:14,  3.75s/it]"
     ]
    },
    {
     "name": "stdout",
     "output_type": "stream",
     "text": [
      "On 9.56%\n",
      "time elapsed: 772(s), time left: 7309(s), estimated finish time: 02:13:54\n"
     ]
    },
    {
     "name": "stderr",
     "output_type": "stream",
     "text": [
      "Processing rows:  10%|▉         | 118/1224 [12:56<1:08:50,  3.73s/it]"
     ]
    },
    {
     "name": "stdout",
     "output_type": "stream",
     "text": [
      "On 9.64%\n",
      "time elapsed: 776(s), time left: 7275(s), estimated finish time: 02:13:24\n"
     ]
    },
    {
     "name": "stderr",
     "output_type": "stream",
     "text": [
      "Processing rows:  10%|▉         | 119/1224 [13:00<1:10:00,  3.80s/it]"
     ]
    },
    {
     "name": "stdout",
     "output_type": "stream",
     "text": [
      "On 9.72%\n",
      "time elapsed: 780(s), time left: 7244(s), estimated finish time: 02:12:57\n"
     ]
    },
    {
     "name": "stderr",
     "output_type": "stream",
     "text": [
      "Processing rows:  10%|▉         | 120/1224 [13:03<1:08:11,  3.71s/it]"
     ]
    },
    {
     "name": "stdout",
     "output_type": "stream",
     "text": [
      "On 9.8%\n",
      "time elapsed: 783(s), time left: 7210(s), estimated finish time: 02:12:25\n"
     ]
    },
    {
     "name": "stderr",
     "output_type": "stream",
     "text": [
      "Processing rows:  10%|▉         | 121/1224 [13:07<1:09:34,  3.78s/it]"
     ]
    },
    {
     "name": "stdout",
     "output_type": "stream",
     "text": [
      "On 9.89%\n",
      "time elapsed: 787(s), time left: 7180(s), estimated finish time: 02:12:00\n"
     ]
    },
    {
     "name": "stderr",
     "output_type": "stream",
     "text": [
      "Processing rows:  10%|▉         | 122/1224 [13:11<1:08:41,  3.74s/it]"
     ]
    },
    {
     "name": "stdout",
     "output_type": "stream",
     "text": [
      "On 9.97%\n",
      "time elapsed: 791(s), time left: 7147(s), estimated finish time: 02:11:31\n"
     ]
    },
    {
     "name": "stderr",
     "output_type": "stream",
     "text": [
      "Processing rows:  10%|█         | 123/1224 [13:14<1:06:26,  3.62s/it]"
     ]
    },
    {
     "name": "stdout",
     "output_type": "stream",
     "text": [
      "On 10.05%\n",
      "time elapsed: 794(s), time left: 7113(s), estimated finish time: 02:10:59\n"
     ]
    },
    {
     "name": "stderr",
     "output_type": "stream",
     "text": [
      "Processing rows:  10%|█         | 124/1224 [13:18<1:07:23,  3.68s/it]"
     ]
    },
    {
     "name": "stdout",
     "output_type": "stream",
     "text": [
      "On 10.13%\n",
      "time elapsed: 798(s), time left: 7083(s), estimated finish time: 02:10:33\n"
     ]
    },
    {
     "name": "stderr",
     "output_type": "stream",
     "text": [
      "Processing rows:  10%|█         | 125/1224 [13:22<1:08:36,  3.75s/it]"
     ]
    },
    {
     "name": "stdout",
     "output_type": "stream",
     "text": [
      "On 10.21%\n",
      "time elapsed: 802(s), time left: 7054(s), estimated finish time: 02:10:08\n"
     ]
    },
    {
     "name": "stderr",
     "output_type": "stream",
     "text": [
      "Processing rows:  10%|█         | 126/1224 [13:25<1:08:04,  3.72s/it]"
     ]
    },
    {
     "name": "stdout",
     "output_type": "stream",
     "text": [
      "On 10.29%\n",
      "time elapsed: 806(s), time left: 7023(s), estimated finish time: 02:09:42\n"
     ]
    },
    {
     "name": "stderr",
     "output_type": "stream",
     "text": [
      "Processing rows:  10%|█         | 127/1224 [13:29<1:09:05,  3.78s/it]"
     ]
    },
    {
     "name": "stdout",
     "output_type": "stream",
     "text": [
      "On 10.38%\n",
      "time elapsed: 809(s), time left: 6996(s), estimated finish time: 02:09:18\n"
     ]
    },
    {
     "name": "stderr",
     "output_type": "stream",
     "text": [
      "Processing rows:  10%|█         | 128/1224 [13:33<1:07:55,  3.72s/it]"
     ]
    },
    {
     "name": "stdout",
     "output_type": "stream",
     "text": [
      "On 10.46%\n",
      "time elapsed: 813(s), time left: 6965(s), estimated finish time: 02:08:51\n"
     ]
    },
    {
     "name": "stderr",
     "output_type": "stream",
     "text": [
      "Processing rows:  11%|█         | 129/1224 [13:36<1:05:52,  3.61s/it]"
     ]
    },
    {
     "name": "stdout",
     "output_type": "stream",
     "text": [
      "On 10.54%\n",
      "time elapsed: 816(s), time left: 6933(s), estimated finish time: 02:08:23\n"
     ]
    },
    {
     "name": "stderr",
     "output_type": "stream",
     "text": [
      "Processing rows:  11%|█         | 130/1224 [13:40<1:08:05,  3.73s/it]"
     ]
    },
    {
     "name": "stdout",
     "output_type": "stream",
     "text": [
      "On 10.62%\n",
      "time elapsed: 820(s), time left: 6908(s), estimated finish time: 02:08:01\n"
     ]
    },
    {
     "name": "stderr",
     "output_type": "stream",
     "text": [
      "Processing rows:  11%|█         | 131/1224 [13:42<58:45,  3.23s/it]  "
     ]
    },
    {
     "name": "stdout",
     "output_type": "stream",
     "text": [
      "On 10.7%\n",
      "time elapsed: 822(s), time left: 6866(s), estimated finish time: 02:07:21\n"
     ]
    },
    {
     "name": "stderr",
     "output_type": "stream",
     "text": [
      "Processing rows:  11%|█         | 132/1224 [13:46<1:00:13,  3.31s/it]"
     ]
    },
    {
     "name": "stdout",
     "output_type": "stream",
     "text": [
      "On 10.78%\n",
      "time elapsed: 826(s), time left: 6836(s), estimated finish time: 02:06:55\n"
     ]
    },
    {
     "name": "stderr",
     "output_type": "stream",
     "text": [
      "Processing rows:  11%|█         | 133/1224 [13:49<1:01:31,  3.38s/it]"
     ]
    },
    {
     "name": "stdout",
     "output_type": "stream",
     "text": [
      "On 10.87%\n",
      "time elapsed: 829(s), time left: 6808(s), estimated finish time: 02:06:30\n"
     ]
    },
    {
     "name": "stderr",
     "output_type": "stream",
     "text": [
      "Processing rows:  11%|█         | 134/1224 [13:53<1:02:46,  3.46s/it]"
     ]
    },
    {
     "name": "stdout",
     "output_type": "stream",
     "text": [
      "On 10.95%\n",
      "time elapsed: 833(s), time left: 6780(s), estimated finish time: 02:06:06\n"
     ]
    },
    {
     "name": "stderr",
     "output_type": "stream",
     "text": [
      "Processing rows:  11%|█         | 135/1224 [13:57<1:02:35,  3.45s/it]"
     ]
    },
    {
     "name": "stdout",
     "output_type": "stream",
     "text": [
      "On 11.03%\n",
      "time elapsed: 837(s), time left: 6752(s), estimated finish time: 02:05:41\n"
     ]
    },
    {
     "name": "stderr",
     "output_type": "stream",
     "text": [
      "Processing rows:  11%|█         | 136/1224 [14:00<1:03:35,  3.51s/it]"
     ]
    },
    {
     "name": "stdout",
     "output_type": "stream",
     "text": [
      "On 11.11%\n",
      "time elapsed: 840(s), time left: 6725(s), estimated finish time: 02:05:18\n"
     ]
    },
    {
     "name": "stderr",
     "output_type": "stream",
     "text": [
      "Processing rows:  11%|█         | 137/1224 [14:04<1:04:20,  3.55s/it]"
     ]
    },
    {
     "name": "stdout",
     "output_type": "stream",
     "text": [
      "On 11.19%\n",
      "time elapsed: 844(s), time left: 6699(s), estimated finish time: 02:04:55\n"
     ]
    },
    {
     "name": "stderr",
     "output_type": "stream",
     "text": [
      "Processing rows:  11%|█▏        | 138/1224 [14:08<1:07:55,  3.75s/it]"
     ]
    },
    {
     "name": "stdout",
     "output_type": "stream",
     "text": [
      "On 11.27%\n",
      "time elapsed: 848(s), time left: 6677(s), estimated finish time: 02:04:38\n"
     ]
    },
    {
     "name": "stderr",
     "output_type": "stream",
     "text": [
      "Processing rows:  11%|█▏        | 139/1224 [14:11<1:05:37,  3.63s/it]"
     ]
    },
    {
     "name": "stdout",
     "output_type": "stream",
     "text": [
      "On 11.36%\n",
      "time elapsed: 851(s), time left: 6649(s), estimated finish time: 02:04:13\n"
     ]
    },
    {
     "name": "stderr",
     "output_type": "stream",
     "text": [
      "Processing rows:  11%|█▏        | 140/1224 [14:15<1:03:58,  3.54s/it]"
     ]
    },
    {
     "name": "stdout",
     "output_type": "stream",
     "text": [
      "On 11.44%\n",
      "time elapsed: 855(s), time left: 6622(s), estimated finish time: 02:03:49\n"
     ]
    },
    {
     "name": "stderr",
     "output_type": "stream",
     "text": [
      "Processing rows:  12%|█▏        | 141/1224 [14:16<54:25,  3.02s/it]  "
     ]
    },
    {
     "name": "stdout",
     "output_type": "stream",
     "text": [
      "On 11.52%\n",
      "time elapsed: 857(s), time left: 6582(s), estimated finish time: 02:03:12\n"
     ]
    },
    {
     "name": "stderr",
     "output_type": "stream",
     "text": [
      "Processing rows:  12%|█▏        | 142/1224 [14:20<56:39,  3.14s/it]"
     ]
    },
    {
     "name": "stdout",
     "output_type": "stream",
     "text": [
      "On 11.6%\n",
      "time elapsed: 860(s), time left: 6556(s), estimated finish time: 02:02:49\n"
     ]
    },
    {
     "name": "stderr",
     "output_type": "stream",
     "text": [
      "Processing rows:  12%|█▏        | 143/1224 [14:23<57:43,  3.20s/it]"
     ]
    },
    {
     "name": "stdout",
     "output_type": "stream",
     "text": [
      "On 11.68%\n",
      "time elapsed: 863(s), time left: 6530(s), estimated finish time: 02:02:26\n"
     ]
    },
    {
     "name": "stderr",
     "output_type": "stream",
     "text": [
      "Processing rows:  12%|█▏        | 144/1224 [14:27<1:00:39,  3.37s/it]"
     ]
    },
    {
     "name": "stdout",
     "output_type": "stream",
     "text": [
      "On 11.76%\n",
      "time elapsed: 867(s), time left: 6506(s), estimated finish time: 02:02:06\n"
     ]
    },
    {
     "name": "stderr",
     "output_type": "stream",
     "text": [
      "Processing rows:  12%|█▏        | 145/1224 [14:36<1:29:38,  4.99s/it]"
     ]
    },
    {
     "name": "stdout",
     "output_type": "stream",
     "text": [
      "On 11.85%\n",
      "time elapsed: 876(s), time left: 6521(s), estimated finish time: 02:02:29\n"
     ]
    },
    {
     "name": "stderr",
     "output_type": "stream",
     "text": [
      "Processing rows:  12%|█▏        | 146/1224 [14:43<1:41:15,  5.64s/it]"
     ]
    },
    {
     "name": "stdout",
     "output_type": "stream",
     "text": [
      "On 11.93%\n",
      "time elapsed: 883(s), time left: 6523(s), estimated finish time: 02:02:39\n"
     ]
    },
    {
     "name": "stderr",
     "output_type": "stream",
     "text": [
      "Processing rows:  12%|█▏        | 147/1224 [14:51<1:54:57,  6.40s/it]"
     ]
    },
    {
     "name": "stdout",
     "output_type": "stream",
     "text": [
      "On 12.01%\n",
      "time elapsed: 891(s), time left: 6532(s), estimated finish time: 02:02:56\n"
     ]
    },
    {
     "name": "stderr",
     "output_type": "stream",
     "text": [
      "Processing rows:  12%|█▏        | 148/1224 [14:59<2:03:20,  6.88s/it]"
     ]
    },
    {
     "name": "stdout",
     "output_type": "stream",
     "text": [
      "On 12.09%\n",
      "time elapsed: 899(s), time left: 6540(s), estimated finish time: 02:03:12\n"
     ]
    },
    {
     "name": "stderr",
     "output_type": "stream",
     "text": [
      "Processing rows:  12%|█▏        | 149/1224 [15:08<2:12:22,  7.39s/it]"
     ]
    },
    {
     "name": "stdout",
     "output_type": "stream",
     "text": [
      "On 12.17%\n",
      "time elapsed: 908(s), time left: 6552(s), estimated finish time: 02:03:33\n"
     ]
    },
    {
     "name": "stderr",
     "output_type": "stream",
     "text": [
      "Processing rows:  12%|█▏        | 150/1224 [15:16<2:17:44,  7.70s/it]"
     ]
    },
    {
     "name": "stdout",
     "output_type": "stream",
     "text": [
      "On 12.25%\n",
      "time elapsed: 916(s), time left: 6563(s), estimated finish time: 02:03:52\n"
     ]
    },
    {
     "name": "stderr",
     "output_type": "stream",
     "text": [
      "Processing rows:  12%|█▏        | 151/1224 [15:24<2:17:00,  7.66s/it]"
     ]
    },
    {
     "name": "stdout",
     "output_type": "stream",
     "text": [
      "On 12.34%\n",
      "time elapsed: 924(s), time left: 6567(s), estimated finish time: 02:04:04\n"
     ]
    },
    {
     "name": "stderr",
     "output_type": "stream",
     "text": [
      "Processing rows:  12%|█▏        | 152/1224 [15:32<2:18:45,  7.77s/it]"
     ]
    },
    {
     "name": "stdout",
     "output_type": "stream",
     "text": [
      "On 12.42%\n",
      "time elapsed: 932(s), time left: 6574(s), estimated finish time: 02:04:19\n"
     ]
    },
    {
     "name": "stderr",
     "output_type": "stream",
     "text": [
      "Processing rows:  12%|█▎        | 153/1224 [15:39<2:15:58,  7.62s/it]"
     ]
    },
    {
     "name": "stdout",
     "output_type": "stream",
     "text": [
      "On 12.5%\n",
      "time elapsed: 939(s), time left: 6576(s), estimated finish time: 02:04:28\n"
     ]
    },
    {
     "name": "stderr",
     "output_type": "stream",
     "text": [
      "Processing rows:  13%|█▎        | 154/1224 [15:46<2:15:13,  7.58s/it]"
     ]
    },
    {
     "name": "stdout",
     "output_type": "stream",
     "text": [
      "On 12.58%\n",
      "time elapsed: 947(s), time left: 6579(s), estimated finish time: 02:04:39\n"
     ]
    },
    {
     "name": "stderr",
     "output_type": "stream",
     "text": [
      "Processing rows:  13%|█▎        | 155/1224 [15:55<2:18:41,  7.78s/it]"
     ]
    },
    {
     "name": "stdout",
     "output_type": "stream",
     "text": [
      "On 12.66%\n",
      "time elapsed: 955(s), time left: 6588(s), estimated finish time: 02:04:55\n"
     ]
    },
    {
     "name": "stderr",
     "output_type": "stream",
     "text": [
      "Processing rows:  13%|█▎        | 156/1224 [16:02<2:16:17,  7.66s/it]"
     ]
    },
    {
     "name": "stdout",
     "output_type": "stream",
     "text": [
      "On 12.75%\n",
      "time elapsed: 962(s), time left: 6590(s), estimated finish time: 02:05:05\n"
     ]
    },
    {
     "name": "stderr",
     "output_type": "stream",
     "text": [
      "Processing rows:  13%|█▎        | 157/1224 [16:09<2:14:00,  7.54s/it]"
     ]
    },
    {
     "name": "stdout",
     "output_type": "stream",
     "text": [
      "On 12.83%\n",
      "time elapsed: 969(s), time left: 6591(s), estimated finish time: 02:05:13\n"
     ]
    },
    {
     "name": "stderr",
     "output_type": "stream",
     "text": [
      "Processing rows:  13%|█▎        | 158/1224 [16:18<2:17:12,  7.72s/it]"
     ]
    },
    {
     "name": "stdout",
     "output_type": "stream",
     "text": [
      "On 12.91%\n",
      "time elapsed: 978(s), time left: 6598(s), estimated finish time: 02:05:29\n"
     ]
    },
    {
     "name": "stderr",
     "output_type": "stream",
     "text": [
      "Processing rows:  13%|█▎        | 159/1224 [16:25<2:15:50,  7.65s/it]"
     ]
    },
    {
     "name": "stdout",
     "output_type": "stream",
     "text": [
      "On 12.99%\n",
      "time elapsed: 985(s), time left: 6601(s), estimated finish time: 02:05:39\n"
     ]
    },
    {
     "name": "stderr",
     "output_type": "stream",
     "text": [
      "Processing rows:  13%|█▎        | 160/1224 [16:32<2:13:22,  7.52s/it]"
     ]
    },
    {
     "name": "stdout",
     "output_type": "stream",
     "text": [
      "On 13.07%\n",
      "time elapsed: 992(s), time left: 6601(s), estimated finish time: 02:05:46\n"
     ]
    },
    {
     "name": "stderr",
     "output_type": "stream",
     "text": [
      "Processing rows:  13%|█▎        | 161/1224 [16:40<2:15:24,  7.64s/it]"
     ]
    },
    {
     "name": "stdout",
     "output_type": "stream",
     "text": [
      "On 13.15%\n",
      "time elapsed: 1000(s), time left: 6606(s), estimated finish time: 02:05:59\n"
     ]
    },
    {
     "name": "stderr",
     "output_type": "stream",
     "text": [
      "Processing rows:  13%|█▎        | 162/1224 [16:48<2:15:13,  7.64s/it]"
     ]
    },
    {
     "name": "stdout",
     "output_type": "stream",
     "text": [
      "On 13.24%\n",
      "time elapsed: 1008(s), time left: 6610(s), estimated finish time: 02:06:10\n"
     ]
    },
    {
     "name": "stderr",
     "output_type": "stream",
     "text": [
      "Processing rows:  13%|█▎        | 163/1224 [16:56<2:18:31,  7.83s/it]"
     ]
    },
    {
     "name": "stdout",
     "output_type": "stream",
     "text": [
      "On 13.32%\n",
      "time elapsed: 1016(s), time left: 6617(s), estimated finish time: 02:06:26\n"
     ]
    },
    {
     "name": "stderr",
     "output_type": "stream",
     "text": [
      "Processing rows:  13%|█▎        | 164/1224 [17:03<2:15:51,  7.69s/it]"
     ]
    },
    {
     "name": "stdout",
     "output_type": "stream",
     "text": [
      "On 13.4%\n",
      "time elapsed: 1023(s), time left: 6618(s), estimated finish time: 02:06:34\n"
     ]
    },
    {
     "name": "stderr",
     "output_type": "stream",
     "text": [
      "Processing rows:  13%|█▎        | 165/1224 [17:11<2:13:12,  7.55s/it]"
     ]
    },
    {
     "name": "stdout",
     "output_type": "stream",
     "text": [
      "On 13.48%\n",
      "time elapsed: 1031(s), time left: 6618(s), estimated finish time: 02:06:41\n"
     ]
    },
    {
     "name": "stderr",
     "output_type": "stream",
     "text": [
      "Processing rows:  14%|█▎        | 166/1224 [17:18<2:10:50,  7.42s/it]"
     ]
    },
    {
     "name": "stdout",
     "output_type": "stream",
     "text": [
      "On 13.56%\n",
      "time elapsed: 1038(s), time left: 6617(s), estimated finish time: 02:06:48\n"
     ]
    },
    {
     "name": "stderr",
     "output_type": "stream",
     "text": [
      "Processing rows:  14%|█▎        | 167/1224 [17:26<2:14:05,  7.61s/it]"
     ]
    },
    {
     "name": "stdout",
     "output_type": "stream",
     "text": [
      "On 13.64%\n",
      "time elapsed: 1046(s), time left: 6622(s), estimated finish time: 02:07:01\n"
     ]
    },
    {
     "name": "stderr",
     "output_type": "stream",
     "text": [
      "Processing rows:  14%|█▎        | 168/1224 [17:33<2:13:54,  7.61s/it]"
     ]
    },
    {
     "name": "stdout",
     "output_type": "stream",
     "text": [
      "On 13.73%\n",
      "time elapsed: 1053(s), time left: 6624(s), estimated finish time: 02:07:11\n"
     ]
    },
    {
     "name": "stderr",
     "output_type": "stream",
     "text": [
      "Processing rows:  14%|█▍        | 169/1224 [17:42<2:17:29,  7.82s/it]"
     ]
    },
    {
     "name": "stdout",
     "output_type": "stream",
     "text": [
      "On 13.81%\n",
      "time elapsed: 1062(s), time left: 6631(s), estimated finish time: 02:07:25\n"
     ]
    },
    {
     "name": "stderr",
     "output_type": "stream",
     "text": [
      "Processing rows:  14%|█▍        | 170/1224 [17:50<2:18:38,  7.89s/it]"
     ]
    },
    {
     "name": "stdout",
     "output_type": "stream",
     "text": [
      "On 13.89%\n",
      "time elapsed: 1070(s), time left: 6636(s), estimated finish time: 02:07:38\n"
     ]
    },
    {
     "name": "stderr",
     "output_type": "stream",
     "text": [
      "Processing rows:  14%|█▍        | 171/1224 [17:58<2:20:14,  7.99s/it]"
     ]
    },
    {
     "name": "stdout",
     "output_type": "stream",
     "text": [
      "On 13.97%\n",
      "time elapsed: 1078(s), time left: 6641(s), estimated finish time: 02:07:52\n"
     ]
    },
    {
     "name": "stderr",
     "output_type": "stream",
     "text": [
      "Processing rows:  14%|█▍        | 172/1224 [18:05<2:17:05,  7.82s/it]"
     ]
    },
    {
     "name": "stdout",
     "output_type": "stream",
     "text": [
      "On 14.05%\n",
      "time elapsed: 1085(s), time left: 6642(s), estimated finish time: 02:08:00\n"
     ]
    },
    {
     "name": "stderr",
     "output_type": "stream",
     "text": [
      "Processing rows:  14%|█▍        | 173/1224 [18:13<2:18:06,  7.88s/it]"
     ]
    },
    {
     "name": "stdout",
     "output_type": "stream",
     "text": [
      "On 14.13%\n",
      "time elapsed: 1094(s), time left: 6646(s), estimated finish time: 02:08:12\n"
     ]
    },
    {
     "name": "stderr",
     "output_type": "stream",
     "text": [
      "Processing rows:  14%|█▍        | 174/1224 [18:22<2:21:35,  8.09s/it]"
     ]
    },
    {
     "name": "stdout",
     "output_type": "stream",
     "text": [
      "On 14.22%\n",
      "time elapsed: 1102(s), time left: 6653(s), estimated finish time: 02:08:28\n"
     ]
    },
    {
     "name": "stderr",
     "output_type": "stream",
     "text": [
      "Processing rows:  14%|█▍        | 175/1224 [18:30<2:18:43,  7.93s/it]"
     ]
    },
    {
     "name": "stdout",
     "output_type": "stream",
     "text": [
      "On 14.3%\n",
      "time elapsed: 1110(s), time left: 6654(s), estimated finish time: 02:08:36\n"
     ]
    },
    {
     "name": "stderr",
     "output_type": "stream",
     "text": [
      "Processing rows:  14%|█▍        | 176/1224 [18:38<2:19:03,  7.96s/it]"
     ]
    },
    {
     "name": "stdout",
     "output_type": "stream",
     "text": [
      "On 14.38%\n",
      "time elapsed: 1118(s), time left: 6658(s), estimated finish time: 02:08:48\n"
     ]
    },
    {
     "name": "stderr",
     "output_type": "stream",
     "text": [
      "Processing rows:  14%|█▍        | 177/1224 [18:45<2:17:44,  7.89s/it]"
     ]
    },
    {
     "name": "stdout",
     "output_type": "stream",
     "text": [
      "On 14.46%\n",
      "time elapsed: 1125(s), time left: 6660(s), estimated finish time: 02:08:58\n"
     ]
    },
    {
     "name": "stderr",
     "output_type": "stream",
     "text": [
      "Processing rows:  15%|█▍        | 178/1224 [18:53<2:16:24,  7.82s/it]"
     ]
    },
    {
     "name": "stdout",
     "output_type": "stream",
     "text": [
      "On 14.54%\n",
      "time elapsed: 1133(s), time left: 6661(s), estimated finish time: 02:09:07\n"
     ]
    },
    {
     "name": "stderr",
     "output_type": "stream",
     "text": [
      "Processing rows:  15%|█▍        | 179/1224 [19:00<2:14:15,  7.71s/it]"
     ]
    },
    {
     "name": "stdout",
     "output_type": "stream",
     "text": [
      "On 14.62%\n",
      "time elapsed: 1141(s), time left: 6661(s), estimated finish time: 02:09:14\n"
     ]
    },
    {
     "name": "stderr",
     "output_type": "stream",
     "text": [
      "Processing rows:  15%|█▍        | 180/1224 [19:08<2:15:06,  7.77s/it]"
     ]
    },
    {
     "name": "stdout",
     "output_type": "stream",
     "text": [
      "On 14.71%\n",
      "time elapsed: 1148(s), time left: 6663(s), estimated finish time: 02:09:24\n"
     ]
    },
    {
     "name": "stderr",
     "output_type": "stream",
     "text": [
      "Processing rows:  15%|█▍        | 181/1224 [19:14<2:04:08,  7.14s/it]"
     ]
    },
    {
     "name": "stdout",
     "output_type": "stream",
     "text": [
      "On 14.79%\n",
      "time elapsed: 1154(s), time left: 6653(s), estimated finish time: 02:09:20\n"
     ]
    },
    {
     "name": "stderr",
     "output_type": "stream",
     "text": [
      "Processing rows:  15%|█▍        | 182/1224 [19:18<1:49:12,  6.29s/it]"
     ]
    },
    {
     "name": "stdout",
     "output_type": "stream",
     "text": [
      "On 14.87%\n",
      "time elapsed: 1158(s), time left: 6634(s), estimated finish time: 02:09:06\n"
     ]
    },
    {
     "name": "stderr",
     "output_type": "stream",
     "text": [
      "Processing rows:  15%|█▍        | 183/1224 [19:28<2:07:33,  7.35s/it]"
     ]
    },
    {
     "name": "stdout",
     "output_type": "stream",
     "text": [
      "On 14.95%\n",
      "time elapsed: 1168(s), time left: 6648(s), estimated finish time: 02:09:29\n"
     ]
    },
    {
     "name": "stderr",
     "output_type": "stream",
     "text": [
      "Processing rows:  15%|█▌        | 184/1224 [19:38<2:20:11,  8.09s/it]"
     ]
    },
    {
     "name": "stdout",
     "output_type": "stream",
     "text": [
      "On 15.03%\n",
      "time elapsed: 1178(s), time left: 6661(s), estimated finish time: 02:09:51\n"
     ]
    },
    {
     "name": "stderr",
     "output_type": "stream",
     "text": [
      "Processing rows:  15%|█▌        | 185/1224 [19:48<2:27:28,  8.52s/it]"
     ]
    },
    {
     "name": "stdout",
     "output_type": "stream",
     "text": [
      "On 15.11%\n",
      "time elapsed: 1188(s), time left: 6672(s), estimated finish time: 02:10:12\n"
     ]
    },
    {
     "name": "stderr",
     "output_type": "stream",
     "text": [
      "Processing rows:  15%|█▌        | 186/1224 [19:51<2:00:23,  6.96s/it]"
     ]
    },
    {
     "name": "stdout",
     "output_type": "stream",
     "text": [
      "On 15.2%\n",
      "time elapsed: 1191(s), time left: 6648(s), estimated finish time: 02:09:52\n"
     ]
    },
    {
     "name": "stderr",
     "output_type": "stream",
     "text": [
      "Processing rows:  15%|█▌        | 187/1224 [20:00<2:12:04,  7.64s/it]"
     ]
    },
    {
     "name": "stdout",
     "output_type": "stream",
     "text": [
      "On 15.28%\n",
      "time elapsed: 1200(s), time left: 6657(s), estimated finish time: 02:10:10\n"
     ]
    },
    {
     "name": "stderr",
     "output_type": "stream",
     "text": [
      "Processing rows:  15%|█▌        | 188/1224 [20:06<2:01:04,  7.01s/it]"
     ]
    },
    {
     "name": "stdout",
     "output_type": "stream",
     "text": [
      "On 15.36%\n",
      "time elapsed: 1206(s), time left: 6646(s), estimated finish time: 02:10:04\n"
     ]
    },
    {
     "name": "stderr",
     "output_type": "stream",
     "text": [
      "Processing rows:  15%|█▌        | 189/1224 [20:11<1:51:46,  6.48s/it]"
     ]
    },
    {
     "name": "stdout",
     "output_type": "stream",
     "text": [
      "On 15.44%\n",
      "time elapsed: 1211(s), time left: 6633(s), estimated finish time: 02:09:57\n"
     ]
    },
    {
     "name": "stderr",
     "output_type": "stream",
     "text": [
      "Processing rows:  16%|█▌        | 190/1224 [20:14<1:34:43,  5.50s/it]"
     ]
    },
    {
     "name": "stdout",
     "output_type": "stream",
     "text": [
      "On 15.52%\n",
      "time elapsed: 1214(s), time left: 6609(s), estimated finish time: 02:09:36\n"
     ]
    },
    {
     "name": "stderr",
     "output_type": "stream",
     "text": [
      "Processing rows:  16%|█▌        | 191/1224 [20:18<1:25:40,  4.98s/it]"
     ]
    },
    {
     "name": "stdout",
     "output_type": "stream",
     "text": [
      "On 15.6%\n",
      "time elapsed: 1218(s), time left: 6589(s), estimated finish time: 02:09:19\n"
     ]
    },
    {
     "name": "stderr",
     "output_type": "stream",
     "text": [
      "Processing rows:  16%|█▌        | 192/1224 [20:27<1:49:46,  6.38s/it]"
     ]
    },
    {
     "name": "stdout",
     "output_type": "stream",
     "text": [
      "On 15.69%\n",
      "time elapsed: 1228(s), time left: 6600(s), estimated finish time: 02:09:40\n"
     ]
    },
    {
     "name": "stderr",
     "output_type": "stream",
     "text": [
      "Processing rows:  16%|█▌        | 193/1224 [20:33<1:43:25,  6.02s/it]"
     ]
    },
    {
     "name": "stdout",
     "output_type": "stream",
     "text": [
      "On 15.77%\n",
      "time elapsed: 1233(s), time left: 6587(s), estimated finish time: 02:09:33\n"
     ]
    },
    {
     "name": "stderr",
     "output_type": "stream",
     "text": [
      "Processing rows:  16%|█▌        | 194/1224 [20:42<1:59:45,  6.98s/it]"
     ]
    },
    {
     "name": "stdout",
     "output_type": "stream",
     "text": [
      "On 15.85%\n",
      "time elapsed: 1242(s), time left: 6596(s), estimated finish time: 02:09:50\n"
     ]
    },
    {
     "name": "stderr",
     "output_type": "stream",
     "text": [
      "Processing rows:  16%|█▌        | 195/1224 [20:52<2:14:55,  7.87s/it]"
     ]
    },
    {
     "name": "stdout",
     "output_type": "stream",
     "text": [
      "On 15.93%\n",
      "time elapsed: 1252(s), time left: 6608(s), estimated finish time: 02:10:13\n"
     ]
    },
    {
     "name": "stderr",
     "output_type": "stream",
     "text": [
      "Processing rows:  16%|█▌        | 196/1224 [21:01<2:22:47,  8.33s/it]"
     ]
    },
    {
     "name": "stdout",
     "output_type": "stream",
     "text": [
      "On 16.01%\n",
      "time elapsed: 1261(s), time left: 6617(s), estimated finish time: 02:10:31\n"
     ]
    },
    {
     "name": "stderr",
     "output_type": "stream",
     "text": [
      "Processing rows:  16%|█▌        | 197/1224 [21:07<2:09:26,  7.56s/it]"
     ]
    },
    {
     "name": "stdout",
     "output_type": "stream",
     "text": [
      "On 16.09%\n",
      "time elapsed: 1267(s), time left: 6607(s), estimated finish time: 02:10:27\n"
     ]
    },
    {
     "name": "stderr",
     "output_type": "stream",
     "text": [
      "Processing rows:  16%|█▌        | 198/1224 [21:14<2:05:35,  7.34s/it]"
     ]
    },
    {
     "name": "stdout",
     "output_type": "stream",
     "text": [
      "On 16.18%\n",
      "time elapsed: 1274(s), time left: 6603(s), estimated finish time: 02:10:30\n"
     ]
    },
    {
     "name": "stderr",
     "output_type": "stream",
     "text": [
      "Processing rows:  16%|█▋        | 199/1224 [21:24<2:17:47,  8.07s/it]"
     ]
    },
    {
     "name": "stdout",
     "output_type": "stream",
     "text": [
      "On 16.26%\n",
      "time elapsed: 1284(s), time left: 6614(s), estimated finish time: 02:10:50\n"
     ]
    },
    {
     "name": "stderr",
     "output_type": "stream",
     "text": [
      "Processing rows:  16%|█▋        | 200/1224 [21:33<2:26:27,  8.58s/it]"
     ]
    },
    {
     "name": "stdout",
     "output_type": "stream",
     "text": [
      "On 16.34%\n",
      "time elapsed: 1293(s), time left: 6624(s), estimated finish time: 02:11:10\n"
     ]
    },
    {
     "name": "stderr",
     "output_type": "stream",
     "text": [
      "Processing rows:  16%|█▋        | 201/1224 [21:43<2:30:03,  8.80s/it]"
     ]
    },
    {
     "name": "stdout",
     "output_type": "stream",
     "text": [
      "On 16.42%\n",
      "time elapsed: 1303(s), time left: 6632(s), estimated finish time: 02:11:28\n"
     ]
    },
    {
     "name": "stderr",
     "output_type": "stream",
     "text": [
      "Processing rows:  17%|█▋        | 202/1224 [21:52<2:34:05,  9.05s/it]"
     ]
    },
    {
     "name": "stdout",
     "output_type": "stream",
     "text": [
      "On 16.5%\n",
      "time elapsed: 1312(s), time left: 6642(s), estimated finish time: 02:11:47\n"
     ]
    },
    {
     "name": "stderr",
     "output_type": "stream",
     "text": [
      "Processing rows:  17%|█▋        | 203/1224 [22:02<2:37:39,  9.27s/it]"
     ]
    },
    {
     "name": "stdout",
     "output_type": "stream",
     "text": [
      "On 16.58%\n",
      "time elapsed: 1322(s), time left: 6652(s), estimated finish time: 02:12:06\n"
     ]
    },
    {
     "name": "stderr",
     "output_type": "stream",
     "text": [
      "Processing rows:  17%|█▋        | 204/1224 [22:12<2:39:04,  9.36s/it]"
     ]
    },
    {
     "name": "stdout",
     "output_type": "stream",
     "text": [
      "On 16.67%\n",
      "time elapsed: 1332(s), time left: 6660(s), estimated finish time: 02:12:25\n"
     ]
    },
    {
     "name": "stderr",
     "output_type": "stream",
     "text": [
      "Processing rows:  17%|█▋        | 205/1224 [22:21<2:40:56,  9.48s/it]"
     ]
    },
    {
     "name": "stdout",
     "output_type": "stream",
     "text": [
      "On 16.75%\n",
      "time elapsed: 1341(s), time left: 6670(s), estimated finish time: 02:12:44\n"
     ]
    },
    {
     "name": "stderr",
     "output_type": "stream",
     "text": [
      "Processing rows:  17%|█▋        | 206/1224 [22:27<2:20:58,  8.31s/it]"
     ]
    },
    {
     "name": "stdout",
     "output_type": "stream",
     "text": [
      "On 16.83%\n",
      "time elapsed: 1347(s), time left: 6659(s), estimated finish time: 02:12:38\n"
     ]
    },
    {
     "name": "stderr",
     "output_type": "stream",
     "text": [
      "Processing rows:  17%|█▋        | 207/1224 [22:37<2:27:25,  8.70s/it]"
     ]
    },
    {
     "name": "stdout",
     "output_type": "stream",
     "text": [
      "On 16.91%\n",
      "time elapsed: 1357(s), time left: 6667(s), estimated finish time: 02:12:56\n"
     ]
    },
    {
     "name": "stderr",
     "output_type": "stream",
     "text": [
      "Processing rows:  17%|█▋        | 208/1224 [22:46<2:30:33,  8.89s/it]"
     ]
    },
    {
     "name": "stdout",
     "output_type": "stream",
     "text": [
      "On 16.99%\n",
      "time elapsed: 1366(s), time left: 6674(s), estimated finish time: 02:13:13\n"
     ]
    },
    {
     "name": "stderr",
     "output_type": "stream",
     "text": [
      "Processing rows:  17%|█▋        | 209/1224 [22:50<2:06:48,  7.50s/it]"
     ]
    },
    {
     "name": "stdout",
     "output_type": "stream",
     "text": [
      "On 17.08%\n",
      "time elapsed: 1370(s), time left: 6656(s), estimated finish time: 02:12:59\n"
     ]
    },
    {
     "name": "stderr",
     "output_type": "stream",
     "text": [
      "Processing rows:  17%|█▋        | 210/1224 [23:00<2:17:10,  8.12s/it]"
     ]
    },
    {
     "name": "stdout",
     "output_type": "stream",
     "text": [
      "On 17.16%\n",
      "time elapsed: 1380(s), time left: 6664(s), estimated finish time: 02:13:17\n"
     ]
    },
    {
     "name": "stderr",
     "output_type": "stream",
     "text": [
      "Processing rows:  17%|█▋        | 211/1224 [23:10<2:26:38,  8.69s/it]"
     ]
    },
    {
     "name": "stdout",
     "output_type": "stream",
     "text": [
      "On 17.24%\n",
      "time elapsed: 1390(s), time left: 6674(s), estimated finish time: 02:13:37\n"
     ]
    },
    {
     "name": "stderr",
     "output_type": "stream",
     "text": [
      "Processing rows:  17%|█▋        | 212/1224 [23:19<2:31:08,  8.96s/it]"
     ]
    },
    {
     "name": "stdout",
     "output_type": "stream",
     "text": [
      "On 17.32%\n",
      "time elapsed: 1399(s), time left: 6682(s), estimated finish time: 02:13:54\n"
     ]
    },
    {
     "name": "stderr",
     "output_type": "stream",
     "text": [
      "Processing rows:  17%|█▋        | 213/1224 [23:25<2:15:08,  8.02s/it]"
     ]
    },
    {
     "name": "stdout",
     "output_type": "stream",
     "text": [
      "On 17.4%\n",
      "time elapsed: 1405(s), time left: 6672(s), estimated finish time: 02:13:50\n"
     ]
    },
    {
     "name": "stderr",
     "output_type": "stream",
     "text": [
      "Processing rows:  17%|█▋        | 214/1224 [23:35<2:21:49,  8.43s/it]"
     ]
    },
    {
     "name": "stdout",
     "output_type": "stream",
     "text": [
      "On 17.48%\n",
      "time elapsed: 1415(s), time left: 6678(s), estimated finish time: 02:14:05\n"
     ]
    },
    {
     "name": "stderr",
     "output_type": "stream",
     "text": [
      "Processing rows:  18%|█▊        | 215/1224 [23:39<1:59:39,  7.12s/it]"
     ]
    },
    {
     "name": "stdout",
     "output_type": "stream",
     "text": [
      "On 17.57%\n",
      "time elapsed: 1419(s), time left: 6660(s), estimated finish time: 02:13:51\n"
     ]
    },
    {
     "name": "stderr",
     "output_type": "stream",
     "text": [
      "Processing rows:  18%|█▊        | 216/1224 [23:44<1:51:38,  6.64s/it]"
     ]
    },
    {
     "name": "stdout",
     "output_type": "stream",
     "text": [
      "On 17.65%\n",
      "time elapsed: 1424(s), time left: 6648(s), estimated finish time: 02:13:45\n"
     ]
    },
    {
     "name": "stderr",
     "output_type": "stream",
     "text": [
      "Processing rows:  18%|█▊        | 217/1224 [23:48<1:36:17,  5.74s/it]"
     ]
    },
    {
     "name": "stdout",
     "output_type": "stream",
     "text": [
      "On 17.73%\n",
      "time elapsed: 1428(s), time left: 6628(s), estimated finish time: 02:13:28\n"
     ]
    },
    {
     "name": "stderr",
     "output_type": "stream",
     "text": [
      "Processing rows:  18%|█▊        | 218/1224 [23:52<1:28:29,  5.28s/it]"
     ]
    },
    {
     "name": "stdout",
     "output_type": "stream",
     "text": [
      "On 17.81%\n",
      "time elapsed: 1432(s), time left: 6610(s), estimated finish time: 02:13:15\n"
     ]
    },
    {
     "name": "stderr",
     "output_type": "stream",
     "text": [
      "Processing rows:  18%|█▊        | 219/1224 [23:55<1:16:55,  4.59s/it]"
     ]
    },
    {
     "name": "stdout",
     "output_type": "stream",
     "text": [
      "On 17.89%\n",
      "time elapsed: 1435(s), time left: 6587(s), estimated finish time: 02:12:55\n"
     ]
    },
    {
     "name": "stderr",
     "output_type": "stream",
     "text": [
      "Processing rows:  18%|█▊        | 220/1224 [23:59<1:15:41,  4.52s/it]"
     ]
    },
    {
     "name": "stdout",
     "output_type": "stream",
     "text": [
      "On 17.97%\n",
      "time elapsed: 1439(s), time left: 6571(s), estimated finish time: 02:12:43\n"
     ]
    },
    {
     "name": "stderr",
     "output_type": "stream",
     "text": [
      "Processing rows:  18%|█▊        | 221/1224 [24:03<1:09:46,  4.17s/it]"
     ]
    },
    {
     "name": "stdout",
     "output_type": "stream",
     "text": [
      "On 18.06%\n",
      "time elapsed: 1443(s), time left: 6549(s), estimated finish time: 02:12:25\n"
     ]
    },
    {
     "name": "stderr",
     "output_type": "stream",
     "text": [
      "Processing rows:  18%|█▊        | 222/1224 [24:05<1:00:29,  3.62s/it]"
     ]
    },
    {
     "name": "stdout",
     "output_type": "stream",
     "text": [
      "On 18.14%\n",
      "time elapsed: 1445(s), time left: 6524(s), estimated finish time: 02:12:02\n"
     ]
    },
    {
     "name": "stderr",
     "output_type": "stream",
     "text": [
      "Processing rows:  18%|█▊        | 223/1224 [24:08<59:27,  3.56s/it]  "
     ]
    },
    {
     "name": "stdout",
     "output_type": "stream",
     "text": [
      "On 18.22%\n",
      "time elapsed: 1448(s), time left: 6504(s), estimated finish time: 02:11:45\n"
     ]
    },
    {
     "name": "stderr",
     "output_type": "stream",
     "text": [
      "Processing rows:  18%|█▊        | 224/1224 [24:12<59:48,  3.59s/it]"
     ]
    },
    {
     "name": "stdout",
     "output_type": "stream",
     "text": [
      "On 18.3%\n",
      "time elapsed: 1452(s), time left: 6484(s), estimated finish time: 02:11:29\n"
     ]
    },
    {
     "name": "stderr",
     "output_type": "stream",
     "text": [
      "Processing rows:  18%|█▊        | 225/1224 [24:16<1:00:35,  3.64s/it]"
     ]
    },
    {
     "name": "stdout",
     "output_type": "stream",
     "text": [
      "On 18.38%\n",
      "time elapsed: 1456(s), time left: 6466(s), estimated finish time: 02:11:14\n"
     ]
    },
    {
     "name": "stderr",
     "output_type": "stream",
     "text": [
      "Processing rows:  18%|█▊        | 226/1224 [24:19<58:21,  3.51s/it]  "
     ]
    },
    {
     "name": "stdout",
     "output_type": "stream",
     "text": [
      "On 18.46%\n",
      "time elapsed: 1459(s), time left: 6445(s), estimated finish time: 02:10:57\n"
     ]
    },
    {
     "name": "stderr",
     "output_type": "stream",
     "text": [
      "Processing rows:  19%|█▊        | 227/1224 [24:24<1:03:45,  3.84s/it]"
     ]
    },
    {
     "name": "stdout",
     "output_type": "stream",
     "text": [
      "On 18.55%\n",
      "time elapsed: 1464(s), time left: 6430(s), estimated finish time: 02:10:47\n"
     ]
    },
    {
     "name": "stderr",
     "output_type": "stream",
     "text": [
      "Processing rows:  19%|█▊        | 228/1224 [24:28<1:06:31,  4.01s/it]"
     ]
    },
    {
     "name": "stdout",
     "output_type": "stream",
     "text": [
      "On 18.63%\n",
      "time elapsed: 1468(s), time left: 6415(s), estimated finish time: 02:10:36\n"
     ]
    },
    {
     "name": "stderr",
     "output_type": "stream",
     "text": [
      "Processing rows:  19%|█▊        | 229/1224 [24:31<1:01:58,  3.74s/it]"
     ]
    },
    {
     "name": "stdout",
     "output_type": "stream",
     "text": [
      "On 18.71%\n",
      "time elapsed: 1471(s), time left: 6394(s), estimated finish time: 02:10:18\n"
     ]
    },
    {
     "name": "stderr",
     "output_type": "stream",
     "text": [
      "Processing rows:  19%|█▉        | 230/1224 [24:35<1:02:38,  3.78s/it]"
     ]
    },
    {
     "name": "stdout",
     "output_type": "stream",
     "text": [
      "On 18.79%\n",
      "time elapsed: 1475(s), time left: 6377(s), estimated finish time: 02:10:04\n"
     ]
    },
    {
     "name": "stderr",
     "output_type": "stream",
     "text": [
      "Processing rows:  19%|█▉        | 231/1224 [24:38<1:00:30,  3.66s/it]"
     ]
    },
    {
     "name": "stdout",
     "output_type": "stream",
     "text": [
      "On 18.87%\n",
      "time elapsed: 1478(s), time left: 6357(s), estimated finish time: 02:09:48\n"
     ]
    },
    {
     "name": "stderr",
     "output_type": "stream",
     "text": [
      "Processing rows:  19%|█▉        | 232/1224 [24:42<58:49,  3.56s/it]  "
     ]
    },
    {
     "name": "stdout",
     "output_type": "stream",
     "text": [
      "On 18.95%\n",
      "time elapsed: 1482(s), time left: 6338(s), estimated finish time: 02:09:32\n"
     ]
    },
    {
     "name": "stderr",
     "output_type": "stream",
     "text": [
      "Processing rows:  19%|█▉        | 233/1224 [24:45<58:04,  3.52s/it]"
     ]
    },
    {
     "name": "stdout",
     "output_type": "stream",
     "text": [
      "On 19.04%\n",
      "time elapsed: 1485(s), time left: 6319(s), estimated finish time: 02:09:16\n"
     ]
    },
    {
     "name": "stderr",
     "output_type": "stream",
     "text": [
      "Processing rows:  19%|█▉        | 234/1224 [24:49<57:09,  3.46s/it]"
     ]
    },
    {
     "name": "stdout",
     "output_type": "stream",
     "text": [
      "On 19.12%\n",
      "time elapsed: 1489(s), time left: 6299(s), estimated finish time: 02:09:01\n"
     ]
    },
    {
     "name": "stderr",
     "output_type": "stream",
     "text": [
      "Processing rows:  19%|█▉        | 235/1224 [24:52<55:35,  3.37s/it]"
     ]
    },
    {
     "name": "stdout",
     "output_type": "stream",
     "text": [
      "On 19.2%\n",
      "time elapsed: 1492(s), time left: 6279(s), estimated finish time: 02:08:44\n"
     ]
    },
    {
     "name": "stderr",
     "output_type": "stream",
     "text": [
      "Processing rows:  19%|█▉        | 236/1224 [24:56<58:14,  3.54s/it]"
     ]
    },
    {
     "name": "stdout",
     "output_type": "stream",
     "text": [
      "On 19.28%\n",
      "time elapsed: 1496(s), time left: 6263(s), estimated finish time: 02:08:31\n"
     ]
    },
    {
     "name": "stderr",
     "output_type": "stream",
     "text": [
      "Processing rows:  19%|█▉        | 237/1224 [24:59<56:39,  3.44s/it]"
     ]
    },
    {
     "name": "stdout",
     "output_type": "stream",
     "text": [
      "On 19.36%\n",
      "time elapsed: 1499(s), time left: 6244(s), estimated finish time: 02:08:15\n"
     ]
    },
    {
     "name": "stderr",
     "output_type": "stream",
     "text": [
      "Processing rows:  19%|█▉        | 238/1224 [25:02<56:16,  3.42s/it]"
     ]
    },
    {
     "name": "stdout",
     "output_type": "stream",
     "text": [
      "On 19.44%\n",
      "time elapsed: 1502(s), time left: 6225(s), estimated finish time: 02:08:00\n"
     ]
    },
    {
     "name": "stderr",
     "output_type": "stream",
     "text": [
      "Processing rows:  20%|█▉        | 239/1224 [25:05<53:17,  3.25s/it]"
     ]
    },
    {
     "name": "stdout",
     "output_type": "stream",
     "text": [
      "On 19.53%\n",
      "time elapsed: 1505(s), time left: 6204(s), estimated finish time: 02:07:42\n"
     ]
    },
    {
     "name": "stderr",
     "output_type": "stream",
     "text": [
      "Processing rows:  20%|█▉        | 240/1224 [25:09<55:19,  3.37s/it]"
     ]
    },
    {
     "name": "stdout",
     "output_type": "stream",
     "text": [
      "On 19.61%\n",
      "time elapsed: 1509(s), time left: 6187(s), estimated finish time: 02:07:29\n"
     ]
    },
    {
     "name": "stderr",
     "output_type": "stream",
     "text": [
      "Processing rows:  20%|█▉        | 241/1224 [25:12<55:17,  3.38s/it]"
     ]
    },
    {
     "name": "stdout",
     "output_type": "stream",
     "text": [
      "On 19.69%\n",
      "time elapsed: 1512(s), time left: 6169(s), estimated finish time: 02:07:14\n"
     ]
    },
    {
     "name": "stderr",
     "output_type": "stream",
     "text": [
      "Processing rows:  20%|█▉        | 242/1224 [25:16<56:30,  3.45s/it]"
     ]
    },
    {
     "name": "stdout",
     "output_type": "stream",
     "text": [
      "On 19.77%\n",
      "time elapsed: 1516(s), time left: 6152(s), estimated finish time: 02:07:01\n"
     ]
    },
    {
     "name": "stderr",
     "output_type": "stream",
     "text": [
      "Processing rows:  20%|█▉        | 243/1224 [25:19<56:27,  3.45s/it]"
     ]
    },
    {
     "name": "stdout",
     "output_type": "stream",
     "text": [
      "On 19.85%\n",
      "time elapsed: 1519(s), time left: 6135(s), estimated finish time: 02:06:46\n"
     ]
    },
    {
     "name": "stderr",
     "output_type": "stream",
     "text": [
      "Processing rows:  20%|█▉        | 244/1224 [25:23<59:23,  3.64s/it]"
     ]
    },
    {
     "name": "stdout",
     "output_type": "stream",
     "text": [
      "On 19.93%\n",
      "time elapsed: 1523(s), time left: 6120(s), estimated finish time: 02:06:36\n"
     ]
    },
    {
     "name": "stderr",
     "output_type": "stream",
     "text": [
      "Processing rows:  20%|██        | 245/1224 [25:27<57:49,  3.54s/it]"
     ]
    },
    {
     "name": "stdout",
     "output_type": "stream",
     "text": [
      "On 20.02%\n",
      "time elapsed: 1527(s), time left: 6102(s), estimated finish time: 02:06:21\n"
     ]
    },
    {
     "name": "stderr",
     "output_type": "stream",
     "text": [
      "Processing rows:  20%|██        | 246/1224 [25:30<58:08,  3.57s/it]"
     ]
    },
    {
     "name": "stdout",
     "output_type": "stream",
     "text": [
      "On 20.1%\n",
      "time elapsed: 1530(s), time left: 6085(s), estimated finish time: 02:06:08\n"
     ]
    },
    {
     "name": "stderr",
     "output_type": "stream",
     "text": [
      "Processing rows:  20%|██        | 247/1224 [25:34<58:27,  3.59s/it]"
     ]
    },
    {
     "name": "stdout",
     "output_type": "stream",
     "text": [
      "On 20.18%\n",
      "time elapsed: 1534(s), time left: 6069(s), estimated finish time: 02:05:55\n"
     ]
    },
    {
     "name": "stderr",
     "output_type": "stream",
     "text": [
      "Processing rows:  20%|██        | 248/1224 [25:37<57:18,  3.52s/it]"
     ]
    },
    {
     "name": "stdout",
     "output_type": "stream",
     "text": [
      "On 20.26%\n",
      "time elapsed: 1537(s), time left: 6051(s), estimated finish time: 02:05:41\n"
     ]
    },
    {
     "name": "stderr",
     "output_type": "stream",
     "text": [
      "Processing rows:  20%|██        | 249/1224 [25:40<54:47,  3.37s/it]"
     ]
    },
    {
     "name": "stdout",
     "output_type": "stream",
     "text": [
      "On 20.34%\n",
      "time elapsed: 1540(s), time left: 6033(s), estimated finish time: 02:05:25\n"
     ]
    },
    {
     "name": "stderr",
     "output_type": "stream",
     "text": [
      "Processing rows:  20%|██        | 250/1224 [25:44<57:17,  3.53s/it]"
     ]
    },
    {
     "name": "stdout",
     "output_type": "stream",
     "text": [
      "On 20.42%\n",
      "time elapsed: 1544(s), time left: 6017(s), estimated finish time: 02:05:14\n"
     ]
    },
    {
     "name": "stderr",
     "output_type": "stream",
     "text": [
      "Processing rows:  21%|██        | 251/1224 [25:48<59:08,  3.65s/it]"
     ]
    },
    {
     "name": "stdout",
     "output_type": "stream",
     "text": [
      "On 20.51%\n",
      "time elapsed: 1548(s), time left: 6002(s), estimated finish time: 02:05:03\n"
     ]
    },
    {
     "name": "stderr",
     "output_type": "stream",
     "text": [
      "Processing rows:  21%|██        | 252/1224 [25:51<57:08,  3.53s/it]"
     ]
    },
    {
     "name": "stdout",
     "output_type": "stream",
     "text": [
      "On 20.59%\n",
      "time elapsed: 1551(s), time left: 5985(s), estimated finish time: 02:04:49\n"
     ]
    },
    {
     "name": "stderr",
     "output_type": "stream",
     "text": [
      "Processing rows:  21%|██        | 253/1224 [26:01<1:24:53,  5.25s/it]"
     ]
    },
    {
     "name": "stdout",
     "output_type": "stream",
     "text": [
      "On 20.67%\n",
      "time elapsed: 1561(s), time left: 5991(s), estimated finish time: 02:05:04\n"
     ]
    },
    {
     "name": "stderr",
     "output_type": "stream",
     "text": [
      "Processing rows:  21%|██        | 254/1224 [26:12<1:53:45,  7.04s/it]"
     ]
    },
    {
     "name": "stdout",
     "output_type": "stream",
     "text": [
      "On 20.75%\n",
      "time elapsed: 1572(s), time left: 6004(s), estimated finish time: 02:05:28\n"
     ]
    },
    {
     "name": "stderr",
     "output_type": "stream",
     "text": [
      "Processing rows:  21%|██        | 255/1224 [26:20<2:00:09,  7.44s/it]"
     ]
    },
    {
     "name": "stdout",
     "output_type": "stream",
     "text": [
      "On 20.83%\n",
      "time elapsed: 1580(s), time left: 6006(s), estimated finish time: 02:05:39\n"
     ]
    },
    {
     "name": "stderr",
     "output_type": "stream",
     "text": [
      "Processing rows:  21%|██        | 256/1224 [26:29<2:05:26,  7.77s/it]"
     ]
    },
    {
     "name": "stdout",
     "output_type": "stream",
     "text": [
      "On 20.92%\n",
      "time elapsed: 1589(s), time left: 6009(s), estimated finish time: 02:05:50\n"
     ]
    },
    {
     "name": "stderr",
     "output_type": "stream",
     "text": [
      "Processing rows:  21%|██        | 257/1224 [26:38<2:15:03,  8.38s/it]"
     ]
    },
    {
     "name": "stdout",
     "output_type": "stream",
     "text": [
      "On 21.0%\n",
      "time elapsed: 1599(s), time left: 6016(s), estimated finish time: 02:06:07\n"
     ]
    },
    {
     "name": "stderr",
     "output_type": "stream",
     "text": [
      "Processing rows:  21%|██        | 258/1224 [26:46<2:10:05,  8.08s/it]"
     ]
    },
    {
     "name": "stdout",
     "output_type": "stream",
     "text": [
      "On 21.08%\n",
      "time elapsed: 1606(s), time left: 6014(s), estimated finish time: 02:06:13\n"
     ]
    },
    {
     "name": "stderr",
     "output_type": "stream",
     "text": [
      "Processing rows:  21%|██        | 259/1224 [26:57<2:25:08,  9.02s/it]"
     ]
    },
    {
     "name": "stdout",
     "output_type": "stream",
     "text": [
      "On 21.16%\n",
      "time elapsed: 1617(s), time left: 6027(s), estimated finish time: 02:06:36\n"
     ]
    },
    {
     "name": "stderr",
     "output_type": "stream",
     "text": [
      "Processing rows:  21%|██        | 260/1224 [27:06<2:23:19,  8.92s/it]"
     ]
    },
    {
     "name": "stdout",
     "output_type": "stream",
     "text": [
      "On 21.24%\n",
      "time elapsed: 1626(s), time left: 6029(s), estimated finish time: 02:06:48\n"
     ]
    },
    {
     "name": "stderr",
     "output_type": "stream",
     "text": [
      "Processing rows:  21%|██▏       | 261/1224 [27:13<2:15:59,  8.47s/it]"
     ]
    },
    {
     "name": "stdout",
     "output_type": "stream",
     "text": [
      "On 21.32%\n",
      "time elapsed: 1633(s), time left: 6027(s), estimated finish time: 02:06:53\n"
     ]
    },
    {
     "name": "stderr",
     "output_type": "stream",
     "text": [
      "Processing rows:  21%|██▏       | 262/1224 [27:20<2:09:32,  8.08s/it]"
     ]
    },
    {
     "name": "stdout",
     "output_type": "stream",
     "text": [
      "On 21.41%\n",
      "time elapsed: 1640(s), time left: 6024(s), estimated finish time: 02:06:58\n"
     ]
    },
    {
     "name": "stderr",
     "output_type": "stream",
     "text": [
      "Processing rows:  21%|██▏       | 263/1224 [27:30<2:19:14,  8.69s/it]"
     ]
    },
    {
     "name": "stdout",
     "output_type": "stream",
     "text": [
      "On 21.49%\n",
      "time elapsed: 1651(s), time left: 6032(s), estimated finish time: 02:07:16\n"
     ]
    },
    {
     "name": "stderr",
     "output_type": "stream",
     "text": [
      "Processing rows:  22%|██▏       | 264/1224 [27:41<2:30:12,  9.39s/it]"
     ]
    },
    {
     "name": "stdout",
     "output_type": "stream",
     "text": [
      "On 21.57%\n",
      "time elapsed: 1662(s), time left: 6043(s), estimated finish time: 02:07:37\n"
     ]
    },
    {
     "name": "stderr",
     "output_type": "stream",
     "text": [
      "Processing rows:  22%|██▏       | 265/1224 [27:48<2:17:21,  8.59s/it]"
     ]
    },
    {
     "name": "stdout",
     "output_type": "stream",
     "text": [
      "On 21.65%\n",
      "time elapsed: 1668(s), time left: 6039(s), estimated finish time: 02:07:39\n"
     ]
    },
    {
     "name": "stderr",
     "output_type": "stream",
     "text": [
      "Processing rows:  22%|██▏       | 266/1224 [27:56<2:14:41,  8.44s/it]"
     ]
    },
    {
     "name": "stdout",
     "output_type": "stream",
     "text": [
      "On 21.73%\n",
      "time elapsed: 1676(s), time left: 6039(s), estimated finish time: 02:07:48\n"
     ]
    },
    {
     "name": "stderr",
     "output_type": "stream",
     "text": [
      "Processing rows:  22%|██▏       | 267/1224 [28:05<2:14:01,  8.40s/it]"
     ]
    },
    {
     "name": "stdout",
     "output_type": "stream",
     "text": [
      "On 21.81%\n",
      "time elapsed: 1685(s), time left: 6040(s), estimated finish time: 02:07:57\n"
     ]
    },
    {
     "name": "stderr",
     "output_type": "stream",
     "text": [
      "Processing rows:  22%|██▏       | 268/1224 [28:14<2:17:58,  8.66s/it]"
     ]
    },
    {
     "name": "stdout",
     "output_type": "stream",
     "text": [
      "On 21.9%\n",
      "time elapsed: 1694(s), time left: 6044(s), estimated finish time: 02:08:10\n"
     ]
    },
    {
     "name": "stderr",
     "output_type": "stream",
     "text": [
      "Processing rows:  22%|██▏       | 269/1224 [28:55<4:54:57, 18.53s/it]"
     ]
    },
    {
     "name": "stdout",
     "output_type": "stream",
     "text": [
      "On 21.98%\n",
      "time elapsed: 1735(s), time left: 6163(s), estimated finish time: 02:10:51\n"
     ]
    },
    {
     "name": "stderr",
     "output_type": "stream",
     "text": [
      "Processing rows:  22%|██▏       | 270/1224 [29:06<4:15:00, 16.04s/it]"
     ]
    },
    {
     "name": "stdout",
     "output_type": "stream",
     "text": [
      "On 22.06%\n",
      "time elapsed: 1746(s), time left: 6169(s), estimated finish time: 02:11:08\n"
     ]
    },
    {
     "name": "stderr",
     "output_type": "stream",
     "text": [
      "Processing rows:  22%|██▏       | 271/1224 [29:16<3:45:24, 14.19s/it]"
     ]
    },
    {
     "name": "stdout",
     "output_type": "stream",
     "text": [
      "On 22.14%\n",
      "time elapsed: 1756(s), time left: 6175(s), estimated finish time: 02:11:23\n"
     ]
    },
    {
     "name": "stderr",
     "output_type": "stream",
     "text": [
      "Processing rows:  22%|██▏       | 272/1224 [29:24<3:17:20, 12.44s/it]"
     ]
    },
    {
     "name": "stdout",
     "output_type": "stream",
     "text": [
      "On 22.22%\n",
      "time elapsed: 1764(s), time left: 6175(s), estimated finish time: 02:11:32\n"
     ]
    },
    {
     "name": "stderr",
     "output_type": "stream",
     "text": [
      "Processing rows:  22%|██▏       | 273/1224 [29:31<2:50:54, 10.78s/it]"
     ]
    },
    {
     "name": "stdout",
     "output_type": "stream",
     "text": [
      "On 22.3%\n",
      "time elapsed: 1771(s), time left: 6170(s), estimated finish time: 02:11:34\n"
     ]
    },
    {
     "name": "stderr",
     "output_type": "stream",
     "text": [
      "Processing rows:  22%|██▏       | 274/1224 [29:40<2:41:44, 10.22s/it]"
     ]
    },
    {
     "name": "stdout",
     "output_type": "stream",
     "text": [
      "On 22.39%\n",
      "time elapsed: 1780(s), time left: 6172(s), estimated finish time: 02:11:44\n"
     ]
    },
    {
     "name": "stderr",
     "output_type": "stream",
     "text": [
      "Processing rows:  22%|██▏       | 275/1224 [29:48<2:34:05,  9.74s/it]"
     ]
    },
    {
     "name": "stdout",
     "output_type": "stream",
     "text": [
      "On 22.47%\n",
      "time elapsed: 1788(s), time left: 6173(s), estimated finish time: 02:11:54\n"
     ]
    },
    {
     "name": "stderr",
     "output_type": "stream",
     "text": [
      "Processing rows:  23%|██▎       | 276/1224 [29:57<2:27:46,  9.35s/it]"
     ]
    },
    {
     "name": "stdout",
     "output_type": "stream",
     "text": [
      "On 22.55%\n",
      "time elapsed: 1797(s), time left: 6173(s), estimated finish time: 02:12:02\n"
     ]
    },
    {
     "name": "stderr",
     "output_type": "stream",
     "text": [
      "Processing rows:  23%|██▎       | 277/1224 [30:05<2:24:12,  9.14s/it]"
     ]
    },
    {
     "name": "stdout",
     "output_type": "stream",
     "text": [
      "On 22.63%\n",
      "time elapsed: 1805(s), time left: 6174(s), estimated finish time: 02:12:12\n"
     ]
    },
    {
     "name": "stderr",
     "output_type": "stream",
     "text": [
      "Processing rows:  23%|██▎       | 278/1224 [30:15<2:26:41,  9.30s/it]"
     ]
    },
    {
     "name": "stdout",
     "output_type": "stream",
     "text": [
      "On 22.71%\n",
      "time elapsed: 1815(s), time left: 6178(s), estimated finish time: 02:12:26\n"
     ]
    },
    {
     "name": "stderr",
     "output_type": "stream",
     "text": [
      "Processing rows:  23%|██▎       | 279/1224 [30:24<2:22:15,  9.03s/it]"
     ]
    },
    {
     "name": "stdout",
     "output_type": "stream",
     "text": [
      "On 22.79%\n",
      "time elapsed: 1824(s), time left: 6178(s), estimated finish time: 02:12:34\n"
     ]
    },
    {
     "name": "stderr",
     "output_type": "stream",
     "text": [
      "Processing rows:  23%|██▎       | 280/1224 [30:33<2:24:19,  9.17s/it]"
     ]
    },
    {
     "name": "stdout",
     "output_type": "stream",
     "text": [
      "On 22.88%\n",
      "time elapsed: 1833(s), time left: 6181(s), estimated finish time: 02:12:47\n"
     ]
    },
    {
     "name": "stderr",
     "output_type": "stream",
     "text": [
      "Processing rows:  23%|██▎       | 281/1224 [30:43<2:26:49,  9.34s/it]"
     ]
    },
    {
     "name": "stdout",
     "output_type": "stream",
     "text": [
      "On 22.96%\n",
      "time elapsed: 1843(s), time left: 6185(s), estimated finish time: 02:13:01\n"
     ]
    },
    {
     "name": "stderr",
     "output_type": "stream",
     "text": [
      "Processing rows:  23%|██▎       | 282/1224 [30:54<2:34:20,  9.83s/it]"
     ]
    },
    {
     "name": "stdout",
     "output_type": "stream",
     "text": [
      "On 23.04%\n",
      "time elapsed: 1854(s), time left: 6193(s), estimated finish time: 02:13:20\n"
     ]
    },
    {
     "name": "stderr",
     "output_type": "stream",
     "text": [
      "Processing rows:  23%|██▎       | 283/1224 [31:03<2:31:45,  9.68s/it]"
     ]
    },
    {
     "name": "stdout",
     "output_type": "stream",
     "text": [
      "On 23.12%\n",
      "time elapsed: 1863(s), time left: 6196(s), estimated finish time: 02:13:32\n"
     ]
    },
    {
     "name": "stderr",
     "output_type": "stream",
     "text": [
      "Processing rows:  23%|██▎       | 284/1224 [31:13<2:30:58,  9.64s/it]"
     ]
    },
    {
     "name": "stdout",
     "output_type": "stream",
     "text": [
      "On 23.2%\n",
      "time elapsed: 1873(s), time left: 6199(s), estimated finish time: 02:13:45\n"
     ]
    },
    {
     "name": "stderr",
     "output_type": "stream",
     "text": [
      "Processing rows:  23%|██▎       | 285/1224 [31:21<2:25:08,  9.27s/it]"
     ]
    },
    {
     "name": "stdout",
     "output_type": "stream",
     "text": [
      "On 23.28%\n",
      "time elapsed: 1881(s), time left: 6199(s), estimated finish time: 02:13:52\n"
     ]
    },
    {
     "name": "stderr",
     "output_type": "stream",
     "text": [
      "Processing rows:  23%|██▎       | 286/1224 [31:30<2:24:56,  9.27s/it]"
     ]
    },
    {
     "name": "stdout",
     "output_type": "stream",
     "text": [
      "On 23.37%\n",
      "time elapsed: 1890(s), time left: 6201(s), estimated finish time: 02:14:04\n"
     ]
    },
    {
     "name": "stderr",
     "output_type": "stream",
     "text": [
      "Processing rows:  23%|██▎       | 287/1224 [31:39<2:21:04,  9.03s/it]"
     ]
    },
    {
     "name": "stdout",
     "output_type": "stream",
     "text": [
      "On 23.45%\n",
      "time elapsed: 1899(s), time left: 6200(s), estimated finish time: 02:14:12\n"
     ]
    },
    {
     "name": "stderr",
     "output_type": "stream",
     "text": [
      "Processing rows:  24%|██▎       | 288/1224 [31:48<2:22:56,  9.16s/it]"
     ]
    },
    {
     "name": "stdout",
     "output_type": "stream",
     "text": [
      "On 23.53%\n",
      "time elapsed: 1908(s), time left: 6203(s), estimated finish time: 02:14:24\n"
     ]
    },
    {
     "name": "stderr",
     "output_type": "stream",
     "text": [
      "Processing rows:  24%|██▎       | 289/1224 [31:54<2:06:39,  8.13s/it]"
     ]
    },
    {
     "name": "stdout",
     "output_type": "stream",
     "text": [
      "On 23.61%\n",
      "time elapsed: 1914(s), time left: 6193(s), estimated finish time: 02:14:20\n"
     ]
    },
    {
     "name": "stderr",
     "output_type": "stream",
     "text": [
      "Processing rows:  24%|██▎       | 290/1224 [32:03<2:12:41,  8.52s/it]"
     ]
    },
    {
     "name": "stdout",
     "output_type": "stream",
     "text": [
      "On 23.69%\n",
      "time elapsed: 1923(s), time left: 6196(s), estimated finish time: 02:14:32\n"
     ]
    },
    {
     "name": "stderr",
     "output_type": "stream",
     "text": [
      "Processing rows:  24%|██▍       | 291/1224 [32:13<2:17:18,  8.83s/it]"
     ]
    },
    {
     "name": "stdout",
     "output_type": "stream",
     "text": [
      "On 23.77%\n",
      "time elapsed: 1933(s), time left: 6199(s), estimated finish time: 02:14:44\n"
     ]
    },
    {
     "name": "stderr",
     "output_type": "stream",
     "text": [
      "Processing rows:  24%|██▍       | 292/1224 [32:20<2:07:53,  8.23s/it]"
     ]
    },
    {
     "name": "stdout",
     "output_type": "stream",
     "text": [
      "On 23.86%\n",
      "time elapsed: 1940(s), time left: 6192(s), estimated finish time: 02:14:45\n"
     ]
    },
    {
     "name": "stderr",
     "output_type": "stream",
     "text": [
      "Processing rows:  24%|██▍       | 293/1224 [32:26<1:58:42,  7.65s/it]"
     ]
    },
    {
     "name": "stdout",
     "output_type": "stream",
     "text": [
      "On 23.94%\n",
      "time elapsed: 1946(s), time left: 6185(s), estimated finish time: 02:14:44\n"
     ]
    },
    {
     "name": "stderr",
     "output_type": "stream",
     "text": [
      "Processing rows:  24%|██▍       | 294/1224 [32:32<1:52:55,  7.29s/it]"
     ]
    },
    {
     "name": "stdout",
     "output_type": "stream",
     "text": [
      "On 24.02%\n",
      "time elapsed: 1953(s), time left: 6177(s), estimated finish time: 02:14:43\n"
     ]
    },
    {
     "name": "stderr",
     "output_type": "stream",
     "text": [
      "Processing rows:  24%|██▍       | 295/1224 [32:42<2:02:08,  7.89s/it]"
     ]
    },
    {
     "name": "stdout",
     "output_type": "stream",
     "text": [
      "On 24.1%\n",
      "time elapsed: 1962(s), time left: 6179(s), estimated finish time: 02:14:54\n"
     ]
    },
    {
     "name": "stderr",
     "output_type": "stream",
     "text": [
      "Processing rows:  24%|██▍       | 296/1224 [32:51<2:08:52,  8.33s/it]"
     ]
    },
    {
     "name": "stdout",
     "output_type": "stream",
     "text": [
      "On 24.18%\n",
      "time elapsed: 1971(s), time left: 6181(s), estimated finish time: 02:15:05\n"
     ]
    },
    {
     "name": "stderr",
     "output_type": "stream",
     "text": [
      "Processing rows:  24%|██▍       | 297/1224 [32:57<1:59:01,  7.70s/it]"
     ]
    },
    {
     "name": "stdout",
     "output_type": "stream",
     "text": [
      "On 24.26%\n",
      "time elapsed: 1977(s), time left: 6173(s), estimated finish time: 02:15:03\n"
     ]
    },
    {
     "name": "stderr",
     "output_type": "stream",
     "text": [
      "Processing rows:  24%|██▍       | 298/1224 [33:04<1:52:02,  7.26s/it]"
     ]
    },
    {
     "name": "stdout",
     "output_type": "stream",
     "text": [
      "On 24.35%\n",
      "time elapsed: 1984(s), time left: 6165(s), estimated finish time: 02:15:01\n"
     ]
    },
    {
     "name": "stderr",
     "output_type": "stream",
     "text": [
      "Processing rows:  24%|██▍       | 299/1224 [33:10<1:47:10,  6.95s/it]"
     ]
    },
    {
     "name": "stdout",
     "output_type": "stream",
     "text": [
      "On 24.43%\n",
      "time elapsed: 1990(s), time left: 6157(s), estimated finish time: 02:15:00\n"
     ]
    },
    {
     "name": "stderr",
     "output_type": "stream",
     "text": [
      "Processing rows:  25%|██▍       | 300/1224 [33:16<1:43:02,  6.69s/it]"
     ]
    },
    {
     "name": "stdout",
     "output_type": "stream",
     "text": [
      "On 24.51%\n",
      "time elapsed: 1996(s), time left: 6149(s), estimated finish time: 02:14:57\n"
     ]
    },
    {
     "name": "stderr",
     "output_type": "stream",
     "text": [
      "Processing rows:  25%|██▍       | 301/1224 [33:25<1:55:29,  7.51s/it]"
     ]
    },
    {
     "name": "stdout",
     "output_type": "stream",
     "text": [
      "On 24.59%\n",
      "time elapsed: 2005(s), time left: 6150(s), estimated finish time: 02:15:08\n"
     ]
    },
    {
     "name": "stderr",
     "output_type": "stream",
     "text": [
      "Processing rows:  25%|██▍       | 302/1224 [33:35<2:03:35,  8.04s/it]"
     ]
    },
    {
     "name": "stdout",
     "output_type": "stream",
     "text": [
      "On 24.67%\n",
      "time elapsed: 2015(s), time left: 6152(s), estimated finish time: 02:15:19\n"
     ]
    },
    {
     "name": "stderr",
     "output_type": "stream",
     "text": [
      "Processing rows:  25%|██▍       | 303/1224 [33:44<2:10:10,  8.48s/it]"
     ]
    },
    {
     "name": "stdout",
     "output_type": "stream",
     "text": [
      "On 24.75%\n",
      "time elapsed: 2024(s), time left: 6154(s), estimated finish time: 02:15:31\n"
     ]
    },
    {
     "name": "stderr",
     "output_type": "stream",
     "text": [
      "Processing rows:  25%|██▍       | 304/1224 [33:50<1:59:47,  7.81s/it]"
     ]
    },
    {
     "name": "stdout",
     "output_type": "stream",
     "text": [
      "On 24.84%\n",
      "time elapsed: 2030(s), time left: 6146(s), estimated finish time: 02:15:29\n"
     ]
    },
    {
     "name": "stderr",
     "output_type": "stream",
     "text": [
      "Processing rows:  25%|██▍       | 305/1224 [34:00<2:06:13,  8.24s/it]"
     ]
    },
    {
     "name": "stdout",
     "output_type": "stream",
     "text": [
      "On 24.92%\n",
      "time elapsed: 2040(s), time left: 6147(s), estimated finish time: 02:15:39\n"
     ]
    },
    {
     "name": "stderr",
     "output_type": "stream",
     "text": [
      "Processing rows:  25%|██▌       | 306/1224 [34:06<1:56:54,  7.64s/it]"
     ]
    },
    {
     "name": "stdout",
     "output_type": "stream",
     "text": [
      "On 25.0%\n",
      "time elapsed: 2046(s), time left: 6139(s), estimated finish time: 02:15:37\n"
     ]
    },
    {
     "name": "stderr",
     "output_type": "stream",
     "text": [
      "Processing rows:  25%|██▌       | 307/1224 [34:12<1:52:04,  7.33s/it]"
     ]
    },
    {
     "name": "stdout",
     "output_type": "stream",
     "text": [
      "On 25.08%\n",
      "time elapsed: 2053(s), time left: 6132(s), estimated finish time: 02:15:37\n"
     ]
    },
    {
     "name": "stderr",
     "output_type": "stream",
     "text": [
      "Processing rows:  25%|██▌       | 308/1224 [34:19<1:50:11,  7.22s/it]"
     ]
    },
    {
     "name": "stdout",
     "output_type": "stream",
     "text": [
      "On 25.16%\n",
      "time elapsed: 2059(s), time left: 6126(s), estimated finish time: 02:15:38\n"
     ]
    },
    {
     "name": "stderr",
     "output_type": "stream",
     "text": [
      "Processing rows:  25%|██▌       | 309/1224 [34:26<1:46:07,  6.96s/it]"
     ]
    },
    {
     "name": "stdout",
     "output_type": "stream",
     "text": [
      "On 25.25%\n",
      "time elapsed: 2066(s), time left: 6118(s), estimated finish time: 02:15:37\n"
     ]
    },
    {
     "name": "stderr",
     "output_type": "stream",
     "text": [
      "Processing rows:  25%|██▌       | 310/1224 [34:35<1:56:11,  7.63s/it]"
     ]
    },
    {
     "name": "stdout",
     "output_type": "stream",
     "text": [
      "On 25.33%\n",
      "time elapsed: 2075(s), time left: 6119(s), estimated finish time: 02:15:47\n"
     ]
    },
    {
     "name": "stderr",
     "output_type": "stream",
     "text": [
      "Processing rows:  25%|██▌       | 311/1224 [34:42<1:52:14,  7.38s/it]"
     ]
    },
    {
     "name": "stdout",
     "output_type": "stream",
     "text": [
      "On 25.41%\n",
      "time elapsed: 2082(s), time left: 6112(s), estimated finish time: 02:15:47\n"
     ]
    },
    {
     "name": "stderr",
     "output_type": "stream",
     "text": [
      "Processing rows:  25%|██▌       | 312/1224 [34:49<1:51:18,  7.32s/it]"
     ]
    },
    {
     "name": "stdout",
     "output_type": "stream",
     "text": [
      "On 25.49%\n",
      "time elapsed: 2089(s), time left: 6107(s), estimated finish time: 02:15:49\n"
     ]
    },
    {
     "name": "stderr",
     "output_type": "stream",
     "text": [
      "Processing rows:  26%|██▌       | 313/1224 [34:58<2:00:30,  7.94s/it]"
     ]
    },
    {
     "name": "stdout",
     "output_type": "stream",
     "text": [
      "On 25.57%\n",
      "time elapsed: 2098(s), time left: 6108(s), estimated finish time: 02:15:59\n"
     ]
    },
    {
     "name": "stderr",
     "output_type": "stream",
     "text": [
      "Processing rows:  26%|██▌       | 314/1224 [35:04<1:51:55,  7.38s/it]"
     ]
    },
    {
     "name": "stdout",
     "output_type": "stream",
     "text": [
      "On 25.65%\n",
      "time elapsed: 2104(s), time left: 6100(s), estimated finish time: 02:15:57\n"
     ]
    },
    {
     "name": "stderr",
     "output_type": "stream",
     "text": [
      "Processing rows:  26%|██▌       | 315/1224 [35:11<1:48:38,  7.17s/it]"
     ]
    },
    {
     "name": "stdout",
     "output_type": "stream",
     "text": [
      "On 25.74%\n",
      "time elapsed: 2111(s), time left: 6093(s), estimated finish time: 02:15:57\n"
     ]
    },
    {
     "name": "stderr",
     "output_type": "stream",
     "text": [
      "Processing rows:  26%|██▌       | 316/1224 [35:17<1:44:16,  6.89s/it]"
     ]
    },
    {
     "name": "stdout",
     "output_type": "stream",
     "text": [
      "On 25.82%\n",
      "time elapsed: 2117(s), time left: 6085(s), estimated finish time: 02:15:55\n"
     ]
    },
    {
     "name": "stderr",
     "output_type": "stream",
     "text": [
      "Processing rows:  26%|██▌       | 317/1224 [35:27<1:55:50,  7.66s/it]"
     ]
    },
    {
     "name": "stdout",
     "output_type": "stream",
     "text": [
      "On 25.9%\n",
      "time elapsed: 2127(s), time left: 6086(s), estimated finish time: 02:16:06\n"
     ]
    },
    {
     "name": "stderr",
     "output_type": "stream",
     "text": [
      "Processing rows:  26%|██▌       | 318/1224 [35:36<2:04:08,  8.22s/it]"
     ]
    },
    {
     "name": "stdout",
     "output_type": "stream",
     "text": [
      "On 25.98%\n",
      "time elapsed: 2136(s), time left: 6088(s), estimated finish time: 02:16:17\n"
     ]
    },
    {
     "name": "stderr",
     "output_type": "stream",
     "text": [
      "Processing rows:  26%|██▌       | 319/1224 [35:46<2:08:41,  8.53s/it]"
     ]
    },
    {
     "name": "stdout",
     "output_type": "stream",
     "text": [
      "On 26.06%\n",
      "time elapsed: 2146(s), time left: 6088(s), estimated finish time: 02:16:26\n"
     ]
    },
    {
     "name": "stderr",
     "output_type": "stream",
     "text": [
      "Processing rows:  26%|██▌       | 320/1224 [35:51<1:55:49,  7.69s/it]"
     ]
    },
    {
     "name": "stdout",
     "output_type": "stream",
     "text": [
      "On 26.14%\n",
      "time elapsed: 2151(s), time left: 6078(s), estimated finish time: 02:16:22\n"
     ]
    },
    {
     "name": "stderr",
     "output_type": "stream",
     "text": [
      "Processing rows:  26%|██▌       | 321/1224 [35:58<1:49:57,  7.31s/it]"
     ]
    },
    {
     "name": "stdout",
     "output_type": "stream",
     "text": [
      "On 26.23%\n",
      "time elapsed: 2158(s), time left: 6071(s), estimated finish time: 02:16:21\n"
     ]
    },
    {
     "name": "stderr",
     "output_type": "stream",
     "text": [
      "Processing rows:  26%|██▋       | 322/1224 [36:03<1:42:26,  6.81s/it]"
     ]
    },
    {
     "name": "stdout",
     "output_type": "stream",
     "text": [
      "On 26.31%\n",
      "time elapsed: 2163(s), time left: 6061(s), estimated finish time: 02:16:17\n"
     ]
    },
    {
     "name": "stderr",
     "output_type": "stream",
     "text": [
      "Processing rows:  26%|██▋       | 323/1224 [36:09<1:38:07,  6.53s/it]"
     ]
    },
    {
     "name": "stdout",
     "output_type": "stream",
     "text": [
      "On 26.39%\n",
      "time elapsed: 2169(s), time left: 6052(s), estimated finish time: 02:16:14\n"
     ]
    },
    {
     "name": "stderr",
     "output_type": "stream",
     "text": [
      "Processing rows:  26%|██▋       | 324/1224 [36:15<1:33:09,  6.21s/it]"
     ]
    },
    {
     "name": "stdout",
     "output_type": "stream",
     "text": [
      "On 26.47%\n",
      "time elapsed: 2175(s), time left: 6042(s), estimated finish time: 02:16:09\n"
     ]
    },
    {
     "name": "stderr",
     "output_type": "stream",
     "text": [
      "Processing rows:  27%|██▋       | 325/1224 [36:21<1:33:18,  6.23s/it]"
     ]
    },
    {
     "name": "stdout",
     "output_type": "stream",
     "text": [
      "On 26.55%\n",
      "time elapsed: 2181(s), time left: 6034(s), estimated finish time: 02:16:08\n"
     ]
    },
    {
     "name": "stderr",
     "output_type": "stream",
     "text": [
      "Processing rows:  27%|██▋       | 326/1224 [36:27<1:31:46,  6.13s/it]"
     ]
    },
    {
     "name": "stdout",
     "output_type": "stream",
     "text": [
      "On 26.63%\n",
      "time elapsed: 2187(s), time left: 6025(s), estimated finish time: 02:16:05\n"
     ]
    },
    {
     "name": "stderr",
     "output_type": "stream",
     "text": [
      "Processing rows:  27%|██▋       | 327/1224 [36:35<1:38:59,  6.62s/it]"
     ]
    },
    {
     "name": "stdout",
     "output_type": "stream",
     "text": [
      "On 26.72%\n",
      "time elapsed: 2195(s), time left: 6021(s), estimated finish time: 02:16:09\n"
     ]
    },
    {
     "name": "stderr",
     "output_type": "stream",
     "text": [
      "Processing rows:  27%|██▋       | 328/1224 [36:41<1:37:10,  6.51s/it]"
     ]
    },
    {
     "name": "stdout",
     "output_type": "stream",
     "text": [
      "On 26.8%\n",
      "time elapsed: 2201(s), time left: 6013(s), estimated finish time: 02:16:07\n"
     ]
    },
    {
     "name": "stderr",
     "output_type": "stream",
     "text": [
      "Processing rows:  27%|██▋       | 329/1224 [36:46<1:30:57,  6.10s/it]"
     ]
    },
    {
     "name": "stdout",
     "output_type": "stream",
     "text": [
      "On 26.88%\n",
      "time elapsed: 2206(s), time left: 6002(s), estimated finish time: 02:16:01\n"
     ]
    },
    {
     "name": "stderr",
     "output_type": "stream",
     "text": [
      "Processing rows:  27%|██▋       | 330/1224 [36:53<1:33:11,  6.25s/it]"
     ]
    },
    {
     "name": "stdout",
     "output_type": "stream",
     "text": [
      "On 26.96%\n",
      "time elapsed: 2213(s), time left: 5995(s), estimated finish time: 02:16:01\n"
     ]
    },
    {
     "name": "stderr",
     "output_type": "stream",
     "text": [
      "Processing rows:  27%|██▋       | 331/1224 [37:00<1:39:57,  6.72s/it]"
     ]
    },
    {
     "name": "stdout",
     "output_type": "stream",
     "text": [
      "On 27.04%\n",
      "time elapsed: 2220(s), time left: 5991(s), estimated finish time: 02:16:05\n"
     ]
    },
    {
     "name": "stderr",
     "output_type": "stream",
     "text": [
      "Processing rows:  27%|██▋       | 332/1224 [37:07<1:36:56,  6.52s/it]"
     ]
    },
    {
     "name": "stdout",
     "output_type": "stream",
     "text": [
      "On 27.12%\n",
      "time elapsed: 2227(s), time left: 5983(s), estimated finish time: 02:16:02\n"
     ]
    },
    {
     "name": "stderr",
     "output_type": "stream",
     "text": [
      "Processing rows:  27%|██▋       | 333/1224 [37:13<1:34:52,  6.39s/it]"
     ]
    },
    {
     "name": "stdout",
     "output_type": "stream",
     "text": [
      "On 27.21%\n",
      "time elapsed: 2233(s), time left: 5975(s), estimated finish time: 02:16:00\n"
     ]
    },
    {
     "name": "stderr",
     "output_type": "stream",
     "text": [
      "Processing rows:  27%|██▋       | 334/1224 [37:18<1:29:34,  6.04s/it]"
     ]
    },
    {
     "name": "stdout",
     "output_type": "stream",
     "text": [
      "On 27.29%\n",
      "time elapsed: 2238(s), time left: 5964(s), estimated finish time: 02:15:55\n"
     ]
    },
    {
     "name": "stderr",
     "output_type": "stream",
     "text": [
      "Processing rows:  27%|██▋       | 335/1224 [37:23<1:26:26,  5.83s/it]"
     ]
    },
    {
     "name": "stdout",
     "output_type": "stream",
     "text": [
      "On 27.37%\n",
      "time elapsed: 2243(s), time left: 5954(s), estimated finish time: 02:15:50\n"
     ]
    },
    {
     "name": "stderr",
     "output_type": "stream",
     "text": [
      "Processing rows:  27%|██▋       | 336/1224 [37:31<1:34:46,  6.40s/it]"
     ]
    },
    {
     "name": "stdout",
     "output_type": "stream",
     "text": [
      "On 27.45%\n",
      "time elapsed: 2251(s), time left: 5950(s), estimated finish time: 02:15:53\n"
     ]
    },
    {
     "name": "stderr",
     "output_type": "stream",
     "text": [
      "Processing rows:  28%|██▊       | 337/1224 [37:37<1:31:56,  6.22s/it]"
     ]
    },
    {
     "name": "stdout",
     "output_type": "stream",
     "text": [
      "On 27.53%\n",
      "time elapsed: 2257(s), time left: 5941(s), estimated finish time: 02:15:50\n"
     ]
    },
    {
     "name": "stderr",
     "output_type": "stream",
     "text": [
      "Processing rows:  28%|██▊       | 338/1224 [37:43<1:32:01,  6.23s/it]"
     ]
    },
    {
     "name": "stdout",
     "output_type": "stream",
     "text": [
      "On 27.61%\n",
      "time elapsed: 2263(s), time left: 5933(s), estimated finish time: 02:15:48\n"
     ]
    },
    {
     "name": "stderr",
     "output_type": "stream",
     "text": [
      "Processing rows:  28%|██▊       | 339/1224 [37:49<1:30:49,  6.16s/it]"
     ]
    },
    {
     "name": "stdout",
     "output_type": "stream",
     "text": [
      "On 27.7%\n",
      "time elapsed: 2269(s), time left: 5924(s), estimated finish time: 02:15:46\n"
     ]
    },
    {
     "name": "stderr",
     "output_type": "stream",
     "text": [
      "Processing rows:  28%|██▊       | 340/1224 [37:57<1:38:33,  6.69s/it]"
     ]
    },
    {
     "name": "stdout",
     "output_type": "stream",
     "text": [
      "On 27.78%\n",
      "time elapsed: 2277(s), time left: 5921(s), estimated finish time: 02:15:50\n"
     ]
    },
    {
     "name": "stderr",
     "output_type": "stream",
     "text": [
      "Processing rows:  28%|██▊       | 341/1224 [38:03<1:35:27,  6.49s/it]"
     ]
    },
    {
     "name": "stdout",
     "output_type": "stream",
     "text": [
      "On 27.86%\n",
      "time elapsed: 2283(s), time left: 5912(s), estimated finish time: 02:15:48\n"
     ]
    },
    {
     "name": "stderr",
     "output_type": "stream",
     "text": [
      "Processing rows:  28%|██▊       | 342/1224 [38:14<1:55:20,  7.85s/it]"
     ]
    },
    {
     "name": "stdout",
     "output_type": "stream",
     "text": [
      "On 27.94%\n",
      "time elapsed: 2294(s), time left: 5917(s), estimated finish time: 02:16:03\n"
     ]
    },
    {
     "name": "stderr",
     "output_type": "stream",
     "text": [
      "Processing rows:  28%|██▊       | 343/1224 [38:20<1:45:22,  7.18s/it]"
     ]
    },
    {
     "name": "stdout",
     "output_type": "stream",
     "text": [
      "On 28.02%\n",
      "time elapsed: 2300(s), time left: 5907(s), estimated finish time: 02:15:59\n"
     ]
    },
    {
     "name": "stderr",
     "output_type": "stream",
     "text": [
      "Processing rows:  28%|██▊       | 344/1224 [38:30<2:01:47,  8.30s/it]"
     ]
    },
    {
     "name": "stdout",
     "output_type": "stream",
     "text": [
      "On 28.1%\n",
      "time elapsed: 2310(s), time left: 5911(s), estimated finish time: 02:16:15\n"
     ]
    },
    {
     "name": "stderr",
     "output_type": "stream",
     "text": [
      "Processing rows:  28%|██▊       | 345/1224 [38:36<1:49:38,  7.48s/it]"
     ]
    },
    {
     "name": "stdout",
     "output_type": "stream",
     "text": [
      "On 28.19%\n",
      "time elapsed: 2316(s), time left: 5902(s), estimated finish time: 02:16:10\n"
     ]
    },
    {
     "name": "stderr",
     "output_type": "stream",
     "text": [
      "Processing rows:  28%|██▊       | 346/1224 [38:43<1:45:40,  7.22s/it]"
     ]
    },
    {
     "name": "stdout",
     "output_type": "stream",
     "text": [
      "On 28.27%\n",
      "time elapsed: 2323(s), time left: 5895(s), estimated finish time: 02:16:10\n"
     ]
    },
    {
     "name": "stderr",
     "output_type": "stream",
     "text": [
      "Processing rows:  28%|██▊       | 347/1224 [38:48<1:36:32,  6.60s/it]"
     ]
    },
    {
     "name": "stdout",
     "output_type": "stream",
     "text": [
      "On 28.35%\n",
      "time elapsed: 2328(s), time left: 5884(s), estimated finish time: 02:16:05\n"
     ]
    },
    {
     "name": "stderr",
     "output_type": "stream",
     "text": [
      "Processing rows:  28%|██▊       | 348/1224 [38:54<1:34:55,  6.50s/it]"
     ]
    },
    {
     "name": "stdout",
     "output_type": "stream",
     "text": [
      "On 28.43%\n",
      "time elapsed: 2334(s), time left: 5876(s), estimated finish time: 02:16:03\n"
     ]
    },
    {
     "name": "stderr",
     "output_type": "stream",
     "text": [
      "Processing rows:  29%|██▊       | 349/1224 [38:59<1:29:14,  6.12s/it]"
     ]
    },
    {
     "name": "stdout",
     "output_type": "stream",
     "text": [
      "On 28.51%\n",
      "time elapsed: 2339(s), time left: 5866(s), estimated finish time: 02:15:58\n"
     ]
    },
    {
     "name": "stderr",
     "output_type": "stream",
     "text": [
      "Processing rows:  29%|██▊       | 350/1224 [39:05<1:28:04,  6.05s/it]"
     ]
    },
    {
     "name": "stdout",
     "output_type": "stream",
     "text": [
      "On 28.59%\n",
      "time elapsed: 2345(s), time left: 5857(s), estimated finish time: 02:15:55\n"
     ]
    },
    {
     "name": "stderr",
     "output_type": "stream",
     "text": [
      "Processing rows:  29%|██▊       | 351/1224 [39:11<1:27:23,  6.01s/it]"
     ]
    },
    {
     "name": "stdout",
     "output_type": "stream",
     "text": [
      "On 28.68%\n",
      "time elapsed: 2351(s), time left: 5848(s), estimated finish time: 02:15:52\n"
     ]
    },
    {
     "name": "stderr",
     "output_type": "stream",
     "text": [
      "Processing rows:  29%|██▉       | 352/1224 [39:17<1:25:26,  5.88s/it]"
     ]
    },
    {
     "name": "stdout",
     "output_type": "stream",
     "text": [
      "On 28.76%\n",
      "time elapsed: 2357(s), time left: 5839(s), estimated finish time: 02:15:48\n"
     ]
    },
    {
     "name": "stderr",
     "output_type": "stream",
     "text": [
      "Processing rows:  29%|██▉       | 353/1224 [39:23<1:26:53,  5.99s/it]"
     ]
    },
    {
     "name": "stdout",
     "output_type": "stream",
     "text": [
      "On 28.84%\n",
      "time elapsed: 2363(s), time left: 5831(s), estimated finish time: 02:15:47\n"
     ]
    },
    {
     "name": "stderr",
     "output_type": "stream",
     "text": [
      "Processing rows:  29%|██▉       | 354/1224 [39:29<1:26:48,  5.99s/it]"
     ]
    },
    {
     "name": "stdout",
     "output_type": "stream",
     "text": [
      "On 28.92%\n",
      "time elapsed: 2369(s), time left: 5823(s), estimated finish time: 02:15:44\n"
     ]
    },
    {
     "name": "stderr",
     "output_type": "stream",
     "text": [
      "Processing rows:  29%|██▉       | 355/1224 [39:35<1:26:02,  5.94s/it]"
     ]
    },
    {
     "name": "stdout",
     "output_type": "stream",
     "text": [
      "On 29.0%\n",
      "time elapsed: 2375(s), time left: 5814(s), estimated finish time: 02:15:41\n"
     ]
    },
    {
     "name": "stderr",
     "output_type": "stream",
     "text": [
      "Processing rows:  29%|██▉       | 356/1224 [39:43<1:34:15,  6.52s/it]"
     ]
    },
    {
     "name": "stdout",
     "output_type": "stream",
     "text": [
      "On 29.08%\n",
      "time elapsed: 2383(s), time left: 5810(s), estimated finish time: 02:15:45\n"
     ]
    },
    {
     "name": "stderr",
     "output_type": "stream",
     "text": [
      "Processing rows:  29%|██▉       | 357/1224 [39:48<1:29:33,  6.20s/it]"
     ]
    },
    {
     "name": "stdout",
     "output_type": "stream",
     "text": [
      "On 29.17%\n",
      "time elapsed: 2388(s), time left: 5800(s), estimated finish time: 02:15:41\n"
     ]
    },
    {
     "name": "stderr",
     "output_type": "stream",
     "text": [
      "Processing rows:  29%|██▉       | 358/1224 [39:56<1:36:15,  6.67s/it]"
     ]
    },
    {
     "name": "stdout",
     "output_type": "stream",
     "text": [
      "On 29.25%\n",
      "time elapsed: 2396(s), time left: 5796(s), estimated finish time: 02:15:45\n"
     ]
    },
    {
     "name": "stderr",
     "output_type": "stream",
     "text": [
      "Processing rows:  29%|██▉       | 359/1224 [40:01<1:31:49,  6.37s/it]"
     ]
    },
    {
     "name": "stdout",
     "output_type": "stream",
     "text": [
      "On 29.33%\n",
      "time elapsed: 2402(s), time left: 5787(s), estimated finish time: 02:15:41\n"
     ]
    },
    {
     "name": "stderr",
     "output_type": "stream",
     "text": [
      "Processing rows:  29%|██▉       | 360/1224 [40:07<1:28:39,  6.16s/it]"
     ]
    },
    {
     "name": "stdout",
     "output_type": "stream",
     "text": [
      "On 29.41%\n",
      "time elapsed: 2407(s), time left: 5778(s), estimated finish time: 02:15:38\n"
     ]
    },
    {
     "name": "stderr",
     "output_type": "stream",
     "text": [
      "Processing rows:  29%|██▉       | 361/1224 [40:14<1:29:59,  6.26s/it]"
     ]
    },
    {
     "name": "stdout",
     "output_type": "stream",
     "text": [
      "On 29.49%\n",
      "time elapsed: 2414(s), time left: 5771(s), estimated finish time: 02:15:37\n"
     ]
    },
    {
     "name": "stderr",
     "output_type": "stream",
     "text": [
      "Processing rows:  30%|██▉       | 362/1224 [40:23<1:41:27,  7.06s/it]"
     ]
    },
    {
     "name": "stdout",
     "output_type": "stream",
     "text": [
      "On 29.58%\n",
      "time elapsed: 2423(s), time left: 5769(s), estimated finish time: 02:15:45\n"
     ]
    },
    {
     "name": "stderr",
     "output_type": "stream",
     "text": [
      "Processing rows:  30%|██▉       | 363/1224 [40:30<1:41:33,  7.08s/it]"
     ]
    },
    {
     "name": "stdout",
     "output_type": "stream",
     "text": [
      "On 29.66%\n",
      "time elapsed: 2430(s), time left: 5764(s), estimated finish time: 02:15:46\n"
     ]
    },
    {
     "name": "stderr",
     "output_type": "stream",
     "text": [
      "Processing rows:  30%|██▉       | 364/1224 [40:39<1:50:58,  7.74s/it]"
     ]
    },
    {
     "name": "stdout",
     "output_type": "stream",
     "text": [
      "On 29.74%\n",
      "time elapsed: 2439(s), time left: 5763(s), estimated finish time: 02:15:55\n"
     ]
    },
    {
     "name": "stderr",
     "output_type": "stream",
     "text": [
      "Processing rows:  30%|██▉       | 365/1224 [40:48<1:54:15,  7.98s/it]"
     ]
    },
    {
     "name": "stdout",
     "output_type": "stream",
     "text": [
      "On 29.82%\n",
      "time elapsed: 2448(s), time left: 5761(s), estimated finish time: 02:16:01\n"
     ]
    },
    {
     "name": "stderr",
     "output_type": "stream",
     "text": [
      "Processing rows:  30%|██▉       | 366/1224 [40:54<1:47:17,  7.50s/it]"
     ]
    },
    {
     "name": "stdout",
     "output_type": "stream",
     "text": [
      "On 29.9%\n",
      "time elapsed: 2454(s), time left: 5753(s), estimated finish time: 02:16:00\n"
     ]
    },
    {
     "name": "stderr",
     "output_type": "stream",
     "text": [
      "Processing rows:  30%|██▉       | 367/1224 [41:00<1:42:46,  7.20s/it]"
     ]
    },
    {
     "name": "stdout",
     "output_type": "stream",
     "text": [
      "On 29.98%\n",
      "time elapsed: 2460(s), time left: 5746(s), estimated finish time: 02:15:59\n"
     ]
    },
    {
     "name": "stderr",
     "output_type": "stream",
     "text": [
      "Processing rows:  30%|███       | 368/1224 [41:07<1:38:29,  6.90s/it]"
     ]
    },
    {
     "name": "stdout",
     "output_type": "stream",
     "text": [
      "On 30.07%\n",
      "time elapsed: 2467(s), time left: 5738(s), estimated finish time: 02:15:58\n"
     ]
    },
    {
     "name": "stderr",
     "output_type": "stream",
     "text": [
      "Processing rows:  30%|███       | 369/1224 [41:14<1:40:06,  7.03s/it]"
     ]
    },
    {
     "name": "stdout",
     "output_type": "stream",
     "text": [
      "On 30.15%\n",
      "time elapsed: 2474(s), time left: 5733(s), estimated finish time: 02:16:00\n"
     ]
    },
    {
     "name": "stderr",
     "output_type": "stream",
     "text": [
      "Processing rows:  30%|███       | 370/1224 [41:21<1:38:18,  6.91s/it]"
     ]
    },
    {
     "name": "stdout",
     "output_type": "stream",
     "text": [
      "On 30.23%\n",
      "time elapsed: 2481(s), time left: 5726(s), estimated finish time: 02:15:59\n"
     ]
    },
    {
     "name": "stderr",
     "output_type": "stream",
     "text": [
      "Processing rows:  30%|███       | 371/1224 [41:30<1:51:15,  7.83s/it]"
     ]
    },
    {
     "name": "stdout",
     "output_type": "stream",
     "text": [
      "On 30.31%\n",
      "time elapsed: 2491(s), time left: 5727(s), estimated finish time: 02:16:10\n"
     ]
    },
    {
     "name": "stderr",
     "output_type": "stream",
     "text": [
      "Processing rows:  30%|███       | 372/1224 [41:37<1:45:26,  7.43s/it]"
     ]
    },
    {
     "name": "stdout",
     "output_type": "stream",
     "text": [
      "On 30.39%\n",
      "time elapsed: 2497(s), time left: 5720(s), estimated finish time: 02:16:09\n"
     ]
    },
    {
     "name": "stderr",
     "output_type": "stream",
     "text": [
      "Processing rows:  30%|███       | 373/1224 [41:45<1:49:08,  7.69s/it]"
     ]
    },
    {
     "name": "stdout",
     "output_type": "stream",
     "text": [
      "On 30.47%\n",
      "time elapsed: 2505(s), time left: 5717(s), estimated finish time: 02:16:15\n"
     ]
    },
    {
     "name": "stderr",
     "output_type": "stream",
     "text": [
      "Processing rows:  31%|███       | 374/1224 [41:54<1:55:02,  8.12s/it]"
     ]
    },
    {
     "name": "stdout",
     "output_type": "stream",
     "text": [
      "On 30.56%\n",
      "time elapsed: 2514(s), time left: 5715(s), estimated finish time: 02:16:23\n"
     ]
    },
    {
     "name": "stderr",
     "output_type": "stream",
     "text": [
      "Processing rows:  31%|███       | 375/1224 [42:01<1:50:24,  7.80s/it]"
     ]
    },
    {
     "name": "stdout",
     "output_type": "stream",
     "text": [
      "On 30.64%\n",
      "time elapsed: 2522(s), time left: 5709(s), estimated finish time: 02:16:24\n"
     ]
    },
    {
     "name": "stderr",
     "output_type": "stream",
     "text": [
      "Processing rows:  31%|███       | 376/1224 [42:10<1:51:57,  7.92s/it]"
     ]
    },
    {
     "name": "stdout",
     "output_type": "stream",
     "text": [
      "On 30.72%\n",
      "time elapsed: 2530(s), time left: 5706(s), estimated finish time: 02:16:28\n"
     ]
    },
    {
     "name": "stderr",
     "output_type": "stream",
     "text": [
      "Processing rows:  31%|███       | 377/1224 [42:18<1:52:14,  7.95s/it]"
     ]
    },
    {
     "name": "stdout",
     "output_type": "stream",
     "text": [
      "On 30.8%\n",
      "time elapsed: 2538(s), time left: 5702(s), estimated finish time: 02:16:33\n"
     ]
    },
    {
     "name": "stderr",
     "output_type": "stream",
     "text": [
      "Processing rows:  31%|███       | 378/1224 [42:24<1:46:00,  7.52s/it]"
     ]
    },
    {
     "name": "stdout",
     "output_type": "stream",
     "text": [
      "On 30.88%\n",
      "time elapsed: 2544(s), time left: 5695(s), estimated finish time: 02:16:32\n"
     ]
    },
    {
     "name": "stderr",
     "output_type": "stream",
     "text": [
      "Processing rows:  31%|███       | 379/1224 [42:31<1:41:07,  7.18s/it]"
     ]
    },
    {
     "name": "stdout",
     "output_type": "stream",
     "text": [
      "On 30.96%\n",
      "time elapsed: 2551(s), time left: 5687(s), estimated finish time: 02:16:31\n"
     ]
    },
    {
     "name": "stderr",
     "output_type": "stream",
     "text": [
      "Processing rows:  31%|███       | 380/1224 [42:40<1:49:18,  7.77s/it]"
     ]
    },
    {
     "name": "stdout",
     "output_type": "stream",
     "text": [
      "On 31.05%\n",
      "time elapsed: 2560(s), time left: 5686(s), estimated finish time: 02:16:39\n"
     ]
    },
    {
     "name": "stderr",
     "output_type": "stream",
     "text": [
      "Processing rows:  31%|███       | 381/1224 [42:49<1:54:25,  8.14s/it]"
     ]
    },
    {
     "name": "stdout",
     "output_type": "stream",
     "text": [
      "On 31.13%\n",
      "time elapsed: 2569(s), time left: 5684(s), estimated finish time: 02:16:46\n"
     ]
    },
    {
     "name": "stderr",
     "output_type": "stream",
     "text": [
      "Processing rows:  31%|███       | 382/1224 [42:57<1:52:55,  8.05s/it]"
     ]
    },
    {
     "name": "stdout",
     "output_type": "stream",
     "text": [
      "On 31.21%\n",
      "time elapsed: 2577(s), time left: 5680(s), estimated finish time: 02:16:49\n"
     ]
    },
    {
     "name": "stderr",
     "output_type": "stream",
     "text": [
      "Processing rows:  31%|███▏      | 383/1224 [43:03<1:45:43,  7.54s/it]"
     ]
    },
    {
     "name": "stdout",
     "output_type": "stream",
     "text": [
      "On 31.29%\n",
      "time elapsed: 2583(s), time left: 5672(s), estimated finish time: 02:16:48\n"
     ]
    },
    {
     "name": "stderr",
     "output_type": "stream",
     "text": [
      "Processing rows:  31%|███▏      | 384/1224 [43:10<1:43:41,  7.41s/it]"
     ]
    },
    {
     "name": "stdout",
     "output_type": "stream",
     "text": [
      "On 31.37%\n",
      "time elapsed: 2590(s), time left: 5666(s), estimated finish time: 02:16:49\n"
     ]
    },
    {
     "name": "stderr",
     "output_type": "stream",
     "text": [
      "Processing rows:  31%|███▏      | 385/1224 [43:18<1:46:50,  7.64s/it]"
     ]
    },
    {
     "name": "stdout",
     "output_type": "stream",
     "text": [
      "On 31.45%\n",
      "time elapsed: 2598(s), time left: 5663(s), estimated finish time: 02:16:54\n"
     ]
    },
    {
     "name": "stderr",
     "output_type": "stream",
     "text": [
      "Processing rows:  32%|███▏      | 386/1224 [43:27<1:51:57,  8.02s/it]"
     ]
    },
    {
     "name": "stdout",
     "output_type": "stream",
     "text": [
      "On 31.54%\n",
      "time elapsed: 2607(s), time left: 5661(s), estimated finish time: 02:17:01\n"
     ]
    },
    {
     "name": "stderr",
     "output_type": "stream",
     "text": [
      "Processing rows:  32%|███▏      | 387/1224 [43:36<1:56:17,  8.34s/it]"
     ]
    },
    {
     "name": "stdout",
     "output_type": "stream",
     "text": [
      "On 31.62%\n",
      "time elapsed: 2616(s), time left: 5659(s), estimated finish time: 02:17:08\n"
     ]
    },
    {
     "name": "stderr",
     "output_type": "stream",
     "text": [
      "Processing rows:  32%|███▏      | 388/1224 [43:44<1:52:27,  8.07s/it]"
     ]
    },
    {
     "name": "stdout",
     "output_type": "stream",
     "text": [
      "On 31.7%\n",
      "time elapsed: 2624(s), time left: 5654(s), estimated finish time: 02:17:10\n"
     ]
    },
    {
     "name": "stderr",
     "output_type": "stream",
     "text": [
      "Processing rows:  32%|███▏      | 389/1224 [43:52<1:54:58,  8.26s/it]"
     ]
    },
    {
     "name": "stdout",
     "output_type": "stream",
     "text": [
      "On 31.78%\n",
      "time elapsed: 2632(s), time left: 5651(s), estimated finish time: 02:17:16\n"
     ]
    },
    {
     "name": "stderr",
     "output_type": "stream",
     "text": [
      "Processing rows:  32%|███▏      | 390/1224 [44:02<1:58:42,  8.54s/it]"
     ]
    },
    {
     "name": "stdout",
     "output_type": "stream",
     "text": [
      "On 31.86%\n",
      "time elapsed: 2642(s), time left: 5650(s), estimated finish time: 02:17:24\n"
     ]
    },
    {
     "name": "stderr",
     "output_type": "stream",
     "text": [
      "Processing rows:  32%|███▏      | 391/1224 [44:09<1:55:13,  8.30s/it]"
     ]
    },
    {
     "name": "stdout",
     "output_type": "stream",
     "text": [
      "On 31.94%\n",
      "time elapsed: 2649(s), time left: 5645(s), estimated finish time: 02:17:27\n"
     ]
    },
    {
     "name": "stderr",
     "output_type": "stream",
     "text": [
      "Processing rows:  32%|███▏      | 392/1224 [44:19<1:59:25,  8.61s/it]"
     ]
    },
    {
     "name": "stdout",
     "output_type": "stream",
     "text": [
      "On 32.03%\n",
      "time elapsed: 2659(s), time left: 5643(s), estimated finish time: 02:17:35\n"
     ]
    },
    {
     "name": "stderr",
     "output_type": "stream",
     "text": [
      "Processing rows:  32%|███▏      | 393/1224 [44:26<1:52:32,  8.13s/it]"
     ]
    },
    {
     "name": "stdout",
     "output_type": "stream",
     "text": [
      "On 32.11%\n",
      "time elapsed: 2666(s), time left: 5637(s), estimated finish time: 02:17:35\n"
     ]
    },
    {
     "name": "stderr",
     "output_type": "stream",
     "text": [
      "Processing rows:  32%|███▏      | 394/1224 [44:34<1:52:06,  8.10s/it]"
     ]
    },
    {
     "name": "stdout",
     "output_type": "stream",
     "text": [
      "On 32.19%\n",
      "time elapsed: 2674(s), time left: 5633(s), estimated finish time: 02:17:39\n"
     ]
    },
    {
     "name": "stderr",
     "output_type": "stream",
     "text": [
      "Processing rows:  32%|███▏      | 395/1224 [44:40<1:45:11,  7.61s/it]"
     ]
    },
    {
     "name": "stdout",
     "output_type": "stream",
     "text": [
      "On 32.27%\n",
      "time elapsed: 2680(s), time left: 5626(s), estimated finish time: 02:17:38\n"
     ]
    },
    {
     "name": "stderr",
     "output_type": "stream",
     "text": [
      "Processing rows:  32%|███▏      | 396/1224 [44:47<1:40:10,  7.26s/it]"
     ]
    },
    {
     "name": "stdout",
     "output_type": "stream",
     "text": [
      "On 32.35%\n",
      "time elapsed: 2687(s), time left: 5618(s), estimated finish time: 02:17:37\n"
     ]
    },
    {
     "name": "stderr",
     "output_type": "stream",
     "text": [
      "Processing rows:  32%|███▏      | 397/1224 [44:52<1:33:20,  6.77s/it]"
     ]
    },
    {
     "name": "stdout",
     "output_type": "stream",
     "text": [
      "On 32.43%\n",
      "time elapsed: 2692(s), time left: 5609(s), estimated finish time: 02:17:34\n"
     ]
    },
    {
     "name": "stderr",
     "output_type": "stream",
     "text": [
      "Processing rows:  33%|███▎      | 398/1224 [45:00<1:35:30,  6.94s/it]"
     ]
    },
    {
     "name": "stdout",
     "output_type": "stream",
     "text": [
      "On 32.52%\n",
      "time elapsed: 2700(s), time left: 5603(s), estimated finish time: 02:17:35\n"
     ]
    },
    {
     "name": "stderr",
     "output_type": "stream",
     "text": [
      "Processing rows:  33%|███▎      | 399/1224 [45:07<1:36:52,  7.05s/it]"
     ]
    },
    {
     "name": "stdout",
     "output_type": "stream",
     "text": [
      "On 32.6%\n",
      "time elapsed: 2707(s), time left: 5597(s), estimated finish time: 02:17:37\n"
     ]
    },
    {
     "name": "stderr",
     "output_type": "stream",
     "text": [
      "Processing rows:  33%|███▎      | 400/1224 [45:13<1:35:01,  6.92s/it]"
     ]
    },
    {
     "name": "stdout",
     "output_type": "stream",
     "text": [
      "On 32.68%\n",
      "time elapsed: 2714(s), time left: 5590(s), estimated finish time: 02:17:37\n"
     ]
    },
    {
     "name": "stderr",
     "output_type": "stream",
     "text": [
      "Processing rows:  33%|███▎      | 401/1224 [45:21<1:35:37,  6.97s/it]"
     ]
    },
    {
     "name": "stdout",
     "output_type": "stream",
     "text": [
      "On 32.76%\n",
      "time elapsed: 2721(s), time left: 5584(s), estimated finish time: 02:17:38\n"
     ]
    },
    {
     "name": "stderr",
     "output_type": "stream",
     "text": [
      "Processing rows:  33%|███▎      | 402/1224 [45:27<1:34:42,  6.91s/it]"
     ]
    },
    {
     "name": "stdout",
     "output_type": "stream",
     "text": [
      "On 32.84%\n",
      "time elapsed: 2727(s), time left: 5577(s), estimated finish time: 02:17:37\n"
     ]
    },
    {
     "name": "stderr",
     "output_type": "stream",
     "text": [
      "Processing rows:  33%|███▎      | 403/1224 [45:34<1:31:47,  6.71s/it]"
     ]
    },
    {
     "name": "stdout",
     "output_type": "stream",
     "text": [
      "On 32.92%\n",
      "time elapsed: 2734(s), time left: 5569(s), estimated finish time: 02:17:36\n"
     ]
    },
    {
     "name": "stderr",
     "output_type": "stream",
     "text": [
      "Processing rows:  33%|███▎      | 404/1224 [45:41<1:33:59,  6.88s/it]"
     ]
    },
    {
     "name": "stdout",
     "output_type": "stream",
     "text": [
      "On 33.01%\n",
      "time elapsed: 2741(s), time left: 5564(s), estimated finish time: 02:17:37\n"
     ]
    },
    {
     "name": "stderr",
     "output_type": "stream",
     "text": [
      "Processing rows:  33%|███▎      | 405/1224 [45:48<1:34:07,  6.90s/it]"
     ]
    },
    {
     "name": "stdout",
     "output_type": "stream",
     "text": [
      "On 33.09%\n",
      "time elapsed: 2748(s), time left: 5557(s), estimated finish time: 02:17:38\n"
     ]
    },
    {
     "name": "stderr",
     "output_type": "stream",
     "text": [
      "Processing rows:  33%|███▎      | 406/1224 [45:55<1:34:54,  6.96s/it]"
     ]
    },
    {
     "name": "stdout",
     "output_type": "stream",
     "text": [
      "On 33.17%\n",
      "time elapsed: 2755(s), time left: 5551(s), estimated finish time: 02:17:39\n"
     ]
    },
    {
     "name": "stderr",
     "output_type": "stream",
     "text": [
      "Processing rows:  33%|███▎      | 407/1224 [46:00<1:27:18,  6.41s/it]"
     ]
    },
    {
     "name": "stdout",
     "output_type": "stream",
     "text": [
      "On 33.25%\n",
      "time elapsed: 2760(s), time left: 5541(s), estimated finish time: 02:17:34\n"
     ]
    },
    {
     "name": "stderr",
     "output_type": "stream",
     "text": [
      "Processing rows:  33%|███▎      | 408/1224 [46:07<1:28:30,  6.51s/it]"
     ]
    },
    {
     "name": "stdout",
     "output_type": "stream",
     "text": [
      "On 33.33%\n",
      "time elapsed: 2767(s), time left: 5534(s), estimated finish time: 02:17:34\n"
     ]
    },
    {
     "name": "stderr",
     "output_type": "stream",
     "text": [
      "Processing rows:  33%|███▎      | 409/1224 [46:14<1:30:14,  6.64s/it]"
     ]
    },
    {
     "name": "stdout",
     "output_type": "stream",
     "text": [
      "On 33.42%\n",
      "time elapsed: 2774(s), time left: 5528(s), estimated finish time: 02:17:34\n"
     ]
    },
    {
     "name": "stderr",
     "output_type": "stream",
     "text": [
      "Processing rows:  33%|███▎      | 410/1224 [46:20<1:29:32,  6.60s/it]"
     ]
    },
    {
     "name": "stdout",
     "output_type": "stream",
     "text": [
      "On 33.5%\n",
      "time elapsed: 2780(s), time left: 5520(s), estimated finish time: 02:17:33\n"
     ]
    },
    {
     "name": "stderr",
     "output_type": "stream",
     "text": [
      "Processing rows:  34%|███▎      | 411/1224 [46:27<1:30:49,  6.70s/it]"
     ]
    },
    {
     "name": "stdout",
     "output_type": "stream",
     "text": [
      "On 33.58%\n",
      "time elapsed: 2787(s), time left: 5514(s), estimated finish time: 02:17:34\n"
     ]
    },
    {
     "name": "stderr",
     "output_type": "stream",
     "text": [
      "Processing rows:  34%|███▎      | 412/1224 [46:34<1:29:45,  6.63s/it]"
     ]
    },
    {
     "name": "stdout",
     "output_type": "stream",
     "text": [
      "On 33.66%\n",
      "time elapsed: 2794(s), time left: 5506(s), estimated finish time: 02:17:33\n"
     ]
    },
    {
     "name": "stderr",
     "output_type": "stream",
     "text": [
      "Processing rows:  34%|███▎      | 413/1224 [46:41<1:32:04,  6.81s/it]"
     ]
    },
    {
     "name": "stdout",
     "output_type": "stream",
     "text": [
      "On 33.74%\n",
      "time elapsed: 2801(s), time left: 5501(s), estimated finish time: 02:17:34\n"
     ]
    },
    {
     "name": "stderr",
     "output_type": "stream",
     "text": [
      "Processing rows:  34%|███▍      | 414/1224 [46:48<1:32:14,  6.83s/it]"
     ]
    },
    {
     "name": "stdout",
     "output_type": "stream",
     "text": [
      "On 33.82%\n",
      "time elapsed: 2808(s), time left: 5494(s), estimated finish time: 02:17:34\n"
     ]
    },
    {
     "name": "stderr",
     "output_type": "stream",
     "text": [
      "Processing rows:  34%|███▍      | 415/1224 [46:54<1:30:31,  6.71s/it]"
     ]
    },
    {
     "name": "stdout",
     "output_type": "stream",
     "text": [
      "On 33.91%\n",
      "time elapsed: 2814(s), time left: 5486(s), estimated finish time: 02:17:33\n"
     ]
    },
    {
     "name": "stderr",
     "output_type": "stream",
     "text": [
      "Processing rows:  34%|███▍      | 416/1224 [47:01<1:32:07,  6.84s/it]"
     ]
    },
    {
     "name": "stdout",
     "output_type": "stream",
     "text": [
      "On 33.99%\n",
      "time elapsed: 2821(s), time left: 5480(s), estimated finish time: 02:17:34\n"
     ]
    },
    {
     "name": "stderr",
     "output_type": "stream",
     "text": [
      "Processing rows:  34%|███▍      | 417/1224 [47:07<1:28:31,  6.58s/it]"
     ]
    },
    {
     "name": "stdout",
     "output_type": "stream",
     "text": [
      "On 34.07%\n",
      "time elapsed: 2827(s), time left: 5472(s), estimated finish time: 02:17:32\n"
     ]
    },
    {
     "name": "stderr",
     "output_type": "stream",
     "text": [
      "Processing rows:  34%|███▍      | 418/1224 [47:13<1:26:23,  6.43s/it]"
     ]
    },
    {
     "name": "stdout",
     "output_type": "stream",
     "text": [
      "On 34.15%\n",
      "time elapsed: 2833(s), time left: 5464(s), estimated finish time: 02:17:30\n"
     ]
    },
    {
     "name": "stderr",
     "output_type": "stream",
     "text": [
      "Processing rows:  34%|███▍      | 419/1224 [47:20<1:27:20,  6.51s/it]"
     ]
    },
    {
     "name": "stdout",
     "output_type": "stream",
     "text": [
      "On 34.23%\n",
      "time elapsed: 2840(s), time left: 5457(s), estimated finish time: 02:17:30\n"
     ]
    },
    {
     "name": "stderr",
     "output_type": "stream",
     "text": [
      "Processing rows:  34%|███▍      | 420/1224 [47:25<1:20:08,  5.98s/it]"
     ]
    },
    {
     "name": "stdout",
     "output_type": "stream",
     "text": [
      "On 34.31%\n",
      "time elapsed: 2845(s), time left: 5446(s), estimated finish time: 02:17:24\n"
     ]
    },
    {
     "name": "stderr",
     "output_type": "stream",
     "text": [
      "Processing rows:  34%|███▍      | 421/1224 [47:32<1:24:26,  6.31s/it]"
     ]
    },
    {
     "name": "stdout",
     "output_type": "stream",
     "text": [
      "On 34.4%\n",
      "time elapsed: 2852(s), time left: 5440(s), estimated finish time: 02:17:25\n"
     ]
    },
    {
     "name": "stderr",
     "output_type": "stream",
     "text": [
      "Processing rows:  34%|███▍      | 422/1224 [47:39<1:28:35,  6.63s/it]"
     ]
    },
    {
     "name": "stdout",
     "output_type": "stream",
     "text": [
      "On 34.48%\n",
      "time elapsed: 2859(s), time left: 5434(s), estimated finish time: 02:17:26\n"
     ]
    },
    {
     "name": "stderr",
     "output_type": "stream",
     "text": [
      "Processing rows:  35%|███▍      | 423/1224 [47:46<1:28:20,  6.62s/it]"
     ]
    },
    {
     "name": "stdout",
     "output_type": "stream",
     "text": [
      "On 34.56%\n",
      "time elapsed: 2866(s), time left: 5427(s), estimated finish time: 02:17:26\n"
     ]
    },
    {
     "name": "stderr",
     "output_type": "stream",
     "text": [
      "Processing rows:  35%|███▍      | 424/1224 [47:52<1:26:44,  6.51s/it]"
     ]
    },
    {
     "name": "stdout",
     "output_type": "stream",
     "text": [
      "On 34.64%\n",
      "time elapsed: 2872(s), time left: 5420(s), estimated finish time: 02:17:24\n"
     ]
    },
    {
     "name": "stderr",
     "output_type": "stream",
     "text": [
      "Processing rows:  35%|███▍      | 425/1224 [47:57<1:20:24,  6.04s/it]"
     ]
    },
    {
     "name": "stdout",
     "output_type": "stream",
     "text": [
      "On 34.72%\n",
      "time elapsed: 2877(s), time left: 5409(s), estimated finish time: 02:17:19\n"
     ]
    },
    {
     "name": "stderr",
     "output_type": "stream",
     "text": [
      "Processing rows:  35%|███▍      | 426/1224 [48:04<1:22:19,  6.19s/it]"
     ]
    },
    {
     "name": "stdout",
     "output_type": "stream",
     "text": [
      "On 34.8%\n",
      "time elapsed: 2884(s), time left: 5402(s), estimated finish time: 02:17:18\n"
     ]
    },
    {
     "name": "stderr",
     "output_type": "stream",
     "text": [
      "Processing rows:  35%|███▍      | 427/1224 [48:11<1:26:18,  6.50s/it]"
     ]
    },
    {
     "name": "stdout",
     "output_type": "stream",
     "text": [
      "On 34.89%\n",
      "time elapsed: 2891(s), time left: 5396(s), estimated finish time: 02:17:20\n"
     ]
    },
    {
     "name": "stderr",
     "output_type": "stream",
     "text": [
      "Processing rows:  35%|███▍      | 428/1224 [48:19<1:31:16,  6.88s/it]"
     ]
    },
    {
     "name": "stdout",
     "output_type": "stream",
     "text": [
      "On 34.97%\n",
      "time elapsed: 2899(s), time left: 5391(s), estimated finish time: 02:17:23\n"
     ]
    },
    {
     "name": "stderr",
     "output_type": "stream",
     "text": [
      "Processing rows:  35%|███▌      | 429/1224 [48:25<1:30:47,  6.85s/it]"
     ]
    },
    {
     "name": "stdout",
     "output_type": "stream",
     "text": [
      "On 35.05%\n",
      "time elapsed: 2905(s), time left: 5385(s), estimated finish time: 02:17:23\n"
     ]
    },
    {
     "name": "stderr",
     "output_type": "stream",
     "text": [
      "Processing rows:  35%|███▌      | 430/1224 [48:33<1:32:08,  6.96s/it]"
     ]
    },
    {
     "name": "stdout",
     "output_type": "stream",
     "text": [
      "On 35.13%\n",
      "time elapsed: 2913(s), time left: 5379(s), estimated finish time: 02:17:24\n"
     ]
    },
    {
     "name": "stderr",
     "output_type": "stream",
     "text": [
      "Processing rows:  35%|███▌      | 431/1224 [48:39<1:30:59,  6.88s/it]"
     ]
    },
    {
     "name": "stdout",
     "output_type": "stream",
     "text": [
      "On 35.21%\n",
      "time elapsed: 2919(s), time left: 5372(s), estimated finish time: 02:17:24\n"
     ]
    },
    {
     "name": "stderr",
     "output_type": "stream",
     "text": [
      "Processing rows:  35%|███▌      | 432/1224 [48:46<1:31:00,  6.89s/it]"
     ]
    },
    {
     "name": "stdout",
     "output_type": "stream",
     "text": [
      "On 35.29%\n",
      "time elapsed: 2926(s), time left: 5365(s), estimated finish time: 02:17:24\n"
     ]
    },
    {
     "name": "stderr",
     "output_type": "stream",
     "text": [
      "Processing rows:  35%|███▌      | 433/1224 [48:56<1:41:02,  7.66s/it]"
     ]
    },
    {
     "name": "stdout",
     "output_type": "stream",
     "text": [
      "On 35.38%\n",
      "time elapsed: 2936(s), time left: 5363(s), estimated finish time: 02:17:32\n"
     ]
    },
    {
     "name": "stderr",
     "output_type": "stream",
     "text": [
      "Processing rows:  35%|███▌      | 434/1224 [49:02<1:37:25,  7.40s/it]"
     ]
    },
    {
     "name": "stdout",
     "output_type": "stream",
     "text": [
      "On 35.46%\n",
      "time elapsed: 2942(s), time left: 5357(s), estimated finish time: 02:17:32\n"
     ]
    },
    {
     "name": "stderr",
     "output_type": "stream",
     "text": [
      "Processing rows:  36%|███▌      | 435/1224 [49:09<1:33:44,  7.13s/it]"
     ]
    },
    {
     "name": "stdout",
     "output_type": "stream",
     "text": [
      "On 35.54%\n",
      "time elapsed: 2949(s), time left: 5349(s), estimated finish time: 02:17:31\n"
     ]
    },
    {
     "name": "stderr",
     "output_type": "stream",
     "text": [
      "Processing rows:  36%|███▌      | 436/1224 [49:16<1:33:26,  7.11s/it]"
     ]
    },
    {
     "name": "stdout",
     "output_type": "stream",
     "text": [
      "On 35.62%\n",
      "time elapsed: 2956(s), time left: 5343(s), estimated finish time: 02:17:32\n"
     ]
    },
    {
     "name": "stderr",
     "output_type": "stream",
     "text": [
      "Processing rows:  36%|███▌      | 437/1224 [49:23<1:32:23,  7.04s/it]"
     ]
    },
    {
     "name": "stdout",
     "output_type": "stream",
     "text": [
      "On 35.7%\n",
      "time elapsed: 2963(s), time left: 5336(s), estimated finish time: 02:17:32\n"
     ]
    },
    {
     "name": "stderr",
     "output_type": "stream",
     "text": [
      "Processing rows:  36%|███▌      | 438/1224 [49:30<1:33:23,  7.13s/it]"
     ]
    },
    {
     "name": "stdout",
     "output_type": "stream",
     "text": [
      "On 35.78%\n",
      "time elapsed: 2970(s), time left: 5331(s), estimated finish time: 02:17:34\n"
     ]
    },
    {
     "name": "stderr",
     "output_type": "stream",
     "text": [
      "Processing rows:  36%|███▌      | 439/1224 [49:40<1:42:38,  7.85s/it]"
     ]
    },
    {
     "name": "stdout",
     "output_type": "stream",
     "text": [
      "On 35.87%\n",
      "time elapsed: 2980(s), time left: 5329(s), estimated finish time: 02:17:41\n"
     ]
    },
    {
     "name": "stderr",
     "output_type": "stream",
     "text": [
      "Processing rows:  36%|███▌      | 440/1224 [49:49<1:47:28,  8.22s/it]"
     ]
    },
    {
     "name": "stdout",
     "output_type": "stream",
     "text": [
      "On 35.95%\n",
      "time elapsed: 2989(s), time left: 5326(s), estimated finish time: 02:17:48\n"
     ]
    },
    {
     "name": "stderr",
     "output_type": "stream",
     "text": [
      "Processing rows:  36%|███▌      | 441/1224 [49:56<1:41:50,  7.80s/it]"
     ]
    },
    {
     "name": "stdout",
     "output_type": "stream",
     "text": [
      "On 36.03%\n",
      "time elapsed: 2996(s), time left: 5319(s), estimated finish time: 02:17:48\n"
     ]
    },
    {
     "name": "stderr",
     "output_type": "stream",
     "text": [
      "Processing rows:  36%|███▌      | 442/1224 [50:02<1:36:10,  7.38s/it]"
     ]
    },
    {
     "name": "stdout",
     "output_type": "stream",
     "text": [
      "On 36.11%\n",
      "time elapsed: 3002(s), time left: 5312(s), estimated finish time: 02:17:47\n"
     ]
    },
    {
     "name": "stderr",
     "output_type": "stream",
     "text": [
      "Processing rows:  36%|███▌      | 443/1224 [50:12<1:44:11,  8.00s/it]"
     ]
    },
    {
     "name": "stdout",
     "output_type": "stream",
     "text": [
      "On 36.19%\n",
      "time elapsed: 3012(s), time left: 5310(s), estimated finish time: 02:17:54\n"
     ]
    },
    {
     "name": "stderr",
     "output_type": "stream",
     "text": [
      "Processing rows:  36%|███▋      | 444/1224 [50:18<1:37:58,  7.54s/it]"
     ]
    },
    {
     "name": "stdout",
     "output_type": "stream",
     "text": [
      "On 36.27%\n",
      "time elapsed: 3018(s), time left: 5302(s), estimated finish time: 02:17:53\n"
     ]
    },
    {
     "name": "stderr",
     "output_type": "stream",
     "text": [
      "Processing rows:  36%|███▋      | 445/1224 [50:28<1:45:44,  8.14s/it]"
     ]
    },
    {
     "name": "stdout",
     "output_type": "stream",
     "text": [
      "On 36.36%\n",
      "time elapsed: 3028(s), time left: 5300(s), estimated finish time: 02:18:01\n"
     ]
    },
    {
     "name": "stderr",
     "output_type": "stream",
     "text": [
      "Processing rows:  36%|███▋      | 446/1224 [50:35<1:43:07,  7.95s/it]"
     ]
    },
    {
     "name": "stdout",
     "output_type": "stream",
     "text": [
      "On 36.44%\n",
      "time elapsed: 3035(s), time left: 5295(s), estimated finish time: 02:18:03\n"
     ]
    },
    {
     "name": "stderr",
     "output_type": "stream",
     "text": [
      "Processing rows:  37%|███▋      | 447/1224 [50:43<1:41:19,  7.82s/it]"
     ]
    },
    {
     "name": "stdout",
     "output_type": "stream",
     "text": [
      "On 36.52%\n",
      "time elapsed: 3043(s), time left: 5289(s), estimated finish time: 02:18:05\n"
     ]
    },
    {
     "name": "stderr",
     "output_type": "stream",
     "text": [
      "Processing rows:  37%|███▋      | 448/1224 [50:49<1:37:25,  7.53s/it]"
     ]
    },
    {
     "name": "stdout",
     "output_type": "stream",
     "text": [
      "On 36.6%\n",
      "time elapsed: 3049(s), time left: 5282(s), estimated finish time: 02:18:05\n"
     ]
    },
    {
     "name": "stderr",
     "output_type": "stream",
     "text": [
      "Processing rows:  37%|███▋      | 449/1224 [50:59<1:44:04,  8.06s/it]"
     ]
    },
    {
     "name": "stdout",
     "output_type": "stream",
     "text": [
      "On 36.68%\n",
      "time elapsed: 3059(s), time left: 5280(s), estimated finish time: 02:18:11\n"
     ]
    },
    {
     "name": "stderr",
     "output_type": "stream",
     "text": [
      "Processing rows:  37%|███▋      | 450/1224 [51:08<1:48:22,  8.40s/it]"
     ]
    },
    {
     "name": "stdout",
     "output_type": "stream",
     "text": [
      "On 36.76%\n",
      "time elapsed: 3068(s), time left: 5277(s), estimated finish time: 02:18:18\n"
     ]
    },
    {
     "name": "stderr",
     "output_type": "stream",
     "text": [
      "Processing rows:  37%|███▋      | 451/1224 [51:15<1:42:34,  7.96s/it]"
     ]
    },
    {
     "name": "stdout",
     "output_type": "stream",
     "text": [
      "On 36.85%\n",
      "time elapsed: 3075(s), time left: 5271(s), estimated finish time: 02:18:18\n"
     ]
    },
    {
     "name": "stderr",
     "output_type": "stream",
     "text": [
      "Processing rows:  37%|███▋      | 452/1224 [51:22<1:40:02,  7.78s/it]"
     ]
    },
    {
     "name": "stdout",
     "output_type": "stream",
     "text": [
      "On 36.93%\n",
      "time elapsed: 3082(s), time left: 5265(s), estimated finish time: 02:18:20\n"
     ]
    },
    {
     "name": "stderr",
     "output_type": "stream",
     "text": [
      "Processing rows:  37%|███▋      | 453/1224 [51:30<1:38:27,  7.66s/it]"
     ]
    },
    {
     "name": "stdout",
     "output_type": "stream",
     "text": [
      "On 37.01%\n",
      "time elapsed: 3090(s), time left: 5259(s), estimated finish time: 02:18:21\n"
     ]
    },
    {
     "name": "stderr",
     "output_type": "stream",
     "text": [
      "Processing rows:  37%|███▋      | 454/1224 [51:39<1:46:10,  8.27s/it]"
     ]
    },
    {
     "name": "stdout",
     "output_type": "stream",
     "text": [
      "On 37.09%\n",
      "time elapsed: 3099(s), time left: 5257(s), estimated finish time: 02:18:29\n"
     ]
    },
    {
     "name": "stderr",
     "output_type": "stream",
     "text": [
      "Processing rows:  37%|███▋      | 455/1224 [51:49<1:50:53,  8.65s/it]"
     ]
    },
    {
     "name": "stdout",
     "output_type": "stream",
     "text": [
      "On 37.17%\n",
      "time elapsed: 3109(s), time left: 5255(s), estimated finish time: 02:18:36\n"
     ]
    },
    {
     "name": "stderr",
     "output_type": "stream",
     "text": [
      "Processing rows:  37%|███▋      | 456/1224 [51:55<1:42:38,  8.02s/it]"
     ]
    },
    {
     "name": "stdout",
     "output_type": "stream",
     "text": [
      "On 37.25%\n",
      "time elapsed: 3115(s), time left: 5247(s), estimated finish time: 02:18:35\n"
     ]
    },
    {
     "name": "stderr",
     "output_type": "stream",
     "text": [
      "Processing rows:  37%|███▋      | 457/1224 [52:05<1:49:32,  8.57s/it]"
     ]
    },
    {
     "name": "stdout",
     "output_type": "stream",
     "text": [
      "On 37.34%\n",
      "time elapsed: 3125(s), time left: 5246(s), estimated finish time: 02:18:44\n"
     ]
    },
    {
     "name": "stderr",
     "output_type": "stream",
     "text": [
      "Processing rows:  37%|███▋      | 458/1224 [52:14<1:51:44,  8.75s/it]"
     ]
    },
    {
     "name": "stdout",
     "output_type": "stream",
     "text": [
      "On 37.42%\n",
      "time elapsed: 3134(s), time left: 5243(s), estimated finish time: 02:18:50\n"
     ]
    },
    {
     "name": "stderr",
     "output_type": "stream",
     "text": [
      "Processing rows:  38%|███▊      | 459/1224 [52:22<1:46:01,  8.32s/it]"
     ]
    },
    {
     "name": "stdout",
     "output_type": "stream",
     "text": [
      "On 37.5%\n",
      "time elapsed: 3142(s), time left: 5237(s), estimated finish time: 02:18:51\n"
     ]
    },
    {
     "name": "stderr",
     "output_type": "stream",
     "text": [
      "Processing rows:  38%|███▊      | 460/1224 [52:28<1:40:01,  7.85s/it]"
     ]
    },
    {
     "name": "stdout",
     "output_type": "stream",
     "text": [
      "On 37.58%\n",
      "time elapsed: 3149(s), time left: 5230(s), estimated finish time: 02:18:51\n"
     ]
    },
    {
     "name": "stderr",
     "output_type": "stream",
     "text": [
      "Processing rows:  38%|███▊      | 461/1224 [52:37<1:44:19,  8.20s/it]"
     ]
    },
    {
     "name": "stdout",
     "output_type": "stream",
     "text": [
      "On 37.66%\n",
      "time elapsed: 3158(s), time left: 5226(s), estimated finish time: 02:18:57\n"
     ]
    },
    {
     "name": "stderr",
     "output_type": "stream",
     "text": [
      "Processing rows:  38%|███▊      | 462/1224 [52:46<1:47:00,  8.43s/it]"
     ]
    },
    {
     "name": "stdout",
     "output_type": "stream",
     "text": [
      "On 37.75%\n",
      "time elapsed: 3166(s), time left: 5223(s), estimated finish time: 02:19:02\n"
     ]
    },
    {
     "name": "stderr",
     "output_type": "stream",
     "text": [
      "Processing rows:  38%|███▊      | 463/1224 [52:53<1:41:37,  8.01s/it]"
     ]
    },
    {
     "name": "stdout",
     "output_type": "stream",
     "text": [
      "On 37.83%\n",
      "time elapsed: 3174(s), time left: 5216(s), estimated finish time: 02:19:03\n"
     ]
    },
    {
     "name": "stderr",
     "output_type": "stream",
     "text": [
      "Processing rows:  38%|███▊      | 464/1224 [53:01<1:38:35,  7.78s/it]"
     ]
    },
    {
     "name": "stdout",
     "output_type": "stream",
     "text": [
      "On 37.91%\n",
      "time elapsed: 3181(s), time left: 5210(s), estimated finish time: 02:19:04\n"
     ]
    },
    {
     "name": "stderr",
     "output_type": "stream",
     "text": [
      "Processing rows:  38%|███▊      | 465/1224 [53:10<1:44:48,  8.29s/it]"
     ]
    },
    {
     "name": "stdout",
     "output_type": "stream",
     "text": [
      "On 37.99%\n",
      "time elapsed: 3190(s), time left: 5208(s), estimated finish time: 02:19:11\n"
     ]
    },
    {
     "name": "stderr",
     "output_type": "stream",
     "text": [
      "Processing rows:  38%|███▊      | 466/1224 [53:17<1:40:04,  7.92s/it]"
     ]
    },
    {
     "name": "stdout",
     "output_type": "stream",
     "text": [
      "On 38.07%\n",
      "time elapsed: 3197(s), time left: 5201(s), estimated finish time: 02:19:11\n"
     ]
    },
    {
     "name": "stderr",
     "output_type": "stream",
     "text": [
      "Processing rows:  38%|███▊      | 467/1224 [53:25<1:38:37,  7.82s/it]"
     ]
    },
    {
     "name": "stdout",
     "output_type": "stream",
     "text": [
      "On 38.15%\n",
      "time elapsed: 3205(s), time left: 5195(s), estimated finish time: 02:19:13\n"
     ]
    },
    {
     "name": "stderr",
     "output_type": "stream",
     "text": [
      "Processing rows:  38%|███▊      | 468/1224 [53:32<1:36:43,  7.68s/it]"
     ]
    },
    {
     "name": "stdout",
     "output_type": "stream",
     "text": [
      "On 38.24%\n",
      "time elapsed: 3212(s), time left: 5189(s), estimated finish time: 02:19:14\n"
     ]
    },
    {
     "name": "stderr",
     "output_type": "stream",
     "text": [
      "Processing rows:  38%|███▊      | 469/1224 [53:43<1:47:10,  8.52s/it]"
     ]
    },
    {
     "name": "stdout",
     "output_type": "stream",
     "text": [
      "On 38.32%\n",
      "time elapsed: 3223(s), time left: 5188(s), estimated finish time: 02:19:24\n"
     ]
    },
    {
     "name": "stderr",
     "output_type": "stream",
     "text": [
      "Processing rows:  38%|███▊      | 470/1224 [53:51<1:45:50,  8.42s/it]"
     ]
    },
    {
     "name": "stdout",
     "output_type": "stream",
     "text": [
      "On 38.4%\n",
      "time elapsed: 3231(s), time left: 5183(s), estimated finish time: 02:19:27\n"
     ]
    },
    {
     "name": "stderr",
     "output_type": "stream",
     "text": [
      "Processing rows:  38%|███▊      | 471/1224 [53:59<1:44:56,  8.36s/it]"
     ]
    },
    {
     "name": "stdout",
     "output_type": "stream",
     "text": [
      "On 38.48%\n",
      "time elapsed: 3239(s), time left: 5179(s), estimated finish time: 02:19:31\n"
     ]
    },
    {
     "name": "stderr",
     "output_type": "stream",
     "text": [
      "Processing rows:  39%|███▊      | 472/1224 [54:08<1:45:07,  8.39s/it]"
     ]
    },
    {
     "name": "stdout",
     "output_type": "stream",
     "text": [
      "On 38.56%\n",
      "time elapsed: 3248(s), time left: 5174(s), estimated finish time: 02:19:35\n"
     ]
    },
    {
     "name": "stderr",
     "output_type": "stream",
     "text": [
      "Processing rows:  39%|███▊      | 473/1224 [54:18<1:52:43,  9.01s/it]"
     ]
    },
    {
     "name": "stdout",
     "output_type": "stream",
     "text": [
      "On 38.64%\n",
      "time elapsed: 3258(s), time left: 5173(s), estimated finish time: 02:19:44\n"
     ]
    },
    {
     "name": "stderr",
     "output_type": "stream",
     "text": [
      "Processing rows:  39%|███▊      | 474/1224 [54:27<1:52:47,  9.02s/it]"
     ]
    },
    {
     "name": "stdout",
     "output_type": "stream",
     "text": [
      "On 38.73%\n",
      "time elapsed: 3267(s), time left: 5170(s), estimated finish time: 02:19:49\n"
     ]
    },
    {
     "name": "stderr",
     "output_type": "stream",
     "text": [
      "Processing rows:  39%|███▉      | 475/1224 [54:37<1:57:25,  9.41s/it]"
     ]
    },
    {
     "name": "stdout",
     "output_type": "stream",
     "text": [
      "On 38.81%\n",
      "time elapsed: 3277(s), time left: 5168(s), estimated finish time: 02:19:58\n"
     ]
    },
    {
     "name": "stderr",
     "output_type": "stream",
     "text": [
      "Processing rows:  39%|███▉      | 476/1224 [54:45<1:49:40,  8.80s/it]"
     ]
    },
    {
     "name": "stdout",
     "output_type": "stream",
     "text": [
      "On 38.89%\n",
      "time elapsed: 3285(s), time left: 5162(s), estimated finish time: 02:19:59\n"
     ]
    },
    {
     "name": "stderr",
     "output_type": "stream",
     "text": [
      "Processing rows:  39%|███▉      | 477/1224 [54:54<1:52:26,  9.03s/it]"
     ]
    },
    {
     "name": "stdout",
     "output_type": "stream",
     "text": [
      "On 38.97%\n",
      "time elapsed: 3294(s), time left: 5159(s), estimated finish time: 02:20:06\n"
     ]
    },
    {
     "name": "stderr",
     "output_type": "stream",
     "text": [
      "Processing rows:  39%|███▉      | 478/1224 [55:05<1:57:24,  9.44s/it]"
     ]
    },
    {
     "name": "stdout",
     "output_type": "stream",
     "text": [
      "On 39.05%\n",
      "time elapsed: 3305(s), time left: 5158(s), estimated finish time: 02:20:15\n"
     ]
    },
    {
     "name": "stderr",
     "output_type": "stream",
     "text": [
      "Processing rows:  39%|███▉      | 479/1224 [55:13<1:53:25,  9.14s/it]"
     ]
    },
    {
     "name": "stdout",
     "output_type": "stream",
     "text": [
      "On 39.13%\n",
      "time elapsed: 3313(s), time left: 5153(s), estimated finish time: 02:20:19\n"
     ]
    },
    {
     "name": "stderr",
     "output_type": "stream",
     "text": [
      "Processing rows:  39%|███▉      | 480/1224 [55:23<1:57:50,  9.50s/it]"
     ]
    },
    {
     "name": "stdout",
     "output_type": "stream",
     "text": [
      "On 39.22%\n",
      "time elapsed: 3324(s), time left: 5152(s), estimated finish time: 02:20:28\n"
     ]
    },
    {
     "name": "stderr",
     "output_type": "stream",
     "text": [
      "Processing rows:  39%|███▉      | 481/1224 [55:35<2:04:15, 10.03s/it]"
     ]
    },
    {
     "name": "stdout",
     "output_type": "stream",
     "text": [
      "On 39.3%\n",
      "time elapsed: 3335(s), time left: 5152(s), estimated finish time: 02:20:39\n"
     ]
    },
    {
     "name": "stderr",
     "output_type": "stream",
     "text": [
      "Processing rows:  39%|███▉      | 482/1224 [55:44<2:01:56,  9.86s/it]"
     ]
    },
    {
     "name": "stdout",
     "output_type": "stream",
     "text": [
      "On 39.38%\n",
      "time elapsed: 3344(s), time left: 5148(s), estimated finish time: 02:20:45\n"
     ]
    },
    {
     "name": "stderr",
     "output_type": "stream",
     "text": [
      "Processing rows:  39%|███▉      | 483/1224 [55:54<2:00:16,  9.74s/it]"
     ]
    },
    {
     "name": "stdout",
     "output_type": "stream",
     "text": [
      "On 39.46%\n",
      "time elapsed: 3354(s), time left: 5145(s), estimated finish time: 02:20:52\n"
     ]
    },
    {
     "name": "stderr",
     "output_type": "stream",
     "text": [
      "Processing rows:  40%|███▉      | 484/1224 [56:04<2:03:21, 10.00s/it]"
     ]
    },
    {
     "name": "stdout",
     "output_type": "stream",
     "text": [
      "On 39.54%\n",
      "time elapsed: 3364(s), time left: 5144(s), estimated finish time: 02:21:01\n"
     ]
    },
    {
     "name": "stderr",
     "output_type": "stream",
     "text": [
      "Processing rows:  40%|███▉      | 485/1224 [56:15<2:04:18, 10.09s/it]"
     ]
    },
    {
     "name": "stdout",
     "output_type": "stream",
     "text": [
      "On 39.62%\n",
      "time elapsed: 3375(s), time left: 5142(s), estimated finish time: 02:21:10\n"
     ]
    },
    {
     "name": "stderr",
     "output_type": "stream",
     "text": [
      "Processing rows:  40%|███▉      | 486/1224 [56:25<2:05:21, 10.19s/it]"
     ]
    },
    {
     "name": "stdout",
     "output_type": "stream",
     "text": [
      "On 39.71%\n",
      "time elapsed: 3385(s), time left: 5140(s), estimated finish time: 02:21:18\n"
     ]
    },
    {
     "name": "stderr",
     "output_type": "stream",
     "text": [
      "Processing rows:  40%|███▉      | 487/1224 [56:34<2:01:57,  9.93s/it]"
     ]
    },
    {
     "name": "stdout",
     "output_type": "stream",
     "text": [
      "On 39.79%\n",
      "time elapsed: 3394(s), time left: 5137(s), estimated finish time: 02:21:24\n"
     ]
    },
    {
     "name": "stderr",
     "output_type": "stream",
     "text": [
      "Processing rows:  40%|███▉      | 488/1224 [56:43<1:56:58,  9.54s/it]"
     ]
    },
    {
     "name": "stdout",
     "output_type": "stream",
     "text": [
      "On 39.87%\n",
      "time elapsed: 3403(s), time left: 5133(s), estimated finish time: 02:21:28\n"
     ]
    },
    {
     "name": "stderr",
     "output_type": "stream",
     "text": [
      "Processing rows:  40%|███▉      | 489/1224 [56:51<1:52:17,  9.17s/it]"
     ]
    },
    {
     "name": "stdout",
     "output_type": "stream",
     "text": [
      "On 39.95%\n",
      "time elapsed: 3411(s), time left: 5128(s), estimated finish time: 02:21:32\n"
     ]
    },
    {
     "name": "stderr",
     "output_type": "stream",
     "text": [
      "Processing rows:  40%|████      | 490/1224 [56:59<1:47:55,  8.82s/it]"
     ]
    },
    {
     "name": "stdout",
     "output_type": "stream",
     "text": [
      "On 40.03%\n",
      "time elapsed: 3419(s), time left: 5122(s), estimated finish time: 02:21:34\n"
     ]
    },
    {
     "name": "stderr",
     "output_type": "stream",
     "text": [
      "Processing rows:  40%|████      | 491/1224 [57:10<1:53:55,  9.33s/it]"
     ]
    },
    {
     "name": "stdout",
     "output_type": "stream",
     "text": [
      "On 40.11%\n",
      "time elapsed: 3430(s), time left: 5120(s), estimated finish time: 02:21:43\n"
     ]
    },
    {
     "name": "stderr",
     "output_type": "stream",
     "text": [
      "Processing rows:  40%|████      | 492/1224 [57:19<1:53:20,  9.29s/it]"
     ]
    },
    {
     "name": "stdout",
     "output_type": "stream",
     "text": [
      "On 40.2%\n",
      "time elapsed: 3439(s), time left: 5117(s), estimated finish time: 02:21:49\n"
     ]
    },
    {
     "name": "stderr",
     "output_type": "stream",
     "text": [
      "Processing rows:  40%|████      | 493/1224 [57:29<1:54:40,  9.41s/it]"
     ]
    },
    {
     "name": "stdout",
     "output_type": "stream",
     "text": [
      "On 40.28%\n",
      "time elapsed: 3449(s), time left: 5114(s), estimated finish time: 02:21:55\n"
     ]
    },
    {
     "name": "stderr",
     "output_type": "stream",
     "text": [
      "Processing rows:  40%|████      | 494/1224 [57:37<1:51:26,  9.16s/it]"
     ]
    },
    {
     "name": "stdout",
     "output_type": "stream",
     "text": [
      "On 40.36%\n",
      "time elapsed: 3457(s), time left: 5109(s), estimated finish time: 02:21:59\n"
     ]
    },
    {
     "name": "stderr",
     "output_type": "stream",
     "text": [
      "Processing rows:  40%|████      | 495/1224 [57:45<1:47:21,  8.84s/it]"
     ]
    },
    {
     "name": "stdout",
     "output_type": "stream",
     "text": [
      "On 40.44%\n",
      "time elapsed: 3465(s), time left: 5104(s), estimated finish time: 02:22:02\n"
     ]
    },
    {
     "name": "stderr",
     "output_type": "stream",
     "text": [
      "Processing rows:  41%|████      | 496/1224 [57:53<1:42:45,  8.47s/it]"
     ]
    },
    {
     "name": "stdout",
     "output_type": "stream",
     "text": [
      "On 40.52%\n",
      "time elapsed: 3473(s), time left: 5098(s), estimated finish time: 02:22:03\n"
     ]
    },
    {
     "name": "stderr",
     "output_type": "stream",
     "text": [
      "Processing rows:  41%|████      | 497/1224 [58:01<1:42:40,  8.47s/it]"
     ]
    },
    {
     "name": "stdout",
     "output_type": "stream",
     "text": [
      "On 40.6%\n",
      "time elapsed: 3481(s), time left: 5093(s), estimated finish time: 02:22:07\n"
     ]
    },
    {
     "name": "stderr",
     "output_type": "stream",
     "text": [
      "Processing rows:  41%|████      | 498/1224 [58:10<1:42:01,  8.43s/it]"
     ]
    },
    {
     "name": "stdout",
     "output_type": "stream",
     "text": [
      "On 40.69%\n",
      "time elapsed: 3490(s), time left: 5088(s), estimated finish time: 02:22:10\n"
     ]
    },
    {
     "name": "stderr",
     "output_type": "stream",
     "text": [
      "Processing rows:  41%|████      | 499/1224 [58:19<1:43:13,  8.54s/it]"
     ]
    },
    {
     "name": "stdout",
     "output_type": "stream",
     "text": [
      "On 40.77%\n",
      "time elapsed: 3499(s), time left: 5083(s), estimated finish time: 02:22:15\n"
     ]
    },
    {
     "name": "stderr",
     "output_type": "stream",
     "text": [
      "Processing rows:  41%|████      | 500/1224 [58:29<1:50:46,  9.18s/it]"
     ]
    },
    {
     "name": "stdout",
     "output_type": "stream",
     "text": [
      "On 40.85%\n",
      "time elapsed: 3509(s), time left: 5082(s), estimated finish time: 02:22:24\n"
     ]
    },
    {
     "name": "stderr",
     "output_type": "stream",
     "text": [
      "Processing rows:  41%|████      | 501/1224 [58:38<1:50:22,  9.16s/it]"
     ]
    },
    {
     "name": "stdout",
     "output_type": "stream",
     "text": [
      "On 40.93%\n",
      "time elapsed: 3518(s), time left: 5078(s), estimated finish time: 02:22:29\n"
     ]
    },
    {
     "name": "stderr",
     "output_type": "stream",
     "text": [
      "Processing rows:  41%|████      | 502/1224 [58:47<1:46:47,  8.87s/it]"
     ]
    },
    {
     "name": "stdout",
     "output_type": "stream",
     "text": [
      "On 41.01%\n",
      "time elapsed: 3527(s), time left: 5072(s), estimated finish time: 02:22:32\n"
     ]
    },
    {
     "name": "stderr",
     "output_type": "stream",
     "text": [
      "Processing rows:  41%|████      | 503/1224 [58:55<1:44:04,  8.66s/it]"
     ]
    },
    {
     "name": "stdout",
     "output_type": "stream",
     "text": [
      "On 41.09%\n",
      "time elapsed: 3535(s), time left: 5067(s), estimated finish time: 02:22:34\n"
     ]
    },
    {
     "name": "stderr",
     "output_type": "stream",
     "text": [
      "Processing rows:  41%|████      | 504/1224 [59:03<1:43:37,  8.64s/it]"
     ]
    },
    {
     "name": "stdout",
     "output_type": "stream",
     "text": [
      "On 41.18%\n",
      "time elapsed: 3543(s), time left: 5062(s), estimated finish time: 02:22:38\n"
     ]
    },
    {
     "name": "stderr",
     "output_type": "stream",
     "text": [
      "Processing rows:  41%|████▏     | 505/1224 [59:12<1:42:08,  8.52s/it]"
     ]
    },
    {
     "name": "stdout",
     "output_type": "stream",
     "text": [
      "On 41.26%\n",
      "time elapsed: 3552(s), time left: 5057(s), estimated finish time: 02:22:41\n"
     ]
    },
    {
     "name": "stderr",
     "output_type": "stream",
     "text": [
      "Processing rows:  41%|████▏     | 506/1224 [59:15<1:23:56,  7.02s/it]"
     ]
    },
    {
     "name": "stdout",
     "output_type": "stream",
     "text": [
      "On 41.34%\n",
      "time elapsed: 3555(s), time left: 5045(s), estimated finish time: 02:22:33\n"
     ]
    },
    {
     "name": "stderr",
     "output_type": "stream",
     "text": [
      "Processing rows:  41%|████▏     | 507/1224 [59:23<1:27:24,  7.31s/it]"
     ]
    },
    {
     "name": "stdout",
     "output_type": "stream",
     "text": [
      "On 41.42%\n",
      "time elapsed: 3563(s), time left: 5039(s), estimated finish time: 02:22:35\n"
     ]
    },
    {
     "name": "stderr",
     "output_type": "stream",
     "text": [
      "Processing rows:  42%|████▏     | 508/1224 [59:26<1:13:13,  6.14s/it]"
     ]
    },
    {
     "name": "stdout",
     "output_type": "stream",
     "text": [
      "On 41.5%\n",
      "time elapsed: 3566(s), time left: 5027(s), estimated finish time: 02:22:26\n"
     ]
    },
    {
     "name": "stderr",
     "output_type": "stream",
     "text": [
      "Processing rows:  42%|████▏     | 509/1224 [59:35<1:20:25,  6.75s/it]"
     ]
    },
    {
     "name": "stdout",
     "output_type": "stream",
     "text": [
      "On 41.58%\n",
      "time elapsed: 3575(s), time left: 5022(s), estimated finish time: 02:22:29\n"
     ]
    },
    {
     "name": "stderr",
     "output_type": "stream",
     "text": [
      "Processing rows:  42%|████▏     | 510/1224 [59:38<1:06:55,  5.62s/it]"
     ]
    },
    {
     "name": "stdout",
     "output_type": "stream",
     "text": [
      "On 41.67%\n",
      "time elapsed: 3578(s), time left: 5009(s), estimated finish time: 02:22:19\n"
     ]
    },
    {
     "name": "stderr",
     "output_type": "stream",
     "text": [
      "Processing rows:  42%|████▏     | 511/1224 [59:46<1:16:11,  6.41s/it]"
     ]
    },
    {
     "name": "stdout",
     "output_type": "stream",
     "text": [
      "On 41.75%\n",
      "time elapsed: 3586(s), time left: 5004(s), estimated finish time: 02:22:22\n"
     ]
    },
    {
     "name": "stderr",
     "output_type": "stream",
     "text": [
      "Processing rows:  42%|████▏     | 512/1224 [59:49<1:06:13,  5.58s/it]"
     ]
    },
    {
     "name": "stdout",
     "output_type": "stream",
     "text": [
      "On 41.83%\n",
      "time elapsed: 3590(s), time left: 4992(s), estimated finish time: 02:22:14\n"
     ]
    },
    {
     "name": "stderr",
     "output_type": "stream",
     "text": [
      "Processing rows:  42%|████▏     | 513/1224 [59:59<1:20:54,  6.83s/it]"
     ]
    },
    {
     "name": "stdout",
     "output_type": "stream",
     "text": [
      "On 41.91%\n",
      "time elapsed: 3599(s), time left: 4989(s), estimated finish time: 02:22:21\n"
     ]
    },
    {
     "name": "stderr",
     "output_type": "stream",
     "text": [
      "Processing rows:  42%|████▏     | 514/1224 [1:00:07<1:24:20,  7.13s/it]"
     ]
    },
    {
     "name": "stdout",
     "output_type": "stream",
     "text": [
      "On 41.99%\n",
      "time elapsed: 3607(s), time left: 4983(s), estimated finish time: 02:22:23\n"
     ]
    },
    {
     "name": "stderr",
     "output_type": "stream",
     "text": [
      "Processing rows:  42%|████▏     | 515/1224 [1:00:11<1:12:52,  6.17s/it]"
     ]
    },
    {
     "name": "stdout",
     "output_type": "stream",
     "text": [
      "On 42.08%\n",
      "time elapsed: 3611(s), time left: 4971(s), estimated finish time: 02:22:15\n"
     ]
    },
    {
     "name": "stderr",
     "output_type": "stream",
     "text": [
      "Processing rows:  42%|████▏     | 516/1224 [1:00:23<1:32:07,  7.81s/it]"
     ]
    },
    {
     "name": "stdout",
     "output_type": "stream",
     "text": [
      "On 42.16%\n",
      "time elapsed: 3623(s), time left: 4971(s), estimated finish time: 02:22:26\n"
     ]
    },
    {
     "name": "stderr",
     "output_type": "stream",
     "text": [
      "Processing rows:  42%|████▏     | 517/1224 [1:00:31<1:33:06,  7.90s/it]"
     ]
    },
    {
     "name": "stdout",
     "output_type": "stream",
     "text": [
      "On 42.24%\n",
      "time elapsed: 3631(s), time left: 4965(s), estimated finish time: 02:22:29\n"
     ]
    },
    {
     "name": "stderr",
     "output_type": "stream",
     "text": [
      "Processing rows:  42%|████▏     | 518/1224 [1:00:39<1:34:16,  8.01s/it]"
     ]
    },
    {
     "name": "stdout",
     "output_type": "stream",
     "text": [
      "On 42.32%\n",
      "time elapsed: 3639(s), time left: 4960(s), estimated finish time: 02:22:32\n"
     ]
    },
    {
     "name": "stderr",
     "output_type": "stream",
     "text": [
      "Processing rows:  42%|████▏     | 519/1224 [1:00:47<1:33:39,  7.97s/it]"
     ]
    },
    {
     "name": "stdout",
     "output_type": "stream",
     "text": [
      "On 42.4%\n",
      "time elapsed: 3647(s), time left: 4954(s), estimated finish time: 02:22:34\n"
     ]
    },
    {
     "name": "stderr",
     "output_type": "stream",
     "text": [
      "Processing rows:  42%|████▏     | 520/1224 [1:00:55<1:34:26,  8.05s/it]"
     ]
    },
    {
     "name": "stdout",
     "output_type": "stream",
     "text": [
      "On 42.48%\n",
      "time elapsed: 3655(s), time left: 4949(s), estimated finish time: 02:22:37\n"
     ]
    },
    {
     "name": "stderr",
     "output_type": "stream",
     "text": [
      "Processing rows:  43%|████▎     | 521/1224 [1:01:02<1:29:06,  7.61s/it]"
     ]
    },
    {
     "name": "stdout",
     "output_type": "stream",
     "text": [
      "On 42.57%\n",
      "time elapsed: 3662(s), time left: 4941(s), estimated finish time: 02:22:35\n"
     ]
    },
    {
     "name": "stderr",
     "output_type": "stream",
     "text": [
      "Processing rows:  43%|████▎     | 522/1224 [1:01:05<1:14:37,  6.38s/it]"
     ]
    },
    {
     "name": "stdout",
     "output_type": "stream",
     "text": [
      "On 42.65%\n",
      "time elapsed: 3665(s), time left: 4929(s), estimated finish time: 02:22:27\n"
     ]
    },
    {
     "name": "stderr",
     "output_type": "stream",
     "text": [
      "Processing rows:  43%|████▎     | 523/1224 [1:01:12<1:16:03,  6.51s/it]"
     ]
    },
    {
     "name": "stdout",
     "output_type": "stream",
     "text": [
      "On 42.73%\n",
      "time elapsed: 3672(s), time left: 4922(s), estimated finish time: 02:22:27\n"
     ]
    },
    {
     "name": "stderr",
     "output_type": "stream",
     "text": [
      "Processing rows:  43%|████▎     | 524/1224 [1:01:15<1:04:54,  5.56s/it]"
     ]
    },
    {
     "name": "stdout",
     "output_type": "stream",
     "text": [
      "On 42.81%\n",
      "time elapsed: 3675(s), time left: 4910(s), estimated finish time: 02:22:18\n"
     ]
    },
    {
     "name": "stderr",
     "output_type": "stream",
     "text": [
      "Processing rows:  43%|████▎     | 525/1224 [1:01:18<56:05,  4.82s/it]  "
     ]
    },
    {
     "name": "stdout",
     "output_type": "stream",
     "text": [
      "On 42.89%\n",
      "time elapsed: 3678(s), time left: 4898(s), estimated finish time: 02:22:09\n"
     ]
    },
    {
     "name": "stderr",
     "output_type": "stream",
     "text": [
      "Processing rows:  43%|████▎     | 526/1224 [1:01:22<52:03,  4.48s/it]"
     ]
    },
    {
     "name": "stdout",
     "output_type": "stream",
     "text": [
      "On 42.97%\n",
      "time elapsed: 3682(s), time left: 4886(s), estimated finish time: 02:22:01\n"
     ]
    },
    {
     "name": "stderr",
     "output_type": "stream",
     "text": [
      "Processing rows:  43%|████▎     | 527/1224 [1:01:31<1:05:34,  5.65s/it]"
     ]
    },
    {
     "name": "stdout",
     "output_type": "stream",
     "text": [
      "On 43.06%\n",
      "time elapsed: 3691(s), time left: 4881(s), estimated finish time: 02:22:04\n"
     ]
    },
    {
     "name": "stderr",
     "output_type": "stream",
     "text": [
      "Processing rows:  43%|████▎     | 528/1224 [1:01:34<57:43,  4.98s/it]  "
     ]
    },
    {
     "name": "stdout",
     "output_type": "stream",
     "text": [
      "On 43.14%\n",
      "time elapsed: 3694(s), time left: 4869(s), estimated finish time: 02:21:56\n"
     ]
    },
    {
     "name": "stderr",
     "output_type": "stream",
     "text": [
      "Processing rows:  43%|████▎     | 529/1224 [1:01:43<1:10:48,  6.11s/it]"
     ]
    },
    {
     "name": "stdout",
     "output_type": "stream",
     "text": [
      "On 43.22%\n",
      "time elapsed: 3703(s), time left: 4865(s), estimated finish time: 02:22:00\n"
     ]
    },
    {
     "name": "stderr",
     "output_type": "stream",
     "text": [
      "Processing rows:  43%|████▎     | 530/1224 [1:01:51<1:18:49,  6.81s/it]"
     ]
    },
    {
     "name": "stdout",
     "output_type": "stream",
     "text": [
      "On 43.3%\n",
      "time elapsed: 3711(s), time left: 4860(s), estimated finish time: 02:22:04\n"
     ]
    },
    {
     "name": "stderr",
     "output_type": "stream",
     "text": [
      "Processing rows:  43%|████▎     | 531/1224 [1:01:59<1:22:23,  7.13s/it]"
     ]
    },
    {
     "name": "stdout",
     "output_type": "stream",
     "text": [
      "On 43.38%\n",
      "time elapsed: 3719(s), time left: 4854(s), estimated finish time: 02:22:06\n"
     ]
    },
    {
     "name": "stderr",
     "output_type": "stream",
     "text": [
      "Processing rows:  43%|████▎     | 532/1224 [1:02:08<1:27:13,  7.56s/it]"
     ]
    },
    {
     "name": "stdout",
     "output_type": "stream",
     "text": [
      "On 43.46%\n",
      "time elapsed: 3728(s), time left: 4849(s), estimated finish time: 02:22:09\n"
     ]
    },
    {
     "name": "stderr",
     "output_type": "stream",
     "text": [
      "Processing rows:  44%|████▎     | 533/1224 [1:02:16<1:31:19,  7.93s/it]"
     ]
    },
    {
     "name": "stdout",
     "output_type": "stream",
     "text": [
      "On 43.55%\n",
      "time elapsed: 3736(s), time left: 4844(s), estimated finish time: 02:22:13\n"
     ]
    },
    {
     "name": "stderr",
     "output_type": "stream",
     "text": [
      "Processing rows:  44%|████▎     | 534/1224 [1:02:20<1:15:03,  6.53s/it]"
     ]
    },
    {
     "name": "stdout",
     "output_type": "stream",
     "text": [
      "On 43.63%\n",
      "time elapsed: 3740(s), time left: 4832(s), estimated finish time: 02:22:05\n"
     ]
    },
    {
     "name": "stderr",
     "output_type": "stream",
     "text": [
      "Processing rows:  44%|████▎     | 535/1224 [1:02:28<1:19:40,  6.94s/it]"
     ]
    },
    {
     "name": "stdout",
     "output_type": "stream",
     "text": [
      "On 43.71%\n",
      "time elapsed: 3748(s), time left: 4826(s), estimated finish time: 02:22:07\n"
     ]
    },
    {
     "name": "stderr",
     "output_type": "stream",
     "text": [
      "Processing rows:  44%|████▍     | 536/1224 [1:02:37<1:28:42,  7.74s/it]"
     ]
    },
    {
     "name": "stdout",
     "output_type": "stream",
     "text": [
      "On 43.79%\n",
      "time elapsed: 3757(s), time left: 4823(s), estimated finish time: 02:22:13\n"
     ]
    },
    {
     "name": "stderr",
     "output_type": "stream",
     "text": [
      "Processing rows:  44%|████▍     | 537/1224 [1:02:41<1:14:51,  6.54s/it]"
     ]
    },
    {
     "name": "stdout",
     "output_type": "stream",
     "text": [
      "On 43.87%\n",
      "time elapsed: 3761(s), time left: 4812(s), estimated finish time: 02:22:05\n"
     ]
    },
    {
     "name": "stderr",
     "output_type": "stream",
     "text": [
      "Processing rows:  44%|████▍     | 538/1224 [1:02:49<1:19:57,  6.99s/it]"
     ]
    },
    {
     "name": "stdout",
     "output_type": "stream",
     "text": [
      "On 43.95%\n",
      "time elapsed: 3769(s), time left: 4806(s), estimated finish time: 02:22:08\n"
     ]
    },
    {
     "name": "stderr",
     "output_type": "stream",
     "text": [
      "Processing rows:  44%|████▍     | 539/1224 [1:03:02<1:42:20,  8.96s/it]"
     ]
    },
    {
     "name": "stdout",
     "output_type": "stream",
     "text": [
      "On 44.04%\n",
      "time elapsed: 3783(s), time left: 4807(s), estimated finish time: 02:22:22\n"
     ]
    },
    {
     "name": "stderr",
     "output_type": "stream",
     "text": [
      "Processing rows:  44%|████▍     | 540/1224 [1:03:10<1:38:21,  8.63s/it]"
     ]
    },
    {
     "name": "stdout",
     "output_type": "stream",
     "text": [
      "On 44.12%\n",
      "time elapsed: 3790(s), time left: 4801(s), estimated finish time: 02:22:24\n"
     ]
    },
    {
     "name": "stderr",
     "output_type": "stream",
     "text": [
      "Processing rows:  44%|████▍     | 541/1224 [1:03:18<1:34:06,  8.27s/it]"
     ]
    },
    {
     "name": "stdout",
     "output_type": "stream",
     "text": [
      "On 44.2%\n",
      "time elapsed: 3798(s), time left: 4795(s), estimated finish time: 02:22:25\n"
     ]
    },
    {
     "name": "stderr",
     "output_type": "stream",
     "text": [
      "Processing rows:  44%|████▍     | 542/1224 [1:03:26<1:32:52,  8.17s/it]"
     ]
    },
    {
     "name": "stdout",
     "output_type": "stream",
     "text": [
      "On 44.28%\n",
      "time elapsed: 3806(s), time left: 4789(s), estimated finish time: 02:22:27\n"
     ]
    },
    {
     "name": "stderr",
     "output_type": "stream",
     "text": [
      "Processing rows:  44%|████▍     | 543/1224 [1:03:33<1:28:17,  7.78s/it]"
     ]
    },
    {
     "name": "stdout",
     "output_type": "stream",
     "text": [
      "On 44.36%\n",
      "time elapsed: 3813(s), time left: 4782(s), estimated finish time: 02:22:27\n"
     ]
    },
    {
     "name": "stderr",
     "output_type": "stream",
     "text": [
      "Processing rows:  44%|████▍     | 544/1224 [1:03:40<1:25:33,  7.55s/it]"
     ]
    },
    {
     "name": "stdout",
     "output_type": "stream",
     "text": [
      "On 44.44%\n",
      "time elapsed: 3820(s), time left: 4775(s), estimated finish time: 02:22:27\n"
     ]
    },
    {
     "name": "stderr",
     "output_type": "stream",
     "text": [
      "Processing rows:  45%|████▍     | 545/1224 [1:03:48<1:29:03,  7.87s/it]"
     ]
    },
    {
     "name": "stdout",
     "output_type": "stream",
     "text": [
      "On 44.53%\n",
      "time elapsed: 3828(s), time left: 4770(s), estimated finish time: 02:22:31\n"
     ]
    },
    {
     "name": "stderr",
     "output_type": "stream",
     "text": [
      "Processing rows:  45%|████▍     | 546/1224 [1:03:55<1:26:55,  7.69s/it]"
     ]
    },
    {
     "name": "stdout",
     "output_type": "stream",
     "text": [
      "On 44.61%\n",
      "time elapsed: 3836(s), time left: 4763(s), estimated finish time: 02:22:31\n"
     ]
    },
    {
     "name": "stderr",
     "output_type": "stream",
     "text": [
      "Processing rows:  45%|████▍     | 547/1224 [1:04:04<1:31:05,  8.07s/it]"
     ]
    },
    {
     "name": "stdout",
     "output_type": "stream",
     "text": [
      "On 44.69%\n",
      "time elapsed: 3844(s), time left: 4758(s), estimated finish time: 02:22:35\n"
     ]
    },
    {
     "name": "stderr",
     "output_type": "stream",
     "text": [
      "Processing rows:  45%|████▍     | 548/1224 [1:04:12<1:28:17,  7.84s/it]"
     ]
    },
    {
     "name": "stdout",
     "output_type": "stream",
     "text": [
      "On 44.77%\n",
      "time elapsed: 3852(s), time left: 4752(s), estimated finish time: 02:22:36\n"
     ]
    },
    {
     "name": "stderr",
     "output_type": "stream",
     "text": [
      "Processing rows:  45%|████▍     | 549/1224 [1:04:19<1:25:56,  7.64s/it]"
     ]
    },
    {
     "name": "stdout",
     "output_type": "stream",
     "text": [
      "On 44.85%\n",
      "time elapsed: 3859(s), time left: 4745(s), estimated finish time: 02:22:36\n"
     ]
    },
    {
     "name": "stderr",
     "output_type": "stream",
     "text": [
      "Processing rows:  45%|████▍     | 550/1224 [1:04:27<1:26:19,  7.69s/it]"
     ]
    },
    {
     "name": "stdout",
     "output_type": "stream",
     "text": [
      "On 44.93%\n",
      "time elapsed: 3867(s), time left: 4739(s), estimated finish time: 02:22:38\n"
     ]
    },
    {
     "name": "stderr",
     "output_type": "stream",
     "text": [
      "Processing rows:  45%|████▌     | 551/1224 [1:04:34<1:24:12,  7.51s/it]"
     ]
    },
    {
     "name": "stdout",
     "output_type": "stream",
     "text": [
      "On 45.02%\n",
      "time elapsed: 3874(s), time left: 4732(s), estimated finish time: 02:22:38\n"
     ]
    },
    {
     "name": "stderr",
     "output_type": "stream",
     "text": [
      "Processing rows:  45%|████▌     | 552/1224 [1:04:41<1:22:32,  7.37s/it]"
     ]
    },
    {
     "name": "stdout",
     "output_type": "stream",
     "text": [
      "On 45.1%\n",
      "time elapsed: 3881(s), time left: 4725(s), estimated finish time: 02:22:38\n"
     ]
    },
    {
     "name": "stderr",
     "output_type": "stream",
     "text": [
      "Processing rows:  45%|████▌     | 553/1224 [1:04:48<1:21:57,  7.33s/it]"
     ]
    },
    {
     "name": "stdout",
     "output_type": "stream",
     "text": [
      "On 45.18%\n",
      "time elapsed: 3888(s), time left: 4718(s), estimated finish time: 02:22:39\n"
     ]
    },
    {
     "name": "stderr",
     "output_type": "stream",
     "text": [
      "Processing rows:  45%|████▌     | 554/1224 [1:04:56<1:22:58,  7.43s/it]"
     ]
    },
    {
     "name": "stdout",
     "output_type": "stream",
     "text": [
      "On 45.26%\n",
      "time elapsed: 3896(s), time left: 4712(s), estimated finish time: 02:22:40\n"
     ]
    },
    {
     "name": "stderr",
     "output_type": "stream",
     "text": [
      "Processing rows:  45%|████▌     | 555/1224 [1:05:03<1:22:32,  7.40s/it]"
     ]
    },
    {
     "name": "stdout",
     "output_type": "stream",
     "text": [
      "On 45.34%\n",
      "time elapsed: 3903(s), time left: 4705(s), estimated finish time: 02:22:41\n"
     ]
    },
    {
     "name": "stderr",
     "output_type": "stream",
     "text": [
      "Processing rows:  45%|████▌     | 556/1224 [1:05:11<1:22:54,  7.45s/it]"
     ]
    },
    {
     "name": "stdout",
     "output_type": "stream",
     "text": [
      "On 45.42%\n",
      "time elapsed: 3911(s), time left: 4699(s), estimated finish time: 02:22:42\n"
     ]
    },
    {
     "name": "stderr",
     "output_type": "stream",
     "text": [
      "Processing rows:  46%|████▌     | 557/1224 [1:05:18<1:22:00,  7.38s/it]"
     ]
    },
    {
     "name": "stdout",
     "output_type": "stream",
     "text": [
      "On 45.51%\n",
      "time elapsed: 3918(s), time left: 4692(s), estimated finish time: 02:22:42\n"
     ]
    },
    {
     "name": "stderr",
     "output_type": "stream",
     "text": [
      "Processing rows:  46%|████▌     | 558/1224 [1:05:26<1:23:06,  7.49s/it]"
     ]
    },
    {
     "name": "stdout",
     "output_type": "stream",
     "text": [
      "On 45.59%\n",
      "time elapsed: 3926(s), time left: 4686(s), estimated finish time: 02:22:44\n"
     ]
    },
    {
     "name": "stderr",
     "output_type": "stream",
     "text": [
      "Processing rows:  46%|████▌     | 559/1224 [1:05:33<1:23:19,  7.52s/it]"
     ]
    },
    {
     "name": "stdout",
     "output_type": "stream",
     "text": [
      "On 45.67%\n",
      "time elapsed: 3933(s), time left: 4679(s), estimated finish time: 02:22:45\n"
     ]
    },
    {
     "name": "stderr",
     "output_type": "stream",
     "text": [
      "Processing rows:  46%|████▌     | 560/1224 [1:05:39<1:17:22,  6.99s/it]"
     ]
    },
    {
     "name": "stdout",
     "output_type": "stream",
     "text": [
      "On 45.75%\n",
      "time elapsed: 3939(s), time left: 4671(s), estimated finish time: 02:22:42\n"
     ]
    },
    {
     "name": "stderr",
     "output_type": "stream",
     "text": [
      "Processing rows:  46%|████▌     | 561/1224 [1:05:47<1:19:15,  7.17s/it]"
     ]
    },
    {
     "name": "stdout",
     "output_type": "stream",
     "text": [
      "On 45.83%\n",
      "time elapsed: 3947(s), time left: 4664(s), estimated finish time: 02:22:43\n"
     ]
    },
    {
     "name": "stderr",
     "output_type": "stream",
     "text": [
      "Processing rows:  46%|████▌     | 562/1224 [1:05:52<1:14:28,  6.75s/it]"
     ]
    },
    {
     "name": "stdout",
     "output_type": "stream",
     "text": [
      "On 45.92%\n",
      "time elapsed: 3952(s), time left: 4656(s), estimated finish time: 02:22:41\n"
     ]
    },
    {
     "name": "stderr",
     "output_type": "stream",
     "text": [
      "Processing rows:  46%|████▌     | 563/1224 [1:06:01<1:21:29,  7.40s/it]"
     ]
    },
    {
     "name": "stdout",
     "output_type": "stream",
     "text": [
      "On 46.0%\n",
      "time elapsed: 3961(s), time left: 4651(s), estimated finish time: 02:22:45\n"
     ]
    },
    {
     "name": "stderr",
     "output_type": "stream",
     "text": [
      "Processing rows:  46%|████▌     | 564/1224 [1:06:09<1:23:42,  7.61s/it]"
     ]
    },
    {
     "name": "stdout",
     "output_type": "stream",
     "text": [
      "On 46.08%\n",
      "time elapsed: 3969(s), time left: 4645(s), estimated finish time: 02:22:47\n"
     ]
    },
    {
     "name": "stderr",
     "output_type": "stream",
     "text": [
      "Processing rows:  46%|████▌     | 565/1224 [1:06:16<1:22:01,  7.47s/it]"
     ]
    },
    {
     "name": "stdout",
     "output_type": "stream",
     "text": [
      "On 46.16%\n",
      "time elapsed: 3976(s), time left: 4638(s), estimated finish time: 02:22:47\n"
     ]
    },
    {
     "name": "stderr",
     "output_type": "stream",
     "text": [
      "Processing rows:  46%|████▌     | 566/1224 [1:06:21<1:13:33,  6.71s/it]"
     ]
    },
    {
     "name": "stdout",
     "output_type": "stream",
     "text": [
      "On 46.24%\n",
      "time elapsed: 3981(s), time left: 4629(s), estimated finish time: 02:22:43\n"
     ]
    },
    {
     "name": "stderr",
     "output_type": "stream",
     "text": [
      "Processing rows:  46%|████▋     | 567/1224 [1:06:28<1:14:13,  6.78s/it]"
     ]
    },
    {
     "name": "stdout",
     "output_type": "stream",
     "text": [
      "On 46.32%\n",
      "time elapsed: 3988(s), time left: 4621(s), estimated finish time: 02:22:43\n"
     ]
    },
    {
     "name": "stderr",
     "output_type": "stream",
     "text": [
      "Processing rows:  46%|████▋     | 568/1224 [1:06:36<1:17:16,  7.07s/it]"
     ]
    },
    {
     "name": "stdout",
     "output_type": "stream",
     "text": [
      "On 46.41%\n",
      "time elapsed: 3996(s), time left: 4615(s), estimated finish time: 02:22:44\n"
     ]
    },
    {
     "name": "stderr",
     "output_type": "stream",
     "text": [
      "Processing rows:  46%|████▋     | 569/1224 [1:06:44<1:18:50,  7.22s/it]"
     ]
    },
    {
     "name": "stdout",
     "output_type": "stream",
     "text": [
      "On 46.49%\n",
      "time elapsed: 4004(s), time left: 4609(s), estimated finish time: 02:22:45\n"
     ]
    },
    {
     "name": "stderr",
     "output_type": "stream",
     "text": [
      "Processing rows:  47%|████▋     | 570/1224 [1:06:51<1:18:56,  7.24s/it]"
     ]
    },
    {
     "name": "stdout",
     "output_type": "stream",
     "text": [
      "On 46.57%\n",
      "time elapsed: 4011(s), time left: 4602(s), estimated finish time: 02:22:46\n"
     ]
    },
    {
     "name": "stderr",
     "output_type": "stream",
     "text": [
      "Processing rows:  47%|████▋     | 571/1224 [1:06:58<1:18:42,  7.23s/it]"
     ]
    },
    {
     "name": "stdout",
     "output_type": "stream",
     "text": [
      "On 46.65%\n",
      "time elapsed: 4018(s), time left: 4595(s), estimated finish time: 02:22:46\n"
     ]
    },
    {
     "name": "stderr",
     "output_type": "stream",
     "text": [
      "Processing rows:  47%|████▋     | 572/1224 [1:07:07<1:23:29,  7.68s/it]"
     ]
    },
    {
     "name": "stdout",
     "output_type": "stream",
     "text": [
      "On 46.73%\n",
      "time elapsed: 4027(s), time left: 4590(s), estimated finish time: 02:22:50\n"
     ]
    },
    {
     "name": "stderr",
     "output_type": "stream",
     "text": [
      "Processing rows:  47%|████▋     | 573/1224 [1:07:16<1:26:51,  8.01s/it]"
     ]
    },
    {
     "name": "stdout",
     "output_type": "stream",
     "text": [
      "On 46.81%\n",
      "time elapsed: 4036(s), time left: 4585(s), estimated finish time: 02:22:53\n"
     ]
    },
    {
     "name": "stderr",
     "output_type": "stream",
     "text": [
      "Processing rows:  47%|████▋     | 574/1224 [1:07:23<1:25:54,  7.93s/it]"
     ]
    },
    {
     "name": "stdout",
     "output_type": "stream",
     "text": [
      "On 46.9%\n",
      "time elapsed: 4043(s), time left: 4579(s), estimated finish time: 02:22:55\n"
     ]
    },
    {
     "name": "stderr",
     "output_type": "stream",
     "text": [
      "Processing rows:  47%|████▋     | 575/1224 [1:07:31<1:23:35,  7.73s/it]"
     ]
    },
    {
     "name": "stdout",
     "output_type": "stream",
     "text": [
      "On 46.98%\n",
      "time elapsed: 4051(s), time left: 4572(s), estimated finish time: 02:22:55\n"
     ]
    },
    {
     "name": "stderr",
     "output_type": "stream",
     "text": [
      "Processing rows:  47%|████▋     | 576/1224 [1:07:38<1:20:58,  7.50s/it]"
     ]
    },
    {
     "name": "stdout",
     "output_type": "stream",
     "text": [
      "On 47.06%\n",
      "time elapsed: 4058(s), time left: 4565(s), estimated finish time: 02:22:55\n"
     ]
    },
    {
     "name": "stderr",
     "output_type": "stream",
     "text": [
      "Processing rows:  47%|████▋     | 577/1224 [1:07:41<1:08:09,  6.32s/it]"
     ]
    },
    {
     "name": "stdout",
     "output_type": "stream",
     "text": [
      "On 47.14%\n",
      "time elapsed: 4061(s), time left: 4554(s), estimated finish time: 02:22:48\n"
     ]
    },
    {
     "name": "stderr",
     "output_type": "stream",
     "text": [
      "Processing rows:  47%|████▋     | 578/1224 [1:07:45<59:47,  5.55s/it]  "
     ]
    },
    {
     "name": "stdout",
     "output_type": "stream",
     "text": [
      "On 47.22%\n",
      "time elapsed: 4065(s), time left: 4543(s), estimated finish time: 02:22:41\n"
     ]
    },
    {
     "name": "stderr",
     "output_type": "stream",
     "text": [
      "Processing rows:  47%|████▋     | 579/1224 [1:07:52<1:03:13,  5.88s/it]"
     ]
    },
    {
     "name": "stdout",
     "output_type": "stream",
     "text": [
      "On 47.3%\n",
      "time elapsed: 4072(s), time left: 4536(s), estimated finish time: 02:22:40\n"
     ]
    },
    {
     "name": "stderr",
     "output_type": "stream",
     "text": [
      "Processing rows:  47%|████▋     | 580/1224 [1:08:00<1:11:17,  6.64s/it]"
     ]
    },
    {
     "name": "stdout",
     "output_type": "stream",
     "text": [
      "On 47.39%\n",
      "time elapsed: 4080(s), time left: 4530(s), estimated finish time: 02:22:43\n"
     ]
    },
    {
     "name": "stderr",
     "output_type": "stream",
     "text": [
      "Processing rows:  47%|████▋     | 581/1224 [1:08:07<1:12:51,  6.80s/it]"
     ]
    },
    {
     "name": "stdout",
     "output_type": "stream",
     "text": [
      "On 47.47%\n",
      "time elapsed: 4087(s), time left: 4523(s), estimated finish time: 02:22:43\n"
     ]
    },
    {
     "name": "stderr",
     "output_type": "stream",
     "text": [
      "Processing rows:  48%|████▊     | 582/1224 [1:08:14<1:13:20,  6.86s/it]"
     ]
    },
    {
     "name": "stdout",
     "output_type": "stream",
     "text": [
      "On 47.55%\n",
      "time elapsed: 4094(s), time left: 4516(s), estimated finish time: 02:22:43\n"
     ]
    },
    {
     "name": "stderr",
     "output_type": "stream",
     "text": [
      "Processing rows:  48%|████▊     | 583/1224 [1:08:22<1:14:52,  7.01s/it]"
     ]
    },
    {
     "name": "stdout",
     "output_type": "stream",
     "text": [
      "On 47.63%\n",
      "time elapsed: 4102(s), time left: 4510(s), estimated finish time: 02:22:44\n"
     ]
    },
    {
     "name": "stderr",
     "output_type": "stream",
     "text": [
      "Processing rows:  48%|████▊     | 584/1224 [1:08:31<1:23:47,  7.86s/it]"
     ]
    },
    {
     "name": "stdout",
     "output_type": "stream",
     "text": [
      "On 47.71%\n",
      "time elapsed: 4111(s), time left: 4506(s), estimated finish time: 02:22:50\n"
     ]
    },
    {
     "name": "stderr",
     "output_type": "stream",
     "text": [
      "Processing rows:  48%|████▊     | 585/1224 [1:08:37<1:16:25,  7.18s/it]"
     ]
    },
    {
     "name": "stdout",
     "output_type": "stream",
     "text": [
      "On 47.79%\n",
      "time elapsed: 4117(s), time left: 4497(s), estimated finish time: 02:22:47\n"
     ]
    },
    {
     "name": "stderr",
     "output_type": "stream",
     "text": [
      "Processing rows:  48%|████▊     | 586/1224 [1:08:44<1:15:53,  7.14s/it]"
     ]
    },
    {
     "name": "stdout",
     "output_type": "stream",
     "text": [
      "On 47.88%\n",
      "time elapsed: 4124(s), time left: 4490(s), estimated finish time: 02:22:47\n"
     ]
    },
    {
     "name": "stderr",
     "output_type": "stream",
     "text": [
      "Processing rows:  48%|████▊     | 587/1224 [1:08:52<1:19:01,  7.44s/it]"
     ]
    },
    {
     "name": "stdout",
     "output_type": "stream",
     "text": [
      "On 47.96%\n",
      "time elapsed: 4132(s), time left: 4484(s), estimated finish time: 02:22:49\n"
     ]
    },
    {
     "name": "stderr",
     "output_type": "stream",
     "text": [
      "Processing rows:  48%|████▊     | 588/1224 [1:09:00<1:18:41,  7.42s/it]"
     ]
    },
    {
     "name": "stdout",
     "output_type": "stream",
     "text": [
      "On 48.04%\n",
      "time elapsed: 4140(s), time left: 4478(s), estimated finish time: 02:22:50\n"
     ]
    },
    {
     "name": "stderr",
     "output_type": "stream",
     "text": [
      "Processing rows:  48%|████▊     | 589/1224 [1:09:09<1:25:43,  8.10s/it]"
     ]
    },
    {
     "name": "stdout",
     "output_type": "stream",
     "text": [
      "On 48.12%\n",
      "time elapsed: 4149(s), time left: 4473(s), estimated finish time: 02:22:55\n"
     ]
    },
    {
     "name": "stderr",
     "output_type": "stream",
     "text": [
      "Processing rows:  48%|████▊     | 590/1224 [1:09:18<1:28:23,  8.37s/it]"
     ]
    },
    {
     "name": "stdout",
     "output_type": "stream",
     "text": [
      "On 48.2%\n",
      "time elapsed: 4158(s), time left: 4468(s), estimated finish time: 02:22:59\n"
     ]
    },
    {
     "name": "stderr",
     "output_type": "stream",
     "text": [
      "Processing rows:  48%|████▊     | 591/1224 [1:09:27<1:28:16,  8.37s/it]"
     ]
    },
    {
     "name": "stdout",
     "output_type": "stream",
     "text": [
      "On 48.28%\n",
      "time elapsed: 4167(s), time left: 4463(s), estimated finish time: 02:23:02\n"
     ]
    },
    {
     "name": "stderr",
     "output_type": "stream",
     "text": [
      "Processing rows:  48%|████▊     | 592/1224 [1:09:35<1:29:42,  8.52s/it]"
     ]
    },
    {
     "name": "stdout",
     "output_type": "stream",
     "text": [
      "On 48.37%\n",
      "time elapsed: 4175(s), time left: 4458(s), estimated finish time: 02:23:06\n"
     ]
    },
    {
     "name": "stderr",
     "output_type": "stream",
     "text": [
      "Processing rows:  48%|████▊     | 593/1224 [1:09:44<1:29:45,  8.54s/it]"
     ]
    },
    {
     "name": "stdout",
     "output_type": "stream",
     "text": [
      "On 48.45%\n",
      "time elapsed: 4184(s), time left: 4452(s), estimated finish time: 02:23:09\n"
     ]
    },
    {
     "name": "stderr",
     "output_type": "stream",
     "text": [
      "Processing rows:  49%|████▊     | 594/1224 [1:09:54<1:34:57,  9.04s/it]"
     ]
    },
    {
     "name": "stdout",
     "output_type": "stream",
     "text": [
      "On 48.53%\n",
      "time elapsed: 4194(s), time left: 4448(s), estimated finish time: 02:23:15\n"
     ]
    },
    {
     "name": "stderr",
     "output_type": "stream",
     "text": [
      "Processing rows:  49%|████▊     | 595/1224 [1:10:01<1:28:12,  8.41s/it]"
     ]
    },
    {
     "name": "stdout",
     "output_type": "stream",
     "text": [
      "On 48.61%\n",
      "time elapsed: 4201(s), time left: 4441(s), estimated finish time: 02:23:15\n"
     ]
    },
    {
     "name": "stderr",
     "output_type": "stream",
     "text": [
      "Processing rows:  49%|████▊     | 596/1224 [1:10:11<1:31:56,  8.78s/it]"
     ]
    },
    {
     "name": "stdout",
     "output_type": "stream",
     "text": [
      "On 48.69%\n",
      "time elapsed: 4211(s), time left: 4437(s), estimated finish time: 02:23:21\n"
     ]
    },
    {
     "name": "stderr",
     "output_type": "stream",
     "text": [
      "Processing rows:  49%|████▉     | 597/1224 [1:10:21<1:35:25,  9.13s/it]"
     ]
    },
    {
     "name": "stdout",
     "output_type": "stream",
     "text": [
      "On 48.77%\n",
      "time elapsed: 4221(s), time left: 4433(s), estimated finish time: 02:23:26\n"
     ]
    },
    {
     "name": "stderr",
     "output_type": "stream",
     "text": [
      "Processing rows:  49%|████▉     | 598/1224 [1:10:31<1:37:54,  9.38s/it]"
     ]
    },
    {
     "name": "stdout",
     "output_type": "stream",
     "text": [
      "On 48.86%\n",
      "time elapsed: 4231(s), time left: 4429(s), estimated finish time: 02:23:32\n"
     ]
    },
    {
     "name": "stderr",
     "output_type": "stream",
     "text": [
      "Processing rows:  49%|████▉     | 599/1224 [1:10:41<1:39:20,  9.54s/it]"
     ]
    },
    {
     "name": "stdout",
     "output_type": "stream",
     "text": [
      "On 48.94%\n",
      "time elapsed: 4241(s), time left: 4425(s), estimated finish time: 02:23:38\n"
     ]
    },
    {
     "name": "stderr",
     "output_type": "stream",
     "text": [
      "Processing rows:  49%|████▉     | 600/1224 [1:10:48<1:33:17,  8.97s/it]"
     ]
    },
    {
     "name": "stdout",
     "output_type": "stream",
     "text": [
      "On 49.02%\n",
      "time elapsed: 4248(s), time left: 4418(s), estimated finish time: 02:23:39\n"
     ]
    },
    {
     "name": "stderr",
     "output_type": "stream",
     "text": [
      "Processing rows:  49%|████▉     | 601/1224 [1:10:57<1:31:24,  8.80s/it]"
     ]
    },
    {
     "name": "stdout",
     "output_type": "stream",
     "text": [
      "On 49.1%\n",
      "time elapsed: 4257(s), time left: 4413(s), estimated finish time: 02:23:42\n"
     ]
    },
    {
     "name": "stderr",
     "output_type": "stream",
     "text": [
      "Processing rows:  49%|████▉     | 602/1224 [1:11:05<1:29:32,  8.64s/it]"
     ]
    },
    {
     "name": "stdout",
     "output_type": "stream",
     "text": [
      "On 49.18%\n",
      "time elapsed: 4265(s), time left: 4407(s), estimated finish time: 02:23:44\n"
     ]
    },
    {
     "name": "stderr",
     "output_type": "stream",
     "text": [
      "Processing rows:  49%|████▉     | 603/1224 [1:11:14<1:29:24,  8.64s/it]"
     ]
    },
    {
     "name": "stdout",
     "output_type": "stream",
     "text": [
      "On 49.26%\n",
      "time elapsed: 4274(s), time left: 4401(s), estimated finish time: 02:23:48\n"
     ]
    },
    {
     "name": "stderr",
     "output_type": "stream",
     "text": [
      "Processing rows:  49%|████▉     | 604/1224 [1:11:22<1:28:49,  8.60s/it]"
     ]
    },
    {
     "name": "stdout",
     "output_type": "stream",
     "text": [
      "On 49.35%\n",
      "time elapsed: 4282(s), time left: 4396(s), estimated finish time: 02:23:50\n"
     ]
    },
    {
     "name": "stderr",
     "output_type": "stream",
     "text": [
      "Processing rows:  49%|████▉     | 605/1224 [1:11:31<1:28:26,  8.57s/it]"
     ]
    },
    {
     "name": "stdout",
     "output_type": "stream",
     "text": [
      "On 49.43%\n",
      "time elapsed: 4291(s), time left: 4390(s), estimated finish time: 02:23:53\n"
     ]
    },
    {
     "name": "stderr",
     "output_type": "stream",
     "text": [
      "Processing rows:  50%|████▉     | 606/1224 [1:11:39<1:27:58,  8.54s/it]"
     ]
    },
    {
     "name": "stdout",
     "output_type": "stream",
     "text": [
      "On 49.51%\n",
      "time elapsed: 4299(s), time left: 4384(s), estimated finish time: 02:23:56\n"
     ]
    },
    {
     "name": "stderr",
     "output_type": "stream",
     "text": [
      "Processing rows:  50%|████▉     | 607/1224 [1:11:48<1:27:30,  8.51s/it]"
     ]
    },
    {
     "name": "stdout",
     "output_type": "stream",
     "text": [
      "On 49.59%\n",
      "time elapsed: 4308(s), time left: 4379(s), estimated finish time: 02:23:59\n"
     ]
    },
    {
     "name": "stderr",
     "output_type": "stream",
     "text": [
      "Processing rows:  50%|████▉     | 608/1224 [1:11:52<1:13:28,  7.16s/it]"
     ]
    },
    {
     "name": "stdout",
     "output_type": "stream",
     "text": [
      "On 49.67%\n",
      "time elapsed: 4312(s), time left: 4368(s), estimated finish time: 02:23:53\n"
     ]
    },
    {
     "name": "stderr",
     "output_type": "stream",
     "text": [
      "Processing rows:  50%|████▉     | 609/1224 [1:11:59<1:13:52,  7.21s/it]"
     ]
    },
    {
     "name": "stdout",
     "output_type": "stream",
     "text": [
      "On 49.75%\n",
      "time elapsed: 4319(s), time left: 4361(s), estimated finish time: 02:23:53\n"
     ]
    },
    {
     "name": "stderr",
     "output_type": "stream",
     "text": [
      "Processing rows:  50%|████▉     | 610/1224 [1:12:03<1:03:59,  6.25s/it]"
     ]
    },
    {
     "name": "stdout",
     "output_type": "stream",
     "text": [
      "On 49.84%\n",
      "time elapsed: 4323(s), time left: 4351(s), estimated finish time: 02:23:47\n"
     ]
    },
    {
     "name": "stderr",
     "output_type": "stream",
     "text": [
      "Processing rows:  50%|████▉     | 611/1224 [1:12:07<56:47,  5.56s/it]  "
     ]
    },
    {
     "name": "stdout",
     "output_type": "stream",
     "text": [
      "On 49.92%\n",
      "time elapsed: 4327(s), time left: 4341(s), estimated finish time: 02:23:41\n"
     ]
    },
    {
     "name": "stderr",
     "output_type": "stream",
     "text": [
      "Processing rows:  50%|█████     | 612/1224 [1:12:18<1:14:47,  7.33s/it]"
     ]
    },
    {
     "name": "stdout",
     "output_type": "stream",
     "text": [
      "On 50.0%\n",
      "time elapsed: 4338(s), time left: 4338(s), estimated finish time: 02:23:49\n"
     ]
    },
    {
     "name": "stderr",
     "output_type": "stream",
     "text": [
      "Processing rows:  50%|█████     | 613/1224 [1:12:27<1:19:09,  7.77s/it]"
     ]
    },
    {
     "name": "stdout",
     "output_type": "stream",
     "text": [
      "On 50.08%\n",
      "time elapsed: 4347(s), time left: 4333(s), estimated finish time: 02:23:53\n"
     ]
    },
    {
     "name": "stderr",
     "output_type": "stream",
     "text": [
      "Processing rows:  50%|█████     | 614/1224 [1:12:35<1:20:23,  7.91s/it]"
     ]
    },
    {
     "name": "stdout",
     "output_type": "stream",
     "text": [
      "On 50.16%\n",
      "time elapsed: 4355(s), time left: 4327(s), estimated finish time: 02:23:55\n"
     ]
    },
    {
     "name": "stderr",
     "output_type": "stream",
     "text": [
      "Processing rows:  50%|█████     | 615/1224 [1:12:44<1:21:32,  8.03s/it]"
     ]
    },
    {
     "name": "stdout",
     "output_type": "stream",
     "text": [
      "On 50.25%\n",
      "time elapsed: 4364(s), time left: 4321(s), estimated finish time: 02:23:57\n"
     ]
    },
    {
     "name": "stderr",
     "output_type": "stream",
     "text": [
      "Processing rows:  50%|█████     | 616/1224 [1:12:54<1:27:49,  8.67s/it]"
     ]
    },
    {
     "name": "stdout",
     "output_type": "stream",
     "text": [
      "On 50.33%\n",
      "time elapsed: 4374(s), time left: 4317(s), estimated finish time: 02:24:04\n"
     ]
    },
    {
     "name": "stderr",
     "output_type": "stream",
     "text": [
      "Processing rows:  50%|█████     | 617/1224 [1:13:03<1:28:53,  8.79s/it]"
     ]
    },
    {
     "name": "stdout",
     "output_type": "stream",
     "text": [
      "On 50.41%\n",
      "time elapsed: 4383(s), time left: 4312(s), estimated finish time: 02:24:07\n"
     ]
    },
    {
     "name": "stderr",
     "output_type": "stream",
     "text": [
      "Processing rows:  50%|█████     | 618/1224 [1:13:12<1:28:57,  8.81s/it]"
     ]
    },
    {
     "name": "stdout",
     "output_type": "stream",
     "text": [
      "On 50.49%\n",
      "time elapsed: 4392(s), time left: 4306(s), estimated finish time: 02:24:11\n"
     ]
    },
    {
     "name": "stderr",
     "output_type": "stream",
     "text": [
      "Processing rows:  51%|█████     | 619/1224 [1:13:21<1:29:06,  8.84s/it]"
     ]
    },
    {
     "name": "stdout",
     "output_type": "stream",
     "text": [
      "On 50.57%\n",
      "time elapsed: 4401(s), time left: 4301(s), estimated finish time: 02:24:14\n"
     ]
    },
    {
     "name": "stderr",
     "output_type": "stream",
     "text": [
      "Processing rows:  51%|█████     | 620/1224 [1:13:29<1:27:03,  8.65s/it]"
     ]
    },
    {
     "name": "stdout",
     "output_type": "stream",
     "text": [
      "On 50.65%\n",
      "time elapsed: 4409(s), time left: 4295(s), estimated finish time: 02:24:17\n"
     ]
    },
    {
     "name": "stderr",
     "output_type": "stream",
     "text": [
      "Processing rows:  51%|█████     | 621/1224 [1:13:38<1:29:03,  8.86s/it]"
     ]
    },
    {
     "name": "stdout",
     "output_type": "stream",
     "text": [
      "On 50.74%\n",
      "time elapsed: 4418(s), time left: 4290(s), estimated finish time: 02:24:21\n"
     ]
    },
    {
     "name": "stderr",
     "output_type": "stream",
     "text": [
      "Processing rows:  51%|█████     | 622/1224 [1:13:47<1:29:52,  8.96s/it]"
     ]
    },
    {
     "name": "stdout",
     "output_type": "stream",
     "text": [
      "On 50.82%\n",
      "time elapsed: 4427(s), time left: 4285(s), estimated finish time: 02:24:25\n"
     ]
    },
    {
     "name": "stderr",
     "output_type": "stream",
     "text": [
      "Processing rows:  51%|█████     | 623/1224 [1:13:56<1:27:31,  8.74s/it]"
     ]
    },
    {
     "name": "stdout",
     "output_type": "stream",
     "text": [
      "On 50.9%\n",
      "time elapsed: 4436(s), time left: 4279(s), estimated finish time: 02:24:27\n"
     ]
    },
    {
     "name": "stderr",
     "output_type": "stream",
     "text": [
      "Processing rows:  51%|█████     | 624/1224 [1:14:04<1:25:06,  8.51s/it]"
     ]
    },
    {
     "name": "stdout",
     "output_type": "stream",
     "text": [
      "On 50.98%\n",
      "time elapsed: 4444(s), time left: 4273(s), estimated finish time: 02:24:29\n"
     ]
    },
    {
     "name": "stderr",
     "output_type": "stream",
     "text": [
      "Processing rows:  51%|█████     | 625/1224 [1:14:11<1:23:13,  8.34s/it]"
     ]
    },
    {
     "name": "stdout",
     "output_type": "stream",
     "text": [
      "On 51.06%\n",
      "time elapsed: 4452(s), time left: 4266(s), estimated finish time: 02:24:31\n"
     ]
    },
    {
     "name": "stderr",
     "output_type": "stream",
     "text": [
      "Processing rows:  51%|█████     | 626/1224 [1:14:21<1:25:56,  8.62s/it]"
     ]
    },
    {
     "name": "stdout",
     "output_type": "stream",
     "text": [
      "On 51.14%\n",
      "time elapsed: 4461(s), time left: 4261(s), estimated finish time: 02:24:35\n"
     ]
    },
    {
     "name": "stderr",
     "output_type": "stream",
     "text": [
      "Processing rows:  51%|█████     | 627/1224 [1:14:30<1:27:21,  8.78s/it]"
     ]
    },
    {
     "name": "stdout",
     "output_type": "stream",
     "text": [
      "On 51.23%\n",
      "time elapsed: 4470(s), time left: 4256(s), estimated finish time: 02:24:39\n"
     ]
    },
    {
     "name": "stderr",
     "output_type": "stream",
     "text": [
      "Processing rows:  51%|█████▏    | 628/1224 [1:14:38<1:24:11,  8.48s/it]"
     ]
    },
    {
     "name": "stdout",
     "output_type": "stream",
     "text": [
      "On 51.31%\n",
      "time elapsed: 4478(s), time left: 4250(s), estimated finish time: 02:24:40\n"
     ]
    },
    {
     "name": "stderr",
     "output_type": "stream",
     "text": [
      "Processing rows:  51%|█████▏    | 629/1224 [1:14:43<1:15:41,  7.63s/it]"
     ]
    },
    {
     "name": "stdout",
     "output_type": "stream",
     "text": [
      "On 51.39%\n",
      "time elapsed: 4483(s), time left: 4241(s), estimated finish time: 02:24:37\n"
     ]
    },
    {
     "name": "stderr",
     "output_type": "stream",
     "text": [
      "Processing rows:  51%|█████▏    | 630/1224 [1:14:52<1:19:50,  8.07s/it]"
     ]
    },
    {
     "name": "stdout",
     "output_type": "stream",
     "text": [
      "On 51.47%\n",
      "time elapsed: 4492(s), time left: 4236(s), estimated finish time: 02:24:41\n"
     ]
    },
    {
     "name": "stderr",
     "output_type": "stream",
     "text": [
      "Processing rows:  52%|█████▏    | 631/1224 [1:15:03<1:26:05,  8.71s/it]"
     ]
    },
    {
     "name": "stdout",
     "output_type": "stream",
     "text": [
      "On 51.55%\n",
      "time elapsed: 4503(s), time left: 4231(s), estimated finish time: 02:24:47\n"
     ]
    },
    {
     "name": "stderr",
     "output_type": "stream",
     "text": [
      "Processing rows:  52%|█████▏    | 632/1224 [1:15:11<1:24:01,  8.52s/it]"
     ]
    },
    {
     "name": "stdout",
     "output_type": "stream",
     "text": [
      "On 51.63%\n",
      "time elapsed: 4511(s), time left: 4225(s), estimated finish time: 02:24:49\n"
     ]
    },
    {
     "name": "stderr",
     "output_type": "stream",
     "text": [
      "Processing rows:  52%|█████▏    | 633/1224 [1:15:19<1:22:44,  8.40s/it]"
     ]
    },
    {
     "name": "stdout",
     "output_type": "stream",
     "text": [
      "On 51.72%\n",
      "time elapsed: 4519(s), time left: 4219(s), estimated finish time: 02:24:51\n"
     ]
    },
    {
     "name": "stderr",
     "output_type": "stream",
     "text": [
      "Processing rows:  52%|█████▏    | 634/1224 [1:15:27<1:20:56,  8.23s/it]"
     ]
    },
    {
     "name": "stdout",
     "output_type": "stream",
     "text": [
      "On 51.8%\n",
      "time elapsed: 4527(s), time left: 4213(s), estimated finish time: 02:24:52\n"
     ]
    },
    {
     "name": "stderr",
     "output_type": "stream",
     "text": [
      "Processing rows:  52%|█████▏    | 635/1224 [1:15:37<1:25:53,  8.75s/it]"
     ]
    },
    {
     "name": "stdout",
     "output_type": "stream",
     "text": [
      "On 51.88%\n",
      "time elapsed: 4537(s), time left: 4208(s), estimated finish time: 02:24:57\n"
     ]
    },
    {
     "name": "stderr",
     "output_type": "stream",
     "text": [
      "Processing rows:  52%|█████▏    | 636/1224 [1:15:45<1:24:26,  8.62s/it]"
     ]
    },
    {
     "name": "stdout",
     "output_type": "stream",
     "text": [
      "On 51.96%\n",
      "time elapsed: 4545(s), time left: 4202(s), estimated finish time: 02:25:00\n"
     ]
    },
    {
     "name": "stderr",
     "output_type": "stream",
     "text": [
      "Processing rows:  52%|█████▏    | 637/1224 [1:15:53<1:22:57,  8.48s/it]"
     ]
    },
    {
     "name": "stdout",
     "output_type": "stream",
     "text": [
      "On 52.04%\n",
      "time elapsed: 4553(s), time left: 4196(s), estimated finish time: 02:25:02\n"
     ]
    },
    {
     "name": "stderr",
     "output_type": "stream",
     "text": [
      "Processing rows:  52%|█████▏    | 638/1224 [1:16:03<1:26:12,  8.83s/it]"
     ]
    },
    {
     "name": "stdout",
     "output_type": "stream",
     "text": [
      "On 52.12%\n",
      "time elapsed: 4563(s), time left: 4191(s), estimated finish time: 02:25:06\n"
     ]
    },
    {
     "name": "stderr",
     "output_type": "stream",
     "text": [
      "Processing rows:  52%|█████▏    | 639/1224 [1:16:11<1:24:24,  8.66s/it]"
     ]
    },
    {
     "name": "stdout",
     "output_type": "stream",
     "text": [
      "On 52.21%\n",
      "time elapsed: 4571(s), time left: 4185(s), estimated finish time: 02:25:08\n"
     ]
    },
    {
     "name": "stderr",
     "output_type": "stream",
     "text": [
      "Processing rows:  52%|█████▏    | 640/1224 [1:16:20<1:23:51,  8.62s/it]"
     ]
    },
    {
     "name": "stdout",
     "output_type": "stream",
     "text": [
      "On 52.29%\n",
      "time elapsed: 4580(s), time left: 4179(s), estimated finish time: 02:25:11\n"
     ]
    },
    {
     "name": "stderr",
     "output_type": "stream",
     "text": [
      "Processing rows:  52%|█████▏    | 641/1224 [1:16:24<1:12:56,  7.51s/it]"
     ]
    },
    {
     "name": "stdout",
     "output_type": "stream",
     "text": [
      "On 52.37%\n",
      "time elapsed: 4584(s), time left: 4170(s), estimated finish time: 02:25:07\n"
     ]
    },
    {
     "name": "stderr",
     "output_type": "stream",
     "text": [
      "Processing rows:  52%|█████▏    | 642/1224 [1:16:33<1:15:13,  7.76s/it]"
     ]
    },
    {
     "name": "stdout",
     "output_type": "stream",
     "text": [
      "On 52.45%\n",
      "time elapsed: 4593(s), time left: 4164(s), estimated finish time: 02:25:09\n"
     ]
    },
    {
     "name": "stderr",
     "output_type": "stream",
     "text": [
      "Processing rows:  53%|█████▎    | 643/1224 [1:16:41<1:17:05,  7.96s/it]"
     ]
    },
    {
     "name": "stdout",
     "output_type": "stream",
     "text": [
      "On 52.53%\n",
      "time elapsed: 4601(s), time left: 4158(s), estimated finish time: 02:25:11\n"
     ]
    },
    {
     "name": "stderr",
     "output_type": "stream",
     "text": [
      "Processing rows:  53%|█████▎    | 644/1224 [1:16:52<1:25:00,  8.79s/it]"
     ]
    },
    {
     "name": "stdout",
     "output_type": "stream",
     "text": [
      "On 52.61%\n",
      "time elapsed: 4612(s), time left: 4154(s), estimated finish time: 02:25:18\n"
     ]
    },
    {
     "name": "stderr",
     "output_type": "stream",
     "text": [
      "Processing rows:  53%|█████▎    | 645/1224 [1:16:57<1:14:49,  7.75s/it]"
     ]
    },
    {
     "name": "stdout",
     "output_type": "stream",
     "text": [
      "On 52.7%\n",
      "time elapsed: 4617(s), time left: 4145(s), estimated finish time: 02:25:15\n"
     ]
    },
    {
     "name": "stderr",
     "output_type": "stream",
     "text": [
      "Processing rows:  53%|█████▎    | 646/1224 [1:17:07<1:20:22,  8.34s/it]"
     ]
    },
    {
     "name": "stdout",
     "output_type": "stream",
     "text": [
      "On 52.78%\n",
      "time elapsed: 4627(s), time left: 4140(s), estimated finish time: 02:25:20\n"
     ]
    },
    {
     "name": "stderr",
     "output_type": "stream",
     "text": [
      "Processing rows:  53%|█████▎    | 647/1224 [1:17:15<1:20:21,  8.36s/it]"
     ]
    },
    {
     "name": "stdout",
     "output_type": "stream",
     "text": [
      "On 52.86%\n",
      "time elapsed: 4635(s), time left: 4134(s), estimated finish time: 02:25:22\n"
     ]
    },
    {
     "name": "stderr",
     "output_type": "stream",
     "text": [
      "Processing rows:  53%|█████▎    | 648/1224 [1:17:24<1:22:23,  8.58s/it]"
     ]
    },
    {
     "name": "stdout",
     "output_type": "stream",
     "text": [
      "On 52.94%\n",
      "time elapsed: 4645(s), time left: 4128(s), estimated finish time: 02:25:26\n"
     ]
    },
    {
     "name": "stderr",
     "output_type": "stream",
     "text": [
      "Processing rows:  53%|█████▎    | 649/1224 [1:17:33<1:21:57,  8.55s/it]"
     ]
    },
    {
     "name": "stdout",
     "output_type": "stream",
     "text": [
      "On 53.02%\n",
      "time elapsed: 4653(s), time left: 4122(s), estimated finish time: 02:25:28\n"
     ]
    },
    {
     "name": "stderr",
     "output_type": "stream",
     "text": [
      "Processing rows:  53%|█████▎    | 650/1224 [1:17:42<1:23:04,  8.68s/it]"
     ]
    },
    {
     "name": "stdout",
     "output_type": "stream",
     "text": [
      "On 53.1%\n",
      "time elapsed: 4662(s), time left: 4117(s), estimated finish time: 02:25:32\n"
     ]
    },
    {
     "name": "stderr",
     "output_type": "stream",
     "text": [
      "Processing rows:  53%|█████▎    | 651/1224 [1:17:51<1:23:25,  8.74s/it]"
     ]
    },
    {
     "name": "stdout",
     "output_type": "stream",
     "text": [
      "On 53.19%\n",
      "time elapsed: 4671(s), time left: 4111(s), estimated finish time: 02:25:35\n"
     ]
    },
    {
     "name": "stderr",
     "output_type": "stream",
     "text": [
      "Processing rows:  53%|█████▎    | 652/1224 [1:18:00<1:23:39,  8.78s/it]"
     ]
    },
    {
     "name": "stdout",
     "output_type": "stream",
     "text": [
      "On 53.27%\n",
      "time elapsed: 4680(s), time left: 4105(s), estimated finish time: 02:25:38\n"
     ]
    },
    {
     "name": "stderr",
     "output_type": "stream",
     "text": [
      "Processing rows:  53%|█████▎    | 653/1224 [1:18:09<1:24:13,  8.85s/it]"
     ]
    },
    {
     "name": "stdout",
     "output_type": "stream",
     "text": [
      "On 53.35%\n",
      "time elapsed: 4689(s), time left: 4100(s), estimated finish time: 02:25:41\n"
     ]
    },
    {
     "name": "stderr",
     "output_type": "stream",
     "text": [
      "Processing rows:  53%|█████▎    | 654/1224 [1:18:17<1:23:24,  8.78s/it]"
     ]
    },
    {
     "name": "stdout",
     "output_type": "stream",
     "text": [
      "On 53.43%\n",
      "time elapsed: 4697(s), time left: 4094(s), estimated finish time: 02:25:44\n"
     ]
    },
    {
     "name": "stderr",
     "output_type": "stream",
     "text": [
      "Processing rows:  54%|█████▎    | 655/1224 [1:18:25<1:20:00,  8.44s/it]"
     ]
    },
    {
     "name": "stdout",
     "output_type": "stream",
     "text": [
      "On 53.51%\n",
      "time elapsed: 4705(s), time left: 4087(s), estimated finish time: 02:25:45\n"
     ]
    },
    {
     "name": "stderr",
     "output_type": "stream",
     "text": [
      "Processing rows:  54%|█████▎    | 656/1224 [1:18:34<1:22:25,  8.71s/it]"
     ]
    },
    {
     "name": "stdout",
     "output_type": "stream",
     "text": [
      "On 53.59%\n",
      "time elapsed: 4714(s), time left: 4082(s), estimated finish time: 02:25:49\n"
     ]
    },
    {
     "name": "stderr",
     "output_type": "stream",
     "text": [
      "Processing rows:  54%|█████▎    | 657/1224 [1:18:43<1:21:32,  8.63s/it]"
     ]
    },
    {
     "name": "stdout",
     "output_type": "stream",
     "text": [
      "On 53.68%\n",
      "time elapsed: 4723(s), time left: 4076(s), estimated finish time: 02:25:51\n"
     ]
    },
    {
     "name": "stderr",
     "output_type": "stream",
     "text": [
      "Processing rows:  54%|█████▍    | 658/1224 [1:18:52<1:23:21,  8.84s/it]"
     ]
    },
    {
     "name": "stdout",
     "output_type": "stream",
     "text": [
      "On 53.76%\n",
      "time elapsed: 4732(s), time left: 4070(s), estimated finish time: 02:25:55\n"
     ]
    },
    {
     "name": "stderr",
     "output_type": "stream",
     "text": [
      "Processing rows:  54%|█████▍    | 659/1224 [1:19:01<1:24:10,  8.94s/it]"
     ]
    },
    {
     "name": "stdout",
     "output_type": "stream",
     "text": [
      "On 53.84%\n",
      "time elapsed: 4741(s), time left: 4065(s), estimated finish time: 02:25:59\n"
     ]
    },
    {
     "name": "stderr",
     "output_type": "stream",
     "text": [
      "Processing rows:  54%|█████▍    | 660/1224 [1:19:10<1:24:09,  8.95s/it]"
     ]
    },
    {
     "name": "stdout",
     "output_type": "stream",
     "text": [
      "On 53.92%\n",
      "time elapsed: 4750(s), time left: 4059(s), estimated finish time: 02:26:02\n"
     ]
    },
    {
     "name": "stderr",
     "output_type": "stream",
     "text": [
      "Processing rows:  54%|█████▍    | 661/1224 [1:19:18<1:19:33,  8.48s/it]"
     ]
    },
    {
     "name": "stdout",
     "output_type": "stream",
     "text": [
      "On 54.0%\n",
      "time elapsed: 4758(s), time left: 4052(s), estimated finish time: 02:26:03\n"
     ]
    },
    {
     "name": "stderr",
     "output_type": "stream",
     "text": [
      "Processing rows:  54%|█████▍    | 662/1224 [1:19:26<1:20:27,  8.59s/it]"
     ]
    },
    {
     "name": "stdout",
     "output_type": "stream",
     "text": [
      "On 54.08%\n",
      "time elapsed: 4766(s), time left: 4046(s), estimated finish time: 02:26:06\n"
     ]
    },
    {
     "name": "stderr",
     "output_type": "stream",
     "text": [
      "Processing rows:  54%|█████▍    | 663/1224 [1:19:34<1:18:29,  8.39s/it]"
     ]
    },
    {
     "name": "stdout",
     "output_type": "stream",
     "text": [
      "On 54.17%\n",
      "time elapsed: 4774(s), time left: 4040(s), estimated finish time: 02:26:07\n"
     ]
    },
    {
     "name": "stderr",
     "output_type": "stream",
     "text": [
      "Processing rows:  54%|█████▍    | 664/1224 [1:19:42<1:16:22,  8.18s/it]"
     ]
    },
    {
     "name": "stdout",
     "output_type": "stream",
     "text": [
      "On 54.25%\n",
      "time elapsed: 4782(s), time left: 4033(s), estimated finish time: 02:26:08\n"
     ]
    },
    {
     "name": "stderr",
     "output_type": "stream",
     "text": [
      "Processing rows:  54%|█████▍    | 665/1224 [1:19:50<1:15:48,  8.14s/it]"
     ]
    },
    {
     "name": "stdout",
     "output_type": "stream",
     "text": [
      "On 54.33%\n",
      "time elapsed: 4790(s), time left: 4027(s), estimated finish time: 02:26:09\n"
     ]
    },
    {
     "name": "stderr",
     "output_type": "stream",
     "text": [
      "Processing rows:  54%|█████▍    | 666/1224 [1:19:57<1:13:03,  7.86s/it]"
     ]
    },
    {
     "name": "stdout",
     "output_type": "stream",
     "text": [
      "On 54.41%\n",
      "time elapsed: 4797(s), time left: 4019(s), estimated finish time: 02:26:09\n"
     ]
    },
    {
     "name": "stderr",
     "output_type": "stream",
     "text": [
      "Processing rows:  54%|█████▍    | 667/1224 [1:20:06<1:14:12,  7.99s/it]"
     ]
    },
    {
     "name": "stdout",
     "output_type": "stream",
     "text": [
      "On 54.49%\n",
      "time elapsed: 4806(s), time left: 4013(s), estimated finish time: 02:26:11\n"
     ]
    },
    {
     "name": "stderr",
     "output_type": "stream",
     "text": [
      "Processing rows:  55%|█████▍    | 668/1224 [1:20:15<1:16:38,  8.27s/it]"
     ]
    },
    {
     "name": "stdout",
     "output_type": "stream",
     "text": [
      "On 54.58%\n",
      "time elapsed: 4815(s), time left: 4007(s), estimated finish time: 02:26:15\n"
     ]
    },
    {
     "name": "stderr",
     "output_type": "stream",
     "text": [
      "Processing rows:  55%|█████▍    | 669/1224 [1:20:22<1:13:47,  7.98s/it]"
     ]
    },
    {
     "name": "stdout",
     "output_type": "stream",
     "text": [
      "On 54.66%\n",
      "time elapsed: 4822(s), time left: 4000(s), estimated finish time: 02:26:15\n"
     ]
    },
    {
     "name": "stderr",
     "output_type": "stream",
     "text": [
      "Processing rows:  55%|█████▍    | 670/1224 [1:20:30<1:14:10,  8.03s/it]"
     ]
    },
    {
     "name": "stdout",
     "output_type": "stream",
     "text": [
      "On 54.74%\n",
      "time elapsed: 4830(s), time left: 3994(s), estimated finish time: 02:26:16\n"
     ]
    },
    {
     "name": "stderr",
     "output_type": "stream",
     "text": [
      "Processing rows:  55%|█████▍    | 671/1224 [1:20:37<1:11:36,  7.77s/it]"
     ]
    },
    {
     "name": "stdout",
     "output_type": "stream",
     "text": [
      "On 54.82%\n",
      "time elapsed: 4837(s), time left: 3986(s), estimated finish time: 02:26:16\n"
     ]
    },
    {
     "name": "stderr",
     "output_type": "stream",
     "text": [
      "Processing rows:  55%|█████▍    | 672/1224 [1:20:45<1:10:55,  7.71s/it]"
     ]
    },
    {
     "name": "stdout",
     "output_type": "stream",
     "text": [
      "On 54.9%\n",
      "time elapsed: 4845(s), time left: 3980(s), estimated finish time: 02:26:17\n"
     ]
    },
    {
     "name": "stderr",
     "output_type": "stream",
     "text": [
      "Processing rows:  55%|█████▍    | 673/1224 [1:20:53<1:11:06,  7.74s/it]"
     ]
    },
    {
     "name": "stdout",
     "output_type": "stream",
     "text": [
      "On 54.98%\n",
      "time elapsed: 4853(s), time left: 3973(s), estimated finish time: 02:26:18\n"
     ]
    },
    {
     "name": "stderr",
     "output_type": "stream",
     "text": [
      "Processing rows:  55%|█████▌    | 674/1224 [1:21:00<1:09:21,  7.57s/it]"
     ]
    },
    {
     "name": "stdout",
     "output_type": "stream",
     "text": [
      "On 55.07%\n",
      "time elapsed: 4860(s), time left: 3966(s), estimated finish time: 02:26:18\n"
     ]
    },
    {
     "name": "stderr",
     "output_type": "stream",
     "text": [
      "Processing rows:  55%|█████▌    | 675/1224 [1:21:07<1:08:48,  7.52s/it]"
     ]
    },
    {
     "name": "stdout",
     "output_type": "stream",
     "text": [
      "On 55.15%\n",
      "time elapsed: 4867(s), time left: 3959(s), estimated finish time: 02:26:18\n"
     ]
    },
    {
     "name": "stderr",
     "output_type": "stream",
     "text": [
      "Processing rows:  55%|█████▌    | 676/1224 [1:21:15<1:10:53,  7.76s/it]"
     ]
    },
    {
     "name": "stdout",
     "output_type": "stream",
     "text": [
      "On 55.23%\n",
      "time elapsed: 4875(s), time left: 3952(s), estimated finish time: 02:26:20\n"
     ]
    },
    {
     "name": "stderr",
     "output_type": "stream",
     "text": [
      "Processing rows:  55%|█████▌    | 677/1224 [1:21:25<1:14:59,  8.23s/it]"
     ]
    },
    {
     "name": "stdout",
     "output_type": "stream",
     "text": [
      "On 55.31%\n",
      "time elapsed: 4885(s), time left: 3947(s), estimated finish time: 02:26:24\n"
     ]
    },
    {
     "name": "stderr",
     "output_type": "stream",
     "text": [
      "Processing rows:  55%|█████▌    | 678/1224 [1:21:34<1:17:53,  8.56s/it]"
     ]
    },
    {
     "name": "stdout",
     "output_type": "stream",
     "text": [
      "On 55.39%\n",
      "time elapsed: 4894(s), time left: 3941(s), estimated finish time: 02:26:28\n"
     ]
    },
    {
     "name": "stderr",
     "output_type": "stream",
     "text": [
      "Processing rows:  55%|█████▌    | 679/1224 [1:21:41<1:14:00,  8.15s/it]"
     ]
    },
    {
     "name": "stdout",
     "output_type": "stream",
     "text": [
      "On 55.47%\n",
      "time elapsed: 4901(s), time left: 3934(s), estimated finish time: 02:26:28\n"
     ]
    },
    {
     "name": "stderr",
     "output_type": "stream",
     "text": [
      "Processing rows:  56%|█████▌    | 680/1224 [1:21:48<1:11:10,  7.85s/it]"
     ]
    },
    {
     "name": "stdout",
     "output_type": "stream",
     "text": [
      "On 55.56%\n",
      "time elapsed: 4908(s), time left: 3927(s), estimated finish time: 02:26:28\n"
     ]
    },
    {
     "name": "stderr",
     "output_type": "stream",
     "text": [
      "Processing rows:  56%|█████▌    | 681/1224 [1:21:57<1:14:09,  8.19s/it]"
     ]
    },
    {
     "name": "stdout",
     "output_type": "stream",
     "text": [
      "On 55.64%\n",
      "time elapsed: 4917(s), time left: 3921(s), estimated finish time: 02:26:31\n"
     ]
    },
    {
     "name": "stderr",
     "output_type": "stream",
     "text": [
      "Processing rows:  56%|█████▌    | 682/1224 [1:22:06<1:14:35,  8.26s/it]"
     ]
    },
    {
     "name": "stdout",
     "output_type": "stream",
     "text": [
      "On 55.72%\n",
      "time elapsed: 4926(s), time left: 3915(s), estimated finish time: 02:26:33\n"
     ]
    },
    {
     "name": "stderr",
     "output_type": "stream",
     "text": [
      "Processing rows:  56%|█████▌    | 683/1224 [1:22:14<1:13:36,  8.16s/it]"
     ]
    },
    {
     "name": "stdout",
     "output_type": "stream",
     "text": [
      "On 55.8%\n",
      "time elapsed: 4934(s), time left: 3908(s), estimated finish time: 02:26:34\n"
     ]
    },
    {
     "name": "stderr",
     "output_type": "stream",
     "text": [
      "Processing rows:  56%|█████▌    | 684/1224 [1:22:23<1:16:33,  8.51s/it]"
     ]
    },
    {
     "name": "stdout",
     "output_type": "stream",
     "text": [
      "On 55.88%\n",
      "time elapsed: 4943(s), time left: 3902(s), estimated finish time: 02:26:38\n"
     ]
    },
    {
     "name": "stderr",
     "output_type": "stream",
     "text": [
      "Processing rows:  56%|█████▌    | 685/1224 [1:22:27<1:04:50,  7.22s/it]"
     ]
    },
    {
     "name": "stdout",
     "output_type": "stream",
     "text": [
      "On 55.96%\n",
      "time elapsed: 4947(s), time left: 3893(s), estimated finish time: 02:26:33\n"
     ]
    },
    {
     "name": "stderr",
     "output_type": "stream",
     "text": [
      "Processing rows:  56%|█████▌    | 686/1224 [1:22:31<54:18,  6.06s/it]  "
     ]
    },
    {
     "name": "stdout",
     "output_type": "stream",
     "text": [
      "On 56.05%\n",
      "time elapsed: 4951(s), time left: 3882(s), estimated finish time: 02:26:26\n"
     ]
    },
    {
     "name": "stderr",
     "output_type": "stream",
     "text": [
      "Processing rows:  56%|█████▌    | 687/1224 [1:22:35<49:09,  5.49s/it]"
     ]
    },
    {
     "name": "stdout",
     "output_type": "stream",
     "text": [
      "On 56.13%\n",
      "time elapsed: 4955(s), time left: 3873(s), estimated finish time: 02:26:20\n"
     ]
    },
    {
     "name": "stderr",
     "output_type": "stream",
     "text": [
      "Processing rows:  56%|█████▌    | 688/1224 [1:22:39<45:14,  5.06s/it]"
     ]
    },
    {
     "name": "stdout",
     "output_type": "stream",
     "text": [
      "On 56.21%\n",
      "time elapsed: 4959(s), time left: 3863(s), estimated finish time: 02:26:15\n"
     ]
    },
    {
     "name": "stderr",
     "output_type": "stream",
     "text": [
      "Processing rows:  56%|█████▋    | 689/1224 [1:22:42<40:14,  4.51s/it]"
     ]
    },
    {
     "name": "stdout",
     "output_type": "stream",
     "text": [
      "On 56.29%\n",
      "time elapsed: 4962(s), time left: 3853(s), estimated finish time: 02:26:08\n"
     ]
    },
    {
     "name": "stderr",
     "output_type": "stream",
     "text": [
      "Processing rows:  56%|█████▋    | 690/1224 [1:22:45<36:30,  4.10s/it]"
     ]
    },
    {
     "name": "stdout",
     "output_type": "stream",
     "text": [
      "On 56.37%\n",
      "time elapsed: 4965(s), time left: 3843(s), estimated finish time: 02:26:01\n"
     ]
    },
    {
     "name": "stderr",
     "output_type": "stream",
     "text": [
      "Processing rows:  56%|█████▋    | 691/1224 [1:22:48<33:45,  3.80s/it]"
     ]
    },
    {
     "name": "stdout",
     "output_type": "stream",
     "text": [
      "On 56.45%\n",
      "time elapsed: 4968(s), time left: 3832(s), estimated finish time: 02:25:53\n"
     ]
    },
    {
     "name": "stderr",
     "output_type": "stream",
     "text": [
      "Processing rows:  57%|█████▋    | 692/1224 [1:22:51<31:27,  3.55s/it]"
     ]
    },
    {
     "name": "stdout",
     "output_type": "stream",
     "text": [
      "On 56.54%\n",
      "time elapsed: 4971(s), time left: 3822(s), estimated finish time: 02:25:46\n"
     ]
    },
    {
     "name": "stderr",
     "output_type": "stream",
     "text": [
      "Processing rows:  57%|█████▋    | 693/1224 [1:22:55<33:06,  3.74s/it]"
     ]
    },
    {
     "name": "stdout",
     "output_type": "stream",
     "text": [
      "On 56.62%\n",
      "time elapsed: 4976(s), time left: 3812(s), estimated finish time: 02:25:41\n"
     ]
    },
    {
     "name": "stderr",
     "output_type": "stream",
     "text": [
      "Processing rows:  57%|█████▋    | 694/1224 [1:23:00<35:14,  3.99s/it]"
     ]
    },
    {
     "name": "stdout",
     "output_type": "stream",
     "text": [
      "On 56.7%\n",
      "time elapsed: 4980(s), time left: 3803(s), estimated finish time: 02:25:36\n"
     ]
    },
    {
     "name": "stderr",
     "output_type": "stream",
     "text": [
      "Processing rows:  57%|█████▋    | 695/1224 [1:23:03<33:42,  3.82s/it]"
     ]
    },
    {
     "name": "stdout",
     "output_type": "stream",
     "text": [
      "On 56.78%\n",
      "time elapsed: 4984(s), time left: 3793(s), estimated finish time: 02:25:29\n"
     ]
    },
    {
     "name": "stderr",
     "output_type": "stream",
     "text": [
      "Processing rows:  57%|█████▋    | 696/1224 [1:23:07<32:16,  3.67s/it]"
     ]
    },
    {
     "name": "stdout",
     "output_type": "stream",
     "text": [
      "On 56.86%\n",
      "time elapsed: 4987(s), time left: 3783(s), estimated finish time: 02:25:23\n"
     ]
    },
    {
     "name": "stderr",
     "output_type": "stream",
     "text": [
      "Processing rows:  57%|█████▋    | 697/1224 [1:23:10<31:01,  3.53s/it]"
     ]
    },
    {
     "name": "stdout",
     "output_type": "stream",
     "text": [
      "On 56.94%\n",
      "time elapsed: 4990(s), time left: 3773(s), estimated finish time: 02:25:16\n"
     ]
    },
    {
     "name": "stderr",
     "output_type": "stream",
     "text": [
      "Processing rows:  57%|█████▋    | 698/1224 [1:23:14<30:53,  3.52s/it]"
     ]
    },
    {
     "name": "stdout",
     "output_type": "stream",
     "text": [
      "On 57.03%\n",
      "time elapsed: 4994(s), time left: 3763(s), estimated finish time: 02:25:09\n"
     ]
    },
    {
     "name": "stderr",
     "output_type": "stream",
     "text": [
      "Processing rows:  57%|█████▋    | 699/1224 [1:23:17<29:52,  3.41s/it]"
     ]
    },
    {
     "name": "stdout",
     "output_type": "stream",
     "text": [
      "On 57.11%\n",
      "time elapsed: 4997(s), time left: 3753(s), estimated finish time: 02:25:02\n"
     ]
    },
    {
     "name": "stderr",
     "output_type": "stream",
     "text": [
      "Processing rows:  57%|█████▋    | 700/1224 [1:23:20<29:40,  3.40s/it]"
     ]
    },
    {
     "name": "stdout",
     "output_type": "stream",
     "text": [
      "On 57.19%\n",
      "time elapsed: 5000(s), time left: 3743(s), estimated finish time: 02:24:56\n"
     ]
    },
    {
     "name": "stderr",
     "output_type": "stream",
     "text": [
      "Processing rows:  57%|█████▋    | 701/1224 [1:23:24<32:17,  3.71s/it]"
     ]
    },
    {
     "name": "stdout",
     "output_type": "stream",
     "text": [
      "On 57.27%\n",
      "time elapsed: 5005(s), time left: 3734(s), estimated finish time: 02:24:51\n"
     ]
    },
    {
     "name": "stderr",
     "output_type": "stream",
     "text": [
      "Processing rows:  57%|█████▋    | 702/1224 [1:23:28<31:27,  3.62s/it]"
     ]
    },
    {
     "name": "stdout",
     "output_type": "stream",
     "text": [
      "On 57.35%\n",
      "time elapsed: 5008(s), time left: 3724(s), estimated finish time: 02:24:44\n"
     ]
    },
    {
     "name": "stderr",
     "output_type": "stream",
     "text": [
      "Processing rows:  57%|█████▋    | 703/1224 [1:23:31<30:57,  3.57s/it]"
     ]
    },
    {
     "name": "stdout",
     "output_type": "stream",
     "text": [
      "On 57.43%\n",
      "time elapsed: 5011(s), time left: 3714(s), estimated finish time: 02:24:38\n"
     ]
    },
    {
     "name": "stderr",
     "output_type": "stream",
     "text": [
      "Processing rows:  58%|█████▊    | 704/1224 [1:23:36<33:06,  3.82s/it]"
     ]
    },
    {
     "name": "stdout",
     "output_type": "stream",
     "text": [
      "On 57.52%\n",
      "time elapsed: 5016(s), time left: 3705(s), estimated finish time: 02:24:33\n"
     ]
    },
    {
     "name": "stderr",
     "output_type": "stream",
     "text": [
      "Processing rows:  58%|█████▊    | 705/1224 [1:23:39<31:53,  3.69s/it]"
     ]
    },
    {
     "name": "stdout",
     "output_type": "stream",
     "text": [
      "On 57.6%\n",
      "time elapsed: 5019(s), time left: 3695(s), estimated finish time: 02:24:27\n"
     ]
    },
    {
     "name": "stderr",
     "output_type": "stream",
     "text": [
      "Processing rows:  58%|█████▊    | 706/1224 [1:23:43<31:12,  3.61s/it]"
     ]
    },
    {
     "name": "stdout",
     "output_type": "stream",
     "text": [
      "On 57.68%\n",
      "time elapsed: 5023(s), time left: 3685(s), estimated finish time: 02:24:20\n"
     ]
    },
    {
     "name": "stderr",
     "output_type": "stream",
     "text": [
      "Processing rows:  58%|█████▊    | 707/1224 [1:23:46<30:48,  3.58s/it]"
     ]
    },
    {
     "name": "stdout",
     "output_type": "stream",
     "text": [
      "On 57.76%\n",
      "time elapsed: 5026(s), time left: 3675(s), estimated finish time: 02:24:14\n"
     ]
    },
    {
     "name": "stderr",
     "output_type": "stream",
     "text": [
      "Processing rows:  58%|█████▊    | 708/1224 [1:23:50<30:32,  3.55s/it]"
     ]
    },
    {
     "name": "stdout",
     "output_type": "stream",
     "text": [
      "On 57.84%\n",
      "time elapsed: 5030(s), time left: 3665(s), estimated finish time: 02:24:08\n"
     ]
    },
    {
     "name": "stderr",
     "output_type": "stream",
     "text": [
      "Processing rows:  58%|█████▊    | 709/1224 [1:23:54<32:35,  3.80s/it]"
     ]
    },
    {
     "name": "stdout",
     "output_type": "stream",
     "text": [
      "On 57.92%\n",
      "time elapsed: 5034(s), time left: 3656(s), estimated finish time: 02:24:03\n"
     ]
    },
    {
     "name": "stderr",
     "output_type": "stream",
     "text": [
      "Processing rows:  58%|█████▊    | 710/1224 [1:23:57<31:09,  3.64s/it]"
     ]
    },
    {
     "name": "stdout",
     "output_type": "stream",
     "text": [
      "On 58.01%\n",
      "time elapsed: 5037(s), time left: 3647(s), estimated finish time: 02:23:56\n"
     ]
    },
    {
     "name": "stderr",
     "output_type": "stream",
     "text": [
      "Processing rows:  58%|█████▊    | 711/1224 [1:24:00<29:54,  3.50s/it]"
     ]
    },
    {
     "name": "stdout",
     "output_type": "stream",
     "text": [
      "On 58.09%\n",
      "time elapsed: 5040(s), time left: 3637(s), estimated finish time: 02:23:50\n"
     ]
    },
    {
     "name": "stderr",
     "output_type": "stream",
     "text": [
      "Processing rows:  58%|█████▊    | 712/1224 [1:24:05<31:38,  3.71s/it]"
     ]
    },
    {
     "name": "stdout",
     "output_type": "stream",
     "text": [
      "On 58.17%\n",
      "time elapsed: 5045(s), time left: 3627(s), estimated finish time: 02:23:45\n"
     ]
    },
    {
     "name": "stderr",
     "output_type": "stream",
     "text": [
      "Processing rows:  58%|█████▊    | 713/1224 [1:24:08<30:40,  3.60s/it]"
     ]
    },
    {
     "name": "stdout",
     "output_type": "stream",
     "text": [
      "On 58.25%\n",
      "time elapsed: 5048(s), time left: 3618(s), estimated finish time: 02:23:38\n"
     ]
    },
    {
     "name": "stderr",
     "output_type": "stream",
     "text": [
      "Processing rows:  58%|█████▊    | 714/1224 [1:24:12<32:30,  3.83s/it]"
     ]
    },
    {
     "name": "stdout",
     "output_type": "stream",
     "text": [
      "On 58.33%\n",
      "time elapsed: 5052(s), time left: 3609(s), estimated finish time: 02:23:34\n"
     ]
    },
    {
     "name": "stderr",
     "output_type": "stream",
     "text": [
      "Processing rows:  58%|█████▊    | 715/1224 [1:24:16<31:19,  3.69s/it]"
     ]
    },
    {
     "name": "stdout",
     "output_type": "stream",
     "text": [
      "On 58.42%\n",
      "time elapsed: 5056(s), time left: 3599(s), estimated finish time: 02:23:27\n"
     ]
    },
    {
     "name": "stderr",
     "output_type": "stream",
     "text": [
      "Processing rows:  58%|█████▊    | 716/1224 [1:24:20<32:25,  3.83s/it]"
     ]
    },
    {
     "name": "stdout",
     "output_type": "stream",
     "text": [
      "On 58.5%\n",
      "time elapsed: 5060(s), time left: 3590(s), estimated finish time: 02:23:22\n"
     ]
    },
    {
     "name": "stderr",
     "output_type": "stream",
     "text": [
      "Processing rows:  59%|█████▊    | 717/1224 [1:24:24<33:50,  4.01s/it]"
     ]
    },
    {
     "name": "stdout",
     "output_type": "stream",
     "text": [
      "On 58.58%\n",
      "time elapsed: 5064(s), time left: 3581(s), estimated finish time: 02:23:18\n"
     ]
    },
    {
     "name": "stderr",
     "output_type": "stream",
     "text": [
      "Processing rows:  59%|█████▊    | 718/1224 [1:24:28<32:02,  3.80s/it]"
     ]
    },
    {
     "name": "stdout",
     "output_type": "stream",
     "text": [
      "On 58.66%\n",
      "time elapsed: 5068(s), time left: 3571(s), estimated finish time: 02:23:11\n"
     ]
    },
    {
     "name": "stderr",
     "output_type": "stream",
     "text": [
      "Processing rows:  59%|█████▊    | 719/1224 [1:24:31<31:01,  3.69s/it]"
     ]
    },
    {
     "name": "stdout",
     "output_type": "stream",
     "text": [
      "On 58.74%\n",
      "time elapsed: 5071(s), time left: 3562(s), estimated finish time: 02:23:05\n"
     ]
    },
    {
     "name": "stderr",
     "output_type": "stream",
     "text": [
      "Processing rows:  59%|█████▉    | 720/1224 [1:24:34<29:19,  3.49s/it]"
     ]
    },
    {
     "name": "stdout",
     "output_type": "stream",
     "text": [
      "On 58.82%\n",
      "time elapsed: 5074(s), time left: 3552(s), estimated finish time: 02:22:58\n"
     ]
    },
    {
     "name": "stderr",
     "output_type": "stream",
     "text": [
      "Processing rows:  59%|█████▉    | 721/1224 [1:24:43<42:31,  5.07s/it]"
     ]
    },
    {
     "name": "stdout",
     "output_type": "stream",
     "text": [
      "On 58.91%\n",
      "time elapsed: 5083(s), time left: 3546(s), estimated finish time: 02:23:01\n"
     ]
    },
    {
     "name": "stderr",
     "output_type": "stream",
     "text": [
      "Processing rows:  59%|█████▉    | 722/1224 [1:24:50<47:46,  5.71s/it]"
     ]
    },
    {
     "name": "stdout",
     "output_type": "stream",
     "text": [
      "On 58.99%\n",
      "time elapsed: 5090(s), time left: 3539(s), estimated finish time: 02:23:02\n"
     ]
    },
    {
     "name": "stderr",
     "output_type": "stream",
     "text": [
      "Processing rows:  59%|█████▉    | 723/1224 [1:24:57<51:22,  6.15s/it]"
     ]
    },
    {
     "name": "stdout",
     "output_type": "stream",
     "text": [
      "On 59.07%\n",
      "time elapsed: 5097(s), time left: 3532(s), estimated finish time: 02:23:02\n"
     ]
    },
    {
     "name": "stderr",
     "output_type": "stream",
     "text": [
      "Processing rows:  59%|█████▉    | 724/1224 [1:25:05<54:33,  6.55s/it]"
     ]
    },
    {
     "name": "stdout",
     "output_type": "stream",
     "text": [
      "On 59.15%\n",
      "time elapsed: 5105(s), time left: 3525(s), estimated finish time: 02:23:02\n"
     ]
    },
    {
     "name": "stderr",
     "output_type": "stream",
     "text": [
      "Processing rows:  59%|█████▉    | 725/1224 [1:25:12<57:41,  6.94s/it]"
     ]
    },
    {
     "name": "stdout",
     "output_type": "stream",
     "text": [
      "On 59.23%\n",
      "time elapsed: 5112(s), time left: 3519(s), estimated finish time: 02:23:04\n"
     ]
    },
    {
     "name": "stderr",
     "output_type": "stream",
     "text": [
      "Processing rows:  59%|█████▉    | 726/1224 [1:25:20<1:00:00,  7.23s/it]"
     ]
    },
    {
     "name": "stdout",
     "output_type": "stream",
     "text": [
      "On 59.31%\n",
      "time elapsed: 5120(s), time left: 3512(s), estimated finish time: 02:23:05\n"
     ]
    },
    {
     "name": "stderr",
     "output_type": "stream",
     "text": [
      "Processing rows:  59%|█████▉    | 727/1224 [1:25:28<1:01:32,  7.43s/it]"
     ]
    },
    {
     "name": "stdout",
     "output_type": "stream",
     "text": [
      "On 59.4%\n",
      "time elapsed: 5128(s), time left: 3506(s), estimated finish time: 02:23:07\n"
     ]
    },
    {
     "name": "stderr",
     "output_type": "stream",
     "text": [
      "Processing rows:  59%|█████▉    | 728/1224 [1:25:36<1:03:13,  7.65s/it]"
     ]
    },
    {
     "name": "stdout",
     "output_type": "stream",
     "text": [
      "On 59.48%\n",
      "time elapsed: 5136(s), time left: 3499(s), estimated finish time: 02:23:09\n"
     ]
    },
    {
     "name": "stderr",
     "output_type": "stream",
     "text": [
      "Processing rows:  60%|█████▉    | 729/1224 [1:25:44<1:03:11,  7.66s/it]"
     ]
    },
    {
     "name": "stdout",
     "output_type": "stream",
     "text": [
      "On 59.56%\n",
      "time elapsed: 5144(s), time left: 3493(s), estimated finish time: 02:23:10\n"
     ]
    },
    {
     "name": "stderr",
     "output_type": "stream",
     "text": [
      "Processing rows:  60%|█████▉    | 730/1224 [1:25:53<1:06:51,  8.12s/it]"
     ]
    },
    {
     "name": "stdout",
     "output_type": "stream",
     "text": [
      "On 59.64%\n",
      "time elapsed: 5153(s), time left: 3487(s), estimated finish time: 02:23:13\n"
     ]
    },
    {
     "name": "stderr",
     "output_type": "stream",
     "text": [
      "Processing rows:  60%|█████▉    | 731/1224 [1:26:01<1:06:20,  8.07s/it]"
     ]
    },
    {
     "name": "stdout",
     "output_type": "stream",
     "text": [
      "On 59.72%\n",
      "time elapsed: 5161(s), time left: 3481(s), estimated finish time: 02:23:15\n"
     ]
    },
    {
     "name": "stderr",
     "output_type": "stream",
     "text": [
      "Processing rows:  60%|█████▉    | 732/1224 [1:26:09<1:06:15,  8.08s/it]"
     ]
    },
    {
     "name": "stdout",
     "output_type": "stream",
     "text": [
      "On 59.8%\n",
      "time elapsed: 5169(s), time left: 3474(s), estimated finish time: 02:23:16\n"
     ]
    },
    {
     "name": "stderr",
     "output_type": "stream",
     "text": [
      "Processing rows:  60%|█████▉    | 733/1224 [1:26:17<1:05:08,  7.96s/it]"
     ]
    },
    {
     "name": "stdout",
     "output_type": "stream",
     "text": [
      "On 59.89%\n",
      "time elapsed: 5177(s), time left: 3468(s), estimated finish time: 02:23:17\n"
     ]
    },
    {
     "name": "stderr",
     "output_type": "stream",
     "text": [
      "Processing rows:  60%|█████▉    | 734/1224 [1:26:24<1:02:46,  7.69s/it]"
     ]
    },
    {
     "name": "stdout",
     "output_type": "stream",
     "text": [
      "On 59.97%\n",
      "time elapsed: 5184(s), time left: 3461(s), estimated finish time: 02:23:17\n"
     ]
    },
    {
     "name": "stderr",
     "output_type": "stream",
     "text": [
      "Processing rows:  60%|██████    | 735/1224 [1:26:32<1:03:18,  7.77s/it]"
     ]
    },
    {
     "name": "stdout",
     "output_type": "stream",
     "text": [
      "On 60.05%\n",
      "time elapsed: 5192(s), time left: 3454(s), estimated finish time: 02:23:19\n"
     ]
    },
    {
     "name": "stderr",
     "output_type": "stream",
     "text": [
      "Processing rows:  60%|██████    | 736/1224 [1:26:40<1:03:36,  7.82s/it]"
     ]
    },
    {
     "name": "stdout",
     "output_type": "stream",
     "text": [
      "On 60.13%\n",
      "time elapsed: 5200(s), time left: 3448(s), estimated finish time: 02:23:20\n"
     ]
    },
    {
     "name": "stderr",
     "output_type": "stream",
     "text": [
      "Processing rows:  60%|██████    | 737/1224 [1:26:48<1:03:34,  7.83s/it]"
     ]
    },
    {
     "name": "stdout",
     "output_type": "stream",
     "text": [
      "On 60.21%\n",
      "time elapsed: 5208(s), time left: 3441(s), estimated finish time: 02:23:22\n"
     ]
    },
    {
     "name": "stderr",
     "output_type": "stream",
     "text": [
      "Processing rows:  60%|██████    | 738/1224 [1:26:56<1:03:20,  7.82s/it]"
     ]
    },
    {
     "name": "stdout",
     "output_type": "stream",
     "text": [
      "On 60.29%\n",
      "time elapsed: 5216(s), time left: 3435(s), estimated finish time: 02:23:23\n"
     ]
    },
    {
     "name": "stderr",
     "output_type": "stream",
     "text": [
      "Processing rows:  60%|██████    | 739/1224 [1:27:03<1:03:03,  7.80s/it]"
     ]
    },
    {
     "name": "stdout",
     "output_type": "stream",
     "text": [
      "On 60.38%\n",
      "time elapsed: 5223(s), time left: 3428(s), estimated finish time: 02:23:24\n"
     ]
    },
    {
     "name": "stderr",
     "output_type": "stream",
     "text": [
      "Processing rows:  60%|██████    | 740/1224 [1:27:11<1:01:26,  7.62s/it]"
     ]
    },
    {
     "name": "stdout",
     "output_type": "stream",
     "text": [
      "On 60.46%\n",
      "time elapsed: 5231(s), time left: 3421(s), estimated finish time: 02:23:24\n"
     ]
    },
    {
     "name": "stderr",
     "output_type": "stream",
     "text": [
      "Processing rows:  61%|██████    | 741/1224 [1:27:18<1:00:14,  7.48s/it]"
     ]
    },
    {
     "name": "stdout",
     "output_type": "stream",
     "text": [
      "On 60.54%\n",
      "time elapsed: 5238(s), time left: 3414(s), estimated finish time: 02:23:24\n"
     ]
    },
    {
     "name": "stderr",
     "output_type": "stream",
     "text": [
      "Processing rows:  61%|██████    | 742/1224 [1:27:27<1:04:46,  8.06s/it]"
     ]
    },
    {
     "name": "stdout",
     "output_type": "stream",
     "text": [
      "On 60.62%\n",
      "time elapsed: 5247(s), time left: 3408(s), estimated finish time: 02:23:28\n"
     ]
    },
    {
     "name": "stderr",
     "output_type": "stream",
     "text": [
      "Processing rows:  61%|██████    | 743/1224 [1:27:36<1:05:50,  8.21s/it]"
     ]
    },
    {
     "name": "stdout",
     "output_type": "stream",
     "text": [
      "On 60.7%\n",
      "time elapsed: 5256(s), time left: 3402(s), estimated finish time: 02:23:31\n"
     ]
    },
    {
     "name": "stderr",
     "output_type": "stream",
     "text": [
      "Processing rows:  61%|██████    | 744/1224 [1:27:45<1:08:34,  8.57s/it]"
     ]
    },
    {
     "name": "stdout",
     "output_type": "stream",
     "text": [
      "On 60.78%\n",
      "time elapsed: 5265(s), time left: 3397(s), estimated finish time: 02:23:35\n"
     ]
    },
    {
     "name": "stderr",
     "output_type": "stream",
     "text": [
      "Processing rows:  61%|██████    | 745/1224 [1:27:53<1:05:54,  8.26s/it]"
     ]
    },
    {
     "name": "stdout",
     "output_type": "stream",
     "text": [
      "On 60.87%\n",
      "time elapsed: 5273(s), time left: 3390(s), estimated finish time: 02:23:35\n"
     ]
    },
    {
     "name": "stderr",
     "output_type": "stream",
     "text": [
      "Processing rows:  61%|██████    | 746/1224 [1:28:00<1:03:11,  7.93s/it]"
     ]
    },
    {
     "name": "stdout",
     "output_type": "stream",
     "text": [
      "On 60.95%\n",
      "time elapsed: 5280(s), time left: 3383(s), estimated finish time: 02:23:35\n"
     ]
    },
    {
     "name": "stderr",
     "output_type": "stream",
     "text": [
      "Processing rows:  61%|██████    | 747/1224 [1:28:07<1:01:41,  7.76s/it]"
     ]
    },
    {
     "name": "stdout",
     "output_type": "stream",
     "text": [
      "On 61.03%\n",
      "time elapsed: 5287(s), time left: 3376(s), estimated finish time: 02:23:36\n"
     ]
    },
    {
     "name": "stderr",
     "output_type": "stream",
     "text": [
      "Processing rows:  61%|██████    | 748/1224 [1:28:16<1:04:53,  8.18s/it]"
     ]
    },
    {
     "name": "stdout",
     "output_type": "stream",
     "text": [
      "On 61.11%\n",
      "time elapsed: 5296(s), time left: 3370(s), estimated finish time: 02:23:39\n"
     ]
    },
    {
     "name": "stderr",
     "output_type": "stream",
     "text": [
      "Processing rows:  61%|██████    | 749/1224 [1:28:25<1:06:02,  8.34s/it]"
     ]
    },
    {
     "name": "stdout",
     "output_type": "stream",
     "text": [
      "On 61.19%\n",
      "time elapsed: 5305(s), time left: 3364(s), estimated finish time: 02:23:42\n"
     ]
    },
    {
     "name": "stderr",
     "output_type": "stream",
     "text": [
      "Processing rows:  61%|██████▏   | 750/1224 [1:28:34<1:06:39,  8.44s/it]"
     ]
    },
    {
     "name": "stdout",
     "output_type": "stream",
     "text": [
      "On 61.27%\n",
      "time elapsed: 5314(s), time left: 3358(s), estimated finish time: 02:23:45\n"
     ]
    },
    {
     "name": "stderr",
     "output_type": "stream",
     "text": [
      "Processing rows:  61%|██████▏   | 751/1224 [1:28:41<1:03:44,  8.08s/it]"
     ]
    },
    {
     "name": "stdout",
     "output_type": "stream",
     "text": [
      "On 61.36%\n",
      "time elapsed: 5321(s), time left: 3351(s), estimated finish time: 02:23:45\n"
     ]
    },
    {
     "name": "stderr",
     "output_type": "stream",
     "text": [
      "Processing rows:  61%|██████▏   | 752/1224 [1:28:48<1:01:50,  7.86s/it]"
     ]
    },
    {
     "name": "stdout",
     "output_type": "stream",
     "text": [
      "On 61.44%\n",
      "time elapsed: 5328(s), time left: 3344(s), estimated finish time: 02:23:45\n"
     ]
    },
    {
     "name": "stderr",
     "output_type": "stream",
     "text": [
      "Processing rows:  62%|██████▏   | 753/1224 [1:28:56<1:01:55,  7.89s/it]"
     ]
    },
    {
     "name": "stdout",
     "output_type": "stream",
     "text": [
      "On 61.52%\n",
      "time elapsed: 5336(s), time left: 3338(s), estimated finish time: 02:23:47\n"
     ]
    },
    {
     "name": "stderr",
     "output_type": "stream",
     "text": [
      "Processing rows:  62%|██████▏   | 754/1224 [1:29:04<1:01:36,  7.86s/it]"
     ]
    },
    {
     "name": "stdout",
     "output_type": "stream",
     "text": [
      "On 61.6%\n",
      "time elapsed: 5344(s), time left: 3331(s), estimated finish time: 02:23:48\n"
     ]
    },
    {
     "name": "stderr",
     "output_type": "stream",
     "text": [
      "Processing rows:  62%|██████▏   | 755/1224 [1:29:13<1:02:55,  8.05s/it]"
     ]
    },
    {
     "name": "stdout",
     "output_type": "stream",
     "text": [
      "On 61.68%\n",
      "time elapsed: 5353(s), time left: 3325(s), estimated finish time: 02:23:50\n"
     ]
    },
    {
     "name": "stderr",
     "output_type": "stream",
     "text": [
      "Processing rows:  62%|██████▏   | 756/1224 [1:29:20<1:01:07,  7.84s/it]"
     ]
    },
    {
     "name": "stdout",
     "output_type": "stream",
     "text": [
      "On 61.76%\n",
      "time elapsed: 5360(s), time left: 3318(s), estimated finish time: 02:23:51\n"
     ]
    },
    {
     "name": "stderr",
     "output_type": "stream",
     "text": [
      "Processing rows:  62%|██████▏   | 757/1224 [1:29:27<59:24,  7.63s/it]  "
     ]
    },
    {
     "name": "stdout",
     "output_type": "stream",
     "text": [
      "On 61.85%\n",
      "time elapsed: 5367(s), time left: 3311(s), estimated finish time: 02:23:51\n"
     ]
    },
    {
     "name": "stderr",
     "output_type": "stream",
     "text": [
      "Processing rows:  62%|██████▏   | 758/1224 [1:29:34<58:47,  7.57s/it]"
     ]
    },
    {
     "name": "stdout",
     "output_type": "stream",
     "text": [
      "On 61.93%\n",
      "time elapsed: 5375(s), time left: 3304(s), estimated finish time: 02:23:51\n"
     ]
    },
    {
     "name": "stderr",
     "output_type": "stream",
     "text": [
      "Processing rows:  62%|██████▏   | 759/1224 [1:29:44<1:02:43,  8.09s/it]"
     ]
    },
    {
     "name": "stdout",
     "output_type": "stream",
     "text": [
      "On 62.01%\n",
      "time elapsed: 5384(s), time left: 3298(s), estimated finish time: 02:23:55\n"
     ]
    },
    {
     "name": "stderr",
     "output_type": "stream",
     "text": [
      "Processing rows:  62%|██████▏   | 760/1224 [1:29:51<1:00:33,  7.83s/it]"
     ]
    },
    {
     "name": "stdout",
     "output_type": "stream",
     "text": [
      "On 62.09%\n",
      "time elapsed: 5391(s), time left: 3291(s), estimated finish time: 02:23:55\n"
     ]
    },
    {
     "name": "stderr",
     "output_type": "stream",
     "text": [
      "Processing rows:  62%|██████▏   | 761/1224 [1:29:58<58:47,  7.62s/it]  "
     ]
    },
    {
     "name": "stdout",
     "output_type": "stream",
     "text": [
      "On 62.17%\n",
      "time elapsed: 5398(s), time left: 3284(s), estimated finish time: 02:23:55\n"
     ]
    },
    {
     "name": "stderr",
     "output_type": "stream",
     "text": [
      "Processing rows:  62%|██████▏   | 762/1224 [1:30:05<57:49,  7.51s/it]"
     ]
    },
    {
     "name": "stdout",
     "output_type": "stream",
     "text": [
      "On 62.25%\n",
      "time elapsed: 5405(s), time left: 3277(s), estimated finish time: 02:23:55\n"
     ]
    },
    {
     "name": "stderr",
     "output_type": "stream",
     "text": [
      "Processing rows:  62%|██████▏   | 763/1224 [1:30:13<58:54,  7.67s/it]"
     ]
    },
    {
     "name": "stdout",
     "output_type": "stream",
     "text": [
      "On 62.34%\n",
      "time elapsed: 5413(s), time left: 3271(s), estimated finish time: 02:23:57\n"
     ]
    },
    {
     "name": "stderr",
     "output_type": "stream",
     "text": [
      "Processing rows:  62%|██████▏   | 764/1224 [1:30:21<59:40,  7.78s/it]"
     ]
    },
    {
     "name": "stdout",
     "output_type": "stream",
     "text": [
      "On 62.42%\n",
      "time elapsed: 5422(s), time left: 3264(s), estimated finish time: 02:23:58\n"
     ]
    },
    {
     "name": "stderr",
     "output_type": "stream",
     "text": [
      "Processing rows:  62%|██████▎   | 765/1224 [1:30:29<58:14,  7.61s/it]"
     ]
    },
    {
     "name": "stdout",
     "output_type": "stream",
     "text": [
      "On 62.5%\n",
      "time elapsed: 5429(s), time left: 3257(s), estimated finish time: 02:23:58\n"
     ]
    },
    {
     "name": "stderr",
     "output_type": "stream",
     "text": [
      "Processing rows:  63%|██████▎   | 766/1224 [1:30:37<58:46,  7.70s/it]"
     ]
    },
    {
     "name": "stdout",
     "output_type": "stream",
     "text": [
      "On 62.58%\n",
      "time elapsed: 5437(s), time left: 3250(s), estimated finish time: 02:24:00\n"
     ]
    },
    {
     "name": "stderr",
     "output_type": "stream",
     "text": [
      "Processing rows:  63%|██████▎   | 767/1224 [1:30:44<57:46,  7.58s/it]"
     ]
    },
    {
     "name": "stdout",
     "output_type": "stream",
     "text": [
      "On 62.66%\n",
      "time elapsed: 5444(s), time left: 3243(s), estimated finish time: 02:24:00\n"
     ]
    },
    {
     "name": "stderr",
     "output_type": "stream",
     "text": [
      "Processing rows:  63%|██████▎   | 768/1224 [1:30:52<59:42,  7.86s/it]"
     ]
    },
    {
     "name": "stdout",
     "output_type": "stream",
     "text": [
      "On 62.75%\n",
      "time elapsed: 5452(s), time left: 3237(s), estimated finish time: 02:24:02\n"
     ]
    },
    {
     "name": "stderr",
     "output_type": "stream",
     "text": [
      "Processing rows:  63%|██████▎   | 769/1224 [1:31:00<59:16,  7.82s/it]"
     ]
    },
    {
     "name": "stdout",
     "output_type": "stream",
     "text": [
      "On 62.83%\n",
      "time elapsed: 5460(s), time left: 3230(s), estimated finish time: 02:24:03\n"
     ]
    },
    {
     "name": "stderr",
     "output_type": "stream",
     "text": [
      "Processing rows:  63%|██████▎   | 770/1224 [1:31:09<1:00:42,  8.02s/it]"
     ]
    },
    {
     "name": "stdout",
     "output_type": "stream",
     "text": [
      "On 62.91%\n",
      "time elapsed: 5469(s), time left: 3224(s), estimated finish time: 02:24:06\n"
     ]
    },
    {
     "name": "stderr",
     "output_type": "stream",
     "text": [
      "Processing rows:  63%|██████▎   | 771/1224 [1:31:16<59:19,  7.86s/it]  "
     ]
    },
    {
     "name": "stdout",
     "output_type": "stream",
     "text": [
      "On 62.99%\n",
      "time elapsed: 5476(s), time left: 3217(s), estimated finish time: 02:24:06\n"
     ]
    },
    {
     "name": "stderr",
     "output_type": "stream",
     "text": [
      "Processing rows:  63%|██████▎   | 772/1224 [1:31:22<54:43,  7.26s/it]"
     ]
    },
    {
     "name": "stdout",
     "output_type": "stream",
     "text": [
      "On 63.07%\n",
      "time elapsed: 5482(s), time left: 3209(s), estimated finish time: 02:24:04\n"
     ]
    },
    {
     "name": "stderr",
     "output_type": "stream",
     "text": [
      "Processing rows:  63%|██████▎   | 773/1224 [1:31:29<55:04,  7.33s/it]"
     ]
    },
    {
     "name": "stdout",
     "output_type": "stream",
     "text": [
      "On 63.15%\n",
      "time elapsed: 5490(s), time left: 3203(s), estimated finish time: 02:24:05\n"
     ]
    },
    {
     "name": "stderr",
     "output_type": "stream",
     "text": [
      "Processing rows:  63%|██████▎   | 774/1224 [1:31:37<55:23,  7.39s/it]"
     ]
    },
    {
     "name": "stdout",
     "output_type": "stream",
     "text": [
      "On 63.24%\n",
      "time elapsed: 5497(s), time left: 3196(s), estimated finish time: 02:24:05\n"
     ]
    },
    {
     "name": "stderr",
     "output_type": "stream",
     "text": [
      "Processing rows:  63%|██████▎   | 775/1224 [1:31:45<57:11,  7.64s/it]"
     ]
    },
    {
     "name": "stdout",
     "output_type": "stream",
     "text": [
      "On 63.32%\n",
      "time elapsed: 5505(s), time left: 3189(s), estimated finish time: 02:24:07\n"
     ]
    },
    {
     "name": "stderr",
     "output_type": "stream",
     "text": [
      "Processing rows:  63%|██████▎   | 776/1224 [1:31:52<55:55,  7.49s/it]"
     ]
    },
    {
     "name": "stdout",
     "output_type": "stream",
     "text": [
      "On 63.4%\n",
      "time elapsed: 5512(s), time left: 3182(s), estimated finish time: 02:24:07\n"
     ]
    },
    {
     "name": "stderr",
     "output_type": "stream",
     "text": [
      "Processing rows:  63%|██████▎   | 777/1224 [1:31:59<54:51,  7.36s/it]"
     ]
    },
    {
     "name": "stdout",
     "output_type": "stream",
     "text": [
      "On 63.48%\n",
      "time elapsed: 5519(s), time left: 3175(s), estimated finish time: 02:24:07\n"
     ]
    },
    {
     "name": "stderr",
     "output_type": "stream",
     "text": [
      "Processing rows:  64%|██████▎   | 778/1224 [1:32:07<56:10,  7.56s/it]"
     ]
    },
    {
     "name": "stdout",
     "output_type": "stream",
     "text": [
      "On 63.56%\n",
      "time elapsed: 5527(s), time left: 3168(s), estimated finish time: 02:24:09\n"
     ]
    },
    {
     "name": "stderr",
     "output_type": "stream",
     "text": [
      "Processing rows:  64%|██████▎   | 779/1224 [1:32:15<55:14,  7.45s/it]"
     ]
    },
    {
     "name": "stdout",
     "output_type": "stream",
     "text": [
      "On 63.64%\n",
      "time elapsed: 5535(s), time left: 3161(s), estimated finish time: 02:24:09\n"
     ]
    },
    {
     "name": "stderr",
     "output_type": "stream",
     "text": [
      "Processing rows:  64%|██████▎   | 780/1224 [1:32:22<54:06,  7.31s/it]"
     ]
    },
    {
     "name": "stdout",
     "output_type": "stream",
     "text": [
      "On 63.73%\n",
      "time elapsed: 5542(s), time left: 3154(s), estimated finish time: 02:24:09\n"
     ]
    },
    {
     "name": "stderr",
     "output_type": "stream",
     "text": [
      "Processing rows:  64%|██████▍   | 781/1224 [1:32:29<54:15,  7.35s/it]"
     ]
    },
    {
     "name": "stdout",
     "output_type": "stream",
     "text": [
      "On 63.81%\n",
      "time elapsed: 5549(s), time left: 3147(s), estimated finish time: 02:24:09\n"
     ]
    },
    {
     "name": "stderr",
     "output_type": "stream",
     "text": [
      "Processing rows:  64%|██████▍   | 782/1224 [1:32:37<54:22,  7.38s/it]"
     ]
    },
    {
     "name": "stdout",
     "output_type": "stream",
     "text": [
      "On 63.89%\n",
      "time elapsed: 5557(s), time left: 3140(s), estimated finish time: 02:24:10\n"
     ]
    },
    {
     "name": "stderr",
     "output_type": "stream",
     "text": [
      "Processing rows:  64%|██████▍   | 783/1224 [1:32:44<55:15,  7.52s/it]"
     ]
    },
    {
     "name": "stdout",
     "output_type": "stream",
     "text": [
      "On 63.97%\n",
      "time elapsed: 5564(s), time left: 3134(s), estimated finish time: 02:24:11\n"
     ]
    },
    {
     "name": "stderr",
     "output_type": "stream",
     "text": [
      "Processing rows:  64%|██████▍   | 784/1224 [1:32:53<56:56,  7.77s/it]"
     ]
    },
    {
     "name": "stdout",
     "output_type": "stream",
     "text": [
      "On 64.05%\n",
      "time elapsed: 5573(s), time left: 3127(s), estimated finish time: 02:24:13\n"
     ]
    },
    {
     "name": "stderr",
     "output_type": "stream",
     "text": [
      "Processing rows:  64%|██████▍   | 785/1224 [1:33:01<58:18,  7.97s/it]"
     ]
    },
    {
     "name": "stdout",
     "output_type": "stream",
     "text": [
      "On 64.13%\n",
      "time elapsed: 5581(s), time left: 3121(s), estimated finish time: 02:24:15\n"
     ]
    },
    {
     "name": "stderr",
     "output_type": "stream",
     "text": [
      "Processing rows:  64%|██████▍   | 786/1224 [1:33:09<56:56,  7.80s/it]"
     ]
    },
    {
     "name": "stdout",
     "output_type": "stream",
     "text": [
      "On 64.22%\n",
      "time elapsed: 5589(s), time left: 3114(s), estimated finish time: 02:24:15\n"
     ]
    },
    {
     "name": "stderr",
     "output_type": "stream",
     "text": [
      "Processing rows:  64%|██████▍   | 787/1224 [1:33:16<56:48,  7.80s/it]"
     ]
    },
    {
     "name": "stdout",
     "output_type": "stream",
     "text": [
      "On 64.3%\n",
      "time elapsed: 5596(s), time left: 3107(s), estimated finish time: 02:24:16\n"
     ]
    },
    {
     "name": "stderr",
     "output_type": "stream",
     "text": [
      "Processing rows:  64%|██████▍   | 788/1224 [1:33:24<57:19,  7.89s/it]"
     ]
    },
    {
     "name": "stdout",
     "output_type": "stream",
     "text": [
      "On 64.38%\n",
      "time elapsed: 5604(s), time left: 3101(s), estimated finish time: 02:24:18\n"
     ]
    },
    {
     "name": "stderr",
     "output_type": "stream",
     "text": [
      "Processing rows:  64%|██████▍   | 789/1224 [1:33:32<55:55,  7.71s/it]"
     ]
    },
    {
     "name": "stdout",
     "output_type": "stream",
     "text": [
      "On 64.46%\n",
      "time elapsed: 5612(s), time left: 3094(s), estimated finish time: 02:24:18\n"
     ]
    },
    {
     "name": "stderr",
     "output_type": "stream",
     "text": [
      "Processing rows:  65%|██████▍   | 790/1224 [1:33:39<54:50,  7.58s/it]"
     ]
    },
    {
     "name": "stdout",
     "output_type": "stream",
     "text": [
      "On 64.54%\n",
      "time elapsed: 5619(s), time left: 3087(s), estimated finish time: 02:24:18\n"
     ]
    },
    {
     "name": "stderr",
     "output_type": "stream",
     "text": [
      "Processing rows:  65%|██████▍   | 791/1224 [1:33:47<55:23,  7.68s/it]"
     ]
    },
    {
     "name": "stdout",
     "output_type": "stream",
     "text": [
      "On 64.62%\n",
      "time elapsed: 5627(s), time left: 3080(s), estimated finish time: 02:24:20\n"
     ]
    },
    {
     "name": "stderr",
     "output_type": "stream",
     "text": [
      "Processing rows:  65%|██████▍   | 792/1224 [1:33:54<54:37,  7.59s/it]"
     ]
    },
    {
     "name": "stdout",
     "output_type": "stream",
     "text": [
      "On 64.71%\n",
      "time elapsed: 5634(s), time left: 3073(s), estimated finish time: 02:24:20\n"
     ]
    },
    {
     "name": "stderr",
     "output_type": "stream",
     "text": [
      "Processing rows:  65%|██████▍   | 793/1224 [1:34:03<56:04,  7.81s/it]"
     ]
    },
    {
     "name": "stdout",
     "output_type": "stream",
     "text": [
      "On 64.79%\n",
      "time elapsed: 5643(s), time left: 3067(s), estimated finish time: 02:24:22\n"
     ]
    },
    {
     "name": "stderr",
     "output_type": "stream",
     "text": [
      "Processing rows:  65%|██████▍   | 794/1224 [1:34:11<57:17,  7.99s/it]"
     ]
    },
    {
     "name": "stdout",
     "output_type": "stream",
     "text": [
      "On 64.87%\n",
      "time elapsed: 5651(s), time left: 3060(s), estimated finish time: 02:24:24\n"
     ]
    },
    {
     "name": "stderr",
     "output_type": "stream",
     "text": [
      "Processing rows:  65%|██████▍   | 795/1224 [1:34:22<1:03:19,  8.86s/it]"
     ]
    },
    {
     "name": "stdout",
     "output_type": "stream",
     "text": [
      "On 64.95%\n",
      "time elapsed: 5662(s), time left: 3055(s), estimated finish time: 02:24:30\n"
     ]
    },
    {
     "name": "stderr",
     "output_type": "stream",
     "text": [
      "Processing rows:  65%|██████▌   | 796/1224 [1:34:30<1:01:02,  8.56s/it]"
     ]
    },
    {
     "name": "stdout",
     "output_type": "stream",
     "text": [
      "On 65.03%\n",
      "time elapsed: 5670(s), time left: 3048(s), estimated finish time: 02:24:31\n"
     ]
    },
    {
     "name": "stderr",
     "output_type": "stream",
     "text": [
      "Processing rows:  65%|██████▌   | 797/1224 [1:34:39<1:02:14,  8.75s/it]"
     ]
    },
    {
     "name": "stdout",
     "output_type": "stream",
     "text": [
      "On 65.11%\n",
      "time elapsed: 5679(s), time left: 3042(s), estimated finish time: 02:24:34\n"
     ]
    },
    {
     "name": "stderr",
     "output_type": "stream",
     "text": [
      "Processing rows:  65%|██████▌   | 798/1224 [1:34:48<1:02:02,  8.74s/it]"
     ]
    },
    {
     "name": "stdout",
     "output_type": "stream",
     "text": [
      "On 65.2%\n",
      "time elapsed: 5688(s), time left: 3036(s), estimated finish time: 02:24:37\n"
     ]
    },
    {
     "name": "stderr",
     "output_type": "stream",
     "text": [
      "Processing rows:  65%|██████▌   | 799/1224 [1:34:58<1:04:27,  9.10s/it]"
     ]
    },
    {
     "name": "stdout",
     "output_type": "stream",
     "text": [
      "On 65.28%\n",
      "time elapsed: 5698(s), time left: 3030(s), estimated finish time: 02:24:41\n"
     ]
    },
    {
     "name": "stderr",
     "output_type": "stream",
     "text": [
      "Processing rows:  65%|██████▌   | 800/1224 [1:35:08<1:07:49,  9.60s/it]"
     ]
    },
    {
     "name": "stdout",
     "output_type": "stream",
     "text": [
      "On 65.36%\n",
      "time elapsed: 5708(s), time left: 3025(s), estimated finish time: 02:24:46\n"
     ]
    },
    {
     "name": "stderr",
     "output_type": "stream",
     "text": [
      "Processing rows:  65%|██████▌   | 801/1224 [1:35:19<1:09:01,  9.79s/it]"
     ]
    },
    {
     "name": "stdout",
     "output_type": "stream",
     "text": [
      "On 65.44%\n",
      "time elapsed: 5719(s), time left: 3020(s), estimated finish time: 02:24:51\n"
     ]
    },
    {
     "name": "stderr",
     "output_type": "stream",
     "text": [
      "Processing rows:  66%|██████▌   | 802/1224 [1:35:29<1:09:54,  9.94s/it]"
     ]
    },
    {
     "name": "stdout",
     "output_type": "stream",
     "text": [
      "On 65.52%\n",
      "time elapsed: 5729(s), time left: 3014(s), estimated finish time: 02:24:56\n"
     ]
    },
    {
     "name": "stderr",
     "output_type": "stream",
     "text": [
      "Processing rows:  66%|██████▌   | 803/1224 [1:35:39<1:09:27,  9.90s/it]"
     ]
    },
    {
     "name": "stdout",
     "output_type": "stream",
     "text": [
      "On 65.6%\n",
      "time elapsed: 5739(s), time left: 3009(s), estimated finish time: 02:25:00\n"
     ]
    },
    {
     "name": "stderr",
     "output_type": "stream",
     "text": [
      "Processing rows:  66%|██████▌   | 804/1224 [1:35:47<1:05:03,  9.29s/it]"
     ]
    },
    {
     "name": "stdout",
     "output_type": "stream",
     "text": [
      "On 65.69%\n",
      "time elapsed: 5747(s), time left: 3002(s), estimated finish time: 02:25:01\n"
     ]
    },
    {
     "name": "stderr",
     "output_type": "stream",
     "text": [
      "Processing rows:  66%|██████▌   | 805/1224 [1:35:55<1:03:30,  9.09s/it]"
     ]
    },
    {
     "name": "stdout",
     "output_type": "stream",
     "text": [
      "On 65.77%\n",
      "time elapsed: 5755(s), time left: 2995(s), estimated finish time: 02:25:03\n"
     ]
    },
    {
     "name": "stderr",
     "output_type": "stream",
     "text": [
      "Processing rows:  66%|██████▌   | 806/1224 [1:36:04<1:03:14,  9.08s/it]"
     ]
    },
    {
     "name": "stdout",
     "output_type": "stream",
     "text": [
      "On 65.85%\n",
      "time elapsed: 5764(s), time left: 2989(s), estimated finish time: 02:25:06\n"
     ]
    },
    {
     "name": "stderr",
     "output_type": "stream",
     "text": [
      "Processing rows:  66%|██████▌   | 807/1224 [1:36:14<1:05:07,  9.37s/it]"
     ]
    },
    {
     "name": "stdout",
     "output_type": "stream",
     "text": [
      "On 65.93%\n",
      "time elapsed: 5774(s), time left: 2984(s), estimated finish time: 02:25:11\n"
     ]
    },
    {
     "name": "stderr",
     "output_type": "stream",
     "text": [
      "Processing rows:  66%|██████▌   | 808/1224 [1:36:23<1:03:21,  9.14s/it]"
     ]
    },
    {
     "name": "stdout",
     "output_type": "stream",
     "text": [
      "On 66.01%\n",
      "time elapsed: 5783(s), time left: 2977(s), estimated finish time: 02:25:13\n"
     ]
    },
    {
     "name": "stderr",
     "output_type": "stream",
     "text": [
      "Processing rows:  66%|██████▌   | 809/1224 [1:36:31<1:01:42,  8.92s/it]"
     ]
    },
    {
     "name": "stdout",
     "output_type": "stream",
     "text": [
      "On 66.09%\n",
      "time elapsed: 5791(s), time left: 2971(s), estimated finish time: 02:25:15\n"
     ]
    },
    {
     "name": "stderr",
     "output_type": "stream",
     "text": [
      "Processing rows:  66%|██████▌   | 810/1224 [1:36:40<1:01:16,  8.88s/it]"
     ]
    },
    {
     "name": "stdout",
     "output_type": "stream",
     "text": [
      "On 66.18%\n",
      "time elapsed: 5800(s), time left: 2964(s), estimated finish time: 02:25:17\n"
     ]
    },
    {
     "name": "stderr",
     "output_type": "stream",
     "text": [
      "Processing rows:  66%|██████▋   | 811/1224 [1:36:48<1:00:05,  8.73s/it]"
     ]
    },
    {
     "name": "stdout",
     "output_type": "stream",
     "text": [
      "On 66.26%\n",
      "time elapsed: 5809(s), time left: 2958(s), estimated finish time: 02:25:19\n"
     ]
    },
    {
     "name": "stderr",
     "output_type": "stream",
     "text": [
      "Processing rows:  66%|██████▋   | 812/1224 [1:36:56<58:19,  8.49s/it]  "
     ]
    },
    {
     "name": "stdout",
     "output_type": "stream",
     "text": [
      "On 66.34%\n",
      "time elapsed: 5816(s), time left: 2951(s), estimated finish time: 02:25:20\n"
     ]
    },
    {
     "name": "stderr",
     "output_type": "stream",
     "text": [
      "Processing rows:  66%|██████▋   | 813/1224 [1:37:04<57:16,  8.36s/it]"
     ]
    },
    {
     "name": "stdout",
     "output_type": "stream",
     "text": [
      "On 66.42%\n",
      "time elapsed: 5825(s), time left: 2944(s), estimated finish time: 02:25:22\n"
     ]
    },
    {
     "name": "stderr",
     "output_type": "stream",
     "text": [
      "Processing rows:  67%|██████▋   | 814/1224 [1:37:14<1:00:19,  8.83s/it]"
     ]
    },
    {
     "name": "stdout",
     "output_type": "stream",
     "text": [
      "On 66.5%\n",
      "time elapsed: 5834(s), time left: 2938(s), estimated finish time: 02:25:26\n"
     ]
    },
    {
     "name": "stderr",
     "output_type": "stream",
     "text": [
      "Processing rows:  67%|██████▋   | 815/1224 [1:37:23<59:18,  8.70s/it]  "
     ]
    },
    {
     "name": "stdout",
     "output_type": "stream",
     "text": [
      "On 66.58%\n",
      "time elapsed: 5843(s), time left: 2932(s), estimated finish time: 02:25:27\n"
     ]
    },
    {
     "name": "stderr",
     "output_type": "stream",
     "text": [
      "Processing rows:  67%|██████▋   | 816/1224 [1:37:32<1:01:02,  8.98s/it]"
     ]
    },
    {
     "name": "stdout",
     "output_type": "stream",
     "text": [
      "On 66.67%\n",
      "time elapsed: 5852(s), time left: 2926(s), estimated finish time: 02:25:31\n"
     ]
    },
    {
     "name": "stderr",
     "output_type": "stream",
     "text": [
      "Processing rows:  67%|██████▋   | 817/1224 [1:37:41<1:00:09,  8.87s/it]"
     ]
    },
    {
     "name": "stdout",
     "output_type": "stream",
     "text": [
      "On 66.75%\n",
      "time elapsed: 5861(s), time left: 2920(s), estimated finish time: 02:25:33\n"
     ]
    },
    {
     "name": "stderr",
     "output_type": "stream",
     "text": [
      "Processing rows:  67%|██████▋   | 818/1224 [1:37:51<1:02:11,  9.19s/it]"
     ]
    },
    {
     "name": "stdout",
     "output_type": "stream",
     "text": [
      "On 66.83%\n",
      "time elapsed: 5871(s), time left: 2914(s), estimated finish time: 02:25:37\n"
     ]
    },
    {
     "name": "stderr",
     "output_type": "stream",
     "text": [
      "Processing rows:  67%|██████▋   | 819/1224 [1:38:00<1:02:39,  9.28s/it]"
     ]
    },
    {
     "name": "stdout",
     "output_type": "stream",
     "text": [
      "On 66.91%\n",
      "time elapsed: 5881(s), time left: 2908(s), estimated finish time: 02:25:41\n"
     ]
    },
    {
     "name": "stderr",
     "output_type": "stream",
     "text": [
      "Processing rows:  67%|██████▋   | 820/1224 [1:38:10<1:02:55,  9.35s/it]"
     ]
    },
    {
     "name": "stdout",
     "output_type": "stream",
     "text": [
      "On 66.99%\n",
      "time elapsed: 5890(s), time left: 2902(s), estimated finish time: 02:25:44\n"
     ]
    },
    {
     "name": "stderr",
     "output_type": "stream",
     "text": [
      "Processing rows:  67%|██████▋   | 821/1224 [1:38:21<1:06:01,  9.83s/it]"
     ]
    },
    {
     "name": "stdout",
     "output_type": "stream",
     "text": [
      "On 67.08%\n",
      "time elapsed: 5901(s), time left: 2896(s), estimated finish time: 02:25:50\n"
     ]
    },
    {
     "name": "stderr",
     "output_type": "stream",
     "text": [
      "Processing rows:  67%|██████▋   | 822/1224 [1:38:30<1:04:10,  9.58s/it]"
     ]
    },
    {
     "name": "stdout",
     "output_type": "stream",
     "text": [
      "On 67.16%\n",
      "time elapsed: 5910(s), time left: 2890(s), estimated finish time: 02:25:53\n"
     ]
    },
    {
     "name": "stderr",
     "output_type": "stream",
     "text": [
      "Processing rows:  67%|██████▋   | 823/1224 [1:38:39<1:02:24,  9.34s/it]"
     ]
    },
    {
     "name": "stdout",
     "output_type": "stream",
     "text": [
      "On 67.24%\n",
      "time elapsed: 5919(s), time left: 2884(s), estimated finish time: 02:25:55\n"
     ]
    },
    {
     "name": "stderr",
     "output_type": "stream",
     "text": [
      "Processing rows:  67%|██████▋   | 824/1224 [1:38:49<1:04:36,  9.69s/it]"
     ]
    },
    {
     "name": "stdout",
     "output_type": "stream",
     "text": [
      "On 67.32%\n",
      "time elapsed: 5929(s), time left: 2878(s), estimated finish time: 02:26:00\n"
     ]
    },
    {
     "name": "stderr",
     "output_type": "stream",
     "text": [
      "Processing rows:  67%|██████▋   | 825/1224 [1:38:59<1:05:17,  9.82s/it]"
     ]
    },
    {
     "name": "stdout",
     "output_type": "stream",
     "text": [
      "On 67.4%\n",
      "time elapsed: 5939(s), time left: 2872(s), estimated finish time: 02:26:04\n"
     ]
    },
    {
     "name": "stderr",
     "output_type": "stream",
     "text": [
      "Processing rows:  67%|██████▋   | 826/1224 [1:39:07<1:01:21,  9.25s/it]"
     ]
    },
    {
     "name": "stdout",
     "output_type": "stream",
     "text": [
      "On 67.48%\n",
      "time elapsed: 5947(s), time left: 2865(s), estimated finish time: 02:26:05\n"
     ]
    },
    {
     "name": "stderr",
     "output_type": "stream",
     "text": [
      "Processing rows:  68%|██████▊   | 827/1224 [1:39:18<1:04:05,  9.69s/it]"
     ]
    },
    {
     "name": "stdout",
     "output_type": "stream",
     "text": [
      "On 67.57%\n",
      "time elapsed: 5958(s), time left: 2860(s), estimated finish time: 02:26:11\n"
     ]
    },
    {
     "name": "stderr",
     "output_type": "stream",
     "text": [
      "Processing rows:  68%|██████▊   | 828/1224 [1:39:28<1:04:19,  9.75s/it]"
     ]
    },
    {
     "name": "stdout",
     "output_type": "stream",
     "text": [
      "On 67.65%\n",
      "time elapsed: 5968(s), time left: 2854(s), estimated finish time: 02:26:15\n"
     ]
    },
    {
     "name": "stderr",
     "output_type": "stream",
     "text": [
      "Processing rows:  68%|██████▊   | 829/1224 [1:39:35<59:06,  8.98s/it]  "
     ]
    },
    {
     "name": "stdout",
     "output_type": "stream",
     "text": [
      "On 67.73%\n",
      "time elapsed: 5975(s), time left: 2847(s), estimated finish time: 02:26:15\n"
     ]
    },
    {
     "name": "stderr",
     "output_type": "stream",
     "text": [
      "Processing rows:  68%|██████▊   | 830/1224 [1:39:45<1:00:10,  9.16s/it]"
     ]
    },
    {
     "name": "stdout",
     "output_type": "stream",
     "text": [
      "On 67.81%\n",
      "time elapsed: 5985(s), time left: 2841(s), estimated finish time: 02:26:18\n"
     ]
    },
    {
     "name": "stderr",
     "output_type": "stream",
     "text": [
      "Processing rows:  68%|██████▊   | 831/1224 [1:39:54<1:00:56,  9.30s/it]"
     ]
    },
    {
     "name": "stdout",
     "output_type": "stream",
     "text": [
      "On 67.89%\n",
      "time elapsed: 5994(s), time left: 2835(s), estimated finish time: 02:26:22\n"
     ]
    },
    {
     "name": "stderr",
     "output_type": "stream",
     "text": [
      "Processing rows:  68%|██████▊   | 832/1224 [1:40:00<54:14,  8.30s/it]  "
     ]
    },
    {
     "name": "stdout",
     "output_type": "stream",
     "text": [
      "On 67.97%\n",
      "time elapsed: 6000(s), time left: 2827(s), estimated finish time: 02:26:20\n"
     ]
    },
    {
     "name": "stderr",
     "output_type": "stream",
     "text": [
      "Processing rows:  68%|██████▊   | 833/1224 [1:40:08<52:21,  8.04s/it]"
     ]
    },
    {
     "name": "stdout",
     "output_type": "stream",
     "text": [
      "On 68.06%\n",
      "time elapsed: 6008(s), time left: 2820(s), estimated finish time: 02:26:20\n"
     ]
    },
    {
     "name": "stderr",
     "output_type": "stream",
     "text": [
      "Processing rows:  68%|██████▊   | 834/1224 [1:40:14<48:16,  7.43s/it]"
     ]
    },
    {
     "name": "stdout",
     "output_type": "stream",
     "text": [
      "On 68.14%\n",
      "time elapsed: 6014(s), time left: 2812(s), estimated finish time: 02:26:18\n"
     ]
    },
    {
     "name": "stderr",
     "output_type": "stream",
     "text": [
      "Processing rows:  68%|██████▊   | 835/1224 [1:40:22<50:00,  7.71s/it]"
     ]
    },
    {
     "name": "stdout",
     "output_type": "stream",
     "text": [
      "On 68.22%\n",
      "time elapsed: 6022(s), time left: 2805(s), estimated finish time: 02:26:20\n"
     ]
    },
    {
     "name": "stderr",
     "output_type": "stream",
     "text": [
      "Processing rows:  68%|██████▊   | 836/1224 [1:40:28<46:30,  7.19s/it]"
     ]
    },
    {
     "name": "stdout",
     "output_type": "stream",
     "text": [
      "On 68.3%\n",
      "time elapsed: 6028(s), time left: 2797(s), estimated finish time: 02:26:18\n"
     ]
    },
    {
     "name": "stderr",
     "output_type": "stream",
     "text": [
      "Processing rows:  68%|██████▊   | 837/1224 [1:40:33<42:51,  6.64s/it]"
     ]
    },
    {
     "name": "stdout",
     "output_type": "stream",
     "text": [
      "On 68.38%\n",
      "time elapsed: 6033(s), time left: 2789(s), estimated finish time: 02:26:16\n"
     ]
    },
    {
     "name": "stderr",
     "output_type": "stream",
     "text": [
      "Processing rows:  68%|██████▊   | 838/1224 [1:40:38<38:22,  5.97s/it]"
     ]
    },
    {
     "name": "stdout",
     "output_type": "stream",
     "text": [
      "On 68.46%\n",
      "time elapsed: 6038(s), time left: 2781(s), estimated finish time: 02:26:11\n"
     ]
    },
    {
     "name": "stderr",
     "output_type": "stream",
     "text": [
      "Processing rows:  69%|██████▊   | 839/1224 [1:40:47<45:24,  7.08s/it]"
     ]
    },
    {
     "name": "stdout",
     "output_type": "stream",
     "text": [
      "On 68.55%\n",
      "time elapsed: 6047(s), time left: 2775(s), estimated finish time: 02:26:15\n"
     ]
    },
    {
     "name": "stderr",
     "output_type": "stream",
     "text": [
      "Processing rows:  69%|██████▊   | 840/1224 [1:40:54<44:57,  7.02s/it]"
     ]
    },
    {
     "name": "stdout",
     "output_type": "stream",
     "text": [
      "On 68.63%\n",
      "time elapsed: 6054(s), time left: 2767(s), estimated finish time: 02:26:15\n"
     ]
    },
    {
     "name": "stderr",
     "output_type": "stream",
     "text": [
      "Processing rows:  69%|██████▊   | 841/1224 [1:41:00<42:48,  6.71s/it]"
     ]
    },
    {
     "name": "stdout",
     "output_type": "stream",
     "text": [
      "On 68.71%\n",
      "time elapsed: 6060(s), time left: 2760(s), estimated finish time: 02:26:13\n"
     ]
    },
    {
     "name": "stderr",
     "output_type": "stream",
     "text": [
      "Processing rows:  69%|██████▉   | 842/1224 [1:41:07<42:13,  6.63s/it]"
     ]
    },
    {
     "name": "stdout",
     "output_type": "stream",
     "text": [
      "On 68.79%\n",
      "time elapsed: 6067(s), time left: 2752(s), estimated finish time: 02:26:12\n"
     ]
    },
    {
     "name": "stderr",
     "output_type": "stream",
     "text": [
      "Processing rows:  69%|██████▉   | 843/1224 [1:41:14<43:24,  6.84s/it]"
     ]
    },
    {
     "name": "stdout",
     "output_type": "stream",
     "text": [
      "On 68.87%\n",
      "time elapsed: 6074(s), time left: 2745(s), estimated finish time: 02:26:12\n"
     ]
    },
    {
     "name": "stderr",
     "output_type": "stream",
     "text": [
      "Processing rows:  69%|██████▉   | 844/1224 [1:41:24<48:54,  7.72s/it]"
     ]
    },
    {
     "name": "stdout",
     "output_type": "stream",
     "text": [
      "On 68.95%\n",
      "time elapsed: 6084(s), time left: 2739(s), estimated finish time: 02:26:16\n"
     ]
    },
    {
     "name": "stderr",
     "output_type": "stream",
     "text": [
      "Processing rows:  69%|██████▉   | 845/1224 [1:41:30<45:58,  7.28s/it]"
     ]
    },
    {
     "name": "stdout",
     "output_type": "stream",
     "text": [
      "On 69.04%\n",
      "time elapsed: 6090(s), time left: 2731(s), estimated finish time: 02:26:14\n"
     ]
    },
    {
     "name": "stderr",
     "output_type": "stream",
     "text": [
      "Processing rows:  69%|██████▉   | 846/1224 [1:41:35<42:02,  6.67s/it]"
     ]
    },
    {
     "name": "stdout",
     "output_type": "stream",
     "text": [
      "On 69.12%\n",
      "time elapsed: 6095(s), time left: 2723(s), estimated finish time: 02:26:11\n"
     ]
    },
    {
     "name": "stderr",
     "output_type": "stream",
     "text": [
      "Processing rows:  69%|██████▉   | 847/1224 [1:41:42<41:30,  6.61s/it]"
     ]
    },
    {
     "name": "stdout",
     "output_type": "stream",
     "text": [
      "On 69.2%\n",
      "time elapsed: 6102(s), time left: 2716(s), estimated finish time: 02:26:10\n"
     ]
    },
    {
     "name": "stderr",
     "output_type": "stream",
     "text": [
      "Processing rows:  69%|██████▉   | 848/1224 [1:41:51<47:03,  7.51s/it]"
     ]
    },
    {
     "name": "stdout",
     "output_type": "stream",
     "text": [
      "On 69.28%\n",
      "time elapsed: 6111(s), time left: 2710(s), estimated finish time: 02:26:14\n"
     ]
    },
    {
     "name": "stderr",
     "output_type": "stream",
     "text": [
      "Processing rows:  69%|██████▉   | 849/1224 [1:41:56<41:08,  6.58s/it]"
     ]
    },
    {
     "name": "stdout",
     "output_type": "stream",
     "text": [
      "On 69.36%\n",
      "time elapsed: 6116(s), time left: 2701(s), estimated finish time: 02:26:10\n"
     ]
    },
    {
     "name": "stderr",
     "output_type": "stream",
     "text": [
      "Processing rows:  69%|██████▉   | 850/1224 [1:42:02<39:27,  6.33s/it]"
     ]
    },
    {
     "name": "stdout",
     "output_type": "stream",
     "text": [
      "On 69.44%\n",
      "time elapsed: 6122(s), time left: 2693(s), estimated finish time: 02:26:08\n"
     ]
    },
    {
     "name": "stderr",
     "output_type": "stream",
     "text": [
      "Processing rows:  70%|██████▉   | 851/1224 [1:42:07<37:55,  6.10s/it]"
     ]
    },
    {
     "name": "stdout",
     "output_type": "stream",
     "text": [
      "On 69.53%\n",
      "time elapsed: 6127(s), time left: 2685(s), estimated finish time: 02:26:05\n"
     ]
    },
    {
     "name": "stderr",
     "output_type": "stream",
     "text": [
      "Processing rows:  70%|██████▉   | 852/1224 [1:42:14<39:09,  6.32s/it]"
     ]
    },
    {
     "name": "stdout",
     "output_type": "stream",
     "text": [
      "On 69.61%\n",
      "time elapsed: 6134(s), time left: 2678(s), estimated finish time: 02:26:05\n"
     ]
    },
    {
     "name": "stderr",
     "output_type": "stream",
     "text": [
      "Processing rows:  70%|██████▉   | 853/1224 [1:42:24<45:18,  7.33s/it]"
     ]
    },
    {
     "name": "stdout",
     "output_type": "stream",
     "text": [
      "On 69.69%\n",
      "time elapsed: 6144(s), time left: 2672(s), estimated finish time: 02:26:08\n"
     ]
    },
    {
     "name": "stderr",
     "output_type": "stream",
     "text": [
      "Processing rows:  70%|██████▉   | 854/1224 [1:42:31<45:15,  7.34s/it]"
     ]
    },
    {
     "name": "stdout",
     "output_type": "stream",
     "text": [
      "On 69.77%\n",
      "time elapsed: 6151(s), time left: 2665(s), estimated finish time: 02:26:08\n"
     ]
    },
    {
     "name": "stderr",
     "output_type": "stream",
     "text": [
      "Processing rows:  70%|██████▉   | 855/1224 [1:42:40<47:16,  7.69s/it]"
     ]
    },
    {
     "name": "stdout",
     "output_type": "stream",
     "text": [
      "On 69.85%\n",
      "time elapsed: 6160(s), time left: 2658(s), estimated finish time: 02:26:10\n"
     ]
    },
    {
     "name": "stderr",
     "output_type": "stream",
     "text": [
      "Processing rows:  70%|██████▉   | 856/1224 [1:42:49<50:17,  8.20s/it]"
     ]
    },
    {
     "name": "stdout",
     "output_type": "stream",
     "text": [
      "On 69.93%\n",
      "time elapsed: 6169(s), time left: 2652(s), estimated finish time: 02:26:13\n"
     ]
    },
    {
     "name": "stderr",
     "output_type": "stream",
     "text": [
      "Processing rows:  70%|███████   | 857/1224 [1:42:56<47:45,  7.81s/it]"
     ]
    },
    {
     "name": "stdout",
     "output_type": "stream",
     "text": [
      "On 70.02%\n",
      "time elapsed: 6176(s), time left: 2644(s), estimated finish time: 02:26:13\n"
     ]
    },
    {
     "name": "stderr",
     "output_type": "stream",
     "text": [
      "Processing rows:  70%|███████   | 858/1224 [1:43:05<50:45,  8.32s/it]"
     ]
    },
    {
     "name": "stdout",
     "output_type": "stream",
     "text": [
      "On 70.1%\n",
      "time elapsed: 6185(s), time left: 2638(s), estimated finish time: 02:26:16\n"
     ]
    },
    {
     "name": "stderr",
     "output_type": "stream",
     "text": [
      "Processing rows:  70%|███████   | 859/1224 [1:43:12<48:21,  7.95s/it]"
     ]
    },
    {
     "name": "stdout",
     "output_type": "stream",
     "text": [
      "On 70.18%\n",
      "time elapsed: 6192(s), time left: 2631(s), estimated finish time: 02:26:16\n"
     ]
    },
    {
     "name": "stderr",
     "output_type": "stream",
     "text": [
      "Processing rows:  70%|███████   | 860/1224 [1:43:19<46:18,  7.63s/it]"
     ]
    },
    {
     "name": "stdout",
     "output_type": "stream",
     "text": [
      "On 70.26%\n",
      "time elapsed: 6199(s), time left: 2624(s), estimated finish time: 02:26:16\n"
     ]
    },
    {
     "name": "stderr",
     "output_type": "stream",
     "text": [
      "Processing rows:  70%|███████   | 861/1224 [1:43:24<40:16,  6.66s/it]"
     ]
    },
    {
     "name": "stdout",
     "output_type": "stream",
     "text": [
      "On 70.34%\n",
      "time elapsed: 6204(s), time left: 2615(s), estimated finish time: 02:26:12\n"
     ]
    },
    {
     "name": "stderr",
     "output_type": "stream",
     "text": [
      "Processing rows:  70%|███████   | 862/1224 [1:43:32<42:42,  7.08s/it]"
     ]
    },
    {
     "name": "stdout",
     "output_type": "stream",
     "text": [
      "On 70.42%\n",
      "time elapsed: 6212(s), time left: 2608(s), estimated finish time: 02:26:13\n"
     ]
    },
    {
     "name": "stderr",
     "output_type": "stream",
     "text": [
      "Processing rows:  71%|███████   | 863/1224 [1:43:40<45:08,  7.50s/it]"
     ]
    },
    {
     "name": "stdout",
     "output_type": "stream",
     "text": [
      "On 70.51%\n",
      "time elapsed: 6220(s), time left: 2602(s), estimated finish time: 02:26:15\n"
     ]
    },
    {
     "name": "stderr",
     "output_type": "stream",
     "text": [
      "Processing rows:  71%|███████   | 864/1224 [1:43:47<43:44,  7.29s/it]"
     ]
    },
    {
     "name": "stdout",
     "output_type": "stream",
     "text": [
      "On 70.59%\n",
      "time elapsed: 6227(s), time left: 2594(s), estimated finish time: 02:26:14\n"
     ]
    },
    {
     "name": "stderr",
     "output_type": "stream",
     "text": [
      "Processing rows:  71%|███████   | 865/1224 [1:43:56<46:06,  7.71s/it]"
     ]
    },
    {
     "name": "stdout",
     "output_type": "stream",
     "text": [
      "On 70.67%\n",
      "time elapsed: 6236(s), time left: 2588(s), estimated finish time: 02:26:16\n"
     ]
    },
    {
     "name": "stderr",
     "output_type": "stream",
     "text": [
      "Processing rows:  71%|███████   | 866/1224 [1:44:04<46:15,  7.75s/it]"
     ]
    },
    {
     "name": "stdout",
     "output_type": "stream",
     "text": [
      "On 70.75%\n",
      "time elapsed: 6244(s), time left: 2581(s), estimated finish time: 02:26:17\n"
     ]
    },
    {
     "name": "stderr",
     "output_type": "stream",
     "text": [
      "Processing rows:  71%|███████   | 867/1224 [1:44:08<39:19,  6.61s/it]"
     ]
    },
    {
     "name": "stdout",
     "output_type": "stream",
     "text": [
      "On 70.83%\n",
      "time elapsed: 6248(s), time left: 2572(s), estimated finish time: 02:26:12\n"
     ]
    },
    {
     "name": "stderr",
     "output_type": "stream",
     "text": [
      "Processing rows:  71%|███████   | 868/1224 [1:44:24<56:55,  9.59s/it]"
     ]
    },
    {
     "name": "stdout",
     "output_type": "stream",
     "text": [
      "On 70.92%\n",
      "time elapsed: 6264(s), time left: 2569(s), estimated finish time: 02:26:26\n"
     ]
    },
    {
     "name": "stderr",
     "output_type": "stream",
     "text": [
      "Processing rows:  71%|███████   | 869/1224 [1:44:28<46:37,  7.88s/it]"
     ]
    },
    {
     "name": "stdout",
     "output_type": "stream",
     "text": [
      "On 71.0%\n",
      "time elapsed: 6268(s), time left: 2560(s), estimated finish time: 02:26:21\n"
     ]
    },
    {
     "name": "stderr",
     "output_type": "stream",
     "text": [
      "Processing rows:  71%|███████   | 870/1224 [1:44:32<40:11,  6.81s/it]"
     ]
    },
    {
     "name": "stdout",
     "output_type": "stream",
     "text": [
      "On 71.08%\n",
      "time elapsed: 6272(s), time left: 2552(s), estimated finish time: 02:26:17\n"
     ]
    },
    {
     "name": "stderr",
     "output_type": "stream",
     "text": [
      "Processing rows:  71%|███████   | 871/1224 [1:44:40<41:50,  7.11s/it]"
     ]
    },
    {
     "name": "stdout",
     "output_type": "stream",
     "text": [
      "On 71.16%\n",
      "time elapsed: 6280(s), time left: 2545(s), estimated finish time: 02:26:18\n"
     ]
    },
    {
     "name": "stderr",
     "output_type": "stream",
     "text": [
      "Processing rows:  71%|███████   | 872/1224 [1:44:49<44:53,  7.65s/it]"
     ]
    },
    {
     "name": "stdout",
     "output_type": "stream",
     "text": [
      "On 71.24%\n",
      "time elapsed: 6289(s), time left: 2538(s), estimated finish time: 02:26:20\n"
     ]
    },
    {
     "name": "stderr",
     "output_type": "stream",
     "text": [
      "Processing rows:  71%|███████▏  | 873/1224 [1:45:01<51:33,  8.81s/it]"
     ]
    },
    {
     "name": "stdout",
     "output_type": "stream",
     "text": [
      "On 71.32%\n",
      "time elapsed: 6301(s), time left: 2533(s), estimated finish time: 02:26:26\n"
     ]
    },
    {
     "name": "stderr",
     "output_type": "stream",
     "text": [
      "Processing rows:  71%|███████▏  | 874/1224 [1:45:04<41:56,  7.19s/it]"
     ]
    },
    {
     "name": "stdout",
     "output_type": "stream",
     "text": [
      "On 71.41%\n",
      "time elapsed: 6304(s), time left: 2524(s), estimated finish time: 02:26:21\n"
     ]
    },
    {
     "name": "stderr",
     "output_type": "stream",
     "text": [
      "Processing rows:  71%|███████▏  | 875/1224 [1:45:11<41:25,  7.12s/it]"
     ]
    },
    {
     "name": "stdout",
     "output_type": "stream",
     "text": [
      "On 71.49%\n",
      "time elapsed: 6311(s), time left: 2517(s), estimated finish time: 02:26:21\n"
     ]
    },
    {
     "name": "stderr",
     "output_type": "stream",
     "text": [
      "Processing rows:  72%|███████▏  | 876/1224 [1:45:15<36:15,  6.25s/it]"
     ]
    },
    {
     "name": "stdout",
     "output_type": "stream",
     "text": [
      "On 71.57%\n",
      "time elapsed: 6315(s), time left: 2508(s), estimated finish time: 02:26:16\n"
     ]
    },
    {
     "name": "stderr",
     "output_type": "stream",
     "text": [
      "Processing rows:  72%|███████▏  | 877/1224 [1:45:19<31:15,  5.41s/it]"
     ]
    },
    {
     "name": "stdout",
     "output_type": "stream",
     "text": [
      "On 71.65%\n",
      "time elapsed: 6319(s), time left: 2500(s), estimated finish time: 02:26:11\n"
     ]
    },
    {
     "name": "stderr",
     "output_type": "stream",
     "text": [
      "Processing rows:  72%|███████▏  | 878/1224 [1:45:29<39:29,  6.85s/it]"
     ]
    },
    {
     "name": "stdout",
     "output_type": "stream",
     "text": [
      "On 71.73%\n",
      "time elapsed: 6329(s), time left: 2494(s), estimated finish time: 02:26:15\n"
     ]
    },
    {
     "name": "stderr",
     "output_type": "stream",
     "text": [
      "Processing rows:  72%|███████▏  | 879/1224 [1:45:37<42:14,  7.35s/it]"
     ]
    },
    {
     "name": "stdout",
     "output_type": "stream",
     "text": [
      "On 71.81%\n",
      "time elapsed: 6337(s), time left: 2487(s), estimated finish time: 02:26:17\n"
     ]
    },
    {
     "name": "stderr",
     "output_type": "stream",
     "text": [
      "Processing rows:  72%|███████▏  | 880/1224 [1:45:41<35:07,  6.13s/it]"
     ]
    },
    {
     "name": "stdout",
     "output_type": "stream",
     "text": [
      "On 71.9%\n",
      "time elapsed: 6341(s), time left: 2478(s), estimated finish time: 02:26:12\n"
     ]
    },
    {
     "name": "stderr",
     "output_type": "stream",
     "text": [
      "Processing rows:  72%|███████▏  | 881/1224 [1:45:49<38:24,  6.72s/it]"
     ]
    },
    {
     "name": "stdout",
     "output_type": "stream",
     "text": [
      "On 71.98%\n",
      "time elapsed: 6349(s), time left: 2471(s), estimated finish time: 02:26:13\n"
     ]
    },
    {
     "name": "stderr",
     "output_type": "stream",
     "text": [
      "Processing rows:  72%|███████▏  | 882/1224 [1:45:58<42:17,  7.42s/it]"
     ]
    },
    {
     "name": "stdout",
     "output_type": "stream",
     "text": [
      "On 72.06%\n",
      "time elapsed: 6358(s), time left: 2465(s), estimated finish time: 02:26:15\n"
     ]
    },
    {
     "name": "stderr",
     "output_type": "stream",
     "text": [
      "Processing rows:  72%|███████▏  | 883/1224 [1:46:05<41:44,  7.34s/it]"
     ]
    },
    {
     "name": "stdout",
     "output_type": "stream",
     "text": [
      "On 72.14%\n",
      "time elapsed: 6365(s), time left: 2458(s), estimated finish time: 02:26:15\n"
     ]
    },
    {
     "name": "stderr",
     "output_type": "stream",
     "text": [
      "Processing rows:  72%|███████▏  | 884/1224 [1:46:14<44:28,  7.85s/it]"
     ]
    },
    {
     "name": "stdout",
     "output_type": "stream",
     "text": [
      "On 72.22%\n",
      "time elapsed: 6374(s), time left: 2451(s), estimated finish time: 02:26:18\n"
     ]
    },
    {
     "name": "stderr",
     "output_type": "stream",
     "text": [
      "Processing rows:  72%|███████▏  | 885/1224 [1:46:22<44:54,  7.95s/it]"
     ]
    },
    {
     "name": "stdout",
     "output_type": "stream",
     "text": [
      "On 72.3%\n",
      "time elapsed: 6382(s), time left: 2444(s), estimated finish time: 02:26:19\n"
     ]
    },
    {
     "name": "stderr",
     "output_type": "stream",
     "text": [
      "Processing rows:  72%|███████▏  | 886/1224 [1:46:30<44:17,  7.86s/it]"
     ]
    },
    {
     "name": "stdout",
     "output_type": "stream",
     "text": [
      "On 72.39%\n",
      "time elapsed: 6390(s), time left: 2437(s), estimated finish time: 02:26:20\n"
     ]
    },
    {
     "name": "stderr",
     "output_type": "stream",
     "text": [
      "Processing rows:  72%|███████▏  | 887/1224 [1:46:38<44:51,  7.99s/it]"
     ]
    },
    {
     "name": "stdout",
     "output_type": "stream",
     "text": [
      "On 72.47%\n",
      "time elapsed: 6398(s), time left: 2431(s), estimated finish time: 02:26:21\n"
     ]
    },
    {
     "name": "stderr",
     "output_type": "stream",
     "text": [
      "Processing rows:  73%|███████▎  | 888/1224 [1:46:47<45:56,  8.20s/it]"
     ]
    },
    {
     "name": "stdout",
     "output_type": "stream",
     "text": [
      "On 72.55%\n",
      "time elapsed: 6407(s), time left: 2424(s), estimated finish time: 02:26:23\n"
     ]
    },
    {
     "name": "stderr",
     "output_type": "stream",
     "text": [
      "Processing rows:  73%|███████▎  | 889/1224 [1:46:56<48:01,  8.60s/it]"
     ]
    },
    {
     "name": "stdout",
     "output_type": "stream",
     "text": [
      "On 72.63%\n",
      "time elapsed: 6416(s), time left: 2418(s), estimated finish time: 02:26:27\n"
     ]
    },
    {
     "name": "stderr",
     "output_type": "stream",
     "text": [
      "Processing rows:  73%|███████▎  | 890/1224 [1:47:00<39:59,  7.18s/it]"
     ]
    },
    {
     "name": "stdout",
     "output_type": "stream",
     "text": [
      "On 72.71%\n",
      "time elapsed: 6420(s), time left: 2409(s), estimated finish time: 02:26:22\n"
     ]
    },
    {
     "name": "stderr",
     "output_type": "stream",
     "text": [
      "Processing rows:  73%|███████▎  | 891/1224 [1:47:08<40:59,  7.38s/it]"
     ]
    },
    {
     "name": "stdout",
     "output_type": "stream",
     "text": [
      "On 72.79%\n",
      "time elapsed: 6428(s), time left: 2402(s), estimated finish time: 02:26:23\n"
     ]
    },
    {
     "name": "stderr",
     "output_type": "stream",
     "text": [
      "Processing rows:  73%|███████▎  | 892/1224 [1:47:18<45:04,  8.15s/it]"
     ]
    },
    {
     "name": "stdout",
     "output_type": "stream",
     "text": [
      "On 72.88%\n",
      "time elapsed: 6438(s), time left: 2396(s), estimated finish time: 02:26:27\n"
     ]
    },
    {
     "name": "stderr",
     "output_type": "stream",
     "text": [
      "Processing rows:  73%|███████▎  | 893/1224 [1:47:26<45:20,  8.22s/it]"
     ]
    },
    {
     "name": "stdout",
     "output_type": "stream",
     "text": [
      "On 72.96%\n",
      "time elapsed: 6446(s), time left: 2389(s), estimated finish time: 02:26:28\n"
     ]
    },
    {
     "name": "stderr",
     "output_type": "stream",
     "text": [
      "Processing rows:  73%|███████▎  | 894/1224 [1:47:30<37:16,  6.78s/it]"
     ]
    },
    {
     "name": "stdout",
     "output_type": "stream",
     "text": [
      "On 73.04%\n",
      "time elapsed: 6450(s), time left: 2380(s), estimated finish time: 02:26:23\n"
     ]
    },
    {
     "name": "stderr",
     "output_type": "stream",
     "text": [
      "Processing rows:  73%|███████▎  | 895/1224 [1:47:34<33:21,  6.08s/it]"
     ]
    },
    {
     "name": "stdout",
     "output_type": "stream",
     "text": [
      "On 73.12%\n",
      "time elapsed: 6454(s), time left: 2372(s), estimated finish time: 02:26:19\n"
     ]
    },
    {
     "name": "stderr",
     "output_type": "stream",
     "text": [
      "Processing rows:  73%|███████▎  | 896/1224 [1:47:42<36:33,  6.69s/it]"
     ]
    },
    {
     "name": "stdout",
     "output_type": "stream",
     "text": [
      "On 73.2%\n",
      "time elapsed: 6462(s), time left: 2365(s), estimated finish time: 02:26:20\n"
     ]
    },
    {
     "name": "stderr",
     "output_type": "stream",
     "text": [
      "Processing rows:  73%|███████▎  | 897/1224 [1:47:52<40:48,  7.49s/it]"
     ]
    },
    {
     "name": "stdout",
     "output_type": "stream",
     "text": [
      "On 73.28%\n",
      "time elapsed: 6472(s), time left: 2359(s), estimated finish time: 02:26:23\n"
     ]
    },
    {
     "name": "stderr",
     "output_type": "stream",
     "text": [
      "Processing rows:  73%|███████▎  | 898/1224 [1:47:59<40:39,  7.48s/it]"
     ]
    },
    {
     "name": "stdout",
     "output_type": "stream",
     "text": [
      "On 73.37%\n",
      "time elapsed: 6479(s), time left: 2352(s), estimated finish time: 02:26:24\n"
     ]
    },
    {
     "name": "stderr",
     "output_type": "stream",
     "text": [
      "Processing rows:  73%|███████▎  | 899/1224 [1:48:10<46:08,  8.52s/it]"
     ]
    },
    {
     "name": "stdout",
     "output_type": "stream",
     "text": [
      "On 73.45%\n",
      "time elapsed: 6490(s), time left: 2346(s), estimated finish time: 02:26:29\n"
     ]
    },
    {
     "name": "stderr",
     "output_type": "stream",
     "text": [
      "Processing rows:  74%|███████▎  | 900/1224 [1:48:14<38:28,  7.13s/it]"
     ]
    },
    {
     "name": "stdout",
     "output_type": "stream",
     "text": [
      "On 73.53%\n",
      "time elapsed: 6494(s), time left: 2338(s), estimated finish time: 02:26:24\n"
     ]
    },
    {
     "name": "stderr",
     "output_type": "stream",
     "text": [
      "Processing rows:  74%|███████▎  | 901/1224 [1:48:17<31:46,  5.90s/it]"
     ]
    },
    {
     "name": "stdout",
     "output_type": "stream",
     "text": [
      "On 73.61%\n",
      "time elapsed: 6497(s), time left: 2329(s), estimated finish time: 02:26:18\n"
     ]
    },
    {
     "name": "stderr",
     "output_type": "stream",
     "text": [
      "Processing rows:  74%|███████▎  | 902/1224 [1:48:20<27:39,  5.15s/it]"
     ]
    },
    {
     "name": "stdout",
     "output_type": "stream",
     "text": [
      "On 73.69%\n",
      "time elapsed: 6500(s), time left: 2320(s), estimated finish time: 02:26:13\n"
     ]
    },
    {
     "name": "stderr",
     "output_type": "stream",
     "text": [
      "Processing rows:  74%|███████▍  | 903/1224 [1:48:25<26:18,  4.92s/it]"
     ]
    },
    {
     "name": "stdout",
     "output_type": "stream",
     "text": [
      "On 73.77%\n",
      "time elapsed: 6505(s), time left: 2312(s), estimated finish time: 02:26:09\n"
     ]
    },
    {
     "name": "stderr",
     "output_type": "stream",
     "text": [
      "Processing rows:  74%|███████▍  | 904/1224 [1:48:28<23:11,  4.35s/it]"
     ]
    },
    {
     "name": "stdout",
     "output_type": "stream",
     "text": [
      "On 73.86%\n",
      "time elapsed: 6508(s), time left: 2303(s), estimated finish time: 02:26:04\n"
     ]
    },
    {
     "name": "stderr",
     "output_type": "stream",
     "text": [
      "Processing rows:  74%|███████▍  | 905/1224 [1:48:32<23:15,  4.38s/it]"
     ]
    },
    {
     "name": "stdout",
     "output_type": "stream",
     "text": [
      "On 73.94%\n",
      "time elapsed: 6512(s), time left: 2295(s), estimated finish time: 02:26:00\n"
     ]
    },
    {
     "name": "stderr",
     "output_type": "stream",
     "text": [
      "Processing rows:  74%|███████▍  | 906/1224 [1:48:35<21:28,  4.05s/it]"
     ]
    },
    {
     "name": "stdout",
     "output_type": "stream",
     "text": [
      "On 74.02%\n",
      "time elapsed: 6516(s), time left: 2287(s), estimated finish time: 02:25:55\n"
     ]
    },
    {
     "name": "stderr",
     "output_type": "stream",
     "text": [
      "Processing rows:  74%|███████▍  | 907/1224 [1:48:38<19:45,  3.74s/it]"
     ]
    },
    {
     "name": "stdout",
     "output_type": "stream",
     "text": [
      "On 74.1%\n",
      "time elapsed: 6519(s), time left: 2278(s), estimated finish time: 02:25:49\n"
     ]
    },
    {
     "name": "stderr",
     "output_type": "stream",
     "text": [
      "Processing rows:  74%|███████▍  | 908/1224 [1:48:42<18:47,  3.57s/it]"
     ]
    },
    {
     "name": "stdout",
     "output_type": "stream",
     "text": [
      "On 74.18%\n",
      "time elapsed: 6522(s), time left: 2269(s), estimated finish time: 02:25:44\n"
     ]
    },
    {
     "name": "stderr",
     "output_type": "stream",
     "text": [
      "Processing rows:  74%|███████▍  | 909/1224 [1:48:45<17:54,  3.41s/it]"
     ]
    },
    {
     "name": "stdout",
     "output_type": "stream",
     "text": [
      "On 74.26%\n",
      "time elapsed: 6525(s), time left: 2261(s), estimated finish time: 02:25:38\n"
     ]
    },
    {
     "name": "stderr",
     "output_type": "stream",
     "text": [
      "Processing rows:  74%|███████▍  | 910/1224 [1:48:54<26:48,  5.12s/it]"
     ]
    },
    {
     "name": "stdout",
     "output_type": "stream",
     "text": [
      "On 74.35%\n",
      "time elapsed: 6534(s), time left: 2254(s), estimated finish time: 02:25:41\n"
     ]
    },
    {
     "name": "stderr",
     "output_type": "stream",
     "text": [
      "Processing rows:  74%|███████▍  | 911/1224 [1:48:58<25:40,  4.92s/it]"
     ]
    },
    {
     "name": "stdout",
     "output_type": "stream",
     "text": [
      "On 74.43%\n",
      "time elapsed: 6538(s), time left: 2246(s), estimated finish time: 02:25:37\n"
     ]
    },
    {
     "name": "stderr",
     "output_type": "stream",
     "text": [
      "Processing rows:  75%|███████▍  | 912/1224 [1:49:01<22:08,  4.26s/it]"
     ]
    },
    {
     "name": "stdout",
     "output_type": "stream",
     "text": [
      "On 74.51%\n",
      "time elapsed: 6541(s), time left: 2237(s), estimated finish time: 02:25:31\n"
     ]
    },
    {
     "name": "stderr",
     "output_type": "stream",
     "text": [
      "Processing rows:  75%|███████▍  | 913/1224 [1:49:04<19:56,  3.85s/it]"
     ]
    },
    {
     "name": "stdout",
     "output_type": "stream",
     "text": [
      "On 74.59%\n",
      "time elapsed: 6544(s), time left: 2229(s), estimated finish time: 02:25:25\n"
     ]
    },
    {
     "name": "stderr",
     "output_type": "stream",
     "text": [
      "Processing rows:  75%|███████▍  | 914/1224 [1:49:07<18:52,  3.65s/it]"
     ]
    },
    {
     "name": "stdout",
     "output_type": "stream",
     "text": [
      "On 74.67%\n",
      "time elapsed: 6547(s), time left: 2220(s), estimated finish time: 02:25:20\n"
     ]
    },
    {
     "name": "stderr",
     "output_type": "stream",
     "text": [
      "Processing rows:  75%|███████▍  | 915/1224 [1:49:10<17:39,  3.43s/it]"
     ]
    },
    {
     "name": "stdout",
     "output_type": "stream",
     "text": [
      "On 74.75%\n",
      "time elapsed: 6550(s), time left: 2212(s), estimated finish time: 02:25:14\n"
     ]
    },
    {
     "name": "stderr",
     "output_type": "stream",
     "text": [
      "Processing rows:  75%|███████▍  | 916/1224 [1:49:14<18:24,  3.59s/it]"
     ]
    },
    {
     "name": "stdout",
     "output_type": "stream",
     "text": [
      "On 74.84%\n",
      "time elapsed: 6554(s), time left: 2203(s), estimated finish time: 02:25:10\n"
     ]
    },
    {
     "name": "stderr",
     "output_type": "stream",
     "text": [
      "Processing rows:  75%|███████▍  | 917/1224 [1:49:17<17:02,  3.33s/it]"
     ]
    },
    {
     "name": "stdout",
     "output_type": "stream",
     "text": [
      "On 74.92%\n",
      "time elapsed: 6557(s), time left: 2195(s), estimated finish time: 02:25:04\n"
     ]
    },
    {
     "name": "stderr",
     "output_type": "stream",
     "text": [
      "Processing rows:  75%|███████▌  | 918/1224 [1:49:20<16:35,  3.25s/it]"
     ]
    },
    {
     "name": "stdout",
     "output_type": "stream",
     "text": [
      "On 75.0%\n",
      "time elapsed: 6560(s), time left: 2186(s), estimated finish time: 02:24:59\n"
     ]
    },
    {
     "name": "stderr",
     "output_type": "stream",
     "text": [
      "Processing rows:  75%|███████▌  | 919/1224 [1:49:24<18:16,  3.59s/it]"
     ]
    },
    {
     "name": "stdout",
     "output_type": "stream",
     "text": [
      "On 75.08%\n",
      "time elapsed: 6564(s), time left: 2178(s), estimated finish time: 02:24:55\n"
     ]
    },
    {
     "name": "stderr",
     "output_type": "stream",
     "text": [
      "Processing rows:  75%|███████▌  | 920/1224 [1:49:28<19:03,  3.76s/it]"
     ]
    },
    {
     "name": "stdout",
     "output_type": "stream",
     "text": [
      "On 75.16%\n",
      "time elapsed: 6568(s), time left: 2170(s), estimated finish time: 02:24:51\n"
     ]
    },
    {
     "name": "stderr",
     "output_type": "stream",
     "text": [
      "Processing rows:  75%|███████▌  | 921/1224 [1:49:31<17:44,  3.51s/it]"
     ]
    },
    {
     "name": "stdout",
     "output_type": "stream",
     "text": [
      "On 75.25%\n",
      "time elapsed: 6571(s), time left: 2162(s), estimated finish time: 02:24:46\n"
     ]
    },
    {
     "name": "stderr",
     "output_type": "stream",
     "text": [
      "Processing rows:  75%|███████▌  | 922/1224 [1:49:37<21:12,  4.21s/it]"
     ]
    },
    {
     "name": "stdout",
     "output_type": "stream",
     "text": [
      "On 75.33%\n",
      "time elapsed: 6577(s), time left: 2154(s), estimated finish time: 02:24:44\n"
     ]
    },
    {
     "name": "stderr",
     "output_type": "stream",
     "text": [
      "Processing rows:  75%|███████▌  | 923/1224 [1:49:46<27:51,  5.55s/it]"
     ]
    },
    {
     "name": "stdout",
     "output_type": "stream",
     "text": [
      "On 75.41%\n",
      "time elapsed: 6586(s), time left: 2147(s), estimated finish time: 02:24:46\n"
     ]
    },
    {
     "name": "stderr",
     "output_type": "stream",
     "text": [
      "Processing rows:  75%|███████▌  | 924/1224 [1:49:49<24:29,  4.90s/it]"
     ]
    },
    {
     "name": "stdout",
     "output_type": "stream",
     "text": [
      "On 75.49%\n",
      "time elapsed: 6589(s), time left: 2139(s), estimated finish time: 02:24:41\n"
     ]
    },
    {
     "name": "stderr",
     "output_type": "stream",
     "text": [
      "Processing rows:  76%|███████▌  | 925/1224 [1:49:54<23:55,  4.80s/it]"
     ]
    },
    {
     "name": "stdout",
     "output_type": "stream",
     "text": [
      "On 75.57%\n",
      "time elapsed: 6594(s), time left: 2131(s), estimated finish time: 02:24:37\n"
     ]
    },
    {
     "name": "stderr",
     "output_type": "stream",
     "text": [
      "Processing rows:  76%|███████▌  | 926/1224 [1:49:57<21:37,  4.35s/it]"
     ]
    },
    {
     "name": "stdout",
     "output_type": "stream",
     "text": [
      "On 75.65%\n",
      "time elapsed: 6597(s), time left: 2123(s), estimated finish time: 02:24:32\n"
     ]
    },
    {
     "name": "stderr",
     "output_type": "stream",
     "text": [
      "Processing rows:  76%|███████▌  | 927/1224 [1:50:00<19:57,  4.03s/it]"
     ]
    },
    {
     "name": "stdout",
     "output_type": "stream",
     "text": [
      "On 75.74%\n",
      "time elapsed: 6600(s), time left: 2114(s), estimated finish time: 02:24:27\n"
     ]
    },
    {
     "name": "stderr",
     "output_type": "stream",
     "text": [
      "Processing rows:  76%|███████▌  | 928/1224 [1:50:04<18:48,  3.81s/it]"
     ]
    },
    {
     "name": "stdout",
     "output_type": "stream",
     "text": [
      "On 75.82%\n",
      "time elapsed: 6604(s), time left: 2106(s), estimated finish time: 02:24:22\n"
     ]
    },
    {
     "name": "stderr",
     "output_type": "stream",
     "text": [
      "Processing rows:  76%|███████▌  | 929/1224 [1:50:08<19:49,  4.03s/it]"
     ]
    },
    {
     "name": "stdout",
     "output_type": "stream",
     "text": [
      "On 75.9%\n",
      "time elapsed: 6608(s), time left: 2098(s), estimated finish time: 02:24:19\n"
     ]
    },
    {
     "name": "stderr",
     "output_type": "stream",
     "text": [
      "Processing rows:  76%|███████▌  | 930/1224 [1:50:12<19:47,  4.04s/it]"
     ]
    },
    {
     "name": "stdout",
     "output_type": "stream",
     "text": [
      "On 75.98%\n",
      "time elapsed: 6612(s), time left: 2090(s), estimated finish time: 02:24:15\n"
     ]
    },
    {
     "name": "stderr",
     "output_type": "stream",
     "text": [
      "Processing rows:  76%|███████▌  | 931/1224 [1:50:15<18:37,  3.81s/it]"
     ]
    },
    {
     "name": "stdout",
     "output_type": "stream",
     "text": [
      "On 76.06%\n",
      "time elapsed: 6616(s), time left: 2082(s), estimated finish time: 02:24:10\n"
     ]
    },
    {
     "name": "stderr",
     "output_type": "stream",
     "text": [
      "Processing rows:  76%|███████▌  | 932/1224 [1:50:18<17:18,  3.56s/it]"
     ]
    },
    {
     "name": "stdout",
     "output_type": "stream",
     "text": [
      "On 76.14%\n",
      "time elapsed: 6618(s), time left: 2073(s), estimated finish time: 02:24:04\n"
     ]
    },
    {
     "name": "stderr",
     "output_type": "stream",
     "text": [
      "Processing rows:  76%|███████▌  | 933/1224 [1:50:22<17:52,  3.68s/it]"
     ]
    },
    {
     "name": "stdout",
     "output_type": "stream",
     "text": [
      "On 76.23%\n",
      "time elapsed: 6622(s), time left: 2065(s), estimated finish time: 02:24:00\n"
     ]
    },
    {
     "name": "stderr",
     "output_type": "stream",
     "text": [
      "Processing rows:  76%|███████▋  | 934/1224 [1:50:27<18:48,  3.89s/it]"
     ]
    },
    {
     "name": "stdout",
     "output_type": "stream",
     "text": [
      "On 76.31%\n",
      "time elapsed: 6627(s), time left: 2057(s), estimated finish time: 02:23:57\n"
     ]
    },
    {
     "name": "stderr",
     "output_type": "stream",
     "text": [
      "Processing rows:  76%|███████▋  | 935/1224 [1:50:32<20:47,  4.32s/it]"
     ]
    },
    {
     "name": "stdout",
     "output_type": "stream",
     "text": [
      "On 76.39%\n",
      "time elapsed: 6632(s), time left: 2050(s), estimated finish time: 02:23:54\n"
     ]
    },
    {
     "name": "stderr",
     "output_type": "stream",
     "text": [
      "Processing rows:  76%|███████▋  | 936/1224 [1:50:35<18:48,  3.92s/it]"
     ]
    },
    {
     "name": "stdout",
     "output_type": "stream",
     "text": [
      "On 76.47%\n",
      "time elapsed: 6635(s), time left: 2041(s), estimated finish time: 02:23:49\n"
     ]
    },
    {
     "name": "stderr",
     "output_type": "stream",
     "text": [
      "Processing rows:  77%|███████▋  | 937/1224 [1:50:39<18:50,  3.94s/it]"
     ]
    },
    {
     "name": "stdout",
     "output_type": "stream",
     "text": [
      "On 76.55%\n",
      "time elapsed: 6639(s), time left: 2033(s), estimated finish time: 02:23:45\n"
     ]
    },
    {
     "name": "stderr",
     "output_type": "stream",
     "text": [
      "Processing rows:  77%|███████▋  | 938/1224 [1:50:48<26:03,  5.47s/it]"
     ]
    },
    {
     "name": "stdout",
     "output_type": "stream",
     "text": [
      "On 76.63%\n",
      "time elapsed: 6648(s), time left: 2027(s), estimated finish time: 02:23:48\n"
     ]
    },
    {
     "name": "stderr",
     "output_type": "stream",
     "text": [
      "Processing rows:  77%|███████▋  | 939/1224 [1:50:57<30:25,  6.41s/it]"
     ]
    },
    {
     "name": "stdout",
     "output_type": "stream",
     "text": [
      "On 76.72%\n",
      "time elapsed: 6657(s), time left: 2020(s), estimated finish time: 02:23:50\n"
     ]
    },
    {
     "name": "stderr",
     "output_type": "stream",
     "text": [
      "Processing rows:  77%|███████▋  | 940/1224 [1:51:05<33:10,  7.01s/it]"
     ]
    },
    {
     "name": "stdout",
     "output_type": "stream",
     "text": [
      "On 76.8%\n",
      "time elapsed: 6665(s), time left: 2013(s), estimated finish time: 02:23:51\n"
     ]
    },
    {
     "name": "stderr",
     "output_type": "stream",
     "text": [
      "Processing rows:  77%|███████▋  | 941/1224 [1:51:14<35:22,  7.50s/it]"
     ]
    },
    {
     "name": "stdout",
     "output_type": "stream",
     "text": [
      "On 76.88%\n",
      "time elapsed: 6674(s), time left: 2007(s), estimated finish time: 02:23:53\n"
     ]
    },
    {
     "name": "stderr",
     "output_type": "stream",
     "text": [
      "Processing rows:  77%|███████▋  | 942/1224 [1:51:22<36:58,  7.87s/it]"
     ]
    },
    {
     "name": "stdout",
     "output_type": "stream",
     "text": [
      "On 76.96%\n",
      "time elapsed: 6683(s), time left: 2000(s), estimated finish time: 02:23:55\n"
     ]
    },
    {
     "name": "stderr",
     "output_type": "stream",
     "text": [
      "Processing rows:  77%|███████▋  | 943/1224 [1:51:31<37:36,  8.03s/it]"
     ]
    },
    {
     "name": "stdout",
     "output_type": "stream",
     "text": [
      "On 77.04%\n",
      "time elapsed: 6691(s), time left: 1993(s), estimated finish time: 02:23:57\n"
     ]
    },
    {
     "name": "stderr",
     "output_type": "stream",
     "text": [
      "Processing rows:  77%|███████▋  | 944/1224 [1:51:38<36:48,  7.89s/it]"
     ]
    },
    {
     "name": "stdout",
     "output_type": "stream",
     "text": [
      "On 77.12%\n",
      "time elapsed: 6698(s), time left: 1986(s), estimated finish time: 02:23:58\n"
     ]
    },
    {
     "name": "stderr",
     "output_type": "stream",
     "text": [
      "Processing rows:  77%|███████▋  | 945/1224 [1:51:48<39:27,  8.49s/it]"
     ]
    },
    {
     "name": "stdout",
     "output_type": "stream",
     "text": [
      "On 77.21%\n",
      "time elapsed: 6708(s), time left: 1980(s), estimated finish time: 02:24:01\n"
     ]
    },
    {
     "name": "stderr",
     "output_type": "stream",
     "text": [
      "Processing rows:  77%|███████▋  | 946/1224 [1:51:58<40:37,  8.77s/it]"
     ]
    },
    {
     "name": "stdout",
     "output_type": "stream",
     "text": [
      "On 77.29%\n",
      "time elapsed: 6718(s), time left: 1974(s), estimated finish time: 02:24:04\n"
     ]
    },
    {
     "name": "stderr",
     "output_type": "stream",
     "text": [
      "Processing rows:  77%|███████▋  | 947/1224 [1:52:08<41:52,  9.07s/it]"
     ]
    },
    {
     "name": "stdout",
     "output_type": "stream",
     "text": [
      "On 77.37%\n",
      "time elapsed: 6728(s), time left: 1967(s), estimated finish time: 02:24:08\n"
     ]
    },
    {
     "name": "stderr",
     "output_type": "stream",
     "text": [
      "Processing rows:  77%|███████▋  | 948/1224 [1:52:11<33:52,  7.36s/it]"
     ]
    },
    {
     "name": "stdout",
     "output_type": "stream",
     "text": [
      "On 77.45%\n",
      "time elapsed: 6731(s), time left: 1959(s), estimated finish time: 02:24:03\n"
     ]
    },
    {
     "name": "stderr",
     "output_type": "stream",
     "text": [
      "Processing rows:  78%|███████▊  | 949/1224 [1:52:14<28:20,  6.18s/it]"
     ]
    },
    {
     "name": "stdout",
     "output_type": "stream",
     "text": [
      "On 77.53%\n",
      "time elapsed: 6734(s), time left: 1951(s), estimated finish time: 02:23:58\n"
     ]
    },
    {
     "name": "stderr",
     "output_type": "stream",
     "text": [
      "Processing rows:  78%|███████▊  | 950/1224 [1:52:24<32:27,  7.11s/it]"
     ]
    },
    {
     "name": "stdout",
     "output_type": "stream",
     "text": [
      "On 77.61%\n",
      "time elapsed: 6744(s), time left: 1945(s), estimated finish time: 02:24:01\n"
     ]
    },
    {
     "name": "stderr",
     "output_type": "stream",
     "text": [
      "Processing rows:  78%|███████▊  | 951/1224 [1:52:33<35:29,  7.80s/it]"
     ]
    },
    {
     "name": "stdout",
     "output_type": "stream",
     "text": [
      "On 77.7%\n",
      "time elapsed: 6753(s), time left: 1938(s), estimated finish time: 02:24:04\n"
     ]
    },
    {
     "name": "stderr",
     "output_type": "stream",
     "text": [
      "Processing rows:  78%|███████▊  | 952/1224 [1:52:43<38:17,  8.45s/it]"
     ]
    },
    {
     "name": "stdout",
     "output_type": "stream",
     "text": [
      "On 77.78%\n",
      "time elapsed: 6763(s), time left: 1932(s), estimated finish time: 02:24:08\n"
     ]
    },
    {
     "name": "stderr",
     "output_type": "stream",
     "text": [
      "Processing rows:  78%|███████▊  | 953/1224 [1:52:47<31:47,  7.04s/it]"
     ]
    },
    {
     "name": "stdout",
     "output_type": "stream",
     "text": [
      "On 77.86%\n",
      "time elapsed: 6767(s), time left: 1924(s), estimated finish time: 02:24:03\n"
     ]
    },
    {
     "name": "stderr",
     "output_type": "stream",
     "text": [
      "Processing rows:  78%|███████▊  | 954/1224 [1:52:50<26:29,  5.89s/it]"
     ]
    },
    {
     "name": "stdout",
     "output_type": "stream",
     "text": [
      "On 77.94%\n",
      "time elapsed: 6770(s), time left: 1916(s), estimated finish time: 02:23:58\n"
     ]
    },
    {
     "name": "stderr",
     "output_type": "stream",
     "text": [
      "Processing rows:  78%|███████▊  | 955/1224 [1:52:54<23:31,  5.25s/it]"
     ]
    },
    {
     "name": "stdout",
     "output_type": "stream",
     "text": [
      "On 78.02%\n",
      "time elapsed: 6774(s), time left: 1908(s), estimated finish time: 02:23:54\n"
     ]
    },
    {
     "name": "stderr",
     "output_type": "stream",
     "text": [
      "Processing rows:  78%|███████▊  | 956/1224 [1:53:04<30:37,  6.86s/it]"
     ]
    },
    {
     "name": "stdout",
     "output_type": "stream",
     "text": [
      "On 78.1%\n",
      "time elapsed: 6784(s), time left: 1902(s), estimated finish time: 02:23:59\n"
     ]
    },
    {
     "name": "stderr",
     "output_type": "stream",
     "text": [
      "Processing rows:  78%|███████▊  | 957/1224 [1:53:12<32:04,  7.21s/it]"
     ]
    },
    {
     "name": "stdout",
     "output_type": "stream",
     "text": [
      "On 78.19%\n",
      "time elapsed: 6792(s), time left: 1895(s), estimated finish time: 02:24:00\n"
     ]
    },
    {
     "name": "stderr",
     "output_type": "stream",
     "text": [
      "Processing rows:  78%|███████▊  | 958/1224 [1:53:22<35:01,  7.90s/it]"
     ]
    },
    {
     "name": "stdout",
     "output_type": "stream",
     "text": [
      "On 78.27%\n",
      "time elapsed: 6802(s), time left: 1888(s), estimated finish time: 02:24:03\n"
     ]
    },
    {
     "name": "stderr",
     "output_type": "stream",
     "text": [
      "Processing rows:  78%|███████▊  | 959/1224 [1:53:31<36:12,  8.20s/it]"
     ]
    },
    {
     "name": "stdout",
     "output_type": "stream",
     "text": [
      "On 78.35%\n",
      "time elapsed: 6811(s), time left: 1882(s), estimated finish time: 02:24:05\n"
     ]
    },
    {
     "name": "stderr",
     "output_type": "stream",
     "text": [
      "Processing rows:  78%|███████▊  | 960/1224 [1:53:39<36:33,  8.31s/it]"
     ]
    },
    {
     "name": "stdout",
     "output_type": "stream",
     "text": [
      "On 78.43%\n",
      "time elapsed: 6819(s), time left: 1875(s), estimated finish time: 02:24:07\n"
     ]
    },
    {
     "name": "stderr",
     "output_type": "stream",
     "text": [
      "Processing rows:  79%|███████▊  | 961/1224 [1:53:49<38:03,  8.68s/it]"
     ]
    },
    {
     "name": "stdout",
     "output_type": "stream",
     "text": [
      "On 78.51%\n",
      "time elapsed: 6829(s), time left: 1869(s), estimated finish time: 02:24:10\n"
     ]
    },
    {
     "name": "stderr",
     "output_type": "stream",
     "text": [
      "Processing rows:  79%|███████▊  | 962/1224 [1:53:57<36:51,  8.44s/it]"
     ]
    },
    {
     "name": "stdout",
     "output_type": "stream",
     "text": [
      "On 78.59%\n",
      "time elapsed: 6837(s), time left: 1862(s), estimated finish time: 02:24:11\n"
     ]
    },
    {
     "name": "stderr",
     "output_type": "stream",
     "text": [
      "Processing rows:  79%|███████▊  | 963/1224 [1:54:01<30:56,  7.11s/it]"
     ]
    },
    {
     "name": "stdout",
     "output_type": "stream",
     "text": [
      "On 78.68%\n",
      "time elapsed: 6841(s), time left: 1854(s), estimated finish time: 02:24:07\n"
     ]
    },
    {
     "name": "stderr",
     "output_type": "stream",
     "text": [
      "Processing rows:  79%|███████▉  | 964/1224 [1:54:04<25:40,  5.92s/it]"
     ]
    },
    {
     "name": "stdout",
     "output_type": "stream",
     "text": [
      "On 78.76%\n",
      "time elapsed: 6844(s), time left: 1846(s), estimated finish time: 02:24:02\n"
     ]
    },
    {
     "name": "stderr",
     "output_type": "stream",
     "text": [
      "Processing rows:  79%|███████▉  | 965/1224 [1:54:07<22:04,  5.11s/it]"
     ]
    },
    {
     "name": "stdout",
     "output_type": "stream",
     "text": [
      "On 78.84%\n",
      "time elapsed: 6847(s), time left: 1837(s), estimated finish time: 02:23:57\n"
     ]
    },
    {
     "name": "stderr",
     "output_type": "stream",
     "text": [
      "Processing rows:  79%|███████▉  | 966/1224 [1:54:11<20:41,  4.81s/it]"
     ]
    },
    {
     "name": "stdout",
     "output_type": "stream",
     "text": [
      "On 78.92%\n",
      "time elapsed: 6851(s), time left: 1829(s), estimated finish time: 02:23:53\n"
     ]
    },
    {
     "name": "stderr",
     "output_type": "stream",
     "text": [
      "Processing rows:  79%|███████▉  | 967/1224 [1:54:21<27:01,  6.31s/it]"
     ]
    },
    {
     "name": "stdout",
     "output_type": "stream",
     "text": [
      "On 79.0%\n",
      "time elapsed: 6861(s), time left: 1823(s), estimated finish time: 02:23:57\n"
     ]
    },
    {
     "name": "stderr",
     "output_type": "stream",
     "text": [
      "Processing rows:  79%|███████▉  | 968/1224 [1:54:29<28:34,  6.70s/it]"
     ]
    },
    {
     "name": "stdout",
     "output_type": "stream",
     "text": [
      "On 79.08%\n",
      "time elapsed: 6869(s), time left: 1816(s), estimated finish time: 02:23:58\n"
     ]
    },
    {
     "name": "stderr",
     "output_type": "stream",
     "text": [
      "Processing rows:  79%|███████▉  | 969/1224 [1:54:32<24:13,  5.70s/it]"
     ]
    },
    {
     "name": "stdout",
     "output_type": "stream",
     "text": [
      "On 79.17%\n",
      "time elapsed: 6872(s), time left: 1808(s), estimated finish time: 02:23:53\n"
     ]
    },
    {
     "name": "stderr",
     "output_type": "stream",
     "text": [
      "Processing rows:  79%|███████▉  | 970/1224 [1:54:40<27:15,  6.44s/it]"
     ]
    },
    {
     "name": "stdout",
     "output_type": "stream",
     "text": [
      "On 79.25%\n",
      "time elapsed: 6880(s), time left: 1801(s), estimated finish time: 02:23:54\n"
     ]
    },
    {
     "name": "stderr",
     "output_type": "stream",
     "text": [
      "Processing rows:  79%|███████▉  | 971/1224 [1:54:50<31:07,  7.38s/it]"
     ]
    },
    {
     "name": "stdout",
     "output_type": "stream",
     "text": [
      "On 79.33%\n",
      "time elapsed: 6890(s), time left: 1795(s), estimated finish time: 02:23:57\n"
     ]
    },
    {
     "name": "stderr",
     "output_type": "stream",
     "text": [
      "Processing rows:  79%|███████▉  | 972/1224 [1:54:53<25:52,  6.16s/it]"
     ]
    },
    {
     "name": "stdout",
     "output_type": "stream",
     "text": [
      "On 79.41%\n",
      "time elapsed: 6893(s), time left: 1787(s), estimated finish time: 02:23:53\n"
     ]
    },
    {
     "name": "stderr",
     "output_type": "stream",
     "text": [
      "Processing rows:  79%|███████▉  | 973/1224 [1:55:02<28:41,  6.86s/it]"
     ]
    },
    {
     "name": "stdout",
     "output_type": "stream",
     "text": [
      "On 79.49%\n",
      "time elapsed: 6902(s), time left: 1780(s), estimated finish time: 02:23:54\n"
     ]
    },
    {
     "name": "stderr",
     "output_type": "stream",
     "text": [
      "Processing rows:  80%|███████▉  | 974/1224 [1:55:10<30:47,  7.39s/it]"
     ]
    },
    {
     "name": "stdout",
     "output_type": "stream",
     "text": [
      "On 79.58%\n",
      "time elapsed: 6910(s), time left: 1773(s), estimated finish time: 02:23:56\n"
     ]
    },
    {
     "name": "stderr",
     "output_type": "stream",
     "text": [
      "Processing rows:  80%|███████▉  | 975/1224 [1:55:18<30:43,  7.40s/it]"
     ]
    },
    {
     "name": "stdout",
     "output_type": "stream",
     "text": [
      "On 79.66%\n",
      "time elapsed: 6918(s), time left: 1766(s), estimated finish time: 02:23:57\n"
     ]
    },
    {
     "name": "stderr",
     "output_type": "stream",
     "text": [
      "Processing rows:  80%|███████▉  | 976/1224 [1:55:26<31:20,  7.58s/it]"
     ]
    },
    {
     "name": "stdout",
     "output_type": "stream",
     "text": [
      "On 79.74%\n",
      "time elapsed: 6926(s), time left: 1759(s), estimated finish time: 02:23:58\n"
     ]
    },
    {
     "name": "stderr",
     "output_type": "stream",
     "text": [
      "Processing rows:  80%|███████▉  | 977/1224 [1:55:34<31:46,  7.72s/it]"
     ]
    },
    {
     "name": "stdout",
     "output_type": "stream",
     "text": [
      "On 79.82%\n",
      "time elapsed: 6934(s), time left: 1753(s), estimated finish time: 02:23:59\n"
     ]
    },
    {
     "name": "stderr",
     "output_type": "stream",
     "text": [
      "Processing rows:  80%|███████▉  | 978/1224 [1:55:41<31:18,  7.64s/it]"
     ]
    },
    {
     "name": "stdout",
     "output_type": "stream",
     "text": [
      "On 79.9%\n",
      "time elapsed: 6941(s), time left: 1746(s), estimated finish time: 02:23:59\n"
     ]
    },
    {
     "name": "stderr",
     "output_type": "stream",
     "text": [
      "Processing rows:  80%|███████▉  | 979/1224 [1:55:49<30:57,  7.58s/it]"
     ]
    },
    {
     "name": "stdout",
     "output_type": "stream",
     "text": [
      "On 79.98%\n",
      "time elapsed: 6949(s), time left: 1739(s), estimated finish time: 02:24:00\n"
     ]
    },
    {
     "name": "stderr",
     "output_type": "stream",
     "text": [
      "Processing rows:  80%|████████  | 980/1224 [1:55:56<30:54,  7.60s/it]"
     ]
    },
    {
     "name": "stdout",
     "output_type": "stream",
     "text": [
      "On 80.07%\n",
      "time elapsed: 6956(s), time left: 1732(s), estimated finish time: 02:24:01\n"
     ]
    },
    {
     "name": "stderr",
     "output_type": "stream",
     "text": [
      "Processing rows:  80%|████████  | 981/1224 [1:56:05<32:18,  7.98s/it]"
     ]
    },
    {
     "name": "stdout",
     "output_type": "stream",
     "text": [
      "On 80.15%\n",
      "time elapsed: 6965(s), time left: 1725(s), estimated finish time: 02:24:03\n"
     ]
    },
    {
     "name": "stderr",
     "output_type": "stream",
     "text": [
      "Processing rows:  80%|████████  | 982/1224 [1:56:13<31:42,  7.86s/it]"
     ]
    },
    {
     "name": "stdout",
     "output_type": "stream",
     "text": [
      "On 80.23%\n",
      "time elapsed: 6973(s), time left: 1718(s), estimated finish time: 02:24:03\n"
     ]
    },
    {
     "name": "stderr",
     "output_type": "stream",
     "text": [
      "Processing rows:  80%|████████  | 983/1224 [1:56:22<33:04,  8.24s/it]"
     ]
    },
    {
     "name": "stdout",
     "output_type": "stream",
     "text": [
      "On 80.31%\n",
      "time elapsed: 6982(s), time left: 1711(s), estimated finish time: 02:24:06\n"
     ]
    },
    {
     "name": "stderr",
     "output_type": "stream",
     "text": [
      "Processing rows:  80%|████████  | 984/1224 [1:56:30<32:40,  8.17s/it]"
     ]
    },
    {
     "name": "stdout",
     "output_type": "stream",
     "text": [
      "On 80.39%\n",
      "time elapsed: 6990(s), time left: 1704(s), estimated finish time: 02:24:07\n"
     ]
    },
    {
     "name": "stderr",
     "output_type": "stream",
     "text": [
      "Processing rows:  80%|████████  | 985/1224 [1:56:38<32:34,  8.18s/it]"
     ]
    },
    {
     "name": "stdout",
     "output_type": "stream",
     "text": [
      "On 80.47%\n",
      "time elapsed: 6998(s), time left: 1698(s), estimated finish time: 02:24:08\n"
     ]
    },
    {
     "name": "stderr",
     "output_type": "stream",
     "text": [
      "Processing rows:  81%|████████  | 986/1224 [1:56:47<33:46,  8.51s/it]"
     ]
    },
    {
     "name": "stdout",
     "output_type": "stream",
     "text": [
      "On 80.56%\n",
      "time elapsed: 7007(s), time left: 1691(s), estimated finish time: 02:24:11\n"
     ]
    },
    {
     "name": "stderr",
     "output_type": "stream",
     "text": [
      "Processing rows:  81%|████████  | 987/1224 [1:56:55<33:04,  8.37s/it]"
     ]
    },
    {
     "name": "stdout",
     "output_type": "stream",
     "text": [
      "On 80.64%\n",
      "time elapsed: 7015(s), time left: 1684(s), estimated finish time: 02:24:12\n"
     ]
    },
    {
     "name": "stderr",
     "output_type": "stream",
     "text": [
      "Processing rows:  81%|████████  | 988/1224 [1:57:04<33:15,  8.46s/it]"
     ]
    },
    {
     "name": "stdout",
     "output_type": "stream",
     "text": [
      "On 80.72%\n",
      "time elapsed: 7024(s), time left: 1677(s), estimated finish time: 02:24:14\n"
     ]
    },
    {
     "name": "stderr",
     "output_type": "stream",
     "text": [
      "Processing rows:  81%|████████  | 989/1224 [1:57:12<32:39,  8.34s/it]"
     ]
    },
    {
     "name": "stdout",
     "output_type": "stream",
     "text": [
      "On 80.8%\n",
      "time elapsed: 7032(s), time left: 1671(s), estimated finish time: 02:24:15\n"
     ]
    },
    {
     "name": "stderr",
     "output_type": "stream",
     "text": [
      "Processing rows:  81%|████████  | 990/1224 [1:57:19<31:13,  8.01s/it]"
     ]
    },
    {
     "name": "stdout",
     "output_type": "stream",
     "text": [
      "On 80.88%\n",
      "time elapsed: 7039(s), time left: 1663(s), estimated finish time: 02:24:15\n"
     ]
    },
    {
     "name": "stderr",
     "output_type": "stream",
     "text": [
      "Processing rows:  81%|████████  | 991/1224 [1:57:27<30:20,  7.81s/it]"
     ]
    },
    {
     "name": "stdout",
     "output_type": "stream",
     "text": [
      "On 80.96%\n",
      "time elapsed: 7047(s), time left: 1656(s), estimated finish time: 02:24:16\n"
     ]
    },
    {
     "name": "stderr",
     "output_type": "stream",
     "text": [
      "Processing rows:  81%|████████  | 992/1224 [1:57:34<29:54,  7.73s/it]"
     ]
    },
    {
     "name": "stdout",
     "output_type": "stream",
     "text": [
      "On 81.05%\n",
      "time elapsed: 7054(s), time left: 1649(s), estimated finish time: 02:24:16\n"
     ]
    },
    {
     "name": "stderr",
     "output_type": "stream",
     "text": [
      "Processing rows:  81%|████████  | 993/1224 [1:57:41<29:09,  7.57s/it]"
     ]
    },
    {
     "name": "stdout",
     "output_type": "stream",
     "text": [
      "On 81.13%\n",
      "time elapsed: 7061(s), time left: 1642(s), estimated finish time: 02:24:16\n"
     ]
    },
    {
     "name": "stderr",
     "output_type": "stream",
     "text": [
      "Processing rows:  81%|████████  | 994/1224 [1:57:50<30:39,  8.00s/it]"
     ]
    },
    {
     "name": "stdout",
     "output_type": "stream",
     "text": [
      "On 81.21%\n",
      "time elapsed: 7070(s), time left: 1636(s), estimated finish time: 02:24:19\n"
     ]
    },
    {
     "name": "stderr",
     "output_type": "stream",
     "text": [
      "Processing rows:  81%|████████▏ | 995/1224 [1:57:58<30:23,  7.96s/it]"
     ]
    },
    {
     "name": "stdout",
     "output_type": "stream",
     "text": [
      "On 81.29%\n",
      "time elapsed: 7078(s), time left: 1629(s), estimated finish time: 02:24:20\n"
     ]
    },
    {
     "name": "stderr",
     "output_type": "stream",
     "text": [
      "Processing rows:  81%|████████▏ | 996/1224 [1:58:07<31:43,  8.35s/it]"
     ]
    },
    {
     "name": "stdout",
     "output_type": "stream",
     "text": [
      "On 81.37%\n",
      "time elapsed: 7088(s), time left: 1622(s), estimated finish time: 02:24:22\n"
     ]
    },
    {
     "name": "stderr",
     "output_type": "stream",
     "text": [
      "Processing rows:  81%|████████▏ | 997/1224 [1:58:15<30:50,  8.15s/it]"
     ]
    },
    {
     "name": "stdout",
     "output_type": "stream",
     "text": [
      "On 81.45%\n",
      "time elapsed: 7095(s), time left: 1615(s), estimated finish time: 02:24:23\n"
     ]
    },
    {
     "name": "stderr",
     "output_type": "stream",
     "text": [
      "Processing rows:  82%|████████▏ | 998/1224 [1:58:23<30:22,  8.06s/it]"
     ]
    },
    {
     "name": "stdout",
     "output_type": "stream",
     "text": [
      "On 81.54%\n",
      "time elapsed: 7103(s), time left: 1608(s), estimated finish time: 02:24:24\n"
     ]
    },
    {
     "name": "stderr",
     "output_type": "stream",
     "text": [
      "Processing rows:  82%|████████▏ | 999/1224 [1:58:30<29:21,  7.83s/it]"
     ]
    },
    {
     "name": "stdout",
     "output_type": "stream",
     "text": [
      "On 81.62%\n",
      "time elapsed: 7110(s), time left: 1601(s), estimated finish time: 02:24:24\n"
     ]
    },
    {
     "name": "stderr",
     "output_type": "stream",
     "text": [
      "Processing rows:  82%|████████▏ | 1000/1224 [1:58:37<28:27,  7.62s/it]"
     ]
    },
    {
     "name": "stdout",
     "output_type": "stream",
     "text": [
      "On 81.7%\n",
      "time elapsed: 7117(s), time left: 1594(s), estimated finish time: 02:24:24\n"
     ]
    },
    {
     "name": "stderr",
     "output_type": "stream",
     "text": [
      "Processing rows:  82%|████████▏ | 1001/1224 [1:58:46<29:39,  7.98s/it]"
     ]
    },
    {
     "name": "stdout",
     "output_type": "stream",
     "text": [
      "On 81.78%\n",
      "time elapsed: 7126(s), time left: 1587(s), estimated finish time: 02:24:26\n"
     ]
    },
    {
     "name": "stderr",
     "output_type": "stream",
     "text": [
      "Processing rows:  82%|████████▏ | 1002/1224 [1:58:55<30:20,  8.20s/it]"
     ]
    },
    {
     "name": "stdout",
     "output_type": "stream",
     "text": [
      "On 81.86%\n",
      "time elapsed: 7135(s), time left: 1580(s), estimated finish time: 02:24:28\n"
     ]
    },
    {
     "name": "stderr",
     "output_type": "stream",
     "text": [
      "Processing rows:  82%|████████▏ | 1003/1224 [1:59:03<29:49,  8.10s/it]"
     ]
    },
    {
     "name": "stdout",
     "output_type": "stream",
     "text": [
      "On 81.94%\n",
      "time elapsed: 7143(s), time left: 1573(s), estimated finish time: 02:24:29\n"
     ]
    },
    {
     "name": "stderr",
     "output_type": "stream",
     "text": [
      "Processing rows:  82%|████████▏ | 1004/1224 [1:59:11<29:42,  8.10s/it]"
     ]
    },
    {
     "name": "stdout",
     "output_type": "stream",
     "text": [
      "On 82.03%\n",
      "time elapsed: 7151(s), time left: 1567(s), estimated finish time: 02:24:30\n"
     ]
    },
    {
     "name": "stderr",
     "output_type": "stream",
     "text": [
      "Processing rows:  82%|████████▏ | 1005/1224 [1:59:19<29:02,  7.96s/it]"
     ]
    },
    {
     "name": "stdout",
     "output_type": "stream",
     "text": [
      "On 82.11%\n",
      "time elapsed: 7159(s), time left: 1560(s), estimated finish time: 02:24:31\n"
     ]
    },
    {
     "name": "stderr",
     "output_type": "stream",
     "text": [
      "Processing rows:  82%|████████▏ | 1006/1224 [1:59:26<27:53,  7.68s/it]"
     ]
    },
    {
     "name": "stdout",
     "output_type": "stream",
     "text": [
      "On 82.19%\n",
      "time elapsed: 7166(s), time left: 1552(s), estimated finish time: 02:24:31\n"
     ]
    },
    {
     "name": "stderr",
     "output_type": "stream",
     "text": [
      "Processing rows:  82%|████████▏ | 1007/1224 [1:59:33<27:43,  7.66s/it]"
     ]
    },
    {
     "name": "stdout",
     "output_type": "stream",
     "text": [
      "On 82.27%\n",
      "time elapsed: 7173(s), time left: 1545(s), estimated finish time: 02:24:31\n"
     ]
    },
    {
     "name": "stderr",
     "output_type": "stream",
     "text": [
      "Processing rows:  82%|████████▏ | 1008/1224 [1:59:41<27:59,  7.78s/it]"
     ]
    },
    {
     "name": "stdout",
     "output_type": "stream",
     "text": [
      "On 82.35%\n",
      "time elapsed: 7181(s), time left: 1538(s), estimated finish time: 02:24:32\n"
     ]
    },
    {
     "name": "stderr",
     "output_type": "stream",
     "text": [
      "Processing rows:  82%|████████▏ | 1009/1224 [1:59:44<22:24,  6.26s/it]"
     ]
    },
    {
     "name": "stdout",
     "output_type": "stream",
     "text": [
      "On 82.43%\n",
      "time elapsed: 7184(s), time left: 1530(s), estimated finish time: 02:24:27\n"
     ]
    },
    {
     "name": "stderr",
     "output_type": "stream",
     "text": [
      "Processing rows:  83%|████████▎ | 1010/1224 [1:59:53<24:45,  6.94s/it]"
     ]
    },
    {
     "name": "stdout",
     "output_type": "stream",
     "text": [
      "On 82.52%\n",
      "time elapsed: 7193(s), time left: 1524(s), estimated finish time: 02:24:29\n"
     ]
    },
    {
     "name": "stderr",
     "output_type": "stream",
     "text": [
      "Processing rows:  83%|████████▎ | 1011/1224 [1:59:55<19:53,  5.60s/it]"
     ]
    },
    {
     "name": "stdout",
     "output_type": "stream",
     "text": [
      "On 82.6%\n",
      "time elapsed: 7195(s), time left: 1515(s), estimated finish time: 02:24:23\n"
     ]
    },
    {
     "name": "stderr",
     "output_type": "stream",
     "text": [
      "Processing rows:  83%|████████▎ | 1012/1224 [1:59:58<16:59,  4.81s/it]"
     ]
    },
    {
     "name": "stdout",
     "output_type": "stream",
     "text": [
      "On 82.68%\n",
      "time elapsed: 7198(s), time left: 1507(s), estimated finish time: 02:24:18\n"
     ]
    },
    {
     "name": "stderr",
     "output_type": "stream",
     "text": [
      "Processing rows:  83%|████████▎ | 1013/1224 [2:00:01<14:55,  4.24s/it]"
     ]
    },
    {
     "name": "stdout",
     "output_type": "stream",
     "text": [
      "On 82.76%\n",
      "time elapsed: 7201(s), time left: 1499(s), estimated finish time: 02:24:13\n"
     ]
    },
    {
     "name": "stderr",
     "output_type": "stream",
     "text": [
      "Processing rows:  83%|████████▎ | 1014/1224 [2:00:04<13:39,  3.90s/it]"
     ]
    },
    {
     "name": "stdout",
     "output_type": "stream",
     "text": [
      "On 82.84%\n",
      "time elapsed: 7204(s), time left: 1492(s), estimated finish time: 02:24:08\n"
     ]
    },
    {
     "name": "stderr",
     "output_type": "stream",
     "text": [
      "Processing rows:  83%|████████▎ | 1015/1224 [2:00:07<12:16,  3.53s/it]"
     ]
    },
    {
     "name": "stdout",
     "output_type": "stream",
     "text": [
      "On 82.92%\n",
      "time elapsed: 7207(s), time left: 1484(s), estimated finish time: 02:24:03\n"
     ]
    },
    {
     "name": "stderr",
     "output_type": "stream",
     "text": [
      "Processing rows:  83%|████████▎ | 1016/1224 [2:00:09<11:14,  3.24s/it]"
     ]
    },
    {
     "name": "stdout",
     "output_type": "stream",
     "text": [
      "On 83.01%\n",
      "time elapsed: 7209(s), time left: 1476(s), estimated finish time: 02:23:57\n"
     ]
    },
    {
     "name": "stderr",
     "output_type": "stream",
     "text": [
      "Processing rows:  83%|████████▎ | 1017/1224 [2:00:18<17:13,  4.99s/it]"
     ]
    },
    {
     "name": "stdout",
     "output_type": "stream",
     "text": [
      "On 83.09%\n",
      "time elapsed: 7218(s), time left: 1469(s), estimated finish time: 02:24:00\n"
     ]
    },
    {
     "name": "stderr",
     "output_type": "stream",
     "text": [
      "Processing rows:  83%|████████▎ | 1018/1224 [2:00:21<14:48,  4.31s/it]"
     ]
    },
    {
     "name": "stdout",
     "output_type": "stream",
     "text": [
      "On 83.17%\n",
      "time elapsed: 7221(s), time left: 1461(s), estimated finish time: 02:23:55\n"
     ]
    },
    {
     "name": "stderr",
     "output_type": "stream",
     "text": [
      "Processing rows:  83%|████████▎ | 1019/1224 [2:00:24<13:01,  3.81s/it]"
     ]
    },
    {
     "name": "stdout",
     "output_type": "stream",
     "text": [
      "On 83.25%\n",
      "time elapsed: 7224(s), time left: 1453(s), estimated finish time: 02:23:49\n"
     ]
    },
    {
     "name": "stderr",
     "output_type": "stream",
     "text": [
      "Processing rows:  83%|████████▎ | 1020/1224 [2:00:26<11:41,  3.44s/it]"
     ]
    },
    {
     "name": "stdout",
     "output_type": "stream",
     "text": [
      "On 83.33%\n",
      "time elapsed: 7226(s), time left: 1445(s), estimated finish time: 02:23:44\n"
     ]
    },
    {
     "name": "stderr",
     "output_type": "stream",
     "text": [
      "Processing rows:  83%|████████▎ | 1021/1224 [2:00:29<11:21,  3.36s/it]"
     ]
    },
    {
     "name": "stdout",
     "output_type": "stream",
     "text": [
      "On 83.42%\n",
      "time elapsed: 7229(s), time left: 1437(s), estimated finish time: 02:23:39\n"
     ]
    },
    {
     "name": "stderr",
     "output_type": "stream",
     "text": [
      "Processing rows:  83%|████████▎ | 1022/1224 [2:00:40<18:13,  5.41s/it]"
     ]
    },
    {
     "name": "stdout",
     "output_type": "stream",
     "text": [
      "On 83.5%\n",
      "time elapsed: 7240(s), time left: 1431(s), estimated finish time: 02:23:43\n"
     ]
    },
    {
     "name": "stderr",
     "output_type": "stream",
     "text": [
      "Processing rows:  84%|████████▎ | 1023/1224 [2:00:47<20:33,  6.14s/it]"
     ]
    },
    {
     "name": "stdout",
     "output_type": "stream",
     "text": [
      "On 83.58%\n",
      "time elapsed: 7247(s), time left: 1424(s), estimated finish time: 02:23:44\n"
     ]
    },
    {
     "name": "stderr",
     "output_type": "stream",
     "text": [
      "Processing rows:  84%|████████▎ | 1024/1224 [2:00:50<16:48,  5.04s/it]"
     ]
    },
    {
     "name": "stdout",
     "output_type": "stream",
     "text": [
      "On 83.66%\n",
      "time elapsed: 7250(s), time left: 1416(s), estimated finish time: 02:23:38\n"
     ]
    },
    {
     "name": "stderr",
     "output_type": "stream",
     "text": [
      "Processing rows:  84%|████████▎ | 1025/1224 [2:00:58<19:32,  5.89s/it]"
     ]
    },
    {
     "name": "stdout",
     "output_type": "stream",
     "text": [
      "On 83.74%\n",
      "time elapsed: 7258(s), time left: 1409(s), estimated finish time: 02:23:39\n"
     ]
    },
    {
     "name": "stderr",
     "output_type": "stream",
     "text": [
      "Processing rows:  84%|████████▍ | 1026/1224 [2:01:00<16:10,  4.90s/it]"
     ]
    },
    {
     "name": "stdout",
     "output_type": "stream",
     "text": [
      "On 83.82%\n",
      "time elapsed: 7260(s), time left: 1401(s), estimated finish time: 02:23:34\n"
     ]
    },
    {
     "name": "stderr",
     "output_type": "stream",
     "text": [
      "Processing rows:  84%|████████▍ | 1027/1224 [2:01:03<13:52,  4.23s/it]"
     ]
    },
    {
     "name": "stdout",
     "output_type": "stream",
     "text": [
      "On 83.91%\n",
      "time elapsed: 7263(s), time left: 1393(s), estimated finish time: 02:23:29\n"
     ]
    },
    {
     "name": "stderr",
     "output_type": "stream",
     "text": [
      "Processing rows:  84%|████████▍ | 1028/1224 [2:01:06<12:36,  3.86s/it]"
     ]
    },
    {
     "name": "stdout",
     "output_type": "stream",
     "text": [
      "On 83.99%\n",
      "time elapsed: 7266(s), time left: 1385(s), estimated finish time: 02:23:24\n"
     ]
    },
    {
     "name": "stderr",
     "output_type": "stream",
     "text": [
      "Processing rows:  84%|████████▍ | 1029/1224 [2:01:09<11:33,  3.56s/it]"
     ]
    },
    {
     "name": "stdout",
     "output_type": "stream",
     "text": [
      "On 84.07%\n",
      "time elapsed: 7269(s), time left: 1377(s), estimated finish time: 02:23:19\n"
     ]
    },
    {
     "name": "stderr",
     "output_type": "stream",
     "text": [
      "Processing rows:  84%|████████▍ | 1030/1224 [2:01:12<10:39,  3.30s/it]"
     ]
    },
    {
     "name": "stdout",
     "output_type": "stream",
     "text": [
      "On 84.15%\n",
      "time elapsed: 7272(s), time left: 1369(s), estimated finish time: 02:23:14\n"
     ]
    },
    {
     "name": "stderr",
     "output_type": "stream",
     "text": [
      "Processing rows:  84%|████████▍ | 1031/1224 [2:01:20<15:14,  4.74s/it]"
     ]
    },
    {
     "name": "stdout",
     "output_type": "stream",
     "text": [
      "On 84.23%\n",
      "time elapsed: 7280(s), time left: 1362(s), estimated finish time: 02:23:15\n"
     ]
    },
    {
     "name": "stderr",
     "output_type": "stream",
     "text": [
      "Processing rows:  84%|████████▍ | 1032/1224 [2:01:28<18:40,  5.84s/it]"
     ]
    },
    {
     "name": "stdout",
     "output_type": "stream",
     "text": [
      "On 84.31%\n",
      "time elapsed: 7288(s), time left: 1356(s), estimated finish time: 02:23:16\n"
     ]
    },
    {
     "name": "stderr",
     "output_type": "stream",
     "text": [
      "Processing rows:  84%|████████▍ | 1033/1224 [2:01:31<15:23,  4.84s/it]"
     ]
    },
    {
     "name": "stdout",
     "output_type": "stream",
     "text": [
      "On 84.4%\n",
      "time elapsed: 7291(s), time left: 1348(s), estimated finish time: 02:23:11\n"
     ]
    },
    {
     "name": "stderr",
     "output_type": "stream",
     "text": [
      "Processing rows:  84%|████████▍ | 1034/1224 [2:01:33<12:57,  4.09s/it]"
     ]
    },
    {
     "name": "stdout",
     "output_type": "stream",
     "text": [
      "On 84.48%\n",
      "time elapsed: 7293(s), time left: 1340(s), estimated finish time: 02:23:05\n"
     ]
    },
    {
     "name": "stderr",
     "output_type": "stream",
     "text": [
      "Processing rows:  85%|████████▍ | 1035/1224 [2:01:36<11:43,  3.72s/it]"
     ]
    },
    {
     "name": "stdout",
     "output_type": "stream",
     "text": [
      "On 84.56%\n",
      "time elapsed: 7296(s), time left: 1332(s), estimated finish time: 02:23:00\n"
     ]
    },
    {
     "name": "stderr",
     "output_type": "stream",
     "text": [
      "Processing rows:  85%|████████▍ | 1036/1224 [2:01:44<15:25,  4.93s/it]"
     ]
    },
    {
     "name": "stdout",
     "output_type": "stream",
     "text": [
      "On 84.64%\n",
      "time elapsed: 7304(s), time left: 1325(s), estimated finish time: 02:23:01\n"
     ]
    },
    {
     "name": "stderr",
     "output_type": "stream",
     "text": [
      "Processing rows:  85%|████████▍ | 1037/1224 [2:01:46<13:23,  4.30s/it]"
     ]
    },
    {
     "name": "stdout",
     "output_type": "stream",
     "text": [
      "On 84.72%\n",
      "time elapsed: 7306(s), time left: 1317(s), estimated finish time: 02:22:56\n"
     ]
    },
    {
     "name": "stderr",
     "output_type": "stream",
     "text": [
      "Processing rows:  85%|████████▍ | 1038/1224 [2:01:49<11:45,  3.79s/it]"
     ]
    },
    {
     "name": "stdout",
     "output_type": "stream",
     "text": [
      "On 84.8%\n",
      "time elapsed: 7309(s), time left: 1309(s), estimated finish time: 02:22:51\n"
     ]
    },
    {
     "name": "stderr",
     "output_type": "stream",
     "text": [
      "Processing rows:  85%|████████▍ | 1039/1224 [2:01:58<16:07,  5.23s/it]"
     ]
    },
    {
     "name": "stdout",
     "output_type": "stream",
     "text": [
      "On 84.89%\n",
      "time elapsed: 7318(s), time left: 1303(s), estimated finish time: 02:22:53\n"
     ]
    },
    {
     "name": "stderr",
     "output_type": "stream",
     "text": [
      "Processing rows:  85%|████████▍ | 1040/1224 [2:02:00<13:34,  4.43s/it]"
     ]
    },
    {
     "name": "stdout",
     "output_type": "stream",
     "text": [
      "On 84.97%\n",
      "time elapsed: 7320(s), time left: 1295(s), estimated finish time: 02:22:48\n"
     ]
    },
    {
     "name": "stderr",
     "output_type": "stream",
     "text": [
      "Processing rows:  85%|████████▌ | 1041/1224 [2:02:03<11:47,  3.87s/it]"
     ]
    },
    {
     "name": "stdout",
     "output_type": "stream",
     "text": [
      "On 85.05%\n",
      "time elapsed: 7323(s), time left: 1287(s), estimated finish time: 02:22:42\n"
     ]
    },
    {
     "name": "stderr",
     "output_type": "stream",
     "text": [
      "Processing rows:  85%|████████▌ | 1042/1224 [2:02:06<10:47,  3.56s/it]"
     ]
    },
    {
     "name": "stdout",
     "output_type": "stream",
     "text": [
      "On 85.13%\n",
      "time elapsed: 7326(s), time left: 1279(s), estimated finish time: 02:22:37\n"
     ]
    },
    {
     "name": "stderr",
     "output_type": "stream",
     "text": [
      "Processing rows:  85%|████████▌ | 1043/1224 [2:02:09<10:20,  3.43s/it]"
     ]
    },
    {
     "name": "stdout",
     "output_type": "stream",
     "text": [
      "On 85.21%\n",
      "time elapsed: 7329(s), time left: 1271(s), estimated finish time: 02:22:33\n"
     ]
    },
    {
     "name": "stderr",
     "output_type": "stream",
     "text": [
      "Processing rows:  85%|████████▌ | 1044/1224 [2:02:11<09:45,  3.25s/it]"
     ]
    },
    {
     "name": "stdout",
     "output_type": "stream",
     "text": [
      "On 85.29%\n",
      "time elapsed: 7332(s), time left: 1264(s), estimated finish time: 02:22:28\n"
     ]
    },
    {
     "name": "stderr",
     "output_type": "stream",
     "text": [
      "Processing rows:  85%|████████▌ | 1045/1224 [2:02:19<13:16,  4.45s/it]"
     ]
    },
    {
     "name": "stdout",
     "output_type": "stream",
     "text": [
      "On 85.38%\n",
      "time elapsed: 7339(s), time left: 1257(s), estimated finish time: 02:22:28\n"
     ]
    },
    {
     "name": "stderr",
     "output_type": "stream",
     "text": [
      "Processing rows:  85%|████████▌ | 1046/1224 [2:02:26<15:57,  5.38s/it]"
     ]
    },
    {
     "name": "stdout",
     "output_type": "stream",
     "text": [
      "On 85.46%\n",
      "time elapsed: 7346(s), time left: 1250(s), estimated finish time: 02:22:29\n"
     ]
    },
    {
     "name": "stderr",
     "output_type": "stream",
     "text": [
      "Processing rows:  86%|████████▌ | 1047/1224 [2:02:33<17:27,  5.92s/it]"
     ]
    },
    {
     "name": "stdout",
     "output_type": "stream",
     "text": [
      "On 85.54%\n",
      "time elapsed: 7353(s), time left: 1243(s), estimated finish time: 02:22:29\n"
     ]
    },
    {
     "name": "stderr",
     "output_type": "stream",
     "text": [
      "Processing rows:  86%|████████▌ | 1048/1224 [2:02:41<18:42,  6.38s/it]"
     ]
    },
    {
     "name": "stdout",
     "output_type": "stream",
     "text": [
      "On 85.62%\n",
      "time elapsed: 7361(s), time left: 1236(s), estimated finish time: 02:22:29\n"
     ]
    },
    {
     "name": "stderr",
     "output_type": "stream",
     "text": [
      "Processing rows:  86%|████████▌ | 1049/1224 [2:02:48<19:18,  6.62s/it]"
     ]
    },
    {
     "name": "stdout",
     "output_type": "stream",
     "text": [
      "On 85.7%\n",
      "time elapsed: 7368(s), time left: 1229(s), estimated finish time: 02:22:30\n"
     ]
    },
    {
     "name": "stderr",
     "output_type": "stream",
     "text": [
      "Processing rows:  86%|████████▌ | 1050/1224 [2:02:55<19:46,  6.82s/it]"
     ]
    },
    {
     "name": "stdout",
     "output_type": "stream",
     "text": [
      "On 85.78%\n",
      "time elapsed: 7375(s), time left: 1222(s), estimated finish time: 02:22:30\n"
     ]
    },
    {
     "name": "stderr",
     "output_type": "stream",
     "text": [
      "Processing rows:  86%|████████▌ | 1051/1224 [2:03:02<19:27,  6.75s/it]"
     ]
    },
    {
     "name": "stdout",
     "output_type": "stream",
     "text": [
      "On 85.87%\n",
      "time elapsed: 7382(s), time left: 1215(s), estimated finish time: 02:22:29\n"
     ]
    },
    {
     "name": "stderr",
     "output_type": "stream",
     "text": [
      "Processing rows:  86%|████████▌ | 1052/1224 [2:03:09<19:44,  6.89s/it]"
     ]
    },
    {
     "name": "stdout",
     "output_type": "stream",
     "text": [
      "On 85.95%\n",
      "time elapsed: 7389(s), time left: 1208(s), estimated finish time: 02:22:30\n"
     ]
    },
    {
     "name": "stderr",
     "output_type": "stream",
     "text": [
      "Processing rows:  86%|████████▌ | 1053/1224 [2:03:17<20:51,  7.32s/it]"
     ]
    },
    {
     "name": "stdout",
     "output_type": "stream",
     "text": [
      "On 86.03%\n",
      "time elapsed: 7398(s), time left: 1201(s), estimated finish time: 02:22:31\n"
     ]
    },
    {
     "name": "stderr",
     "output_type": "stream",
     "text": [
      "Processing rows:  86%|████████▌ | 1054/1224 [2:03:25<20:32,  7.25s/it]"
     ]
    },
    {
     "name": "stdout",
     "output_type": "stream",
     "text": [
      "On 86.11%\n",
      "time elapsed: 7405(s), time left: 1194(s), estimated finish time: 02:22:31\n"
     ]
    },
    {
     "name": "stderr",
     "output_type": "stream",
     "text": [
      "Processing rows:  86%|████████▌ | 1055/1224 [2:03:32<20:18,  7.21s/it]"
     ]
    },
    {
     "name": "stdout",
     "output_type": "stream",
     "text": [
      "On 86.19%\n",
      "time elapsed: 7412(s), time left: 1187(s), estimated finish time: 02:22:31\n"
     ]
    },
    {
     "name": "stderr",
     "output_type": "stream",
     "text": [
      "Processing rows:  86%|████████▋ | 1056/1224 [2:03:39<20:39,  7.38s/it]"
     ]
    },
    {
     "name": "stdout",
     "output_type": "stream",
     "text": [
      "On 86.27%\n",
      "time elapsed: 7419(s), time left: 1180(s), estimated finish time: 02:22:32\n"
     ]
    },
    {
     "name": "stderr",
     "output_type": "stream",
     "text": [
      "Processing rows:  86%|████████▋ | 1057/1224 [2:03:46<20:13,  7.27s/it]"
     ]
    },
    {
     "name": "stdout",
     "output_type": "stream",
     "text": [
      "On 86.36%\n",
      "time elapsed: 7426(s), time left: 1173(s), estimated finish time: 02:22:32\n"
     ]
    },
    {
     "name": "stderr",
     "output_type": "stream",
     "text": [
      "Processing rows:  86%|████████▋ | 1058/1224 [2:03:54<20:13,  7.31s/it]"
     ]
    },
    {
     "name": "stdout",
     "output_type": "stream",
     "text": [
      "On 86.44%\n",
      "time elapsed: 7434(s), time left: 1166(s), estimated finish time: 02:22:33\n"
     ]
    },
    {
     "name": "stderr",
     "output_type": "stream",
     "text": [
      "Processing rows:  87%|████████▋ | 1059/1224 [2:04:01<20:00,  7.28s/it]"
     ]
    },
    {
     "name": "stdout",
     "output_type": "stream",
     "text": [
      "On 86.52%\n",
      "time elapsed: 7441(s), time left: 1159(s), estimated finish time: 02:22:33\n"
     ]
    },
    {
     "name": "stderr",
     "output_type": "stream",
     "text": [
      "Processing rows:  87%|████████▋ | 1060/1224 [2:04:08<19:57,  7.30s/it]"
     ]
    },
    {
     "name": "stdout",
     "output_type": "stream",
     "text": [
      "On 86.6%\n",
      "time elapsed: 7448(s), time left: 1152(s), estimated finish time: 02:22:33\n"
     ]
    },
    {
     "name": "stderr",
     "output_type": "stream",
     "text": [
      "Processing rows:  87%|████████▋ | 1061/1224 [2:04:16<19:41,  7.25s/it]"
     ]
    },
    {
     "name": "stdout",
     "output_type": "stream",
     "text": [
      "On 86.68%\n",
      "time elapsed: 7456(s), time left: 1145(s), estimated finish time: 02:22:33\n"
     ]
    },
    {
     "name": "stderr",
     "output_type": "stream",
     "text": [
      "Processing rows:  87%|████████▋ | 1062/1224 [2:04:23<19:46,  7.32s/it]"
     ]
    },
    {
     "name": "stdout",
     "output_type": "stream",
     "text": [
      "On 86.76%\n",
      "time elapsed: 7463(s), time left: 1138(s), estimated finish time: 02:22:34\n"
     ]
    },
    {
     "name": "stderr",
     "output_type": "stream",
     "text": [
      "Processing rows:  87%|████████▋ | 1063/1224 [2:04:30<19:38,  7.32s/it]"
     ]
    },
    {
     "name": "stdout",
     "output_type": "stream",
     "text": [
      "On 86.85%\n",
      "time elapsed: 7470(s), time left: 1131(s), estimated finish time: 02:22:34\n"
     ]
    },
    {
     "name": "stderr",
     "output_type": "stream",
     "text": [
      "Processing rows:  87%|████████▋ | 1064/1224 [2:04:38<19:38,  7.37s/it]"
     ]
    },
    {
     "name": "stdout",
     "output_type": "stream",
     "text": [
      "On 86.93%\n",
      "time elapsed: 7478(s), time left: 1124(s), estimated finish time: 02:22:35\n"
     ]
    },
    {
     "name": "stderr",
     "output_type": "stream",
     "text": [
      "Processing rows:  87%|████████▋ | 1065/1224 [2:04:45<19:26,  7.34s/it]"
     ]
    },
    {
     "name": "stdout",
     "output_type": "stream",
     "text": [
      "On 87.01%\n",
      "time elapsed: 7485(s), time left: 1117(s), estimated finish time: 02:22:35\n"
     ]
    },
    {
     "name": "stderr",
     "output_type": "stream",
     "text": [
      "Processing rows:  87%|████████▋ | 1066/1224 [2:04:52<19:10,  7.28s/it]"
     ]
    },
    {
     "name": "stdout",
     "output_type": "stream",
     "text": [
      "On 87.09%\n",
      "time elapsed: 7492(s), time left: 1110(s), estimated finish time: 02:22:35\n"
     ]
    },
    {
     "name": "stderr",
     "output_type": "stream",
     "text": [
      "Processing rows:  87%|████████▋ | 1067/1224 [2:04:59<18:55,  7.23s/it]"
     ]
    },
    {
     "name": "stdout",
     "output_type": "stream",
     "text": [
      "On 87.17%\n",
      "time elapsed: 7499(s), time left: 1103(s), estimated finish time: 02:22:35\n"
     ]
    },
    {
     "name": "stderr",
     "output_type": "stream",
     "text": [
      "Processing rows:  87%|████████▋ | 1068/1224 [2:05:07<19:17,  7.42s/it]"
     ]
    },
    {
     "name": "stdout",
     "output_type": "stream",
     "text": [
      "On 87.25%\n",
      "time elapsed: 7507(s), time left: 1096(s), estimated finish time: 02:22:36\n"
     ]
    },
    {
     "name": "stderr",
     "output_type": "stream",
     "text": [
      "Processing rows:  87%|████████▋ | 1069/1224 [2:05:15<19:17,  7.47s/it]"
     ]
    },
    {
     "name": "stdout",
     "output_type": "stream",
     "text": [
      "On 87.34%\n",
      "time elapsed: 7515(s), time left: 1089(s), estimated finish time: 02:22:37\n"
     ]
    },
    {
     "name": "stderr",
     "output_type": "stream",
     "text": [
      "Processing rows:  87%|████████▋ | 1070/1224 [2:05:22<19:01,  7.41s/it]"
     ]
    },
    {
     "name": "stdout",
     "output_type": "stream",
     "text": [
      "On 87.42%\n",
      "time elapsed: 7522(s), time left: 1082(s), estimated finish time: 02:22:37\n"
     ]
    },
    {
     "name": "stderr",
     "output_type": "stream",
     "text": [
      "Processing rows:  88%|████████▊ | 1071/1224 [2:05:30<19:04,  7.48s/it]"
     ]
    },
    {
     "name": "stdout",
     "output_type": "stream",
     "text": [
      "On 87.5%\n",
      "time elapsed: 7530(s), time left: 1075(s), estimated finish time: 02:22:38\n"
     ]
    },
    {
     "name": "stderr",
     "output_type": "stream",
     "text": [
      "Processing rows:  88%|████████▊ | 1072/1224 [2:05:37<18:47,  7.42s/it]"
     ]
    },
    {
     "name": "stdout",
     "output_type": "stream",
     "text": [
      "On 87.58%\n",
      "time elapsed: 7537(s), time left: 1068(s), estimated finish time: 02:22:38\n"
     ]
    },
    {
     "name": "stderr",
     "output_type": "stream",
     "text": [
      "Processing rows:  88%|████████▊ | 1073/1224 [2:05:44<18:35,  7.39s/it]"
     ]
    },
    {
     "name": "stdout",
     "output_type": "stream",
     "text": [
      "On 87.66%\n",
      "time elapsed: 7544(s), time left: 1061(s), estimated finish time: 02:22:38\n"
     ]
    },
    {
     "name": "stderr",
     "output_type": "stream",
     "text": [
      "Processing rows:  88%|████████▊ | 1074/1224 [2:05:51<18:17,  7.32s/it]"
     ]
    },
    {
     "name": "stdout",
     "output_type": "stream",
     "text": [
      "On 87.75%\n",
      "time elapsed: 7552(s), time left: 1054(s), estimated finish time: 02:22:38\n"
     ]
    },
    {
     "name": "stderr",
     "output_type": "stream",
     "text": [
      "Processing rows:  88%|████████▊ | 1075/1224 [2:05:59<18:34,  7.48s/it]"
     ]
    },
    {
     "name": "stdout",
     "output_type": "stream",
     "text": [
      "On 87.83%\n",
      "time elapsed: 7559(s), time left: 1047(s), estimated finish time: 02:22:39\n"
     ]
    },
    {
     "name": "stderr",
     "output_type": "stream",
     "text": [
      "Processing rows:  88%|████████▊ | 1076/1224 [2:06:06<18:08,  7.36s/it]"
     ]
    },
    {
     "name": "stdout",
     "output_type": "stream",
     "text": [
      "On 87.91%\n",
      "time elapsed: 7566(s), time left: 1040(s), estimated finish time: 02:22:39\n"
     ]
    },
    {
     "name": "stderr",
     "output_type": "stream",
     "text": [
      "Processing rows:  88%|████████▊ | 1077/1224 [2:06:14<17:51,  7.29s/it]"
     ]
    },
    {
     "name": "stdout",
     "output_type": "stream",
     "text": [
      "On 87.99%\n",
      "time elapsed: 7574(s), time left: 1033(s), estimated finish time: 02:22:40\n"
     ]
    },
    {
     "name": "stderr",
     "output_type": "stream",
     "text": [
      "Processing rows:  88%|████████▊ | 1078/1224 [2:06:21<17:32,  7.21s/it]"
     ]
    },
    {
     "name": "stdout",
     "output_type": "stream",
     "text": [
      "On 88.07%\n",
      "time elapsed: 7581(s), time left: 1026(s), estimated finish time: 02:22:40\n"
     ]
    },
    {
     "name": "stderr",
     "output_type": "stream",
     "text": [
      "Processing rows:  88%|████████▊ | 1079/1224 [2:06:28<17:20,  7.17s/it]"
     ]
    },
    {
     "name": "stdout",
     "output_type": "stream",
     "text": [
      "On 88.15%\n",
      "time elapsed: 7588(s), time left: 1019(s), estimated finish time: 02:22:40\n"
     ]
    },
    {
     "name": "stderr",
     "output_type": "stream",
     "text": [
      "Processing rows:  88%|████████▊ | 1080/1224 [2:06:35<17:08,  7.14s/it]"
     ]
    },
    {
     "name": "stdout",
     "output_type": "stream",
     "text": [
      "On 88.24%\n",
      "time elapsed: 7595(s), time left: 1012(s), estimated finish time: 02:22:40\n"
     ]
    },
    {
     "name": "stderr",
     "output_type": "stream",
     "text": [
      "Processing rows:  88%|████████▊ | 1081/1224 [2:06:41<16:36,  6.97s/it]"
     ]
    },
    {
     "name": "stdout",
     "output_type": "stream",
     "text": [
      "On 88.32%\n",
      "time elapsed: 7601(s), time left: 1005(s), estimated finish time: 02:22:39\n"
     ]
    },
    {
     "name": "stderr",
     "output_type": "stream",
     "text": [
      "Processing rows:  88%|████████▊ | 1082/1224 [2:06:51<18:09,  7.67s/it]"
     ]
    },
    {
     "name": "stdout",
     "output_type": "stream",
     "text": [
      "On 88.4%\n",
      "time elapsed: 7611(s), time left: 998(s), estimated finish time: 02:22:42\n"
     ]
    },
    {
     "name": "stderr",
     "output_type": "stream",
     "text": [
      "Processing rows:  88%|████████▊ | 1083/1224 [2:07:01<19:50,  8.45s/it]"
     ]
    },
    {
     "name": "stdout",
     "output_type": "stream",
     "text": [
      "On 88.48%\n",
      "time elapsed: 7621(s), time left: 992(s), estimated finish time: 02:22:45\n"
     ]
    },
    {
     "name": "stderr",
     "output_type": "stream",
     "text": [
      "Processing rows:  89%|████████▊ | 1084/1224 [2:07:11<20:46,  8.90s/it]"
     ]
    },
    {
     "name": "stdout",
     "output_type": "stream",
     "text": [
      "On 88.56%\n",
      "time elapsed: 7631(s), time left: 985(s), estimated finish time: 02:22:49\n"
     ]
    },
    {
     "name": "stderr",
     "output_type": "stream",
     "text": [
      "Processing rows:  89%|████████▊ | 1085/1224 [2:07:20<20:37,  8.90s/it]"
     ]
    },
    {
     "name": "stdout",
     "output_type": "stream",
     "text": [
      "On 88.64%\n",
      "time elapsed: 7640(s), time left: 978(s), estimated finish time: 02:22:51\n"
     ]
    },
    {
     "name": "stderr",
     "output_type": "stream",
     "text": [
      "Processing rows:  89%|████████▊ | 1086/1224 [2:07:30<21:11,  9.21s/it]"
     ]
    },
    {
     "name": "stdout",
     "output_type": "stream",
     "text": [
      "On 88.73%\n",
      "time elapsed: 7650(s), time left: 972(s), estimated finish time: 02:22:54\n"
     ]
    },
    {
     "name": "stderr",
     "output_type": "stream",
     "text": [
      "Processing rows:  89%|████████▉ | 1087/1224 [2:07:39<21:02,  9.21s/it]"
     ]
    },
    {
     "name": "stdout",
     "output_type": "stream",
     "text": [
      "On 88.81%\n",
      "time elapsed: 7659(s), time left: 965(s), estimated finish time: 02:22:56\n"
     ]
    },
    {
     "name": "stderr",
     "output_type": "stream",
     "text": [
      "Processing rows:  89%|████████▉ | 1088/1224 [2:07:49<21:35,  9.53s/it]"
     ]
    },
    {
     "name": "stdout",
     "output_type": "stream",
     "text": [
      "On 88.89%\n",
      "time elapsed: 7669(s), time left: 958(s), estimated finish time: 02:23:00\n"
     ]
    },
    {
     "name": "stderr",
     "output_type": "stream",
     "text": [
      "Processing rows:  89%|████████▉ | 1089/1224 [2:07:59<21:25,  9.52s/it]"
     ]
    },
    {
     "name": "stdout",
     "output_type": "stream",
     "text": [
      "On 88.97%\n",
      "time elapsed: 7679(s), time left: 951(s), estimated finish time: 02:23:03\n"
     ]
    },
    {
     "name": "stderr",
     "output_type": "stream",
     "text": [
      "Processing rows:  89%|████████▉ | 1090/1224 [2:08:05<19:25,  8.70s/it]"
     ]
    },
    {
     "name": "stdout",
     "output_type": "stream",
     "text": [
      "On 89.05%\n",
      "time elapsed: 7685(s), time left: 944(s), estimated finish time: 02:23:03\n"
     ]
    },
    {
     "name": "stderr",
     "output_type": "stream",
     "text": [
      "Processing rows:  89%|████████▉ | 1091/1224 [2:08:15<20:08,  9.08s/it]"
     ]
    },
    {
     "name": "stdout",
     "output_type": "stream",
     "text": [
      "On 89.13%\n",
      "time elapsed: 7695(s), time left: 938(s), estimated finish time: 02:23:06\n"
     ]
    },
    {
     "name": "stderr",
     "output_type": "stream",
     "text": [
      "Processing rows:  89%|████████▉ | 1092/1224 [2:08:23<18:42,  8.50s/it]"
     ]
    },
    {
     "name": "stdout",
     "output_type": "stream",
     "text": [
      "On 89.22%\n",
      "time elapsed: 7703(s), time left: 931(s), estimated finish time: 02:23:06\n"
     ]
    },
    {
     "name": "stderr",
     "output_type": "stream",
     "text": [
      "Processing rows:  89%|████████▉ | 1093/1224 [2:08:31<18:47,  8.61s/it]"
     ]
    },
    {
     "name": "stdout",
     "output_type": "stream",
     "text": [
      "On 89.3%\n",
      "time elapsed: 7711(s), time left: 924(s), estimated finish time: 02:23:08\n"
     ]
    },
    {
     "name": "stderr",
     "output_type": "stream",
     "text": [
      "Processing rows:  89%|████████▉ | 1094/1224 [2:08:41<19:01,  8.78s/it]"
     ]
    },
    {
     "name": "stdout",
     "output_type": "stream",
     "text": [
      "On 89.38%\n",
      "time elapsed: 7721(s), time left: 917(s), estimated finish time: 02:23:10\n"
     ]
    },
    {
     "name": "stderr",
     "output_type": "stream",
     "text": [
      "Processing rows:  89%|████████▉ | 1095/1224 [2:08:47<17:33,  8.17s/it]"
     ]
    },
    {
     "name": "stdout",
     "output_type": "stream",
     "text": [
      "On 89.46%\n",
      "time elapsed: 7727(s), time left: 910(s), estimated finish time: 02:23:10\n"
     ]
    },
    {
     "name": "stderr",
     "output_type": "stream",
     "text": [
      "Processing rows:  90%|████████▉ | 1096/1224 [2:08:56<18:04,  8.47s/it]"
     ]
    },
    {
     "name": "stdout",
     "output_type": "stream",
     "text": [
      "On 89.54%\n",
      "time elapsed: 7737(s), time left: 903(s), estimated finish time: 02:23:12\n"
     ]
    },
    {
     "name": "stderr",
     "output_type": "stream",
     "text": [
      "Processing rows:  90%|████████▉ | 1097/1224 [2:09:06<18:54,  8.93s/it]"
     ]
    },
    {
     "name": "stdout",
     "output_type": "stream",
     "text": [
      "On 89.62%\n",
      "time elapsed: 7747(s), time left: 896(s), estimated finish time: 02:23:16\n"
     ]
    },
    {
     "name": "stderr",
     "output_type": "stream",
     "text": [
      "Processing rows:  90%|████████▉ | 1098/1224 [2:09:15<18:35,  8.85s/it]"
     ]
    },
    {
     "name": "stdout",
     "output_type": "stream",
     "text": [
      "On 89.71%\n",
      "time elapsed: 7755(s), time left: 889(s), estimated finish time: 02:23:17\n"
     ]
    },
    {
     "name": "stderr",
     "output_type": "stream",
     "text": [
      "Processing rows:  90%|████████▉ | 1099/1224 [2:09:22<17:18,  8.31s/it]"
     ]
    },
    {
     "name": "stdout",
     "output_type": "stream",
     "text": [
      "On 89.79%\n",
      "time elapsed: 7762(s), time left: 882(s), estimated finish time: 02:23:17\n"
     ]
    },
    {
     "name": "stderr",
     "output_type": "stream",
     "text": [
      "Processing rows:  90%|████████▉ | 1100/1224 [2:09:29<16:12,  7.85s/it]"
     ]
    },
    {
     "name": "stdout",
     "output_type": "stream",
     "text": [
      "On 89.87%\n",
      "time elapsed: 7769(s), time left: 875(s), estimated finish time: 02:23:17\n"
     ]
    },
    {
     "name": "stderr",
     "output_type": "stream",
     "text": [
      "Processing rows:  90%|████████▉ | 1101/1224 [2:09:38<16:39,  8.13s/it]"
     ]
    },
    {
     "name": "stdout",
     "output_type": "stream",
     "text": [
      "On 89.95%\n",
      "time elapsed: 7778(s), time left: 868(s), estimated finish time: 02:23:19\n"
     ]
    },
    {
     "name": "stderr",
     "output_type": "stream",
     "text": [
      "Processing rows:  90%|█████████ | 1102/1224 [2:09:45<15:55,  7.83s/it]"
     ]
    },
    {
     "name": "stdout",
     "output_type": "stream",
     "text": [
      "On 90.03%\n",
      "time elapsed: 7785(s), time left: 861(s), estimated finish time: 02:23:19\n"
     ]
    },
    {
     "name": "stderr",
     "output_type": "stream",
     "text": [
      "Processing rows:  90%|█████████ | 1103/1224 [2:09:54<16:26,  8.16s/it]"
     ]
    },
    {
     "name": "stdout",
     "output_type": "stream",
     "text": [
      "On 90.11%\n",
      "time elapsed: 7794(s), time left: 855(s), estimated finish time: 02:23:21\n"
     ]
    },
    {
     "name": "stderr",
     "output_type": "stream",
     "text": [
      "Processing rows:  90%|█████████ | 1104/1224 [2:10:01<15:41,  7.84s/it]"
     ]
    },
    {
     "name": "stdout",
     "output_type": "stream",
     "text": [
      "On 90.2%\n",
      "time elapsed: 7801(s), time left: 847(s), estimated finish time: 02:23:21\n"
     ]
    },
    {
     "name": "stderr",
     "output_type": "stream",
     "text": [
      "Processing rows:  90%|█████████ | 1105/1224 [2:10:10<16:16,  8.20s/it]"
     ]
    },
    {
     "name": "stdout",
     "output_type": "stream",
     "text": [
      "On 90.28%\n",
      "time elapsed: 7810(s), time left: 841(s), estimated finish time: 02:23:23\n"
     ]
    },
    {
     "name": "stderr",
     "output_type": "stream",
     "text": [
      "Processing rows:  90%|█████████ | 1106/1224 [2:10:20<17:13,  8.76s/it]"
     ]
    },
    {
     "name": "stdout",
     "output_type": "stream",
     "text": [
      "On 90.36%\n",
      "time elapsed: 7820(s), time left: 834(s), estimated finish time: 02:23:27\n"
     ]
    },
    {
     "name": "stderr",
     "output_type": "stream",
     "text": [
      "Processing rows:  90%|█████████ | 1107/1224 [2:10:30<17:32,  9.00s/it]"
     ]
    },
    {
     "name": "stdout",
     "output_type": "stream",
     "text": [
      "On 90.44%\n",
      "time elapsed: 7830(s), time left: 827(s), estimated finish time: 02:23:29\n"
     ]
    },
    {
     "name": "stderr",
     "output_type": "stream",
     "text": [
      "Processing rows:  91%|█████████ | 1108/1224 [2:10:37<16:17,  8.43s/it]"
     ]
    },
    {
     "name": "stdout",
     "output_type": "stream",
     "text": [
      "On 90.52%\n",
      "time elapsed: 7837(s), time left: 820(s), estimated finish time: 02:23:29\n"
     ]
    },
    {
     "name": "stderr",
     "output_type": "stream",
     "text": [
      "Processing rows:  91%|█████████ | 1109/1224 [2:10:46<16:35,  8.65s/it]"
     ]
    },
    {
     "name": "stdout",
     "output_type": "stream",
     "text": [
      "On 90.6%\n",
      "time elapsed: 7846(s), time left: 813(s), estimated finish time: 02:23:32\n"
     ]
    },
    {
     "name": "stderr",
     "output_type": "stream",
     "text": [
      "Processing rows:  91%|█████████ | 1110/1224 [2:10:55<16:59,  8.94s/it]"
     ]
    },
    {
     "name": "stdout",
     "output_type": "stream",
     "text": [
      "On 90.69%\n",
      "time elapsed: 7856(s), time left: 806(s), estimated finish time: 02:23:35\n"
     ]
    },
    {
     "name": "stderr",
     "output_type": "stream",
     "text": [
      "Processing rows:  91%|█████████ | 1111/1224 [2:11:03<15:57,  8.47s/it]"
     ]
    },
    {
     "name": "stdout",
     "output_type": "stream",
     "text": [
      "On 90.77%\n",
      "time elapsed: 7863(s), time left: 799(s), estimated finish time: 02:23:35\n"
     ]
    },
    {
     "name": "stderr",
     "output_type": "stream",
     "text": [
      "Processing rows:  91%|█████████ | 1112/1224 [2:11:10<15:02,  8.05s/it]"
     ]
    },
    {
     "name": "stdout",
     "output_type": "stream",
     "text": [
      "On 90.85%\n",
      "time elapsed: 7870(s), time left: 792(s), estimated finish time: 02:23:35\n"
     ]
    },
    {
     "name": "stderr",
     "output_type": "stream",
     "text": [
      "Processing rows:  91%|█████████ | 1113/1224 [2:11:19<15:36,  8.44s/it]"
     ]
    },
    {
     "name": "stdout",
     "output_type": "stream",
     "text": [
      "On 90.93%\n",
      "time elapsed: 7879(s), time left: 785(s), estimated finish time: 02:23:37\n"
     ]
    },
    {
     "name": "stderr",
     "output_type": "stream",
     "text": [
      "Processing rows:  91%|█████████ | 1114/1224 [2:11:26<14:44,  8.04s/it]"
     ]
    },
    {
     "name": "stdout",
     "output_type": "stream",
     "text": [
      "On 91.01%\n",
      "time elapsed: 7886(s), time left: 778(s), estimated finish time: 02:23:37\n"
     ]
    },
    {
     "name": "stderr",
     "output_type": "stream",
     "text": [
      "Processing rows:  91%|█████████ | 1115/1224 [2:11:33<13:51,  7.62s/it]"
     ]
    },
    {
     "name": "stdout",
     "output_type": "stream",
     "text": [
      "On 91.09%\n",
      "time elapsed: 7893(s), time left: 771(s), estimated finish time: 02:23:37\n"
     ]
    },
    {
     "name": "stderr",
     "output_type": "stream",
     "text": [
      "Processing rows:  91%|█████████ | 1116/1224 [2:11:42<14:27,  8.04s/it]"
     ]
    },
    {
     "name": "stdout",
     "output_type": "stream",
     "text": [
      "On 91.18%\n",
      "time elapsed: 7902(s), time left: 764(s), estimated finish time: 02:23:39\n"
     ]
    },
    {
     "name": "stderr",
     "output_type": "stream",
     "text": [
      "Processing rows:  91%|█████████▏| 1117/1224 [2:11:45<11:37,  6.52s/it]"
     ]
    },
    {
     "name": "stdout",
     "output_type": "stream",
     "text": [
      "On 91.26%\n",
      "time elapsed: 7905(s), time left: 757(s), estimated finish time: 02:23:35\n"
     ]
    },
    {
     "name": "stderr",
     "output_type": "stream",
     "text": [
      "Processing rows:  91%|█████████▏| 1118/1224 [2:11:49<09:55,  5.62s/it]"
     ]
    },
    {
     "name": "stdout",
     "output_type": "stream",
     "text": [
      "On 91.34%\n",
      "time elapsed: 7909(s), time left: 749(s), estimated finish time: 02:23:31\n"
     ]
    },
    {
     "name": "stderr",
     "output_type": "stream",
     "text": [
      "Processing rows:  91%|█████████▏| 1119/1224 [2:11:51<08:22,  4.79s/it]"
     ]
    },
    {
     "name": "stdout",
     "output_type": "stream",
     "text": [
      "On 91.42%\n",
      "time elapsed: 7911(s), time left: 742(s), estimated finish time: 02:23:26\n"
     ]
    },
    {
     "name": "stderr",
     "output_type": "stream",
     "text": [
      "Processing rows:  92%|█████████▏| 1120/1224 [2:11:54<07:21,  4.25s/it]"
     ]
    },
    {
     "name": "stdout",
     "output_type": "stream",
     "text": [
      "On 91.5%\n",
      "time elapsed: 7914(s), time left: 734(s), estimated finish time: 02:23:22\n"
     ]
    },
    {
     "name": "stderr",
     "output_type": "stream",
     "text": [
      "Processing rows:  92%|█████████▏| 1121/1224 [2:12:04<09:59,  5.82s/it]"
     ]
    },
    {
     "name": "stdout",
     "output_type": "stream",
     "text": [
      "On 91.58%\n",
      "time elapsed: 7924(s), time left: 728(s), estimated finish time: 02:23:24\n"
     ]
    },
    {
     "name": "stderr",
     "output_type": "stream",
     "text": [
      "Processing rows:  92%|█████████▏| 1122/1224 [2:12:07<08:20,  4.91s/it]"
     ]
    },
    {
     "name": "stdout",
     "output_type": "stream",
     "text": [
      "On 91.67%\n",
      "time elapsed: 7927(s), time left: 720(s), estimated finish time: 02:23:20\n"
     ]
    },
    {
     "name": "stderr",
     "output_type": "stream",
     "text": [
      "Processing rows:  92%|█████████▏| 1123/1224 [2:12:16<10:21,  6.16s/it]"
     ]
    },
    {
     "name": "stdout",
     "output_type": "stream",
     "text": [
      "On 91.75%\n",
      "time elapsed: 7936(s), time left: 713(s), estimated finish time: 02:23:22\n"
     ]
    },
    {
     "name": "stderr",
     "output_type": "stream",
     "text": [
      "Processing rows:  92%|█████████▏| 1124/1224 [2:12:19<08:47,  5.28s/it]"
     ]
    },
    {
     "name": "stdout",
     "output_type": "stream",
     "text": [
      "On 91.83%\n",
      "time elapsed: 7939(s), time left: 706(s), estimated finish time: 02:23:18\n"
     ]
    },
    {
     "name": "stderr",
     "output_type": "stream",
     "text": [
      "Processing rows:  92%|█████████▏| 1125/1224 [2:12:28<10:46,  6.53s/it]"
     ]
    },
    {
     "name": "stdout",
     "output_type": "stream",
     "text": [
      "On 91.91%\n",
      "time elapsed: 7948(s), time left: 699(s), estimated finish time: 02:23:20\n"
     ]
    },
    {
     "name": "stderr",
     "output_type": "stream",
     "text": [
      "Processing rows:  92%|█████████▏| 1126/1224 [2:12:31<08:58,  5.49s/it]"
     ]
    },
    {
     "name": "stdout",
     "output_type": "stream",
     "text": [
      "On 91.99%\n",
      "time elapsed: 7951(s), time left: 692(s), estimated finish time: 02:23:16\n"
     ]
    },
    {
     "name": "stderr",
     "output_type": "stream",
     "text": [
      "Processing rows:  92%|█████████▏| 1127/1224 [2:12:35<07:50,  4.85s/it]"
     ]
    },
    {
     "name": "stdout",
     "output_type": "stream",
     "text": [
      "On 92.08%\n",
      "time elapsed: 7955(s), time left: 684(s), estimated finish time: 02:23:12\n"
     ]
    },
    {
     "name": "stderr",
     "output_type": "stream",
     "text": [
      "Processing rows:  92%|█████████▏| 1128/1224 [2:12:39<07:16,  4.54s/it]"
     ]
    },
    {
     "name": "stdout",
     "output_type": "stream",
     "text": [
      "On 92.16%\n",
      "time elapsed: 7959(s), time left: 677(s), estimated finish time: 02:23:08\n"
     ]
    },
    {
     "name": "stderr",
     "output_type": "stream",
     "text": [
      "Processing rows:  92%|█████████▏| 1129/1224 [2:12:41<06:23,  4.04s/it]"
     ]
    },
    {
     "name": "stdout",
     "output_type": "stream",
     "text": [
      "On 92.24%\n",
      "time elapsed: 7962(s), time left: 669(s), estimated finish time: 02:23:04\n"
     ]
    },
    {
     "name": "stderr",
     "output_type": "stream",
     "text": [
      "Processing rows:  92%|█████████▏| 1130/1224 [2:12:45<06:03,  3.87s/it]"
     ]
    },
    {
     "name": "stdout",
     "output_type": "stream",
     "text": [
      "On 92.32%\n",
      "time elapsed: 7965(s), time left: 662(s), estimated finish time: 02:23:00\n"
     ]
    },
    {
     "name": "stderr",
     "output_type": "stream",
     "text": [
      "Processing rows:  92%|█████████▏| 1131/1224 [2:12:48<05:42,  3.68s/it]"
     ]
    },
    {
     "name": "stdout",
     "output_type": "stream",
     "text": [
      "On 92.4%\n",
      "time elapsed: 7968(s), time left: 655(s), estimated finish time: 02:22:56\n"
     ]
    },
    {
     "name": "stderr",
     "output_type": "stream",
     "text": [
      "Processing rows:  92%|█████████▏| 1132/1224 [2:12:51<05:25,  3.54s/it]"
     ]
    },
    {
     "name": "stdout",
     "output_type": "stream",
     "text": [
      "On 92.48%\n",
      "time elapsed: 7971(s), time left: 647(s), estimated finish time: 02:22:52\n"
     ]
    },
    {
     "name": "stderr",
     "output_type": "stream",
     "text": [
      "Processing rows:  93%|█████████▎| 1133/1224 [2:13:01<08:03,  5.31s/it]"
     ]
    },
    {
     "name": "stdout",
     "output_type": "stream",
     "text": [
      "On 92.57%\n",
      "time elapsed: 7981(s), time left: 641(s), estimated finish time: 02:22:54\n"
     ]
    },
    {
     "name": "stderr",
     "output_type": "stream",
     "text": [
      "Processing rows:  93%|█████████▎| 1134/1224 [2:13:04<07:09,  4.77s/it]"
     ]
    },
    {
     "name": "stdout",
     "output_type": "stream",
     "text": [
      "On 92.65%\n",
      "time elapsed: 7984(s), time left: 633(s), estimated finish time: 02:22:50\n"
     ]
    },
    {
     "name": "stderr",
     "output_type": "stream",
     "text": [
      "Processing rows:  93%|█████████▎| 1135/1224 [2:13:08<06:23,  4.31s/it]"
     ]
    },
    {
     "name": "stdout",
     "output_type": "stream",
     "text": [
      "On 92.73%\n",
      "time elapsed: 7988(s), time left: 626(s), estimated finish time: 02:22:46\n"
     ]
    },
    {
     "name": "stderr",
     "output_type": "stream",
     "text": [
      "Processing rows:  93%|█████████▎| 1136/1224 [2:13:17<08:35,  5.86s/it]"
     ]
    },
    {
     "name": "stdout",
     "output_type": "stream",
     "text": [
      "On 92.81%\n",
      "time elapsed: 7997(s), time left: 619(s), estimated finish time: 02:22:49\n"
     ]
    },
    {
     "name": "stderr",
     "output_type": "stream",
     "text": [
      "Processing rows:  93%|█████████▎| 1137/1224 [2:13:20<07:10,  4.94s/it]"
     ]
    },
    {
     "name": "stdout",
     "output_type": "stream",
     "text": [
      "On 92.89%\n",
      "time elapsed: 8000(s), time left: 612(s), estimated finish time: 02:22:44\n"
     ]
    },
    {
     "name": "stderr",
     "output_type": "stream",
     "text": [
      "Processing rows:  93%|█████████▎| 1138/1224 [2:13:23<06:17,  4.39s/it]"
     ]
    },
    {
     "name": "stdout",
     "output_type": "stream",
     "text": [
      "On 92.97%\n",
      "time elapsed: 8003(s), time left: 604(s), estimated finish time: 02:22:40\n"
     ]
    },
    {
     "name": "stderr",
     "output_type": "stream",
     "text": [
      "Processing rows:  93%|█████████▎| 1139/1224 [2:13:27<06:08,  4.34s/it]"
     ]
    },
    {
     "name": "stdout",
     "output_type": "stream",
     "text": [
      "On 93.06%\n",
      "time elapsed: 8007(s), time left: 597(s), estimated finish time: 02:22:37\n"
     ]
    },
    {
     "name": "stderr",
     "output_type": "stream",
     "text": [
      "Processing rows:  93%|█████████▎| 1140/1224 [2:13:30<05:25,  3.88s/it]"
     ]
    },
    {
     "name": "stdout",
     "output_type": "stream",
     "text": [
      "On 93.14%\n",
      "time elapsed: 8010(s), time left: 590(s), estimated finish time: 02:22:32\n"
     ]
    },
    {
     "name": "stderr",
     "output_type": "stream",
     "text": [
      "Processing rows:  93%|█████████▎| 1141/1224 [2:13:33<04:56,  3.57s/it]"
     ]
    },
    {
     "name": "stdout",
     "output_type": "stream",
     "text": [
      "On 93.22%\n",
      "time elapsed: 8013(s), time left: 582(s), estimated finish time: 02:22:28\n"
     ]
    },
    {
     "name": "stderr",
     "output_type": "stream",
     "text": [
      "Processing rows:  93%|█████████▎| 1142/1224 [2:13:36<04:44,  3.47s/it]"
     ]
    },
    {
     "name": "stdout",
     "output_type": "stream",
     "text": [
      "On 93.3%\n",
      "time elapsed: 8016(s), time left: 575(s), estimated finish time: 02:22:24\n"
     ]
    },
    {
     "name": "stderr",
     "output_type": "stream",
     "text": [
      "Processing rows:  93%|█████████▎| 1143/1224 [2:13:39<04:39,  3.45s/it]"
     ]
    },
    {
     "name": "stdout",
     "output_type": "stream",
     "text": [
      "On 93.38%\n",
      "time elapsed: 8020(s), time left: 568(s), estimated finish time: 02:22:20\n"
     ]
    },
    {
     "name": "stderr",
     "output_type": "stream",
     "text": [
      "Processing rows:  93%|█████████▎| 1144/1224 [2:13:49<06:58,  5.23s/it]"
     ]
    },
    {
     "name": "stdout",
     "output_type": "stream",
     "text": [
      "On 93.46%\n",
      "time elapsed: 8029(s), time left: 561(s), estimated finish time: 02:22:23\n"
     ]
    },
    {
     "name": "stderr",
     "output_type": "stream",
     "text": [
      "Processing rows:  94%|█████████▎| 1145/1224 [2:13:52<06:08,  4.67s/it]"
     ]
    },
    {
     "name": "stdout",
     "output_type": "stream",
     "text": [
      "On 93.55%\n",
      "time elapsed: 8032(s), time left: 554(s), estimated finish time: 02:22:19\n"
     ]
    },
    {
     "name": "stderr",
     "output_type": "stream",
     "text": [
      "Processing rows:  94%|█████████▎| 1146/1224 [2:13:56<05:44,  4.41s/it]"
     ]
    },
    {
     "name": "stdout",
     "output_type": "stream",
     "text": [
      "On 93.63%\n",
      "time elapsed: 8036(s), time left: 546(s), estimated finish time: 02:22:15\n"
     ]
    },
    {
     "name": "stderr",
     "output_type": "stream",
     "text": [
      "Processing rows:  94%|█████████▎| 1147/1224 [2:14:00<05:25,  4.23s/it]"
     ]
    },
    {
     "name": "stdout",
     "output_type": "stream",
     "text": [
      "On 93.71%\n",
      "time elapsed: 8040(s), time left: 539(s), estimated finish time: 02:22:12\n"
     ]
    },
    {
     "name": "stderr",
     "output_type": "stream",
     "text": [
      "Processing rows:  94%|█████████▍| 1148/1224 [2:14:03<04:57,  3.92s/it]"
     ]
    },
    {
     "name": "stdout",
     "output_type": "stream",
     "text": [
      "On 93.79%\n",
      "time elapsed: 8043(s), time left: 532(s), estimated finish time: 02:22:08\n"
     ]
    },
    {
     "name": "stderr",
     "output_type": "stream",
     "text": [
      "Processing rows:  94%|█████████▍| 1149/1224 [2:14:06<04:41,  3.76s/it]"
     ]
    },
    {
     "name": "stdout",
     "output_type": "stream",
     "text": [
      "On 93.87%\n",
      "time elapsed: 8046(s), time left: 525(s), estimated finish time: 02:22:04\n"
     ]
    },
    {
     "name": "stderr",
     "output_type": "stream",
     "text": [
      "Processing rows:  94%|█████████▍| 1150/1224 [2:14:10<04:25,  3.59s/it]"
     ]
    },
    {
     "name": "stdout",
     "output_type": "stream",
     "text": [
      "On 93.95%\n",
      "time elapsed: 8050(s), time left: 518(s), estimated finish time: 02:22:00\n"
     ]
    },
    {
     "name": "stderr",
     "output_type": "stream",
     "text": [
      "Processing rows:  94%|█████████▍| 1151/1224 [2:14:19<06:29,  5.33s/it]"
     ]
    },
    {
     "name": "stdout",
     "output_type": "stream",
     "text": [
      "On 94.04%\n",
      "time elapsed: 8059(s), time left: 511(s), estimated finish time: 02:22:02\n"
     ]
    },
    {
     "name": "stderr",
     "output_type": "stream",
     "text": [
      "Processing rows:  94%|█████████▍| 1152/1224 [2:14:22<05:42,  4.76s/it]"
     ]
    },
    {
     "name": "stdout",
     "output_type": "stream",
     "text": [
      "On 94.12%\n",
      "time elapsed: 8062(s), time left: 503(s), estimated finish time: 02:21:59\n"
     ]
    },
    {
     "name": "stderr",
     "output_type": "stream",
     "text": [
      "Processing rows:  94%|█████████▍| 1153/1224 [2:14:31<07:05,  6.00s/it]"
     ]
    },
    {
     "name": "stdout",
     "output_type": "stream",
     "text": [
      "On 94.2%\n",
      "time elapsed: 8071(s), time left: 497(s), estimated finish time: 02:22:01\n"
     ]
    },
    {
     "name": "stderr",
     "output_type": "stream",
     "text": [
      "Processing rows:  94%|█████████▍| 1154/1224 [2:14:40<07:55,  6.80s/it]"
     ]
    },
    {
     "name": "stdout",
     "output_type": "stream",
     "text": [
      "On 94.28%\n",
      "time elapsed: 8080(s), time left: 490(s), estimated finish time: 02:22:02\n"
     ]
    },
    {
     "name": "stderr",
     "output_type": "stream",
     "text": [
      "Processing rows:  94%|█████████▍| 1155/1224 [2:14:48<08:23,  7.29s/it]"
     ]
    },
    {
     "name": "stdout",
     "output_type": "stream",
     "text": [
      "On 94.36%\n",
      "time elapsed: 8088(s), time left: 483(s), estimated finish time: 02:22:04\n"
     ]
    },
    {
     "name": "stderr",
     "output_type": "stream",
     "text": [
      "Processing rows:  94%|█████████▍| 1156/1224 [2:14:57<08:46,  7.75s/it]"
     ]
    },
    {
     "name": "stdout",
     "output_type": "stream",
     "text": [
      "On 94.44%\n",
      "time elapsed: 8097(s), time left: 476(s), estimated finish time: 02:22:06\n"
     ]
    },
    {
     "name": "stderr",
     "output_type": "stream",
     "text": [
      "Processing rows:  95%|█████████▍| 1157/1224 [2:15:05<08:35,  7.70s/it]"
     ]
    },
    {
     "name": "stdout",
     "output_type": "stream",
     "text": [
      "On 94.53%\n",
      "time elapsed: 8105(s), time left: 469(s), estimated finish time: 02:22:06\n"
     ]
    },
    {
     "name": "stderr",
     "output_type": "stream",
     "text": [
      "Processing rows:  95%|█████████▍| 1158/1224 [2:15:15<09:13,  8.39s/it]"
     ]
    },
    {
     "name": "stdout",
     "output_type": "stream",
     "text": [
      "On 94.61%\n",
      "time elapsed: 8115(s), time left: 462(s), estimated finish time: 02:22:10\n"
     ]
    },
    {
     "name": "stderr",
     "output_type": "stream",
     "text": [
      "Processing rows:  95%|█████████▍| 1159/1224 [2:15:22<08:41,  8.03s/it]"
     ]
    },
    {
     "name": "stdout",
     "output_type": "stream",
     "text": [
      "On 94.69%\n",
      "time elapsed: 8122(s), time left: 455(s), estimated finish time: 02:22:10\n"
     ]
    },
    {
     "name": "stderr",
     "output_type": "stream",
     "text": [
      "Processing rows:  95%|█████████▍| 1160/1224 [2:15:30<08:27,  7.93s/it]"
     ]
    },
    {
     "name": "stdout",
     "output_type": "stream",
     "text": [
      "On 94.77%\n",
      "time elapsed: 8130(s), time left: 448(s), estimated finish time: 02:22:11\n"
     ]
    },
    {
     "name": "stderr",
     "output_type": "stream",
     "text": [
      "Processing rows:  95%|█████████▍| 1161/1224 [2:15:38<08:21,  7.95s/it]"
     ]
    },
    {
     "name": "stdout",
     "output_type": "stream",
     "text": [
      "On 94.85%\n",
      "time elapsed: 8138(s), time left: 441(s), estimated finish time: 02:22:12\n"
     ]
    },
    {
     "name": "stderr",
     "output_type": "stream",
     "text": [
      "Processing rows:  95%|█████████▍| 1162/1224 [2:15:46<08:25,  8.16s/it]"
     ]
    },
    {
     "name": "stdout",
     "output_type": "stream",
     "text": [
      "On 94.93%\n",
      "time elapsed: 8146(s), time left: 434(s), estimated finish time: 02:22:13\n"
     ]
    },
    {
     "name": "stderr",
     "output_type": "stream",
     "text": [
      "Processing rows:  95%|█████████▌| 1163/1224 [2:15:54<08:02,  7.91s/it]"
     ]
    },
    {
     "name": "stdout",
     "output_type": "stream",
     "text": [
      "On 95.02%\n",
      "time elapsed: 8154(s), time left: 427(s), estimated finish time: 02:22:14\n"
     ]
    },
    {
     "name": "stderr",
     "output_type": "stream",
     "text": [
      "Processing rows:  95%|█████████▌| 1164/1224 [2:16:03<08:28,  8.47s/it]"
     ]
    },
    {
     "name": "stdout",
     "output_type": "stream",
     "text": [
      "On 95.1%\n",
      "time elapsed: 8164(s), time left: 420(s), estimated finish time: 02:22:17\n"
     ]
    },
    {
     "name": "stderr",
     "output_type": "stream",
     "text": [
      "Processing rows:  95%|█████████▌| 1165/1224 [2:16:11<07:56,  8.07s/it]"
     ]
    },
    {
     "name": "stdout",
     "output_type": "stream",
     "text": [
      "On 95.18%\n",
      "time elapsed: 8171(s), time left: 413(s), estimated finish time: 02:22:17\n"
     ]
    },
    {
     "name": "stderr",
     "output_type": "stream",
     "text": [
      "Processing rows:  95%|█████████▌| 1166/1224 [2:16:19<07:46,  8.04s/it]"
     ]
    },
    {
     "name": "stdout",
     "output_type": "stream",
     "text": [
      "On 95.26%\n",
      "time elapsed: 8179(s), time left: 406(s), estimated finish time: 02:22:18\n"
     ]
    },
    {
     "name": "stderr",
     "output_type": "stream",
     "text": [
      "Processing rows:  95%|█████████▌| 1167/1224 [2:16:27<07:49,  8.23s/it]"
     ]
    },
    {
     "name": "stdout",
     "output_type": "stream",
     "text": [
      "On 95.34%\n",
      "time elapsed: 8187(s), time left: 399(s), estimated finish time: 02:22:19\n"
     ]
    },
    {
     "name": "stderr",
     "output_type": "stream",
     "text": [
      "Processing rows:  95%|█████████▌| 1168/1224 [2:16:36<07:46,  8.33s/it]"
     ]
    },
    {
     "name": "stdout",
     "output_type": "stream",
     "text": [
      "On 95.42%\n",
      "time elapsed: 8196(s), time left: 392(s), estimated finish time: 02:22:21\n"
     ]
    },
    {
     "name": "stderr",
     "output_type": "stream",
     "text": [
      "Processing rows:  96%|█████████▌| 1169/1224 [2:16:43<07:18,  7.97s/it]"
     ]
    },
    {
     "name": "stdout",
     "output_type": "stream",
     "text": [
      "On 95.51%\n",
      "time elapsed: 8203(s), time left: 385(s), estimated finish time: 02:22:21\n"
     ]
    },
    {
     "name": "stderr",
     "output_type": "stream",
     "text": [
      "Processing rows:  96%|█████████▌| 1170/1224 [2:16:51<07:11,  7.98s/it]"
     ]
    },
    {
     "name": "stdout",
     "output_type": "stream",
     "text": [
      "On 95.59%\n",
      "time elapsed: 8211(s), time left: 378(s), estimated finish time: 02:22:22\n"
     ]
    },
    {
     "name": "stderr",
     "output_type": "stream",
     "text": [
      "Processing rows:  96%|█████████▌| 1171/1224 [2:17:00<07:21,  8.32s/it]"
     ]
    },
    {
     "name": "stdout",
     "output_type": "stream",
     "text": [
      "On 95.67%\n",
      "time elapsed: 8220(s), time left: 372(s), estimated finish time: 02:22:24\n"
     ]
    },
    {
     "name": "stderr",
     "output_type": "stream",
     "text": [
      "Processing rows:  96%|█████████▌| 1172/1224 [2:17:08<07:00,  8.08s/it]"
     ]
    },
    {
     "name": "stdout",
     "output_type": "stream",
     "text": [
      "On 95.75%\n",
      "time elapsed: 8228(s), time left: 365(s), estimated finish time: 02:22:25\n"
     ]
    },
    {
     "name": "stderr",
     "output_type": "stream",
     "text": [
      "Processing rows:  96%|█████████▌| 1173/1224 [2:17:15<06:42,  7.89s/it]"
     ]
    },
    {
     "name": "stdout",
     "output_type": "stream",
     "text": [
      "On 95.83%\n",
      "time elapsed: 8235(s), time left: 358(s), estimated finish time: 02:22:25\n"
     ]
    },
    {
     "name": "stderr",
     "output_type": "stream",
     "text": [
      "Processing rows:  96%|█████████▌| 1174/1224 [2:17:25<07:05,  8.51s/it]"
     ]
    },
    {
     "name": "stdout",
     "output_type": "stream",
     "text": [
      "On 95.92%\n",
      "time elapsed: 8245(s), time left: 351(s), estimated finish time: 02:22:28\n"
     ]
    },
    {
     "name": "stderr",
     "output_type": "stream",
     "text": [
      "Processing rows:  96%|█████████▌| 1175/1224 [2:17:35<07:19,  8.97s/it]"
     ]
    },
    {
     "name": "stdout",
     "output_type": "stream",
     "text": [
      "On 96.0%\n",
      "time elapsed: 8255(s), time left: 344(s), estimated finish time: 02:22:32\n"
     ]
    },
    {
     "name": "stderr",
     "output_type": "stream",
     "text": [
      "Processing rows:  96%|█████████▌| 1176/1224 [2:17:43<06:49,  8.54s/it]"
     ]
    },
    {
     "name": "stdout",
     "output_type": "stream",
     "text": [
      "On 96.08%\n",
      "time elapsed: 8263(s), time left: 337(s), estimated finish time: 02:22:32\n"
     ]
    },
    {
     "name": "stderr",
     "output_type": "stream",
     "text": [
      "Processing rows:  96%|█████████▌| 1177/1224 [2:17:50<06:24,  8.17s/it]"
     ]
    },
    {
     "name": "stdout",
     "output_type": "stream",
     "text": [
      "On 96.16%\n",
      "time elapsed: 8270(s), time left: 330(s), estimated finish time: 02:22:32\n"
     ]
    },
    {
     "name": "stderr",
     "output_type": "stream",
     "text": [
      "Processing rows:  96%|█████████▌| 1178/1224 [2:18:01<06:55,  9.03s/it]"
     ]
    },
    {
     "name": "stdout",
     "output_type": "stream",
     "text": [
      "On 96.24%\n",
      "time elapsed: 8281(s), time left: 323(s), estimated finish time: 02:22:37\n"
     ]
    },
    {
     "name": "stderr",
     "output_type": "stream",
     "text": [
      "Processing rows:  96%|█████████▋| 1179/1224 [2:18:10<06:47,  9.06s/it]"
     ]
    },
    {
     "name": "stdout",
     "output_type": "stream",
     "text": [
      "On 96.32%\n",
      "time elapsed: 8290(s), time left: 316(s), estimated finish time: 02:22:39\n"
     ]
    },
    {
     "name": "stderr",
     "output_type": "stream",
     "text": [
      "Processing rows:  96%|█████████▋| 1180/1224 [2:18:19<06:33,  8.94s/it]"
     ]
    },
    {
     "name": "stdout",
     "output_type": "stream",
     "text": [
      "On 96.41%\n",
      "time elapsed: 8299(s), time left: 309(s), estimated finish time: 02:22:40\n"
     ]
    },
    {
     "name": "stderr",
     "output_type": "stream",
     "text": [
      "Processing rows:  96%|█████████▋| 1181/1224 [2:18:26<06:08,  8.56s/it]"
     ]
    },
    {
     "name": "stdout",
     "output_type": "stream",
     "text": [
      "On 96.49%\n",
      "time elapsed: 8306(s), time left: 302(s), estimated finish time: 02:22:41\n"
     ]
    },
    {
     "name": "stderr",
     "output_type": "stream",
     "text": [
      "Processing rows:  97%|█████████▋| 1182/1224 [2:18:34<05:46,  8.24s/it]"
     ]
    },
    {
     "name": "stdout",
     "output_type": "stream",
     "text": [
      "On 96.57%\n",
      "time elapsed: 8314(s), time left: 295(s), estimated finish time: 02:22:42\n"
     ]
    },
    {
     "name": "stderr",
     "output_type": "stream",
     "text": [
      "Processing rows:  97%|█████████▋| 1183/1224 [2:18:43<05:47,  8.48s/it]"
     ]
    },
    {
     "name": "stdout",
     "output_type": "stream",
     "text": [
      "On 96.65%\n",
      "time elapsed: 8323(s), time left: 288(s), estimated finish time: 02:22:44\n"
     ]
    },
    {
     "name": "stderr",
     "output_type": "stream",
     "text": [
      "Processing rows:  97%|█████████▋| 1184/1224 [2:18:50<05:25,  8.14s/it]"
     ]
    },
    {
     "name": "stdout",
     "output_type": "stream",
     "text": [
      "On 96.73%\n",
      "time elapsed: 8330(s), time left: 281(s), estimated finish time: 02:22:44\n"
     ]
    },
    {
     "name": "stderr",
     "output_type": "stream",
     "text": [
      "Processing rows:  97%|█████████▋| 1185/1224 [2:18:58<05:10,  7.96s/it]"
     ]
    },
    {
     "name": "stdout",
     "output_type": "stream",
     "text": [
      "On 96.81%\n",
      "time elapsed: 8338(s), time left: 274(s), estimated finish time: 02:22:44\n"
     ]
    },
    {
     "name": "stderr",
     "output_type": "stream",
     "text": [
      "Processing rows:  97%|█████████▋| 1186/1224 [2:19:07<05:16,  8.33s/it]"
     ]
    },
    {
     "name": "stdout",
     "output_type": "stream",
     "text": [
      "On 96.9%\n",
      "time elapsed: 8347(s), time left: 267(s), estimated finish time: 02:22:47\n"
     ]
    },
    {
     "name": "stderr",
     "output_type": "stream",
     "text": [
      "Processing rows:  97%|█████████▋| 1187/1224 [2:19:14<04:56,  8.02s/it]"
     ]
    },
    {
     "name": "stdout",
     "output_type": "stream",
     "text": [
      "On 96.98%\n",
      "time elapsed: 8354(s), time left: 260(s), estimated finish time: 02:22:47\n"
     ]
    },
    {
     "name": "stderr",
     "output_type": "stream",
     "text": [
      "Processing rows:  97%|█████████▋| 1188/1224 [2:19:23<04:57,  8.28s/it]"
     ]
    },
    {
     "name": "stdout",
     "output_type": "stream",
     "text": [
      "On 97.06%\n",
      "time elapsed: 8363(s), time left: 253(s), estimated finish time: 02:22:49\n"
     ]
    },
    {
     "name": "stderr",
     "output_type": "stream",
     "text": [
      "Processing rows:  97%|█████████▋| 1189/1224 [2:19:31<04:49,  8.27s/it]"
     ]
    },
    {
     "name": "stdout",
     "output_type": "stream",
     "text": [
      "On 97.14%\n",
      "time elapsed: 8371(s), time left: 246(s), estimated finish time: 02:22:50\n"
     ]
    },
    {
     "name": "stderr",
     "output_type": "stream",
     "text": [
      "Processing rows:  97%|█████████▋| 1190/1224 [2:19:39<04:33,  8.04s/it]"
     ]
    },
    {
     "name": "stdout",
     "output_type": "stream",
     "text": [
      "On 97.22%\n",
      "time elapsed: 8379(s), time left: 239(s), estimated finish time: 02:22:51\n"
     ]
    },
    {
     "name": "stderr",
     "output_type": "stream",
     "text": [
      "Processing rows:  97%|█████████▋| 1191/1224 [2:19:47<04:26,  8.08s/it]"
     ]
    },
    {
     "name": "stdout",
     "output_type": "stream",
     "text": [
      "On 97.3%\n",
      "time elapsed: 8387(s), time left: 232(s), estimated finish time: 02:22:52\n"
     ]
    },
    {
     "name": "stderr",
     "output_type": "stream",
     "text": [
      "Processing rows:  97%|█████████▋| 1192/1224 [2:19:55<04:21,  8.17s/it]"
     ]
    },
    {
     "name": "stdout",
     "output_type": "stream",
     "text": [
      "On 97.39%\n",
      "time elapsed: 8396(s), time left: 225(s), estimated finish time: 02:22:53\n"
     ]
    },
    {
     "name": "stderr",
     "output_type": "stream",
     "text": [
      "Processing rows:  97%|█████████▋| 1193/1224 [2:20:04<04:17,  8.30s/it]"
     ]
    },
    {
     "name": "stdout",
     "output_type": "stream",
     "text": [
      "On 97.47%\n",
      "time elapsed: 8404(s), time left: 218(s), estimated finish time: 02:22:55\n"
     ]
    },
    {
     "name": "stderr",
     "output_type": "stream",
     "text": [
      "Processing rows:  98%|█████████▊| 1194/1224 [2:20:11<03:58,  7.97s/it]"
     ]
    },
    {
     "name": "stdout",
     "output_type": "stream",
     "text": [
      "On 97.55%\n",
      "time elapsed: 8411(s), time left: 211(s), estimated finish time: 02:22:55\n"
     ]
    },
    {
     "name": "stderr",
     "output_type": "stream",
     "text": [
      "Processing rows:  98%|█████████▊| 1195/1224 [2:20:19<03:49,  7.90s/it]"
     ]
    },
    {
     "name": "stdout",
     "output_type": "stream",
     "text": [
      "On 97.63%\n",
      "time elapsed: 8419(s), time left: 204(s), estimated finish time: 02:22:56\n"
     ]
    },
    {
     "name": "stderr",
     "output_type": "stream",
     "text": [
      "Processing rows:  98%|█████████▊| 1196/1224 [2:20:26<03:32,  7.59s/it]"
     ]
    },
    {
     "name": "stdout",
     "output_type": "stream",
     "text": [
      "On 97.71%\n",
      "time elapsed: 8426(s), time left: 197(s), estimated finish time: 02:22:55\n"
     ]
    },
    {
     "name": "stderr",
     "output_type": "stream",
     "text": [
      "Processing rows:  98%|█████████▊| 1197/1224 [2:20:34<03:27,  7.67s/it]"
     ]
    },
    {
     "name": "stdout",
     "output_type": "stream",
     "text": [
      "On 97.79%\n",
      "time elapsed: 8434(s), time left: 190(s), estimated finish time: 02:22:56\n"
     ]
    },
    {
     "name": "stderr",
     "output_type": "stream",
     "text": [
      "Processing rows:  98%|█████████▊| 1198/1224 [2:20:41<03:17,  7.61s/it]"
     ]
    },
    {
     "name": "stdout",
     "output_type": "stream",
     "text": [
      "On 97.88%\n",
      "time elapsed: 8441(s), time left: 183(s), estimated finish time: 02:22:57\n"
     ]
    },
    {
     "name": "stderr",
     "output_type": "stream",
     "text": [
      "Processing rows:  98%|█████████▊| 1199/1224 [2:20:50<03:19,  7.97s/it]"
     ]
    },
    {
     "name": "stdout",
     "output_type": "stream",
     "text": [
      "On 97.96%\n",
      "time elapsed: 8450(s), time left: 176(s), estimated finish time: 02:22:58\n"
     ]
    },
    {
     "name": "stderr",
     "output_type": "stream",
     "text": [
      "Processing rows:  98%|█████████▊| 1200/1224 [2:20:58<03:08,  7.84s/it]"
     ]
    },
    {
     "name": "stdout",
     "output_type": "stream",
     "text": [
      "On 98.04%\n",
      "time elapsed: 8458(s), time left: 169(s), estimated finish time: 02:22:59\n"
     ]
    },
    {
     "name": "stderr",
     "output_type": "stream",
     "text": [
      "Processing rows:  98%|█████████▊| 1201/1224 [2:21:05<02:57,  7.72s/it]"
     ]
    },
    {
     "name": "stdout",
     "output_type": "stream",
     "text": [
      "On 98.12%\n",
      "time elapsed: 8465(s), time left: 162(s), estimated finish time: 02:22:59\n"
     ]
    },
    {
     "name": "stderr",
     "output_type": "stream",
     "text": [
      "Processing rows:  98%|█████████▊| 1202/1224 [2:21:14<02:57,  8.09s/it]"
     ]
    },
    {
     "name": "stdout",
     "output_type": "stream",
     "text": [
      "On 98.2%\n",
      "time elapsed: 8474(s), time left: 155(s), estimated finish time: 02:23:01\n"
     ]
    },
    {
     "name": "stderr",
     "output_type": "stream",
     "text": [
      "Processing rows:  98%|█████████▊| 1203/1224 [2:21:23<02:55,  8.34s/it]"
     ]
    },
    {
     "name": "stdout",
     "output_type": "stream",
     "text": [
      "On 98.28%\n",
      "time elapsed: 8483(s), time left: 148(s), estimated finish time: 02:23:03\n"
     ]
    },
    {
     "name": "stderr",
     "output_type": "stream",
     "text": [
      "Processing rows:  98%|█████████▊| 1204/1224 [2:21:31<02:46,  8.35s/it]"
     ]
    },
    {
     "name": "stdout",
     "output_type": "stream",
     "text": [
      "On 98.37%\n",
      "time elapsed: 8491(s), time left: 141(s), estimated finish time: 02:23:05\n"
     ]
    },
    {
     "name": "stderr",
     "output_type": "stream",
     "text": [
      "Processing rows:  98%|█████████▊| 1205/1224 [2:21:41<02:44,  8.67s/it]"
     ]
    },
    {
     "name": "stdout",
     "output_type": "stream",
     "text": [
      "On 98.45%\n",
      "time elapsed: 8501(s), time left: 134(s), estimated finish time: 02:23:07\n"
     ]
    },
    {
     "name": "stderr",
     "output_type": "stream",
     "text": [
      "Processing rows:  99%|█████████▊| 1206/1224 [2:21:48<02:31,  8.39s/it]"
     ]
    },
    {
     "name": "stdout",
     "output_type": "stream",
     "text": [
      "On 98.53%\n",
      "time elapsed: 8508(s), time left: 126(s), estimated finish time: 02:23:08\n"
     ]
    },
    {
     "name": "stderr",
     "output_type": "stream",
     "text": [
      "Processing rows:  99%|█████████▊| 1207/1224 [2:21:57<02:25,  8.54s/it]"
     ]
    },
    {
     "name": "stdout",
     "output_type": "stream",
     "text": [
      "On 98.61%\n",
      "time elapsed: 8517(s), time left: 119(s), estimated finish time: 02:23:09\n"
     ]
    },
    {
     "name": "stderr",
     "output_type": "stream",
     "text": [
      "Processing rows:  99%|█████████▊| 1208/1224 [2:22:07<02:20,  8.77s/it]"
     ]
    },
    {
     "name": "stdout",
     "output_type": "stream",
     "text": [
      "On 98.69%\n",
      "time elapsed: 8527(s), time left: 112(s), estimated finish time: 02:23:12\n"
     ]
    },
    {
     "name": "stderr",
     "output_type": "stream",
     "text": [
      "Processing rows:  99%|█████████▉| 1209/1224 [2:22:14<02:05,  8.39s/it]"
     ]
    },
    {
     "name": "stdout",
     "output_type": "stream",
     "text": [
      "On 98.77%\n",
      "time elapsed: 8534(s), time left: 105(s), estimated finish time: 02:23:12\n"
     ]
    },
    {
     "name": "stderr",
     "output_type": "stream",
     "text": [
      "Processing rows:  99%|█████████▉| 1210/1224 [2:22:23<01:58,  8.49s/it]"
     ]
    },
    {
     "name": "stdout",
     "output_type": "stream",
     "text": [
      "On 98.86%\n",
      "time elapsed: 8543(s), time left: 98(s), estimated finish time: 02:23:14\n"
     ]
    },
    {
     "name": "stderr",
     "output_type": "stream",
     "text": [
      "Processing rows:  99%|█████████▉| 1211/1224 [2:22:31<01:49,  8.39s/it]"
     ]
    },
    {
     "name": "stdout",
     "output_type": "stream",
     "text": [
      "On 98.94%\n",
      "time elapsed: 8551(s), time left: 91(s), estimated finish time: 02:23:15\n"
     ]
    },
    {
     "name": "stderr",
     "output_type": "stream",
     "text": [
      "Processing rows:  99%|█████████▉| 1212/1224 [2:22:40<01:41,  8.48s/it]"
     ]
    },
    {
     "name": "stdout",
     "output_type": "stream",
     "text": [
      "On 99.02%\n",
      "time elapsed: 8560(s), time left: 84(s), estimated finish time: 02:23:17\n"
     ]
    },
    {
     "name": "stderr",
     "output_type": "stream",
     "text": [
      "Processing rows:  99%|█████████▉| 1213/1224 [2:22:48<01:32,  8.41s/it]"
     ]
    },
    {
     "name": "stdout",
     "output_type": "stream",
     "text": [
      "On 99.1%\n",
      "time elapsed: 8568(s), time left: 77(s), estimated finish time: 02:23:18\n"
     ]
    },
    {
     "name": "stderr",
     "output_type": "stream",
     "text": [
      "Processing rows:  99%|█████████▉| 1214/1224 [2:22:55<01:20,  8.05s/it]"
     ]
    },
    {
     "name": "stdout",
     "output_type": "stream",
     "text": [
      "On 99.18%\n",
      "time elapsed: 8575(s), time left: 70(s), estimated finish time: 02:23:18\n"
     ]
    },
    {
     "name": "stderr",
     "output_type": "stream",
     "text": [
      "Processing rows:  99%|█████████▉| 1215/1224 [2:23:02<01:10,  7.85s/it]"
     ]
    },
    {
     "name": "stdout",
     "output_type": "stream",
     "text": [
      "On 99.26%\n",
      "time elapsed: 8583(s), time left: 63(s), estimated finish time: 02:23:18\n"
     ]
    },
    {
     "name": "stderr",
     "output_type": "stream",
     "text": [
      "Processing rows:  99%|█████████▉| 1216/1224 [2:23:11<01:04,  8.04s/it]"
     ]
    },
    {
     "name": "stdout",
     "output_type": "stream",
     "text": [
      "On 99.35%\n",
      "time elapsed: 8591(s), time left: 56(s), estimated finish time: 02:23:20\n"
     ]
    },
    {
     "name": "stderr",
     "output_type": "stream",
     "text": [
      "Processing rows:  99%|█████████▉| 1217/1224 [2:23:19<00:56,  8.11s/it]"
     ]
    },
    {
     "name": "stdout",
     "output_type": "stream",
     "text": [
      "On 99.43%\n",
      "time elapsed: 8599(s), time left: 49(s), estimated finish time: 02:23:21\n"
     ]
    },
    {
     "name": "stderr",
     "output_type": "stream",
     "text": [
      "Processing rows: 100%|█████████▉| 1218/1224 [2:23:28<00:49,  8.18s/it]"
     ]
    },
    {
     "name": "stdout",
     "output_type": "stream",
     "text": [
      "On 99.51%\n",
      "time elapsed: 8608(s), time left: 42(s), estimated finish time: 02:23:22\n"
     ]
    },
    {
     "name": "stderr",
     "output_type": "stream",
     "text": [
      "Processing rows: 100%|█████████▉| 1219/1224 [2:23:37<00:42,  8.45s/it]"
     ]
    },
    {
     "name": "stdout",
     "output_type": "stream",
     "text": [
      "On 99.59%\n",
      "time elapsed: 8617(s), time left: 35(s), estimated finish time: 02:23:24\n"
     ]
    },
    {
     "name": "stderr",
     "output_type": "stream",
     "text": [
      "Processing rows: 100%|█████████▉| 1220/1224 [2:23:46<00:34,  8.62s/it]"
     ]
    },
    {
     "name": "stdout",
     "output_type": "stream",
     "text": [
      "On 99.67%\n",
      "time elapsed: 8626(s), time left: 28(s), estimated finish time: 02:23:26\n"
     ]
    },
    {
     "name": "stderr",
     "output_type": "stream",
     "text": [
      "Processing rows: 100%|█████████▉| 1221/1224 [2:23:54<00:25,  8.52s/it]"
     ]
    },
    {
     "name": "stdout",
     "output_type": "stream",
     "text": [
      "On 99.75%\n",
      "time elapsed: 8634(s), time left: 21(s), estimated finish time: 02:23:27\n"
     ]
    },
    {
     "name": "stderr",
     "output_type": "stream",
     "text": [
      "Processing rows: 100%|█████████▉| 1222/1224 [2:24:02<00:16,  8.45s/it]"
     ]
    },
    {
     "name": "stdout",
     "output_type": "stream",
     "text": [
      "On 99.84%\n",
      "time elapsed: 8642(s), time left: 14(s), estimated finish time: 02:23:29\n"
     ]
    },
    {
     "name": "stderr",
     "output_type": "stream",
     "text": [
      "Processing rows: 100%|█████████▉| 1223/1224 [2:24:11<00:08,  8.54s/it]"
     ]
    },
    {
     "name": "stdout",
     "output_type": "stream",
     "text": [
      "On 99.92%\n",
      "time elapsed: 8651(s), time left: 7(s), estimated finish time: 02:23:30\n"
     ]
    },
    {
     "name": "stderr",
     "output_type": "stream",
     "text": [
      "Processing rows: 100%|██████████| 1224/1224 [2:24:18<00:00,  7.07s/it]"
     ]
    },
    {
     "name": "stdout",
     "output_type": "stream",
     "text": [
      "On 100.0%\n",
      "time elapsed: 8658(s), time left: 0(s), estimated finish time: 02:23:31\n"
     ]
    },
    {
     "name": "stderr",
     "output_type": "stream",
     "text": [
      "\n"
     ]
    }
   ],
   "source": [
    "extract_transformer_embeddings(\"/kaggle/input/opensmile-beasc/opensmileDF_beasc.csv\",\"/kaggle/working/beasc_embeddings.csv\")"
   ]
  },
  {
   "cell_type": "code",
   "execution_count": 12,
   "id": "220d5c2a",
   "metadata": {
    "execution": {
     "iopub.execute_input": "2024-06-18T02:23:33.508887Z",
     "iopub.status.busy": "2024-06-18T02:23:33.508501Z",
     "iopub.status.idle": "2024-06-18T02:23:33.759239Z",
     "shell.execute_reply": "2024-06-18T02:23:33.758175Z"
    },
    "papermill": {
     "duration": 0.613784,
     "end_time": "2024-06-18T02:23:33.761930",
     "exception": false,
     "start_time": "2024-06-18T02:23:33.148146",
     "status": "completed"
    },
    "tags": []
   },
   "outputs": [],
   "source": [
    "df = pd.read_csv(\"/kaggle/working/beasc_embeddings.csv\")\n",
    "df2 = pd.read_csv(\"/kaggle/input/opensmile-beasc/opensmileDF_beasc.csv\")\n",
    "\n",
    "df3 = df.merge(df2, how=\"left\",on=[\"Path\"])"
   ]
  },
  {
   "cell_type": "code",
   "execution_count": 13,
   "id": "39755d93",
   "metadata": {
    "execution": {
     "iopub.execute_input": "2024-06-18T02:23:34.480685Z",
     "iopub.status.busy": "2024-06-18T02:23:34.480280Z",
     "iopub.status.idle": "2024-06-18T02:23:35.576766Z",
     "shell.execute_reply": "2024-06-18T02:23:35.575697Z"
    },
    "papermill": {
     "duration": 1.459138,
     "end_time": "2024-06-18T02:23:35.579734",
     "exception": false,
     "start_time": "2024-06-18T02:23:34.120596",
     "status": "completed"
    },
    "tags": []
   },
   "outputs": [],
   "source": [
    "df3.to_csv('/kaggle/working/merged_beasc_df_embeddings')"
   ]
  }
 ],
 "metadata": {
  "kaggle": {
   "accelerator": "none",
   "dataSources": [
    {
     "datasetId": 891580,
     "sourceId": 1513028,
     "sourceType": "datasetVersion"
    },
    {
     "datasetId": 5191677,
     "sourceId": 8698354,
     "sourceType": "datasetVersion"
    },
    {
     "datasetId": 5217633,
     "sourceId": 8699601,
     "sourceType": "datasetVersion"
    },
    {
     "sourceId": 184006441,
     "sourceType": "kernelVersion"
    }
   ],
   "dockerImageVersionId": 30732,
   "isGpuEnabled": false,
   "isInternetEnabled": true,
   "language": "python",
   "sourceType": "notebook"
  },
  "kernelspec": {
   "display_name": "Python 3",
   "language": "python",
   "name": "python3"
  },
  "language_info": {
   "codemirror_mode": {
    "name": "ipython",
    "version": 3
   },
   "file_extension": ".py",
   "mimetype": "text/x-python",
   "name": "python",
   "nbconvert_exporter": "python",
   "pygments_lexer": "ipython3",
   "version": "3.10.13"
  },
  "papermill": {
   "default_parameters": {},
   "duration": 17357.071299,
   "end_time": "2024-06-18T02:23:37.247943",
   "environment_variables": {},
   "exception": null,
   "input_path": "__notebook__.ipynb",
   "output_path": "__notebook__.ipynb",
   "parameters": {},
   "start_time": "2024-06-17T21:34:20.176644",
   "version": "2.5.0"
  }
 },
 "nbformat": 4,
 "nbformat_minor": 5
}
