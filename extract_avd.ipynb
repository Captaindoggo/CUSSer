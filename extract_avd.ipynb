{
 "cells": [
  {
   "cell_type": "code",
   "execution_count": 8,
   "metadata": {},
   "outputs": [],
   "source": [
    "#Import Dependencies\n",
    "\n",
    "import audeer\n",
    "import audonnx\n",
    "import numpy as np\n",
    "import pandas as pd\n",
    "import audiofile\n",
    "\n",
    "cache_root = audeer.mkdir('cache')\n",
    "model_root = audeer.mkdir('model')"
   ]
  },
  {
   "cell_type": "code",
   "execution_count": 10,
   "metadata": {},
   "outputs": [
    {
     "data": {
      "text/plain": [
       "['model.onnx', 'model.yaml']"
      ]
     },
     "execution_count": 10,
     "metadata": {},
     "output_type": "execute_result"
    }
   ],
   "source": [
    "#Download model if necessary\n",
    "url = 'https://zenodo.org/record/6221127/files/w2v2-L-robust-12.6bc4a7fd-1.1.0.zip'\n",
    "\n",
    "archive_path = audeer.download_url(url, cache_root, verbose=True)\n",
    "audeer.extract_archive(archive_path, model_root)"
   ]
  },
  {
   "cell_type": "code",
   "execution_count": 11,
   "metadata": {},
   "outputs": [
    {
     "data": {
      "text/plain": [
       "{'hidden_states': array([[-0.00721893,  0.00638158, -0.00823902, ...,  0.00665349,\n",
       "          0.00967707,  0.00256732]], dtype=float32),\n",
       " 'logits': array([[0.68168986, 0.6574491 , 0.49838078]], dtype=float32)}"
      ]
     },
     "execution_count": 11,
     "metadata": {},
     "output_type": "execute_result"
    }
   ],
   "source": [
    "#Load model and test with random sample\n",
    "model = audonnx.load(model_root)\n",
    "sampling_rate = 16000\n",
    "signal = np.random.normal(size=sampling_rate).astype(np.float32)\n",
    "model(signal, sampling_rate)"
   ]
  },
  {
   "cell_type": "code",
   "execution_count": 12,
   "metadata": {},
   "outputs": [],
   "source": [
    "#Function definitions to use the model to extract arousal valence dominance from an audiofile\n",
    "\n",
    "def predict_avd(path):\n",
    "    signal, sampling_rate = audiofile.read(\n",
    "                path,\n",
    "                always_2d=True,\n",
    "            )\n",
    "    ret = model(signal, sampling_rate)\n",
    "    return ret[\"logits\"][0]\n",
    "\n",
    "def extract_avd(input_file,output_file):\n",
    "    df = pd.read_csv(input_file)\n",
    "    #df = df.sample(n=3) # test on small subset\n",
    "    data = {\"ActorID\":[],\"emotion\":[],\"path\":[],\"arousal\":[],\"valence\":[],\"dominance\":[]}\n",
    "    for index, row in df.iterrows():\n",
    "        ret = predict_avd(row[\"path\"])\n",
    "        data[\"arousal\"].append(ret[0])\n",
    "        data[\"valence\"].append(ret[1])\n",
    "        data[\"dominance\"].append(ret[2])\n",
    "        data[\"path\"].append(row['path'])\n",
    "        data[\"emotion\"].append(row['emotion'])\n",
    "        data[\"ActorID\"].append(row['ActorID'])\n",
    "    resdf = pd.DataFrame.from_dict(data)\n",
    "    resdf.to_csv(output_file,index=False)\n"
   ]
  },
  {
   "cell_type": "code",
   "execution_count": 13,
   "metadata": {},
   "outputs": [],
   "source": [
    "extract_avd(\"data/crema_df.csv\",\"data/crema_avd.csv\")"
   ]
  },
  {
   "cell_type": "code",
   "execution_count": 32,
   "metadata": {},
   "outputs": [],
   "source": [
    "def feature_embeddings(path):\n",
    "    signal, sampling_rate = audiofile.read(\n",
    "                path,\n",
    "                always_2d=True,\n",
    "            )\n",
    "    ret = model(signal, sampling_rate)\n",
    "    return ret[\"hidden_states\"][0]"
   ]
  },
  {
   "cell_type": "code",
   "execution_count": 40,
   "metadata": {},
   "outputs": [],
   "source": [
    "from tqdm import tqdm\n",
    "\n",
    "def extract_transformer_embeddings(input_file, output_file):\n",
    "    df = pd.read_csv(input_file)\n",
    "    #df = df.sample(n=3)  # test on small subset\n",
    "    data = {\"path\": [], \"feature_embeddings\": []}\n",
    "    \n",
    "    # Wrap the iterable with tqdm for the progress bar\n",
    "    for index, row in tqdm(df.iterrows(), total=len(df), desc=\"Processing rows\"):\n",
    "        ret = feature_embeddings(row[\"path\"])\n",
    "        data[\"path\"].append(row['path'])\n",
    "        data[\"feature_embeddings\"].append(list(ret))\n",
    "    \n",
    "    resdf = pd.DataFrame.from_dict(data)\n",
    "    resdf.to_csv(output_file, index=False)\n",
    "        \n",
    "    "
   ]
  },
  {
   "cell_type": "code",
   "execution_count": 41,
   "metadata": {},
   "outputs": [
    {
     "name": "stderr",
     "output_type": "stream",
     "text": [
      "Processing rows:   0%|          | 0/7442 [00:00<?, ?it/s]"
     ]
    },
    {
     "name": "stderr",
     "output_type": "stream",
     "text": [
      "Processing rows: 100%|██████████| 7442/7442 [5:48:37<00:00,  2.81s/it]  \n"
     ]
    }
   ],
   "source": [
    "extract_transformer_embeddings(\"data/crema_df.csv\",\"data/crema_embeddings.csv\")"
   ]
  },
  {
   "cell_type": "code",
   "execution_count": 43,
   "metadata": {},
   "outputs": [
    {
     "data": {
      "text/html": [
       "<div>\n",
       "<style scoped>\n",
       "    .dataframe tbody tr th:only-of-type {\n",
       "        vertical-align: middle;\n",
       "    }\n",
       "\n",
       "    .dataframe tbody tr th {\n",
       "        vertical-align: top;\n",
       "    }\n",
       "\n",
       "    .dataframe thead th {\n",
       "        text-align: right;\n",
       "    }\n",
       "</style>\n",
       "<table border=\"1\" class=\"dataframe\">\n",
       "  <thead>\n",
       "    <tr style=\"text-align: right;\">\n",
       "      <th></th>\n",
       "      <th>path</th>\n",
       "      <th>feature_embeddings</th>\n",
       "      <th>ActorID</th>\n",
       "      <th>emotion</th>\n",
       "    </tr>\n",
       "  </thead>\n",
       "  <tbody>\n",
       "    <tr>\n",
       "      <th>0</th>\n",
       "      <td>./AudioWAV/1001_DFA_ANG_XX.wav</td>\n",
       "      <td>[-0.007677641, 0.0055411533, -0.00857792, -0.0...</td>\n",
       "      <td>1001</td>\n",
       "      <td>angry</td>\n",
       "    </tr>\n",
       "    <tr>\n",
       "      <th>1</th>\n",
       "      <td>./AudioWAV/1001_DFA_DIS_XX.wav</td>\n",
       "      <td>[-0.0076479497, 0.005411356, -0.009961039, -0....</td>\n",
       "      <td>1001</td>\n",
       "      <td>disgust</td>\n",
       "    </tr>\n",
       "    <tr>\n",
       "      <th>2</th>\n",
       "      <td>./AudioWAV/1001_DFA_FEA_XX.wav</td>\n",
       "      <td>[-0.0073989383, 0.005450367, -0.009070151, -0....</td>\n",
       "      <td>1001</td>\n",
       "      <td>fear</td>\n",
       "    </tr>\n",
       "    <tr>\n",
       "      <th>3</th>\n",
       "      <td>./AudioWAV/1001_DFA_HAP_XX.wav</td>\n",
       "      <td>[-0.007742562, 0.0052845012, -0.00848962, -0.0...</td>\n",
       "      <td>1001</td>\n",
       "      <td>happy</td>\n",
       "    </tr>\n",
       "    <tr>\n",
       "      <th>4</th>\n",
       "      <td>./AudioWAV/1001_DFA_NEU_XX.wav</td>\n",
       "      <td>[-0.0076925997, 0.0050833263, -0.009366785, -0...</td>\n",
       "      <td>1001</td>\n",
       "      <td>neutral</td>\n",
       "    </tr>\n",
       "  </tbody>\n",
       "</table>\n",
       "</div>"
      ],
      "text/plain": [
       "                             path  \\\n",
       "0  ./AudioWAV/1001_DFA_ANG_XX.wav   \n",
       "1  ./AudioWAV/1001_DFA_DIS_XX.wav   \n",
       "2  ./AudioWAV/1001_DFA_FEA_XX.wav   \n",
       "3  ./AudioWAV/1001_DFA_HAP_XX.wav   \n",
       "4  ./AudioWAV/1001_DFA_NEU_XX.wav   \n",
       "\n",
       "                                  feature_embeddings  ActorID  emotion  \n",
       "0  [-0.007677641, 0.0055411533, -0.00857792, -0.0...     1001    angry  \n",
       "1  [-0.0076479497, 0.005411356, -0.009961039, -0....     1001  disgust  \n",
       "2  [-0.0073989383, 0.005450367, -0.009070151, -0....     1001     fear  \n",
       "3  [-0.007742562, 0.0052845012, -0.00848962, -0.0...     1001    happy  \n",
       "4  [-0.0076925997, 0.0050833263, -0.009366785, -0...     1001  neutral  "
      ]
     },
     "execution_count": 43,
     "metadata": {},
     "output_type": "execute_result"
    }
   ],
   "source": [
    "df = pd.read_csv(\"data/crema_embeddings.csv\")\n",
    "df2 = pd.read_csv(\"data/crema_df.csv\")\n",
    "\n",
    "df3 = df.merge(df2, how=\"left\",on=[\"path\"])"
   ]
  }
 ],
 "metadata": {
  "kernelspec": {
   "display_name": "cusser",
   "language": "python",
   "name": "python3"
  },
  "language_info": {
   "codemirror_mode": {
    "name": "ipython",
    "version": 3
   },
   "file_extension": ".py",
   "mimetype": "text/x-python",
   "name": "python",
   "nbconvert_exporter": "python",
   "pygments_lexer": "ipython3",
   "version": "3.12.3"
  }
 },
 "nbformat": 4,
 "nbformat_minor": 2
}
