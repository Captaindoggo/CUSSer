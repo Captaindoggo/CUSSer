{
 "cells": [
  {
   "cell_type": "code",
   "execution_count": 2,
   "metadata": {},
   "outputs": [],
   "source": [
    "import pandas as pd\n",
    "import sklearn\n",
    "from sklearn.model_selection import train_test_split\n",
    "from sklearn.metrics import roc_auc_score\n",
    "from interpret.glassbox import ExplainableBoostingClassifier\n",
    "from interpret import show"
   ]
  },
  {
   "cell_type": "code",
   "execution_count": 14,
   "metadata": {},
   "outputs": [],
   "source": [
    "def createGlassbox(filename,excludeCols=['path']):\n",
    "    df = pd.read_csv(filename,index_col=False)\n",
    "    df.reset_index(drop=True, inplace=True)\n",
    "    df = df.drop(columns=excludeCols)\n",
    "\n",
    "    unique_subjects = df['ActorID'].unique()\n",
    "    # Step 2: Shuffle and split subjects into train, test, and validation sets\n",
    "    train_subjects, temp_subjects = train_test_split(unique_subjects, test_size=0.3, random_state=42)\n",
    "\n",
    "    # Step 3: Create DataFrames for each split based on the subject IDs\n",
    "    train_df = df[df['ActorID'].isin(train_subjects)]\n",
    "    test_df = df[df['ActorID'].isin(temp_subjects)]\n",
    "\n",
    "\n",
    "    y_train = train_df[\"emotion\"]\n",
    "    y_test = test_df[\"emotion\"]\n",
    "\n",
    "\n",
    "    x_train=train_df.drop(columns=[\"emotion\",\"ActorID\"])\n",
    "    x_test=test_df.drop(columns=[\"emotion\",\"ActorID\"])\n",
    "\n",
    "\n",
    "    ebm = ExplainableBoostingClassifier()\n",
    "    ebm.fit(x_train, y_train)\n",
    "\n",
    "    auc = roc_auc_score(y_test, ebm.predict_proba(x_test),multi_class='ovr')\n",
    "    print((\"AUC: {:.3f}\".format(auc)))\n",
    "    \n",
    "    show(ebm.explain_global())\n",
    "    return ebm\n"
   ]
  },
  {
   "cell_type": "code",
   "execution_count": 24,
   "metadata": {},
   "outputs": [
    {
     "name": "stderr",
     "output_type": "stream",
     "text": [
      "d:\\Programms\\Anaconda\\envs\\cusser\\Lib\\site-packages\\interpret\\glassbox\\_ebm\\_ebm.py:995: UserWarning:\n",
      "\n",
      "Detected multiclass problem. Forcing interactions to 0. Multiclass interactions only have local explanations. They are not currently displayed in the global explanation visualizations. Set interactions=0 to disable this warning. If you still want multiclass interactions, this API accepts a list, and the measure_interactions function can be used to detect them.\n",
      "\n"
     ]
    },
    {
     "name": "stdout",
     "output_type": "stream",
     "text": [
      "AUC: 0.835\n"
     ]
    },
    {
     "data": {
      "text/html": [
       "<!-- http://127.0.0.1:7001/1603401187056/ -->\n",
       "<iframe src=\"http://127.0.0.1:7001/1603401187056/\" width=100% height=800 frameBorder=\"0\"></iframe>"
      ]
     },
     "metadata": {},
     "output_type": "display_data"
    }
   ],
   "source": [
    "createGlassbox(\"data/opensmileDF_functional.csv\",  excludeCols = [\"path\",\"Unnamed: 0\"])"
   ]
  },
  {
   "cell_type": "code",
   "execution_count": 15,
   "metadata": {},
   "outputs": [
    {
     "name": "stderr",
     "output_type": "stream",
     "text": [
      "d:\\Programms\\Anaconda\\envs\\cusser\\Lib\\site-packages\\joblib\\externals\\loky\\process_executor.py:752: UserWarning:\n",
      "\n",
      "A worker stopped while some jobs were given to the executor. This can be caused by a too short worker timeout or by a memory leak.\n",
      "\n"
     ]
    },
    {
     "name": "stdout",
     "output_type": "stream",
     "text": [
      "AUC: 0.751\n"
     ]
    },
    {
     "name": "stderr",
     "output_type": "stream",
     "text": [
      "d:\\Programms\\Anaconda\\envs\\cusser\\Lib\\site-packages\\interpret\\glassbox\\_ebm\\_ebm.py:995: UserWarning:\n",
      "\n",
      "Detected multiclass problem. Forcing interactions to 0. Multiclass interactions only have local explanations. They are not currently displayed in the global explanation visualizations. Set interactions=0 to disable this warning. If you still want multiclass interactions, this API accepts a list, and the measure_interactions function can be used to detect them.\n",
      "\n"
     ]
    },
    {
     "data": {
      "text/html": [
       "<!-- http://127.0.0.1:7001/1603384024848/ -->\n",
       "<iframe src=\"http://127.0.0.1:7001/1603384024848/\" width=100% height=800 frameBorder=\"0\"></iframe>"
      ]
     },
     "metadata": {},
     "output_type": "display_data"
    }
   ],
   "source": [
    "createGlassbox(\"data/crema_avd.csv\")"
   ]
  },
  {
   "cell_type": "code",
   "execution_count": 20,
   "metadata": {},
   "outputs": [],
   "source": [
    "#Combining Opensmile and AVD features\n",
    "\n",
    "df1 = pd.read_csv(\"data/crema_avd.csv\")\n",
    "df2 = pd.read_csv(\"data/opensmileDF_functional.csv\")\n",
    "\n",
    "df3 = df1.merge(df2,how=\"left\", on=[\"ActorID\",\"emotion\",\"path\"])\n",
    "df3=df3.drop(columns=\"Unnamed: 0\")\n",
    "df3.head()\n",
    "df3.to_csv(\"data/crema_opensmile_avd.csv\",index=False)"
   ]
  },
  {
   "cell_type": "code",
   "execution_count": 23,
   "metadata": {},
   "outputs": [
    {
     "name": "stderr",
     "output_type": "stream",
     "text": [
      "d:\\Programms\\Anaconda\\envs\\cusser\\Lib\\site-packages\\interpret\\glassbox\\_ebm\\_ebm.py:995: UserWarning:\n",
      "\n",
      "Detected multiclass problem. Forcing interactions to 0. Multiclass interactions only have local explanations. They are not currently displayed in the global explanation visualizations. Set interactions=0 to disable this warning. If you still want multiclass interactions, this API accepts a list, and the measure_interactions function can be used to detect them.\n",
      "\n"
     ]
    },
    {
     "name": "stdout",
     "output_type": "stream",
     "text": [
      "AUC: 0.844\n"
     ]
    },
    {
     "data": {
      "text/html": [
       "<!-- http://127.0.0.1:7001/1603405231168/ -->\n",
       "<iframe src=\"http://127.0.0.1:7001/1603405231168/\" width=100% height=800 frameBorder=\"0\"></iframe>"
      ]
     },
     "metadata": {},
     "output_type": "display_data"
    }
   ],
   "source": [
    "toExclude = [\"path\",\"Age\",\"Sex\",\"Race\",\"Ethnicity\"]\n",
    "createGlassbox(\"data/crema_opensmile_avd.csv\",excludeCols =toExclude)"
   ]
  }
 ],
 "metadata": {
  "kernelspec": {
   "display_name": "cusser",
   "language": "python",
   "name": "python3"
  },
  "language_info": {
   "codemirror_mode": {
    "name": "ipython",
    "version": 3
   },
   "file_extension": ".py",
   "mimetype": "text/x-python",
   "name": "python",
   "nbconvert_exporter": "python",
   "pygments_lexer": "ipython3",
   "version": "3.12.3"
  }
 },
 "nbformat": 4,
 "nbformat_minor": 2
}
